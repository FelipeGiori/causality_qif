{
 "cells": [
  {
   "cell_type": "code",
   "execution_count": 2,
   "id": "af872cba",
   "metadata": {
    "ExecuteTime": {
     "end_time": "2021-05-14T18:59:33.267146Z",
     "start_time": "2021-05-14T18:59:33.265424Z"
    }
   },
   "outputs": [
    {
     "name": "stdout",
     "output_type": "stream",
     "text": [
      "1\n"
     ]
    }
   ],
   "source": [
    "import cdt\n",
    "import numpy as np\n",
    "import pandas as pd\n",
    "\n",
    "from causalgraphicalmodels import StructuralCausalModel\n",
    "print(cdt.SETTINGS.GPU)"
   ]
  },
  {
   "cell_type": "markdown",
   "id": "867e6a79",
   "metadata": {},
   "source": [
    "# Causal Models"
   ]
  },
  {
   "cell_type": "code",
   "execution_count": 3,
   "id": "24f6c1c8",
   "metadata": {},
   "outputs": [],
   "source": [
    "def mu():\n",
    "    return np.random.uniform() * 10\n",
    "\n",
    "def sd():\n",
    "    return np.random.uniform() * 2"
   ]
  },
  {
   "cell_type": "code",
   "execution_count": 4,
   "id": "6345473c",
   "metadata": {},
   "outputs": [],
   "source": [
    "# Linear model with uniform noise\n",
    "linear_uniform = StructuralCausalModel({\n",
    "    \"X\": lambda n_samples: np.random.normal(mu(), sd(), size=(n_samples, )),\n",
    "    \"Y\": lambda X, n_samples: 3 * X + np.random.uniform(-1, 1, size=(n_samples, ))\n",
    "})\n",
    "\n",
    "# Linear model with Gaussian noise\n",
    "linear_gaussian = StructuralCausalModel({\n",
    "    \"X\": lambda n_samples: np.random.normal(mu(), sd(), size=(n_samples, )),\n",
    "    \"Y\": lambda X, n_samples: 3 * X + np.random.normal(0, 1, size=(n_samples, ))\n",
    "})\n",
    "\n",
    "# Exponential model with uniform noise\n",
    "exp_uniform = StructuralCausalModel({\n",
    "    \"X\": lambda n_samples: np.random.normal(mu(), sd(), size=(n_samples, )),\n",
    "    \"Y\": lambda X, n_samples: np.exp(X) + np.random.uniform(-1, 1, size=(n_samples, ))\n",
    "})\n",
    "\n",
    "# Exponential model with Gaussian noise\n",
    "exp_gaussian = StructuralCausalModel({\n",
    "    \"X\": lambda n_samples: np.random.normal(mu(), sd(), size=(n_samples, )),\n",
    "    \"Y\": lambda X, n_samples: np.exp(X) + np.random.normal(0, 1, size=(n_samples, ))\n",
    "})\n",
    "\n",
    "# Logarithmic model with uniform noise\n",
    "log_uniform = StructuralCausalModel({\n",
    "    \"X\": lambda n_samples: np.random.normal(mu(), sd(), size=(n_samples, )),\n",
    "    \"Y\": lambda X, n_samples: np.log(X) + np.random.uniform(-1, 1, size=(n_samples, ))\n",
    "})\n",
    "\n",
    "# Logarithmic model with Gaussian noise\n",
    "log_gaussian = StructuralCausalModel({\n",
    "    \"X\": lambda n_samples: np.random.normal(mu(), sd(), size=(n_samples, )),\n",
    "    \"Y\": lambda X, n_samples: np.log(X) + np.random.normal(0, 1, size=(n_samples, ))\n",
    "})"
   ]
  },
  {
   "cell_type": "code",
   "execution_count": 5,
   "id": "5e23f673",
   "metadata": {},
   "outputs": [],
   "source": [
    "def get_data_samples(causal_model, n_samples):\n",
    "    df = causal_model.sample(n_samples).dropna()\n",
    "    X = df['X'].values\n",
    "    Y = df['Y'].values\n",
    "    return dict(X=X, Y=Y)"
   ]
  },
  {
   "cell_type": "code",
   "execution_count": 6,
   "id": "d0acd123",
   "metadata": {},
   "outputs": [],
   "source": [
    "allowed_models = ['linear_uniform', 'linear_gaussian', 'exp_uniform', 'exp_gaussian']\n",
    "\n",
    "models_dict = {k: v for k, v in locals().items() if isinstance(v, StructuralCausalModel) and k in allowed_models}"
   ]
  },
  {
   "cell_type": "code",
   "execution_count": 7,
   "id": "0c077604",
   "metadata": {},
   "outputs": [],
   "source": [
    "data = []\n",
    "\n",
    "for i in range(10):\n",
    "    for name, model in models_dict.items():\n",
    "        model_sample = get_data_samples(model, n_samples=1000)\n",
    "        model_sample['name'] = name\n",
    "        data.append(model_sample)\n",
    "        \n",
    "        \n",
    "df = pd.DataFrame(data)\n",
    "data = df[['X', 'Y']].copy()"
   ]
  },
  {
   "cell_type": "markdown",
   "id": "0ab67b91",
   "metadata": {},
   "source": [
    "# Causal Discovery Toolbox"
   ]
  },
  {
   "cell_type": "markdown",
   "id": "9cf6dd6f",
   "metadata": {},
   "source": [
    "## ANM"
   ]
  },
  {
   "cell_type": "markdown",
   "id": "07e858c4",
   "metadata": {},
   "source": [
    "ANM algorithm.\n",
    "\n",
    "**Description:** The Additive noise model is one of the most popular approaches for pairwise causality. It bases on the fitness of the data to the additive noise model on one direction and the rejection of the model on the other direction.\n",
    "\n",
    "**Data Type:** Continuous\n",
    "\n",
    "**Assumptions:** Assuming that x→y\n",
    "then we suppose that the data follows an additive noise model, i.e. y=f(x)+E. E being a noise variable and f a deterministic function. The causal inference bases itself on the independence between x and e. It is proven that in such case if the data is generated using an additive noise model, the model would only be able to fit in the true causal direction.\n",
    "\n",
    "https://papers.nips.cc/paper/3548-nonlinear-causal-discovery-with-additive-noise-models.pdf"
   ]
  },
  {
   "cell_type": "code",
   "execution_count": 8,
   "id": "a5043b77",
   "metadata": {},
   "outputs": [],
   "source": [
    "from cdt.causality.pairwise import ANM"
   ]
  },
  {
   "cell_type": "code",
   "execution_count": 9,
   "id": "aefdf8cf",
   "metadata": {},
   "outputs": [],
   "source": [
    "anm = ANM()"
   ]
  },
  {
   "cell_type": "code",
   "execution_count": 10,
   "id": "b2b85456",
   "metadata": {},
   "outputs": [],
   "source": [
    "y_pred = anm.predict(data)"
   ]
  },
  {
   "cell_type": "code",
   "execution_count": 11,
   "id": "f1980023",
   "metadata": {},
   "outputs": [
    {
     "data": {
      "text/html": [
       "<div>\n",
       "<style scoped>\n",
       "    .dataframe tbody tr th:only-of-type {\n",
       "        vertical-align: middle;\n",
       "    }\n",
       "\n",
       "    .dataframe tbody tr th {\n",
       "        vertical-align: top;\n",
       "    }\n",
       "\n",
       "    .dataframe thead th {\n",
       "        text-align: right;\n",
       "    }\n",
       "</style>\n",
       "<table border=\"1\" class=\"dataframe\">\n",
       "  <thead>\n",
       "    <tr style=\"text-align: right;\">\n",
       "      <th>y_pred_anm</th>\n",
       "      <th>False</th>\n",
       "      <th>True</th>\n",
       "    </tr>\n",
       "    <tr>\n",
       "      <th>name</th>\n",
       "      <th></th>\n",
       "      <th></th>\n",
       "    </tr>\n",
       "  </thead>\n",
       "  <tbody>\n",
       "    <tr>\n",
       "      <th>exp_gaussian</th>\n",
       "      <td>0.0</td>\n",
       "      <td>10.0</td>\n",
       "    </tr>\n",
       "    <tr>\n",
       "      <th>exp_uniform</th>\n",
       "      <td>0.0</td>\n",
       "      <td>10.0</td>\n",
       "    </tr>\n",
       "    <tr>\n",
       "      <th>linear_gaussian</th>\n",
       "      <td>5.0</td>\n",
       "      <td>5.0</td>\n",
       "    </tr>\n",
       "    <tr>\n",
       "      <th>linear_uniform</th>\n",
       "      <td>3.0</td>\n",
       "      <td>7.0</td>\n",
       "    </tr>\n",
       "  </tbody>\n",
       "</table>\n",
       "</div>"
      ],
      "text/plain": [
       "y_pred_anm       False  True\n",
       "name                        \n",
       "exp_gaussian       0.0  10.0\n",
       "exp_uniform        0.0  10.0\n",
       "linear_gaussian    5.0   5.0\n",
       "linear_uniform     3.0   7.0"
      ]
     },
     "metadata": {},
     "output_type": "display_data"
    }
   ],
   "source": [
    "df['y_pred_anm'] = np.array(y_pred) > 0\n",
    "anm_result = df.groupby(['name', 'y_pred_anm']).size().unstack().fillna(0)\n",
    "display(anm_result)"
   ]
  },
  {
   "cell_type": "markdown",
   "id": "84c1bd5c",
   "metadata": {},
   "source": [
    "## Bivariate Fit"
   ]
  },
  {
   "cell_type": "markdown",
   "id": "7b896cd0",
   "metadata": {},
   "source": [
    "Bivariate Fit model.\n",
    "\n",
    "**Description:** The bivariate fit model is based onon a best-fit criterion relying on a Gaussian Process regressor. Used as weak baseline.\n",
    "\n",
    "**Data Type:** Continuous\n",
    "\n",
    "**Assumptions:** This is often a model used to show that correlation ≠ causation. It holds very weak performance, as it states that the best predictive model is the causal model."
   ]
  },
  {
   "cell_type": "code",
   "execution_count": 12,
   "id": "115948d6",
   "metadata": {},
   "outputs": [],
   "source": [
    "from cdt.causality.pairwise import BivariateFit"
   ]
  },
  {
   "cell_type": "code",
   "execution_count": 13,
   "id": "71fca977",
   "metadata": {},
   "outputs": [],
   "source": [
    "bvf = BivariateFit()"
   ]
  },
  {
   "cell_type": "code",
   "execution_count": 14,
   "id": "e791505d",
   "metadata": {},
   "outputs": [],
   "source": [
    "y_pred = bvf.predict(data)"
   ]
  },
  {
   "cell_type": "code",
   "execution_count": 15,
   "id": "caed5461",
   "metadata": {},
   "outputs": [
    {
     "data": {
      "text/html": [
       "<div>\n",
       "<style scoped>\n",
       "    .dataframe tbody tr th:only-of-type {\n",
       "        vertical-align: middle;\n",
       "    }\n",
       "\n",
       "    .dataframe tbody tr th {\n",
       "        vertical-align: top;\n",
       "    }\n",
       "\n",
       "    .dataframe thead th {\n",
       "        text-align: right;\n",
       "    }\n",
       "</style>\n",
       "<table border=\"1\" class=\"dataframe\">\n",
       "  <thead>\n",
       "    <tr style=\"text-align: right;\">\n",
       "      <th>y_pred_bvf</th>\n",
       "      <th>False</th>\n",
       "      <th>True</th>\n",
       "    </tr>\n",
       "    <tr>\n",
       "      <th>name</th>\n",
       "      <th></th>\n",
       "      <th></th>\n",
       "    </tr>\n",
       "  </thead>\n",
       "  <tbody>\n",
       "    <tr>\n",
       "      <th>exp_gaussian</th>\n",
       "      <td>0.0</td>\n",
       "      <td>10.0</td>\n",
       "    </tr>\n",
       "    <tr>\n",
       "      <th>exp_uniform</th>\n",
       "      <td>0.0</td>\n",
       "      <td>10.0</td>\n",
       "    </tr>\n",
       "    <tr>\n",
       "      <th>linear_gaussian</th>\n",
       "      <td>5.0</td>\n",
       "      <td>5.0</td>\n",
       "    </tr>\n",
       "    <tr>\n",
       "      <th>linear_uniform</th>\n",
       "      <td>7.0</td>\n",
       "      <td>3.0</td>\n",
       "    </tr>\n",
       "  </tbody>\n",
       "</table>\n",
       "</div>"
      ],
      "text/plain": [
       "y_pred_bvf       False  True\n",
       "name                        \n",
       "exp_gaussian       0.0  10.0\n",
       "exp_uniform        0.0  10.0\n",
       "linear_gaussian    5.0   5.0\n",
       "linear_uniform     7.0   3.0"
      ]
     },
     "metadata": {},
     "output_type": "display_data"
    }
   ],
   "source": [
    "df['y_pred_bvf'] = np.array(y_pred) > 0\n",
    "bvf_result = df.groupby(['name', 'y_pred_bvf']).size().unstack().fillna(0)\n",
    "display(bvf_result)"
   ]
  },
  {
   "cell_type": "markdown",
   "id": "7418d7d4",
   "metadata": {},
   "source": [
    "## CDS"
   ]
  },
  {
   "cell_type": "markdown",
   "id": "fc3931ec",
   "metadata": {},
   "source": [
    "Conditional Distribution Similarity Statistic\n",
    "\n",
    "**Description:** The Conditional Distribution Similarity Statistic measures the std. of the rescaled values of y (resp. x) after binning in the x (resp. y) direction. The lower the std. the more likely the pair to be x->y (resp. y->x). It is a single feature of the Jarfo model.\n",
    "\n",
    "**Data Type:** Continuous and Discrete\n",
    "\n",
    "**Assumptions:** This approach is a statistical feature of the joint distribution of the data mesuring the variance of the marginals, after conditioning on bins.\n",
    "\n",
    "Fonollosa, José AR, “Conditional distribution variability measures for causality detection”, 2016."
   ]
  },
  {
   "cell_type": "code",
   "execution_count": 17,
   "id": "07cc5f91",
   "metadata": {},
   "outputs": [],
   "source": [
    "from cdt.causality.pairwise import CDS"
   ]
  },
  {
   "cell_type": "code",
   "execution_count": 18,
   "id": "59ce776d",
   "metadata": {},
   "outputs": [],
   "source": [
    "cds = CDS()"
   ]
  },
  {
   "cell_type": "code",
   "execution_count": 19,
   "id": "20e7c7e3",
   "metadata": {},
   "outputs": [],
   "source": [
    "y_pred = cds.predict(data)"
   ]
  },
  {
   "cell_type": "code",
   "execution_count": 20,
   "id": "358a282b",
   "metadata": {},
   "outputs": [
    {
     "data": {
      "text/html": [
       "<div>\n",
       "<style scoped>\n",
       "    .dataframe tbody tr th:only-of-type {\n",
       "        vertical-align: middle;\n",
       "    }\n",
       "\n",
       "    .dataframe tbody tr th {\n",
       "        vertical-align: top;\n",
       "    }\n",
       "\n",
       "    .dataframe thead th {\n",
       "        text-align: right;\n",
       "    }\n",
       "</style>\n",
       "<table border=\"1\" class=\"dataframe\">\n",
       "  <thead>\n",
       "    <tr style=\"text-align: right;\">\n",
       "      <th>y_pred_cds</th>\n",
       "      <th>False</th>\n",
       "      <th>True</th>\n",
       "    </tr>\n",
       "    <tr>\n",
       "      <th>name</th>\n",
       "      <th></th>\n",
       "      <th></th>\n",
       "    </tr>\n",
       "  </thead>\n",
       "  <tbody>\n",
       "    <tr>\n",
       "      <th>exp_gaussian</th>\n",
       "      <td>4</td>\n",
       "      <td>6</td>\n",
       "    </tr>\n",
       "    <tr>\n",
       "      <th>exp_uniform</th>\n",
       "      <td>4</td>\n",
       "      <td>6</td>\n",
       "    </tr>\n",
       "    <tr>\n",
       "      <th>linear_gaussian</th>\n",
       "      <td>7</td>\n",
       "      <td>3</td>\n",
       "    </tr>\n",
       "    <tr>\n",
       "      <th>linear_uniform</th>\n",
       "      <td>4</td>\n",
       "      <td>6</td>\n",
       "    </tr>\n",
       "  </tbody>\n",
       "</table>\n",
       "</div>"
      ],
      "text/plain": [
       "y_pred_cds       False  True\n",
       "name                        \n",
       "exp_gaussian         4     6\n",
       "exp_uniform          4     6\n",
       "linear_gaussian      7     3\n",
       "linear_uniform       4     6"
      ]
     },
     "metadata": {},
     "output_type": "display_data"
    }
   ],
   "source": [
    "df['y_pred_cds'] = np.array(y_pred) > 0\n",
    "cds_result = df.groupby(['name', 'y_pred_cds']).size().unstack().fillna(0)\n",
    "display(cds_result)"
   ]
  },
  {
   "cell_type": "markdown",
   "id": "8312c5b1",
   "metadata": {},
   "source": [
    "## GNN"
   ]
  },
  {
   "cell_type": "markdown",
   "id": "195d6cca",
   "metadata": {},
   "source": [
    "Shallow Generative Neural networks.\n",
    "\n",
    "**Description:** Pairwise variant of the CGNN approach, Models the causal directions x->y and y->x with a 1-hidden layer neural network and a MMD loss. The causal direction is considered as the best-fit between the two causal directions.\n",
    "\n",
    "**Data Type:** Continuous\n",
    "\n",
    "**Assumptions:** The class of generative models is not restricted with a hard contraint, but with the hyperparameter nh. This algorithm greatly benefits from bootstrapped runs (nruns >=12 recommended), and is very computationnally heavy. GPUs are recommended.\n",
    "\n",
    "Learning Functional Causal Models with Generative Neural Networks Olivier Goudet & Diviyan Kalainathan & Al. (https://arxiv.org/abs/1709.05321)"
   ]
  },
  {
   "cell_type": "code",
   "execution_count": 21,
   "id": "6374a3e9",
   "metadata": {},
   "outputs": [],
   "source": [
    "from cdt.causality.pairwise import GNN"
   ]
  },
  {
   "cell_type": "code",
   "execution_count": 22,
   "id": "aec66ee8",
   "metadata": {},
   "outputs": [],
   "source": [
    "gnn = GNN()"
   ]
  },
  {
   "cell_type": "code",
   "execution_count": null,
   "id": "2cf6fe3f",
   "metadata": {},
   "outputs": [],
   "source": [
    "## Takes a while to run (even on a GPU)\n",
    "y_pred = gnn.predict(data)"
   ]
  },
  {
   "cell_type": "code",
   "execution_count": null,
   "id": "2306bef7",
   "metadata": {},
   "outputs": [],
   "source": [
    "df['y_pred_gnn'] = np.array(y_pred) > 0\n",
    "gnn_result = df.groupby(['name', 'y_pred_gnn']).size().unstack().fillna(0)\n",
    "display(gnn_result)"
   ]
  },
  {
   "cell_type": "markdown",
   "id": "e3dc464b",
   "metadata": {},
   "source": [
    "## IGCI"
   ]
  },
  {
   "cell_type": "markdown",
   "id": "2ef274ea",
   "metadata": {},
   "source": [
    "IGCI model.\n",
    "\n",
    "**Description:** Information Geometric Causal Inference is a pairwise causal discovery model model considering the case of minimal noise Y=f(X)\n",
    ", with f invertible and leverages assymetries to predict causal directions.\n",
    "\n",
    "**Data Type:** Continuous\n",
    "\n",
    "**Assumptions:** Only the case of invertible functions only is considered, as the prediction would be trivial otherwise if the noise is minimal."
   ]
  },
  {
   "cell_type": "code",
   "execution_count": 24,
   "id": "a7c69dbf",
   "metadata": {},
   "outputs": [],
   "source": [
    "from cdt.causality.pairwise import IGCI"
   ]
  },
  {
   "cell_type": "code",
   "execution_count": 25,
   "id": "f2bae4ed",
   "metadata": {},
   "outputs": [],
   "source": [
    "igci = IGCI()"
   ]
  },
  {
   "cell_type": "code",
   "execution_count": 26,
   "id": "2551004f",
   "metadata": {},
   "outputs": [],
   "source": [
    "y_pred = igci.predict(data)"
   ]
  },
  {
   "cell_type": "code",
   "execution_count": 27,
   "id": "1e60f885",
   "metadata": {},
   "outputs": [
    {
     "data": {
      "text/html": [
       "<div>\n",
       "<style scoped>\n",
       "    .dataframe tbody tr th:only-of-type {\n",
       "        vertical-align: middle;\n",
       "    }\n",
       "\n",
       "    .dataframe tbody tr th {\n",
       "        vertical-align: top;\n",
       "    }\n",
       "\n",
       "    .dataframe thead th {\n",
       "        text-align: right;\n",
       "    }\n",
       "</style>\n",
       "<table border=\"1\" class=\"dataframe\">\n",
       "  <thead>\n",
       "    <tr style=\"text-align: right;\">\n",
       "      <th>y_pred_igci</th>\n",
       "      <th>False</th>\n",
       "      <th>True</th>\n",
       "    </tr>\n",
       "    <tr>\n",
       "      <th>name</th>\n",
       "      <th></th>\n",
       "      <th></th>\n",
       "    </tr>\n",
       "  </thead>\n",
       "  <tbody>\n",
       "    <tr>\n",
       "      <th>exp_gaussian</th>\n",
       "      <td>0.0</td>\n",
       "      <td>10.0</td>\n",
       "    </tr>\n",
       "    <tr>\n",
       "      <th>exp_uniform</th>\n",
       "      <td>0.0</td>\n",
       "      <td>10.0</td>\n",
       "    </tr>\n",
       "    <tr>\n",
       "      <th>linear_gaussian</th>\n",
       "      <td>5.0</td>\n",
       "      <td>5.0</td>\n",
       "    </tr>\n",
       "    <tr>\n",
       "      <th>linear_uniform</th>\n",
       "      <td>5.0</td>\n",
       "      <td>5.0</td>\n",
       "    </tr>\n",
       "  </tbody>\n",
       "</table>\n",
       "</div>"
      ],
      "text/plain": [
       "y_pred_igci      False  True\n",
       "name                        \n",
       "exp_gaussian       0.0  10.0\n",
       "exp_uniform        0.0  10.0\n",
       "linear_gaussian    5.0   5.0\n",
       "linear_uniform     5.0   5.0"
      ]
     },
     "metadata": {},
     "output_type": "display_data"
    }
   ],
   "source": [
    "df['y_pred_igci'] = np.array(y_pred) > 0\n",
    "igci_result = df.groupby(['name', 'y_pred_igci']).size().unstack().fillna(0)\n",
    "display(igci_result)"
   ]
  },
  {
   "cell_type": "markdown",
   "id": "952bcb89",
   "metadata": {},
   "source": [
    "## Jarfo"
   ]
  },
  {
   "cell_type": "markdown",
   "id": "3ec48216",
   "metadata": {},
   "source": [
    "Jarfo model, 2nd of the Cause Effect Pairs challenge, 1st of the Fast Causation Challenge.\n",
    "\n",
    "**Description:** The Jarfo model is an ensemble method for causal discovery: it builds lots of causally relevant features (such as ANM) with a gradient boosting classifier on top.\n",
    "\n",
    "**Data Type:** Continuous, Categorical, Mixed\n",
    "\n",
    "**Assumptions:** _This method needs a substantial amount of labelled causal pairs to train itself_. Its final performance depends on the training set used."
   ]
  },
  {
   "cell_type": "markdown",
   "id": "a9f8a3c6",
   "metadata": {},
   "source": []
  }
 ],
 "metadata": {
  "kernelspec": {
   "display_name": "Python 3",
   "language": "python",
   "name": "python3"
  },
  "language_info": {
   "codemirror_mode": {
    "name": "ipython",
    "version": 3
   },
   "file_extension": ".py",
   "mimetype": "text/x-python",
   "name": "python",
   "nbconvert_exporter": "python",
   "pygments_lexer": "ipython3",
   "version": "3.9.10"
  },
  "toc": {
   "base_numbering": 1,
   "nav_menu": {},
   "number_sections": true,
   "sideBar": true,
   "skip_h1_title": false,
   "title_cell": "Table of Contents",
   "title_sidebar": "Contents",
   "toc_cell": false,
   "toc_position": {},
   "toc_section_display": true,
   "toc_window_display": false
  }
 },
 "nbformat": 4,
 "nbformat_minor": 5
}
