{
 "cells": [
  {
   "cell_type": "code",
   "execution_count": 1,
   "id": "7ae9a158-5079-4ea8-84e6-60d7f21d8b9e",
   "metadata": {
    "ExecuteTime": {
     "end_time": "2021-11-08T11:48:59.276100Z",
     "start_time": "2021-11-08T11:48:58.562261Z"
    }
   },
   "outputs": [],
   "source": [
    "import qif\n",
    "import numpy as np\n",
    "import pandas as pd\n",
    "\n",
    "import matplotlib.pyplot as plt\n",
    "\n",
    "from tqdm import tqdm\n",
    "from sklearn.preprocessing import KBinsDiscretizer\n",
    "\n",
    "plt.style.use(\"seaborn-whitegrid\")\n",
    "%matplotlib inline"
   ]
  },
  {
   "cell_type": "code",
   "execution_count": 2,
   "id": "53003dee-5768-41e5-8cf0-7d75b94cf56a",
   "metadata": {
    "ExecuteTime": {
     "end_time": "2021-11-08T11:48:59.298107Z",
     "start_time": "2021-11-08T11:48:59.294830Z"
    }
   },
   "outputs": [],
   "source": [
    "from mestrado import datasets"
   ]
  },
  {
   "cell_type": "code",
   "execution_count": 3,
   "id": "76357552-8477-4505-9425-19e39b6eeafb",
   "metadata": {
    "ExecuteTime": {
     "end_time": "2021-11-08T11:48:59.960845Z",
     "start_time": "2021-11-08T11:48:59.958176Z"
    }
   },
   "outputs": [],
   "source": [
    "def joint_distribution(df, x, y):\n",
    "    joint_dist = df.groupby([x, y]).size().unstack()\n",
    "    joint_dist.columns = joint_dist.columns.get_level_values(0)\n",
    "    joint_dist = joint_dist.div(joint_dist.sum().sum())\n",
    "    joint_dist.fillna(0, inplace=True)\n",
    "    return joint_dist"
   ]
  },
  {
   "cell_type": "code",
   "execution_count": 4,
   "id": "4bad647f-9b97-41ea-aa3c-1f9b3024da30",
   "metadata": {},
   "outputs": [],
   "source": [
    "def compute_leakages(df, x, y, causal=True):\n",
    "    \"\"\"\n",
    "        Computes the average multiplicative and additive bayes' vulnerability\n",
    "        and bayes' risk.\n",
    "    \"\"\"\n",
    "    \n",
    "    J = joint_distribution(df, x, y)\n",
    "    pi = J.sum(axis=1) # X prior\n",
    "    C_xy = J.divide(pi, axis=0) # C: X->Y\n",
    "    sigma = J.sum(axis=0) # Y prior\n",
    "    C_yx = J.T.divide(sigma, axis=0) # C: Y->X\n",
    "    \n",
    "    leakages = {}\n",
    "    if causal == True:\n",
    "        leakages['direct_bayes_vuln_mult_leakage'] = qif.measure.bayes_vuln.mult_leakage(pi, C_xy)\n",
    "        leakages['reverse_bayes_vuln_mult_leakage'] = qif.measure.bayes_vuln.mult_leakage(sigma, C_yx)\n",
    "        leakages['direct_bayes_risk_mult_leakage'] = qif.measure.bayes_risk.mult_leakage(pi, C_xy)\n",
    "        leakages['reverse_bayes_risk_mult_leakage'] = qif.measure.bayes_risk.mult_leakage(sigma, C_yx)\n",
    "        # leakages['direct_shannon_mult_leakage'] = qif.measure.shannon.mult_leakage(pi, C_xy)\n",
    "        # leakages['reverse_shannon_mult_leakage'] = qif.measure.shannon.mult_leakage(sigma, C_yx)\n",
    "        # leakages['direct_shannon_posterior'] = qif.measure.shannon.posterior(pi, C_xy)\n",
    "        # leakages['reverse_shannon_posterior'] = qif.measure.shannon.posterior(sigma, C_yx)\n",
    "        # leakages['direct_l_risk_mult_leakage'] = qif.measure.l_risk.mult_leakage(pi, C_xy)\n",
    "        # leakages['reverse_l_risk_mult_leakage'] = qif.measure.l_risk.mult_leakage(sigma, C_yx)\n",
    "        # leakages['direct_l_risk_posterior'] = qif.measure.l_risk.posterior(pi, C_xy)\n",
    "        # leakages['reverse_l_risk_posterior'] = qif.measure.l_risk.posterior(sigma, C_yx)\n",
    "        # leakages['direct_bayes_vuln_add_leakage'] = qif.measure.bayes_vuln.add_leakage(pi, C_xy)\n",
    "        # leakages['reverse_bayes_vuln_add_leakage'] = qif.measure.bayes_vuln.add_leakage(sigma, C_yx)\n",
    "        leakages['direct_bayes_vuln_min_entropy_leakage'] = qif.measure.bayes_vuln.min_entropy_leakage(pi, C_xy)\n",
    "        leakages['reverse_bayes_vuln_min_entropy_leakage'] = qif.measure.bayes_vuln.min_entropy_leakage(sigma, C_yx)\n",
    "        # leakages['direct_bayes_vuln_mult_capacity'] = qif.measure.bayes_vuln.mult_capacity(pi, C_xy)\n",
    "        # leakages['reverse_bayes_vuln_mult_capacity'] = qif.measure.bayes_vuln.mult_capacity(sigma, C_yx)\n",
    "        leakages['direct_bayes_vuln_posterior'] = qif.measure.bayes_vuln.posterior(pi, C_xy)\n",
    "        leakages['reverse_bayes_vuln_posterior'] = qif.measure.bayes_vuln.posterior(sigma, C_yx)\n",
    "    else:\n",
    "        leakages['reverse_bayes_vuln_mult_leakage'] = qif.measure.bayes_vuln.mult_leakage(pi, C_xy)\n",
    "        leakages['direct_bayes_vuln_mult_leakage'] = qif.measure.bayes_vuln.mult_leakage(sigma, C_yx)\n",
    "        leakages['reverse_bayes_risk_mult_leakage'] = qif.measure.bayes_risk.mult_leakage(pi, C_xy)\n",
    "        leakages['direct_bayes_risk_mult_leakage'] = qif.measure.bayes_risk.mult_leakage(sigma, C_yx)\n",
    "        # leakages['reverse_shannon_mult_leakage'] = qif.measure.shannon.mult_leakage(pi, C_xy)\n",
    "        # leakages['direct_shannon_mult_leakage'] = qif.measure.shannon.mult_leakage(sigma, C_yx)\n",
    "        # leakages['reverse_shannon_posterior'] = qif.measure.shannon.posterior(pi, C_xy)\n",
    "        # leakages['direct_shannon_posterior'] = qif.measure.shannon.posterior(sigma, C_yx)\n",
    "        # leakages['reverse_l_risk_mult_leakage'] = qif.measure.l_risk.mult_leakage(pi, C_xy)\n",
    "        # leakages['direct_l_risk_mult_leakage'] = qif.measure.l_risk.mult_leakage(sigma, C_yx)\n",
    "        # leakages['reverse_l_risk_posterior'] = qif.measure.l_risk.posterior(pi, C_xy)\n",
    "        # leakages['direct_l_risk_posterior'] = qif.measure.l_risk.posterior(sigma, C_yx)\n",
    "        # leakages['reverse_bayes_vuln_add_leakage'] = qif.measure.bayes_vuln.add_leakage(pi, C_xy)\n",
    "        # leakages['direct_bayes_vuln_add_leakage'] = qif.measure.bayes_vuln.add_leakage(sigma, C_yx)\n",
    "        leakages['reverse_bayes_vuln_min_entropy_leakage'] = qif.measure.bayes_vuln.min_entropy_leakage(pi, C_xy)\n",
    "        leakages['direct_bayes_vuln_min_entropy_leakage'] = qif.measure.bayes_vuln.min_entropy_leakage(sigma, C_yx)\n",
    "        # leakages['reverse_bayes_vuln_mult_capacity'] = qif.measure.bayes_vuln.mult_capacity(pi, C_xy)\n",
    "        # leakages['direct_bayes_vuln_mult_capacity'] = qif.measure.bayes_vuln.mult_capacity(sigma, C_yx)\n",
    "        leakages['reverse_bayes_vuln_posterior'] = qif.measure.bayes_vuln.posterior(pi, C_xy)\n",
    "        leakages['direct_bayes_vuln_posterior'] = qif.measure.bayes_vuln.posterior(sigma, C_yx)\n",
    "    \n",
    "    return leakages"
   ]
  },
  {
   "cell_type": "code",
   "execution_count": 5,
   "id": "7c17084c-ceb4-42be-8276-26b121dd564d",
   "metadata": {},
   "outputs": [],
   "source": [
    "breast_tumor = datasets.load_breast_tumor()\n",
    "cholesterol = datasets.load_cholesterol()\n",
    "pbc = datasets.load_pbc()\n",
    "pollution = datasets.load_pollution()\n",
    "autompg = datasets.load_autompg()\n",
    "cpu = datasets.load_cpu()\n",
    "breastw = datasets.load_breastw()\n",
    "balance_scale = datasets.load_balance_scale()\n",
    "servo = datasets.load_servo()\n",
    "sensory = datasets.load_sensory()\n",
    "pwlinear = datasets.load_pwlinear()\n",
    "wisconsin = datasets.load_wisconsin()"
   ]
  },
  {
   "cell_type": "code",
   "execution_count": 6,
   "id": "6da70fd7-7b0e-4ae7-9f07-eda957399498",
   "metadata": {},
   "outputs": [],
   "source": [
    "databases = {\n",
    "    'breast_tumor':breast_tumor,\n",
    "    'cholesterol':cholesterol,\n",
    "    'pbc':pbc,\n",
    "    'pollution':pollution,\n",
    "    'autompg':autompg,\n",
    "    'cpu':cpu,\n",
    "    'breastw':breastw,\n",
    "    'balance_scale':balance_scale,\n",
    "    'servo':servo,\n",
    "    'sensory':sensory,\n",
    "    'pwlinear':pwlinear,\n",
    "    'wisconsin':wisconsin,\n",
    "}"
   ]
  },
  {
   "cell_type": "code",
   "execution_count": 7,
   "id": "c5718da5-3c5e-4f8c-a567-0c6b0a4487a3",
   "metadata": {},
   "outputs": [],
   "source": [
    "databases_ce_pairs = {\n",
    "    'breast_tumor':[('tumor_size', 'inv_nodes'), ('tumor_size', 'deg_malig')],\n",
    "    'cholesterol':[('chol', 'trestbps'), ('chol', 'fbs')],\n",
    "    'pbc':[('stage', 'albumin'), ('stage', 'protime'), ('stage', 'bili')],\n",
    "    'pollution':[('mort', 'ovr65')],\n",
    "    'autompg':[('horsepower', 'mpg'), ('weight', 'mpg')],\n",
    "    'cpu':[('myct', 'erp'), ('mmax', 'erp'), ('cach', 'erp')],\n",
    "    'breastw':[('target', 'Clump_Thickness'), ('target', 'Cell_Shape_Uniformity'), ('target', 'Cell_Size_Uniformity')],\n",
    "    'balance_scale':[('left_weight', 'target'), ('right_weight', 'target'), ('left_distance', 'target'), ('right_distance', 'target')],\n",
    "    'servo':[('pgain', 'class'), ('vgain', 'class')],\n",
    "    'sensory':[('trellis', 'score')],\n",
    "    'pwlinear':[(f'a{n}', 'binaryClass') for n in range(1, 11)],\n",
    "    'wisconsin':[('diagnosis', 'perimeter_mean'), ('diagnosis', 'smoothness_mean'), ('diagnosis', 'concavity_mean')]\n",
    "}\n",
    "\n",
    "causality_datasets = {'breast_tumor':'anticausal', 'cholesterol':'anticausal', 'pbc':'anticausal', 'pollution':'anticausal',\n",
    "                      'autompg':'causal', 'cpu':'causal', 'breastw':'anticausal', 'balance_scale':'causal', 'servo':'causal',\n",
    "                      'sensory':'causal', 'pwlinear':'causal', 'wisconsin':'anticausal'}"
   ]
  },
  {
   "cell_type": "code",
   "execution_count": 8,
   "id": "12cd3560-53be-4302-a9f4-cd128b0f395c",
   "metadata": {},
   "outputs": [
    {
     "name": "stderr",
     "output_type": "stream",
     "text": [
      "100%|██████████| 29/29 [00:02<00:00,  9.97it/s]\n"
     ]
    }
   ],
   "source": [
    "results = []\n",
    "\n",
    "for n_bins in tqdm(range(2, 31)):\n",
    "    est = KBinsDiscretizer(n_bins=n_bins, encode='ordinal', strategy='uniform')\n",
    "    for name, df in databases.items():\n",
    "        for cause, effect in databases_ce_pairs[name]:\n",
    "            #print(f\"df: {name} | cause: {cause} | effect: {effect}\")\n",
    "            if df[cause].dtype.name != 'category':\n",
    "                df[cause + \"_cat\"] = est.fit_transform(df[cause].values.reshape(-1, 1))\n",
    "                cause = cause + \"_cat\"\n",
    "                df[cause] = df[cause].astype('category')\n",
    "\n",
    "            if df[effect].dtype.name != 'category':\n",
    "                df[effect + \"_cat\"] = est.fit_transform(df[effect].values.reshape(-1, 1))\n",
    "                effect = effect + \"_cat\"\n",
    "                df[effect] = df[effect].astype('category')\n",
    "\n",
    "            leakage = compute_leakages(df, cause, effect, causality_datasets[name])\n",
    "            leakage['dataset'] = name\n",
    "            # leakage['cause'] = cause\n",
    "            # leakage['effect'] = effect\n",
    "            # leakage['n_bins'] = n_bins\n",
    "            #\n",
    "            # corr, p_value = spearmanr(df[cause], df[effect])\n",
    "            # leakage['spearman'] = corr\n",
    "            # leakage['corr_p_value'] = p_value\n",
    "            results.append(leakage)"
   ]
  },
  {
   "cell_type": "code",
   "execution_count": 9,
   "id": "354bb47a-6805-445e-9e55-2bc55d80189f",
   "metadata": {},
   "outputs": [],
   "source": [
    "df_results = pd.DataFrame(results)"
   ]
  },
  {
   "cell_type": "code",
   "execution_count": 10,
   "id": "a8febfe6-0f3f-43e0-bb75-edea93643bdd",
   "metadata": {},
   "outputs": [],
   "source": [
    "df_results['label'] = df_results['dataset'].replace(causality_datasets)"
   ]
  },
  {
   "cell_type": "code",
   "execution_count": 11,
   "id": "d8c7e31c-fba2-404c-b297-daf8d102d9f7",
   "metadata": {},
   "outputs": [],
   "source": [
    "cols_to_drop = ['dataset']\n",
    "df_results.drop(columns=cols_to_drop, inplace=True)"
   ]
  },
  {
   "cell_type": "code",
   "execution_count": 30,
   "id": "a7da3b95-1950-4e52-b500-2dd93f4e02b1",
   "metadata": {},
   "outputs": [],
   "source": [
    "import xgboost\n",
    "from sklearn.model_selection import LeaveOneOut, GridSearchCV, KFold\n",
    "from sklearn.linear_model import LogisticRegression, LogisticRegressionCV\n",
    "from sklearn.metrics import classification_report\n",
    "from sklearn.preprocessing import LabelEncoder, StandardScaler\n",
    "from sklearn.svm import SVC\n",
    "from sklearn.ensemble import RandomForestClassifier"
   ]
  },
  {
   "cell_type": "code",
   "execution_count": 13,
   "id": "5889ac7a-c7b6-40f7-a0de-a75cb9bd7365",
   "metadata": {},
   "outputs": [],
   "source": [
    "df_results = df_results.replace([np.inf, -np.inf], np.nan).dropna()\n",
    "#df_results['label'] = df_results['label'].replace({'causal':1, 'anticausal':0})"
   ]
  },
  {
   "cell_type": "code",
   "execution_count": 14,
   "id": "a8674986-31de-4b8b-a254-fbaba9eca18b",
   "metadata": {},
   "outputs": [],
   "source": [
    "le = LabelEncoder()\n",
    "df_results['encoded_label'] = le.fit_transform(df_results['label'])"
   ]
  },
  {
   "cell_type": "code",
   "execution_count": 15,
   "id": "7940057b-eebe-44c4-acd3-9a46fbe9d582",
   "metadata": {},
   "outputs": [],
   "source": [
    "X = df_results.drop(columns=['label', 'encoded_label'])\n",
    "y = df_results.encoded_label"
   ]
  },
  {
   "cell_type": "code",
   "execution_count": 16,
   "id": "4041ead5-41bd-4ccb-9dd0-28f983b4391f",
   "metadata": {},
   "outputs": [],
   "source": [
    "loo = LeaveOneOut()\n",
    "scaler = StandardScaler()\n",
    "estimator = xgboost.XGBRFClassifier(use_label_encoder=False)\n",
    "\n",
    "parameters = {\n",
    "    'max_depth': [2, 4, 6, 10],\n",
    "    'n_estimators': [100, 200, 500],\n",
    "    'learning_rate': [0.1, 0.01, 0.05]\n",
    "}\n",
    "\n",
    "model = GridSearchCV(\n",
    "    estimator=estimator,\n",
    "    param_grid=parameters,\n",
    "    scoring = 'roc_auc',\n",
    "    n_jobs = 3,\n",
    "    cv = 5\n",
    ")"
   ]
  },
  {
   "cell_type": "code",
   "execution_count": 17,
   "id": "34a6b24a-5096-4fb7-9d94-0a0f78a4719c",
   "metadata": {
    "tags": []
   },
   "outputs": [],
   "source": [
    "# y_pred = []\n",
    "# y_true = []\n",
    "#\n",
    "# for train_idx, test_idx in tqdm(loo.split(X)):\n",
    "#     X_train, X_test = X.iloc[train_idx], X.iloc[test_idx]\n",
    "#     y_train, y_test = y.iloc[train_idx], y.iloc[test_idx]\n",
    "#\n",
    "#     X_train_norm = scaler.fit_transform(X_train)\n",
    "#\n",
    "#     model.fit(X_train_norm, y_train)\n",
    "#\n",
    "#     y_pred.extend(model.predict(scaler.transform(X_test)))\n",
    "#     y_true.extend(y_test)\n",
    "#\n",
    "# print(classification_report(y_true, y_pred))"
   ]
  },
  {
   "cell_type": "code",
   "execution_count": 23,
   "id": "634a2041-122c-4dda-b1b0-81ab515234bb",
   "metadata": {},
   "outputs": [
    {
     "name": "stderr",
     "output_type": "stream",
     "text": [
      "1043it [00:10, 96.66it/s]"
     ]
    },
    {
     "name": "stdout",
     "output_type": "stream",
     "text": [
      "              precision    recall  f1-score   support\n",
      "\n",
      "           0       0.90      0.86      0.88       406\n",
      "           1       0.91      0.94      0.93       637\n",
      "\n",
      "    accuracy                           0.91      1043\n",
      "   macro avg       0.91      0.90      0.90      1043\n",
      "weighted avg       0.91      0.91      0.91      1043\n",
      "\n"
     ]
    },
    {
     "name": "stderr",
     "output_type": "stream",
     "text": [
      "\n"
     ]
    }
   ],
   "source": [
    "y_pred = []\n",
    "y_true = []\n",
    "model = SVC()\n",
    "\n",
    "for train_idx, test_idx in tqdm(loo.split(X)):\n",
    "    X_train, X_test = X.iloc[train_idx], X.iloc[test_idx]\n",
    "    y_train, y_test = y.iloc[train_idx], y.iloc[test_idx]\n",
    "    \n",
    "    X_train_norm = scaler.fit_transform(X_train)\n",
    "    \n",
    "    model.fit(X_train_norm, y_train)\n",
    "    \n",
    "    y_pred.extend(model.predict(scaler.transform(X_test)))\n",
    "    y_true.extend(y_test)\n",
    "    \n",
    "print(classification_report(y_true, y_pred))"
   ]
  },
  {
   "cell_type": "code",
   "execution_count": 27,
   "id": "c8908498",
   "metadata": {
    "jupyter": {
     "outputs_hidden": false
    },
    "pycharm": {
     "name": "#%%\n"
    }
   },
   "outputs": [],
   "source": [
    "estimator = RandomForestClassifier()\n",
    "\n",
    "parameters = {\n",
    "    'n_estimators': [200, 500, 100],\n",
    "    'max_features': ['auto', 'sqrt'],\n",
    "    'max_depth': [4, 6, 8, 12, None],\n",
    "    'criterion': ['gini', 'entropy'],\n",
    "    'min_samples_leaf': [1, 2, 4]\n",
    "}\n",
    "\n",
    "model = GridSearchCV(\n",
    "    estimator=estimator,\n",
    "    param_grid=parameters,\n",
    "    scoring = 'f1',\n",
    "    n_jobs = 12,\n",
    "    cv = 10\n",
    ")"
   ]
  },
  {
   "cell_type": "code",
   "execution_count": 31,
   "id": "f2663af2",
   "metadata": {
    "jupyter": {
     "outputs_hidden": false
    },
    "pycharm": {
     "name": "#%%\n"
    }
   },
   "outputs": [
    {
     "name": "stderr",
     "output_type": "stream",
     "text": [
      "10it [05:38, 33.89s/it]"
     ]
    },
    {
     "name": "stdout",
     "output_type": "stream",
     "text": [
      "              precision    recall  f1-score   support\n",
      "\n",
      "           0       0.96      0.96      0.96       406\n",
      "           1       0.97      0.97      0.97       637\n",
      "\n",
      "    accuracy                           0.97      1043\n",
      "   macro avg       0.97      0.97      0.97      1043\n",
      "weighted avg       0.97      0.97      0.97      1043\n",
      "\n"
     ]
    },
    {
     "name": "stderr",
     "output_type": "stream",
     "text": [
      "\n"
     ]
    }
   ],
   "source": [
    "y_pred = []\n",
    "y_true = []\n",
    "kfold = KFold(n_splits=10, shuffle=False)\n",
    "\n",
    "for train_idx, test_idx in tqdm(kfold.split(X)):\n",
    "    X_train, X_test = X.iloc[train_idx], X.iloc[test_idx]\n",
    "    y_train, y_test = y.iloc[train_idx], y.iloc[test_idx]\n",
    "\n",
    "    X_train_norm = scaler.fit_transform(X_train)\n",
    "\n",
    "    model.fit(X_train_norm, y_train)\n",
    "\n",
    "    y_pred.extend(model.predict(scaler.transform(X_test)))\n",
    "    y_true.extend(y_test)\n",
    "\n",
    "print(classification_report(y_true, y_pred))"
   ]
  },
  {
   "cell_type": "code",
   "execution_count": 38,
   "id": "18c2f01a",
   "metadata": {
    "jupyter": {
     "outputs_hidden": false
    },
    "pycharm": {
     "name": "#%%\n"
    }
   },
   "outputs": [],
   "source": [
    "importances = model.best_estimator_.feature_importances_\n",
    "std = np.std([tree.feature_importances_ for tree in model.best_estimator_.estimators_], axis=0)"
   ]
  },
  {
   "cell_type": "code",
   "execution_count": 42,
   "id": "01f73eae",
   "metadata": {
    "jupyter": {
     "outputs_hidden": false
    },
    "pycharm": {
     "name": "#%%\n"
    }
   },
   "outputs": [
    {
     "data": {
      "image/png": "[encoded data removed]",
      "text/plain": [
       "<Figure size 864x864 with 1 Axes>"
      ]
     },
     "metadata": {
      "needs_background": "light"
     },
     "output_type": "display_data"
    }
   ],
   "source": [
    "forest_importances = pd.Series(importances, index=X.columns)\n",
    "\n",
    "fig, ax = plt.subplots(figsize=(12, 12))\n",
    "forest_importances.plot.bar(yerr=std, ax=ax)\n",
    "ax.set_title(\"Feature importances\", fontsize=16)\n",
    "ax.set_ylabel(\"Mean decrease in impurity\", fontsize=14)\n",
    "fig.tight_layout()\n",
    "plt.xticks(fontsize=14)\n",
    "plt.yticks(fontsize=14)\n",
    "plt.show()"
   ]
  },
  {
   "cell_type": "code",
   "execution_count": 22,
   "id": "842d1368-0bde-4052-95f8-3522b08df9c2",
   "metadata": {},
   "outputs": [
    {
     "name": "stdout",
     "output_type": "stream",
     "text": [
      "Optimization terminated successfully    (Exit mode 0)\n",
      "            Current function value: 0.37308658847789955\n",
      "            Iterations: 83\n",
      "            Function evaluations: 83\n",
      "            Gradient evaluations: 83\n",
      "                           Logit Regression Results                           \n",
      "==============================================================================\n",
      "Dep. Variable:          encoded_label   No. Observations:                 1043\n",
      "Model:                          Logit   Df Residuals:                     1035\n",
      "Method:                           MLE   Df Model:                            7\n",
      "Date:                Tue, 21 Sep 2021   Pseudo R-squ.:                  0.4418\n",
      "Time:                        14:35:19   Log-Likelihood:                -389.13\n",
      "converged:                       True   LL-Null:                       -697.16\n",
      "Covariance Type:            nonrobust   LLR p-value:                8.472e-129\n",
      "==========================================================================================================\n",
      "                                             coef    std err          z      P>|z|      [0.025      0.975]\n",
      "----------------------------------------------------------------------------------------------------------\n",
      "reverse_bayes_vuln_mult_leakage          -11.1029      2.072     -5.357      0.000     -15.165      -7.041\n",
      "direct_bayes_vuln_mult_leakage             1.9009      1.821      1.044      0.296      -1.668       5.469\n",
      "reverse_bayes_risk_mult_leakage           -6.3929      0.933     -6.852      0.000      -8.222      -4.564\n",
      "direct_bayes_risk_mult_leakage            12.2793      1.403      8.752      0.000       9.529      15.029\n",
      "reverse_bayes_vuln_min_entropy_leakage    12.3714      2.225      5.559      0.000       8.010      16.733\n",
      "direct_bayes_vuln_min_entropy_leakage     -1.4202      2.101     -0.676      0.499      -5.538       2.698\n",
      "reverse_bayes_vuln_posterior               4.3811      0.846      5.177      0.000       2.722       6.040\n",
      "direct_bayes_vuln_posterior                2.0338      0.558      3.646      0.000       0.940       3.127\n",
      "==========================================================================================================\n",
      "\n",
      "Possibly complete quasi-separation: A fraction 0.13 of observations can be\n",
      "perfectly predicted. This might indicate that there is complete\n",
      "quasi-separation. In this case some parameters will not be identified.\n"
     ]
    }
   ],
   "source": [
    "import statsmodels.api as sm\n",
    "\n",
    "log_reg = sm.Logit(y, X).fit_regularized(method='l1', alpha=0)\n",
    "\n",
    "print(log_reg.summary())"
   ]
  },
  {
   "cell_type": "code",
   "execution_count": 42,
   "id": "63282bbe-aefc-4659-93d4-de3096a006d3",
   "metadata": {},
   "outputs": [
    {
     "name": "stdout",
     "output_type": "stream",
     "text": [
      "Optimization terminated successfully.\n",
      "         Current function value: 0.653178\n",
      "         Iterations 5\n",
      "Optimization terminated successfully.\n",
      "         Current function value: 0.447657\n",
      "         Iterations 9\n",
      "Optimization terminated successfully.\n",
      "         Current function value: 0.658872\n",
      "         Iterations 5\n",
      "Optimization terminated successfully.\n",
      "         Current function value: 0.572967\n",
      "         Iterations 5\n",
      "Optimization terminated successfully.\n",
      "         Current function value: 0.443375\n",
      "         Iterations 9\n",
      "Optimization terminated successfully.\n",
      "         Current function value: 0.652099\n",
      "         Iterations 6\n",
      "Optimization terminated successfully.\n",
      "         Current function value: 0.555135\n",
      "         Iterations 5\n",
      "Optimization terminated successfully.\n",
      "         Current function value: 0.447027\n",
      "         Iterations 9\n",
      "Optimization terminated successfully.\n",
      "         Current function value: 0.439296\n",
      "         Iterations 9\n",
      "Optimization terminated successfully.\n",
      "         Current function value: 0.545346\n",
      "         Iterations 6\n",
      "Optimization terminated successfully.\n",
      "         Current function value: 0.394823\n",
      "         Iterations 9\n",
      "Optimization terminated successfully.\n",
      "         Current function value: 0.437723\n",
      "         Iterations 9\n",
      "Optimization terminated successfully.\n",
      "         Current function value: 0.534130\n",
      "         Iterations 6\n",
      "Optimization terminated successfully.\n",
      "         Current function value: 0.433549\n",
      "         Iterations 9\n",
      "Optimization terminated successfully.\n",
      "         Current function value: 0.373087\n",
      "         Iterations 10\n"
     ]
    }
   ],
   "source": [
    "from itertools import combinations\n",
    "best_aic = float('inf')\n",
    "best_model = None\n",
    "\n",
    "for i in range(1, 8):\n",
    "    for cols_ids in combinations(range(0, 8, 2), i):\n",
    "        cols = []\n",
    "        for col_id in cols_ids:\n",
    "            cols.extend([col_id, col_id + 1])\n",
    "        col_names = X.columns[cols]\n",
    "        log_reg = sm.Logit(y, X[col_names]).fit()\n",
    "        if log_reg.aic < best_aic:\n",
    "            best_model = log_reg\n",
    "            best_aic = log_reg.aic"
   ]
  },
  {
   "cell_type": "code",
   "execution_count": 43,
   "id": "24de5986-6160-40fc-931d-aadbcaa878b2",
   "metadata": {},
   "outputs": [
    {
     "name": "stdout",
     "output_type": "stream",
     "text": [
      "                           Logit Regression Results                           \n",
      "==============================================================================\n",
      "Dep. Variable:          encoded_label   No. Observations:                 1043\n",
      "Model:                          Logit   Df Residuals:                     1035\n",
      "Method:                           MLE   Df Model:                            7\n",
      "Date:                Thu, 16 Sep 2021   Pseudo R-squ.:                  0.4418\n",
      "Time:                        21:18:09   Log-Likelihood:                -389.13\n",
      "converged:                       True   LL-Null:                       -697.16\n",
      "Covariance Type:            nonrobust   LLR p-value:                8.472e-129\n",
      "==========================================================================================================\n",
      "                                             coef    std err          z      P>|z|      [0.025      0.975]\n",
      "----------------------------------------------------------------------------------------------------------\n",
      "reverse_bayes_vuln_mult_leakage          -11.1029      2.072     -5.357      0.000     -15.165      -7.041\n",
      "direct_bayes_vuln_mult_leakage             1.9009      1.821      1.044      0.296      -1.668       5.469\n",
      "reverse_bayes_risk_mult_leakage           -6.3928      0.933     -6.852      0.000      -8.221      -4.564\n",
      "direct_bayes_risk_mult_leakage            12.2791      1.403      8.752      0.000       9.529      15.029\n",
      "reverse_bayes_vuln_min_entropy_leakage    12.3714      2.225      5.559      0.000       8.010      16.733\n",
      "direct_bayes_vuln_min_entropy_leakage     -1.4202      2.101     -0.676      0.499      -5.538       2.698\n",
      "reverse_bayes_vuln_posterior               4.3810      0.846      5.177      0.000       2.722       6.040\n",
      "direct_bayes_vuln_posterior                2.0338      0.558      3.646      0.000       0.940       3.127\n",
      "==========================================================================================================\n",
      "\n",
      "Possibly complete quasi-separation: A fraction 0.13 of observations can be\n",
      "perfectly predicted. This might indicate that there is complete\n",
      "quasi-separation. In this case some parameters will not be identified.\n"
     ]
    }
   ],
   "source": [
    "print(best_model.summary())"
   ]
  },
  {
   "cell_type": "code",
   "execution_count": null,
   "id": "16c7198c",
   "metadata": {
    "jupyter": {
     "outputs_hidden": false
    },
    "pycharm": {
     "name": "#%%\n"
    }
   },
   "outputs": [],
   "source": []
  }
 ],
 "metadata": {
  "kernelspec": {
   "display_name": "Python 3 (ipykernel)",
   "language": "python",
   "name": "python3"
  },
  "language_info": {
   "codemirror_mode": {
    "name": "ipython",
    "version": 3
   },
   "file_extension": ".py",
   "mimetype": "text/x-python",
   "name": "python",
   "nbconvert_exporter": "python",
   "pygments_lexer": "ipython3",
   "version": "3.9.7"
  },
  "varInspector": {
   "cols": {
    "lenName": 16,
    "lenType": 16,
    "lenVar": 40
   },
   "kernels_config": {
    "python": {
     "delete_cmd_postfix": "",
     "delete_cmd_prefix": "del ",
     "library": "var_list.py",
     "varRefreshCmd": "print(var_dic_list())"
    },
    "r": {
     "delete_cmd_postfix": ") ",
     "delete_cmd_prefix": "rm(",
     "library": "var_list.r",
     "varRefreshCmd": "cat(var_dic_list()) "
    }
   },
   "types_to_exclude": [
    "module",
    "function",
    "builtin_function_or_method",
    "instance",
    "_Feature"
   ],
   "window_display": false
  }
 },
 "nbformat": 4,
 "nbformat_minor": 5
}
