{
 "cells": [
  {
   "cell_type": "code",
   "execution_count": 1,
   "metadata": {
    "ExecuteTime": {
     "end_time": "2020-10-07T19:11:48.673063Z",
     "start_time": "2020-10-07T19:11:47.810236Z"
    }
   },
   "outputs": [],
   "source": [
    "import xgboost\n",
    "import numpy as np\n",
    "import pandas as pd\n",
    "\n",
    "from sklearn import svm\n",
    "from sklearn.ensemble import RandomForestClassifier\n",
    "from sklearn.model_selection import train_test_split, GridSearchCV\n",
    "from sklearn.metrics import classification_report"
   ]
  },
  {
   "cell_type": "code",
   "execution_count": 2,
   "metadata": {
    "ExecuteTime": {
     "end_time": "2020-10-07T19:11:48.806786Z",
     "start_time": "2020-10-07T19:11:48.673881Z"
    }
   },
   "outputs": [],
   "source": [
    "df = pd.read_csv(\"sample_flows_100k.csv\")"
   ]
  },
  {
   "cell_type": "code",
   "execution_count": 3,
   "metadata": {
    "ExecuteTime": {
     "end_time": "2020-10-06T16:25:37.332613Z",
     "start_time": "2020-10-06T16:25:37.330879Z"
    }
   },
   "outputs": [],
   "source": [
    "def label_y(s):\n",
    "    if 'anticausal' in s:\n",
    "        return 0\n",
    "    elif 'causal' in s:\n",
    "        return 1"
   ]
  },
  {
   "cell_type": "markdown",
   "metadata": {},
   "source": [
    "## Pre-processing"
   ]
  },
  {
   "cell_type": "code",
   "execution_count": 6,
   "metadata": {
    "ExecuteTime": {
     "end_time": "2020-10-06T16:26:03.005175Z",
     "start_time": "2020-10-06T16:26:02.972858Z"
    }
   },
   "outputs": [],
   "source": [
    "df['y'] = df['scm'].apply(label_y)\n",
    "df.drop(columns=['scm'], inplace=True)"
   ]
  },
  {
   "cell_type": "code",
   "execution_count": 9,
   "metadata": {
    "ExecuteTime": {
     "end_time": "2020-10-06T16:26:58.687864Z",
     "start_time": "2020-10-06T16:26:58.683626Z"
    }
   },
   "outputs": [],
   "source": [
    "X = df.drop(columns=['y', 'conditional_shannon_entropy_Y|X', 'mutual_information']).values\n",
    "y = df['y'].values"
   ]
  },
  {
   "cell_type": "code",
   "execution_count": 12,
   "metadata": {
    "ExecuteTime": {
     "end_time": "2020-10-06T16:27:34.897130Z",
     "start_time": "2020-10-06T16:27:34.884648Z"
    }
   },
   "outputs": [],
   "source": [
    "X_train, X_test, y_train, y_test = train_test_split(X, y, test_size=0.2)"
   ]
  },
  {
   "cell_type": "markdown",
   "metadata": {},
   "source": [
    "## Modelling"
   ]
  },
  {
   "cell_type": "markdown",
   "metadata": {},
   "source": [
    "### SVM"
   ]
  },
  {
   "cell_type": "code",
   "execution_count": 14,
   "metadata": {
    "ExecuteTime": {
     "end_time": "2020-10-06T16:28:01.204108Z",
     "start_time": "2020-10-06T16:28:01.202618Z"
    }
   },
   "outputs": [],
   "source": [
    "clf = svm.SVC()"
   ]
  },
  {
   "cell_type": "code",
   "execution_count": 15,
   "metadata": {
    "ExecuteTime": {
     "end_time": "2020-10-06T16:31:30.278806Z",
     "start_time": "2020-10-06T16:28:01.916729Z"
    }
   },
   "outputs": [
    {
     "data": {
      "text/plain": [
       "SVC()"
      ]
     },
     "execution_count": 15,
     "metadata": {},
     "output_type": "execute_result"
    }
   ],
   "source": [
    "clf.fit(X_train, y_train)"
   ]
  },
  {
   "cell_type": "code",
   "execution_count": 17,
   "metadata": {
    "ExecuteTime": {
     "end_time": "2020-10-06T16:32:09.061528Z",
     "start_time": "2020-10-06T16:31:41.463061Z"
    }
   },
   "outputs": [],
   "source": [
    "y_pred = clf.predict(X_test)"
   ]
  },
  {
   "cell_type": "code",
   "execution_count": 23,
   "metadata": {
    "ExecuteTime": {
     "end_time": "2020-10-06T16:32:51.188774Z",
     "start_time": "2020-10-06T16:32:51.164006Z"
    }
   },
   "outputs": [
    {
     "name": "stdout",
     "output_type": "stream",
     "text": [
      "              precision    recall  f1-score   support\n",
      "\n",
      "           0       0.67      0.51      0.58      9938\n",
      "           1       0.61      0.75      0.67     10062\n",
      "\n",
      "    accuracy                           0.63     20000\n",
      "   macro avg       0.64      0.63      0.62     20000\n",
      "weighted avg       0.64      0.63      0.62     20000\n",
      "\n"
     ]
    }
   ],
   "source": [
    "print(classification_report(y_test, y_pred))"
   ]
  },
  {
   "cell_type": "markdown",
   "metadata": {
    "ExecuteTime": {
     "end_time": "2020-10-06T16:31:36.413060Z",
     "start_time": "2020-10-06T16:31:36.411681Z"
    }
   },
   "source": [
    "### Random Forest"
   ]
  },
  {
   "cell_type": "code",
   "execution_count": 68,
   "metadata": {
    "ExecuteTime": {
     "end_time": "2020-10-06T16:41:55.019809Z",
     "start_time": "2020-10-06T16:41:55.018113Z"
    }
   },
   "outputs": [],
   "source": [
    "clf = RandomForestClassifier(max_depth=20, n_estimators=200)"
   ]
  },
  {
   "cell_type": "code",
   "execution_count": 69,
   "metadata": {
    "ExecuteTime": {
     "end_time": "2020-10-06T16:42:11.246797Z",
     "start_time": "2020-10-06T16:41:55.153675Z"
    }
   },
   "outputs": [
    {
     "data": {
      "text/plain": [
       "RandomForestClassifier(max_depth=20, n_estimators=200)"
      ]
     },
     "execution_count": 69,
     "metadata": {},
     "output_type": "execute_result"
    }
   ],
   "source": [
    "clf.fit(X_train, y_train)"
   ]
  },
  {
   "cell_type": "code",
   "execution_count": 70,
   "metadata": {
    "ExecuteTime": {
     "end_time": "2020-10-06T16:42:11.694150Z",
     "start_time": "2020-10-06T16:42:11.247647Z"
    }
   },
   "outputs": [],
   "source": [
    "y_pred = clf.predict(X_test)"
   ]
  },
  {
   "cell_type": "code",
   "execution_count": 71,
   "metadata": {
    "ExecuteTime": {
     "end_time": "2020-10-06T16:42:11.717341Z",
     "start_time": "2020-10-06T16:42:11.695044Z"
    }
   },
   "outputs": [
    {
     "name": "stdout",
     "output_type": "stream",
     "text": [
      "              precision    recall  f1-score   support\n",
      "\n",
      "           0       0.69      0.54      0.61      9938\n",
      "           1       0.63      0.76      0.69     10062\n",
      "\n",
      "    accuracy                           0.65     20000\n",
      "   macro avg       0.66      0.65      0.65     20000\n",
      "weighted avg       0.66      0.65      0.65     20000\n",
      "\n"
     ]
    }
   ],
   "source": [
    "print(classification_report(y_test, y_pred))"
   ]
  },
  {
   "cell_type": "markdown",
   "metadata": {},
   "source": [
    "### XGBoost"
   ]
  },
  {
   "cell_type": "code",
   "execution_count": 74,
   "metadata": {
    "ExecuteTime": {
     "end_time": "2020-10-06T16:42:55.458057Z",
     "start_time": "2020-10-06T16:42:55.409015Z"
    }
   },
   "outputs": [],
   "source": [
    "D_train = xgboost.DMatrix(X_train, label=y_train)\n",
    "D_test = xgboost.DMatrix(X_test, label=y_test)"
   ]
  },
  {
   "cell_type": "code",
   "execution_count": 91,
   "metadata": {
    "ExecuteTime": {
     "end_time": "2020-10-06T17:06:57.172653Z",
     "start_time": "2020-10-06T16:50:08.834131Z"
    }
   },
   "outputs": [
    {
     "data": {
      "text/plain": [
       "GridSearchCV(cv=4,\n",
       "             estimator=XGBClassifier(base_score=None, booster=None,\n",
       "                                     colsample_bylevel=None,\n",
       "                                     colsample_bynode=None,\n",
       "                                     colsample_bytree=None, gamma=None,\n",
       "                                     gpu_id=None, importance_type='gain',\n",
       "                                     interaction_constraints=None,\n",
       "                                     learning_rate=None, max_delta_step=None,\n",
       "                                     max_depth=None, min_child_weight=None,\n",
       "                                     missing=nan, monotone_constraints=None,\n",
       "                                     n_estimators=100, n_jobs...\n",
       "                                     num_parallel_tree=None, random_state=None,\n",
       "                                     reg_alpha=None, reg_lambda=None,\n",
       "                                     scale_pos_weight=None, subsample=None,\n",
       "                                     tree_method=None, validate_parameters=None,\n",
       "                                     verbosity=None),\n",
       "             n_jobs=6,\n",
       "             param_grid={'colsample_bytree': [0.3, 0.4, 0.5],\n",
       "                         'eta': [0.05, 0.1, 0.15, 0.2],\n",
       "                         'gamma': [0.0, 0.1, 0.2, 0.3],\n",
       "                         'max_depth': [3, 4, 5, 6, 8, 10],\n",
       "                         'min_child_weight': [1, 3, 5]},\n",
       "             scoring='neg_log_loss')"
      ]
     },
     "execution_count": 91,
     "metadata": {},
     "output_type": "execute_result"
    }
   ],
   "source": [
    "clf = xgboost.XGBClassifier()\n",
    "\n",
    "parameters = {\n",
    "     \"eta\"    : [0.05, 0.10, 0.15, 0.20],\n",
    "     \"max_depth\"        : [3, 4, 5, 6, 8, 10],\n",
    "     \"min_child_weight\" : [1, 3, 5],\n",
    "     \"gamma\"            : [0.0, 0.1, 0.2, 0.3],\n",
    "     \"colsample_bytree\" : [0.3, 0.4, 0.5]\n",
    "}\n",
    "\n",
    "grid = GridSearchCV(clf,\n",
    "                    parameters, n_jobs=6,\n",
    "                    scoring=\"neg_log_loss\",\n",
    "                    cv=4)\n",
    "\n",
    "grid.fit(X_train, y_train)"
   ]
  },
  {
   "cell_type": "code",
   "execution_count": 92,
   "metadata": {
    "ExecuteTime": {
     "end_time": "2020-10-06T17:07:25.330185Z",
     "start_time": "2020-10-06T17:07:25.308555Z"
    }
   },
   "outputs": [],
   "source": [
    "y_pred = grid.predict(X_test)"
   ]
  },
  {
   "cell_type": "code",
   "execution_count": 95,
   "metadata": {
    "ExecuteTime": {
     "end_time": "2020-10-06T17:07:49.893778Z",
     "start_time": "2020-10-06T17:07:49.870910Z"
    }
   },
   "outputs": [
    {
     "name": "stdout",
     "output_type": "stream",
     "text": [
      "              precision    recall  f1-score   support\n",
      "\n",
      "           0       0.69      0.54      0.61      9938\n",
      "           1       0.63      0.76      0.69     10062\n",
      "\n",
      "    accuracy                           0.65     20000\n",
      "   macro avg       0.66      0.65      0.65     20000\n",
      "weighted avg       0.66      0.65      0.65     20000\n",
      "\n"
     ]
    }
   ],
   "source": [
    "print(classification_report(y_test, y_pred))"
   ]
  },
  {
   "cell_type": "markdown",
   "metadata": {},
   "source": [
    "###  Keras"
   ]
  },
  {
   "cell_type": "code",
   "execution_count": 192,
   "metadata": {
    "ExecuteTime": {
     "end_time": "2020-10-06T17:45:53.299045Z",
     "start_time": "2020-10-06T17:45:53.297096Z"
    }
   },
   "outputs": [],
   "source": [
    "import keras\n",
    "import tensorflow as tf\n",
    "from keras.models import Sequential\n",
    "from keras.layers import Dense, Dropout\n",
    "from keras.utils import to_categorical\n",
    "\n",
    "tf.keras.backend.set_floatx('float64')"
   ]
  },
  {
   "cell_type": "code",
   "execution_count": 193,
   "metadata": {
    "ExecuteTime": {
     "end_time": "2020-10-06T17:45:53.507932Z",
     "start_time": "2020-10-06T17:45:53.505603Z"
    }
   },
   "outputs": [],
   "source": [
    "y_train_cat = to_categorical(y_train)\n",
    "y_test_cat = to_categorical(y_test)"
   ]
  },
  {
   "cell_type": "code",
   "execution_count": 194,
   "metadata": {
    "ExecuteTime": {
     "end_time": "2020-10-06T17:45:53.684952Z",
     "start_time": "2020-10-06T17:45:53.679200Z"
    }
   },
   "outputs": [],
   "source": [
    "model = Sequential([\n",
    "    Dense(128, activation='relu'),\n",
    "    Dropout(0.15),\n",
    "    Dense(256, activation='relu'),\n",
    "    Dropout(0.15),\n",
    "    Dense(128, activation='relu'),\n",
    "    Dense(2, activation='sigmoid')\n",
    "])"
   ]
  },
  {
   "cell_type": "code",
   "execution_count": 195,
   "metadata": {
    "ExecuteTime": {
     "end_time": "2020-10-06T17:45:53.854183Z",
     "start_time": "2020-10-06T17:45:53.843179Z"
    }
   },
   "outputs": [],
   "source": [
    "model.compile(optimizer='adam', loss='binary_crossentropy', metrics=['accuracy'])"
   ]
  },
  {
   "cell_type": "code",
   "execution_count": 196,
   "metadata": {
    "ExecuteTime": {
     "end_time": "2020-10-06T17:48:48.575943Z",
     "start_time": "2020-10-06T17:45:54.083786Z"
    },
    "scrolled": true
   },
   "outputs": [
    {
     "name": "stdout",
     "output_type": "stream",
     "text": [
      "Epoch 1/400\n",
      "282/282 - 0s - loss: 0.6696 - accuracy: 0.5779 - val_loss: 0.6440 - val_accuracy: 0.6105\n",
      "Epoch 2/400\n",
      "282/282 - 0s - loss: 0.6387 - accuracy: 0.6112 - val_loss: 0.6243 - val_accuracy: 0.6209\n",
      "Epoch 3/400\n",
      "282/282 - 0s - loss: 0.6251 - accuracy: 0.6236 - val_loss: 0.6135 - val_accuracy: 0.6238\n",
      "Epoch 4/400\n",
      "282/282 - 0s - loss: 0.6166 - accuracy: 0.6263 - val_loss: 0.6099 - val_accuracy: 0.6295\n",
      "Epoch 5/400\n",
      "282/282 - 0s - loss: 0.6098 - accuracy: 0.6299 - val_loss: 0.6048 - val_accuracy: 0.6342\n",
      "Epoch 6/400\n",
      "282/282 - 0s - loss: 0.6046 - accuracy: 0.6335 - val_loss: 0.5995 - val_accuracy: 0.6359\n",
      "Epoch 7/400\n",
      "282/282 - 0s - loss: 0.6003 - accuracy: 0.6375 - val_loss: 0.5977 - val_accuracy: 0.6305\n",
      "Epoch 8/400\n",
      "282/282 - 0s - loss: 0.5991 - accuracy: 0.6378 - val_loss: 0.5983 - val_accuracy: 0.6362\n",
      "Epoch 9/400\n",
      "282/282 - 0s - loss: 0.5969 - accuracy: 0.6371 - val_loss: 0.5905 - val_accuracy: 0.6376\n",
      "Epoch 10/400\n",
      "282/282 - 0s - loss: 0.5945 - accuracy: 0.6408 - val_loss: 0.5903 - val_accuracy: 0.6388\n",
      "Epoch 11/400\n",
      "282/282 - 0s - loss: 0.5937 - accuracy: 0.6413 - val_loss: 0.5911 - val_accuracy: 0.6430\n",
      "Epoch 12/400\n",
      "282/282 - 0s - loss: 0.5921 - accuracy: 0.6417 - val_loss: 0.5880 - val_accuracy: 0.6470\n",
      "Epoch 13/400\n",
      "282/282 - 0s - loss: 0.5917 - accuracy: 0.6420 - val_loss: 0.5877 - val_accuracy: 0.6485\n",
      "Epoch 14/400\n",
      "282/282 - 0s - loss: 0.5900 - accuracy: 0.6399 - val_loss: 0.5875 - val_accuracy: 0.6410\n",
      "Epoch 15/400\n",
      "282/282 - 0s - loss: 0.5895 - accuracy: 0.6432 - val_loss: 0.5859 - val_accuracy: 0.6459\n",
      "Epoch 16/400\n",
      "282/282 - 0s - loss: 0.5880 - accuracy: 0.6424 - val_loss: 0.5879 - val_accuracy: 0.6459\n",
      "Epoch 17/400\n",
      "282/282 - 0s - loss: 0.5887 - accuracy: 0.6446 - val_loss: 0.5885 - val_accuracy: 0.6402\n",
      "Epoch 18/400\n",
      "282/282 - 0s - loss: 0.5874 - accuracy: 0.6450 - val_loss: 0.5860 - val_accuracy: 0.6450\n",
      "Epoch 19/400\n",
      "282/282 - 0s - loss: 0.5869 - accuracy: 0.6449 - val_loss: 0.5842 - val_accuracy: 0.6456\n",
      "Epoch 20/400\n",
      "282/282 - 0s - loss: 0.5856 - accuracy: 0.6464 - val_loss: 0.5844 - val_accuracy: 0.6456\n",
      "Epoch 21/400\n",
      "282/282 - 0s - loss: 0.5864 - accuracy: 0.6442 - val_loss: 0.5852 - val_accuracy: 0.6469\n",
      "Epoch 22/400\n",
      "282/282 - 0s - loss: 0.5855 - accuracy: 0.6446 - val_loss: 0.5826 - val_accuracy: 0.6470\n",
      "Epoch 23/400\n",
      "282/282 - 0s - loss: 0.5853 - accuracy: 0.6456 - val_loss: 0.5892 - val_accuracy: 0.6444\n",
      "Epoch 24/400\n",
      "282/282 - 0s - loss: 0.5858 - accuracy: 0.6460 - val_loss: 0.5842 - val_accuracy: 0.6452\n",
      "Epoch 25/400\n",
      "282/282 - 0s - loss: 0.5841 - accuracy: 0.6468 - val_loss: 0.5847 - val_accuracy: 0.6441\n",
      "Epoch 26/400\n",
      "282/282 - 0s - loss: 0.5842 - accuracy: 0.6476 - val_loss: 0.5869 - val_accuracy: 0.6441\n",
      "Epoch 27/400\n",
      "282/282 - 0s - loss: 0.5839 - accuracy: 0.6473 - val_loss: 0.5846 - val_accuracy: 0.6465\n",
      "Epoch 28/400\n",
      "282/282 - 0s - loss: 0.5828 - accuracy: 0.6462 - val_loss: 0.5814 - val_accuracy: 0.6471\n",
      "Epoch 29/400\n",
      "282/282 - 0s - loss: 0.5830 - accuracy: 0.6480 - val_loss: 0.5831 - val_accuracy: 0.6416\n",
      "Epoch 30/400\n",
      "282/282 - 0s - loss: 0.5827 - accuracy: 0.6479 - val_loss: 0.5811 - val_accuracy: 0.6471\n",
      "Epoch 31/400\n",
      "282/282 - 0s - loss: 0.5822 - accuracy: 0.6483 - val_loss: 0.5823 - val_accuracy: 0.6440\n",
      "Epoch 32/400\n",
      "282/282 - 0s - loss: 0.5824 - accuracy: 0.6470 - val_loss: 0.5829 - val_accuracy: 0.6479\n",
      "Epoch 33/400\n",
      "282/282 - 0s - loss: 0.5826 - accuracy: 0.6478 - val_loss: 0.5817 - val_accuracy: 0.6466\n",
      "Epoch 34/400\n",
      "282/282 - 0s - loss: 0.5820 - accuracy: 0.6473 - val_loss: 0.5813 - val_accuracy: 0.6436\n",
      "Epoch 35/400\n",
      "282/282 - 0s - loss: 0.5814 - accuracy: 0.6499 - val_loss: 0.5820 - val_accuracy: 0.6488\n",
      "Epoch 36/400\n",
      "282/282 - 0s - loss: 0.5820 - accuracy: 0.6474 - val_loss: 0.5822 - val_accuracy: 0.6456\n",
      "Epoch 37/400\n",
      "282/282 - 0s - loss: 0.5813 - accuracy: 0.6479 - val_loss: 0.5831 - val_accuracy: 0.6451\n",
      "Epoch 38/400\n",
      "282/282 - 0s - loss: 0.5811 - accuracy: 0.6472 - val_loss: 0.5795 - val_accuracy: 0.6474\n",
      "Epoch 39/400\n",
      "282/282 - 0s - loss: 0.5805 - accuracy: 0.6484 - val_loss: 0.5846 - val_accuracy: 0.6474\n",
      "Epoch 40/400\n",
      "282/282 - 0s - loss: 0.5809 - accuracy: 0.6489 - val_loss: 0.5810 - val_accuracy: 0.6474\n",
      "Epoch 41/400\n",
      "282/282 - 0s - loss: 0.5807 - accuracy: 0.6489 - val_loss: 0.5808 - val_accuracy: 0.6461\n",
      "Epoch 42/400\n",
      "282/282 - 0s - loss: 0.5808 - accuracy: 0.6489 - val_loss: 0.5805 - val_accuracy: 0.6461\n",
      "Epoch 43/400\n",
      "282/282 - 0s - loss: 0.5801 - accuracy: 0.6481 - val_loss: 0.5797 - val_accuracy: 0.6476\n",
      "Epoch 44/400\n",
      "282/282 - 0s - loss: 0.5797 - accuracy: 0.6488 - val_loss: 0.5793 - val_accuracy: 0.6441\n",
      "Epoch 45/400\n",
      "282/282 - 0s - loss: 0.5803 - accuracy: 0.6488 - val_loss: 0.5793 - val_accuracy: 0.6479\n",
      "Epoch 46/400\n",
      "282/282 - 0s - loss: 0.5805 - accuracy: 0.6501 - val_loss: 0.5829 - val_accuracy: 0.6474\n",
      "Epoch 47/400\n",
      "282/282 - 0s - loss: 0.5806 - accuracy: 0.6482 - val_loss: 0.5787 - val_accuracy: 0.6504\n",
      "Epoch 48/400\n",
      "282/282 - 0s - loss: 0.5794 - accuracy: 0.6495 - val_loss: 0.5784 - val_accuracy: 0.6464\n",
      "Epoch 49/400\n",
      "282/282 - 0s - loss: 0.5794 - accuracy: 0.6489 - val_loss: 0.5820 - val_accuracy: 0.6479\n",
      "Epoch 50/400\n",
      "282/282 - 0s - loss: 0.5794 - accuracy: 0.6499 - val_loss: 0.5788 - val_accuracy: 0.6500\n",
      "Epoch 51/400\n",
      "282/282 - 0s - loss: 0.5792 - accuracy: 0.6497 - val_loss: 0.5792 - val_accuracy: 0.6481\n",
      "Epoch 52/400\n",
      "282/282 - 0s - loss: 0.5789 - accuracy: 0.6503 - val_loss: 0.5777 - val_accuracy: 0.6499\n",
      "Epoch 53/400\n",
      "282/282 - 0s - loss: 0.5785 - accuracy: 0.6488 - val_loss: 0.5816 - val_accuracy: 0.6420\n",
      "Epoch 54/400\n",
      "282/282 - 0s - loss: 0.5792 - accuracy: 0.6510 - val_loss: 0.5803 - val_accuracy: 0.6468\n",
      "Epoch 55/400\n",
      "282/282 - 0s - loss: 0.5794 - accuracy: 0.6496 - val_loss: 0.5839 - val_accuracy: 0.6456\n",
      "Epoch 56/400\n",
      "282/282 - 0s - loss: 0.5789 - accuracy: 0.6499 - val_loss: 0.5772 - val_accuracy: 0.6485\n",
      "Epoch 57/400\n",
      "282/282 - 0s - loss: 0.5785 - accuracy: 0.6496 - val_loss: 0.5800 - val_accuracy: 0.6465\n",
      "Epoch 58/400\n",
      "282/282 - 0s - loss: 0.5776 - accuracy: 0.6506 - val_loss: 0.5790 - val_accuracy: 0.6480\n",
      "Epoch 59/400\n",
      "282/282 - 0s - loss: 0.5789 - accuracy: 0.6484 - val_loss: 0.5791 - val_accuracy: 0.6480\n",
      "Epoch 60/400\n",
      "282/282 - 0s - loss: 0.5780 - accuracy: 0.6503 - val_loss: 0.5795 - val_accuracy: 0.6498\n",
      "Epoch 61/400\n",
      "282/282 - 0s - loss: 0.5779 - accuracy: 0.6487 - val_loss: 0.5806 - val_accuracy: 0.6441\n",
      "Epoch 62/400\n",
      "282/282 - 0s - loss: 0.5776 - accuracy: 0.6509 - val_loss: 0.5806 - val_accuracy: 0.6488\n",
      "Epoch 63/400\n",
      "282/282 - 0s - loss: 0.5778 - accuracy: 0.6496 - val_loss: 0.5780 - val_accuracy: 0.6490\n",
      "Epoch 64/400\n",
      "282/282 - 0s - loss: 0.5781 - accuracy: 0.6500 - val_loss: 0.5794 - val_accuracy: 0.6494\n",
      "Epoch 65/400\n",
      "282/282 - 0s - loss: 0.5781 - accuracy: 0.6497 - val_loss: 0.5797 - val_accuracy: 0.6488\n",
      "Epoch 66/400\n",
      "282/282 - 0s - loss: 0.5775 - accuracy: 0.6507 - val_loss: 0.5771 - val_accuracy: 0.6440\n",
      "Epoch 67/400\n",
      "282/282 - 0s - loss: 0.5769 - accuracy: 0.6491 - val_loss: 0.5771 - val_accuracy: 0.6494\n",
      "Epoch 68/400\n",
      "282/282 - 0s - loss: 0.5775 - accuracy: 0.6503 - val_loss: 0.5798 - val_accuracy: 0.6492\n",
      "Epoch 69/400\n",
      "282/282 - 0s - loss: 0.5774 - accuracy: 0.6509 - val_loss: 0.5779 - val_accuracy: 0.6489\n",
      "Epoch 70/400\n",
      "282/282 - 0s - loss: 0.5769 - accuracy: 0.6523 - val_loss: 0.5789 - val_accuracy: 0.6455\n",
      "Epoch 71/400\n",
      "282/282 - 0s - loss: 0.5766 - accuracy: 0.6501 - val_loss: 0.5780 - val_accuracy: 0.6479\n",
      "Epoch 72/400\n",
      "282/282 - 0s - loss: 0.5773 - accuracy: 0.6514 - val_loss: 0.5769 - val_accuracy: 0.6514\n",
      "Epoch 73/400\n",
      "282/282 - 0s - loss: 0.5769 - accuracy: 0.6501 - val_loss: 0.5800 - val_accuracy: 0.6452\n",
      "Epoch 74/400\n",
      "282/282 - 0s - loss: 0.5762 - accuracy: 0.6510 - val_loss: 0.5778 - val_accuracy: 0.6479\n",
      "Epoch 75/400\n",
      "282/282 - 0s - loss: 0.5763 - accuracy: 0.6498 - val_loss: 0.5781 - val_accuracy: 0.6501\n",
      "Epoch 76/400\n",
      "282/282 - 0s - loss: 0.5766 - accuracy: 0.6521 - val_loss: 0.5750 - val_accuracy: 0.6522\n",
      "Epoch 77/400\n",
      "282/282 - 0s - loss: 0.5761 - accuracy: 0.6502 - val_loss: 0.5773 - val_accuracy: 0.6502\n",
      "Epoch 78/400\n",
      "282/282 - 0s - loss: 0.5758 - accuracy: 0.6513 - val_loss: 0.5770 - val_accuracy: 0.6495\n",
      "Epoch 79/400\n",
      "282/282 - 0s - loss: 0.5768 - accuracy: 0.6500 - val_loss: 0.5748 - val_accuracy: 0.6514\n",
      "Epoch 80/400\n",
      "282/282 - 0s - loss: 0.5764 - accuracy: 0.6504 - val_loss: 0.5805 - val_accuracy: 0.6461\n",
      "Epoch 81/400\n",
      "282/282 - 0s - loss: 0.5759 - accuracy: 0.6510 - val_loss: 0.5784 - val_accuracy: 0.6460\n"
     ]
    },
    {
     "name": "stdout",
     "output_type": "stream",
     "text": [
      "Epoch 82/400\n",
      "282/282 - 0s - loss: 0.5754 - accuracy: 0.6510 - val_loss: 0.5763 - val_accuracy: 0.6492\n",
      "Epoch 83/400\n",
      "282/282 - 0s - loss: 0.5755 - accuracy: 0.6508 - val_loss: 0.5772 - val_accuracy: 0.6496\n",
      "Epoch 84/400\n",
      "282/282 - 0s - loss: 0.5755 - accuracy: 0.6523 - val_loss: 0.5768 - val_accuracy: 0.6476\n",
      "Epoch 85/400\n",
      "282/282 - 0s - loss: 0.5752 - accuracy: 0.6506 - val_loss: 0.5786 - val_accuracy: 0.6476\n",
      "Epoch 86/400\n",
      "282/282 - 0s - loss: 0.5754 - accuracy: 0.6502 - val_loss: 0.5766 - val_accuracy: 0.6466\n",
      "Epoch 87/400\n",
      "282/282 - 0s - loss: 0.5761 - accuracy: 0.6517 - val_loss: 0.5762 - val_accuracy: 0.6480\n",
      "Epoch 88/400\n",
      "282/282 - 0s - loss: 0.5751 - accuracy: 0.6508 - val_loss: 0.5762 - val_accuracy: 0.6464\n",
      "Epoch 89/400\n",
      "282/282 - 0s - loss: 0.5761 - accuracy: 0.6506 - val_loss: 0.5796 - val_accuracy: 0.6488\n",
      "Epoch 90/400\n",
      "282/282 - 0s - loss: 0.5758 - accuracy: 0.6494 - val_loss: 0.5764 - val_accuracy: 0.6478\n",
      "Epoch 91/400\n",
      "282/282 - 0s - loss: 0.5753 - accuracy: 0.6514 - val_loss: 0.5753 - val_accuracy: 0.6500\n",
      "Epoch 92/400\n",
      "282/282 - 0s - loss: 0.5746 - accuracy: 0.6513 - val_loss: 0.5757 - val_accuracy: 0.6480\n",
      "Epoch 93/400\n",
      "282/282 - 0s - loss: 0.5747 - accuracy: 0.6520 - val_loss: 0.5765 - val_accuracy: 0.6538\n",
      "Epoch 94/400\n",
      "282/282 - 0s - loss: 0.5752 - accuracy: 0.6519 - val_loss: 0.5794 - val_accuracy: 0.6471\n",
      "Epoch 95/400\n",
      "282/282 - 0s - loss: 0.5757 - accuracy: 0.6503 - val_loss: 0.5756 - val_accuracy: 0.6486\n",
      "Epoch 96/400\n",
      "282/282 - 0s - loss: 0.5745 - accuracy: 0.6525 - val_loss: 0.5762 - val_accuracy: 0.6494\n",
      "Epoch 97/400\n",
      "282/282 - 0s - loss: 0.5748 - accuracy: 0.6530 - val_loss: 0.5781 - val_accuracy: 0.6515\n",
      "Epoch 98/400\n",
      "282/282 - 0s - loss: 0.5741 - accuracy: 0.6527 - val_loss: 0.5766 - val_accuracy: 0.6495\n",
      "Epoch 99/400\n",
      "282/282 - 0s - loss: 0.5759 - accuracy: 0.6498 - val_loss: 0.5754 - val_accuracy: 0.6501\n",
      "Epoch 100/400\n",
      "282/282 - 0s - loss: 0.5740 - accuracy: 0.6523 - val_loss: 0.5762 - val_accuracy: 0.6520\n",
      "Epoch 101/400\n",
      "282/282 - 0s - loss: 0.5757 - accuracy: 0.6509 - val_loss: 0.5764 - val_accuracy: 0.6490\n",
      "Epoch 102/400\n",
      "282/282 - 0s - loss: 0.5741 - accuracy: 0.6520 - val_loss: 0.5769 - val_accuracy: 0.6498\n",
      "Epoch 103/400\n",
      "282/282 - 0s - loss: 0.5753 - accuracy: 0.6515 - val_loss: 0.5774 - val_accuracy: 0.6468\n",
      "Epoch 104/400\n",
      "282/282 - 0s - loss: 0.5744 - accuracy: 0.6514 - val_loss: 0.5755 - val_accuracy: 0.6480\n",
      "Epoch 105/400\n",
      "282/282 - 0s - loss: 0.5738 - accuracy: 0.6519 - val_loss: 0.5740 - val_accuracy: 0.6488\n",
      "Epoch 106/400\n",
      "282/282 - 0s - loss: 0.5744 - accuracy: 0.6518 - val_loss: 0.5751 - val_accuracy: 0.6518\n",
      "Epoch 107/400\n",
      "282/282 - 0s - loss: 0.5748 - accuracy: 0.6507 - val_loss: 0.5752 - val_accuracy: 0.6506\n",
      "Epoch 108/400\n",
      "282/282 - 0s - loss: 0.5739 - accuracy: 0.6524 - val_loss: 0.5784 - val_accuracy: 0.6489\n",
      "Epoch 109/400\n",
      "282/282 - 0s - loss: 0.5745 - accuracy: 0.6507 - val_loss: 0.5732 - val_accuracy: 0.6515\n",
      "Epoch 110/400\n",
      "282/282 - 0s - loss: 0.5733 - accuracy: 0.6519 - val_loss: 0.5749 - val_accuracy: 0.6485\n",
      "Epoch 111/400\n",
      "282/282 - 0s - loss: 0.5742 - accuracy: 0.6497 - val_loss: 0.5783 - val_accuracy: 0.6466\n",
      "Epoch 112/400\n",
      "282/282 - 0s - loss: 0.5742 - accuracy: 0.6517 - val_loss: 0.5751 - val_accuracy: 0.6460\n",
      "Epoch 113/400\n",
      "282/282 - 0s - loss: 0.5734 - accuracy: 0.6513 - val_loss: 0.5747 - val_accuracy: 0.6479\n",
      "Epoch 114/400\n",
      "282/282 - 0s - loss: 0.5728 - accuracy: 0.6527 - val_loss: 0.5748 - val_accuracy: 0.6474\n",
      "Epoch 115/400\n",
      "282/282 - 0s - loss: 0.5740 - accuracy: 0.6529 - val_loss: 0.5741 - val_accuracy: 0.6512\n",
      "Epoch 116/400\n",
      "282/282 - 0s - loss: 0.5743 - accuracy: 0.6518 - val_loss: 0.5750 - val_accuracy: 0.6506\n",
      "Epoch 117/400\n",
      "282/282 - 0s - loss: 0.5734 - accuracy: 0.6521 - val_loss: 0.5757 - val_accuracy: 0.6475\n",
      "Epoch 118/400\n",
      "282/282 - 0s - loss: 0.5742 - accuracy: 0.6489 - val_loss: 0.5739 - val_accuracy: 0.6500\n",
      "Epoch 119/400\n",
      "282/282 - 0s - loss: 0.5732 - accuracy: 0.6504 - val_loss: 0.5752 - val_accuracy: 0.6475\n",
      "Epoch 120/400\n",
      "282/282 - 0s - loss: 0.5730 - accuracy: 0.6520 - val_loss: 0.5785 - val_accuracy: 0.6471\n",
      "Epoch 121/400\n",
      "282/282 - 0s - loss: 0.5735 - accuracy: 0.6514 - val_loss: 0.5746 - val_accuracy: 0.6469\n",
      "Epoch 122/400\n",
      "282/282 - 0s - loss: 0.5727 - accuracy: 0.6542 - val_loss: 0.5743 - val_accuracy: 0.6495\n",
      "Epoch 123/400\n",
      "282/282 - 0s - loss: 0.5736 - accuracy: 0.6521 - val_loss: 0.5743 - val_accuracy: 0.6495\n",
      "Epoch 124/400\n",
      "282/282 - 0s - loss: 0.5735 - accuracy: 0.6533 - val_loss: 0.5746 - val_accuracy: 0.6509\n",
      "Epoch 125/400\n",
      "282/282 - 0s - loss: 0.5732 - accuracy: 0.6537 - val_loss: 0.5755 - val_accuracy: 0.6481\n",
      "Epoch 126/400\n",
      "282/282 - 0s - loss: 0.5728 - accuracy: 0.6519 - val_loss: 0.5770 - val_accuracy: 0.6485\n",
      "Epoch 127/400\n",
      "282/282 - 0s - loss: 0.5727 - accuracy: 0.6519 - val_loss: 0.5758 - val_accuracy: 0.6502\n",
      "Epoch 128/400\n",
      "282/282 - 0s - loss: 0.5720 - accuracy: 0.6535 - val_loss: 0.5755 - val_accuracy: 0.6524\n",
      "Epoch 129/400\n",
      "282/282 - 0s - loss: 0.5714 - accuracy: 0.6537 - val_loss: 0.5792 - val_accuracy: 0.6501\n",
      "Epoch 130/400\n",
      "282/282 - 0s - loss: 0.5735 - accuracy: 0.6510 - val_loss: 0.5766 - val_accuracy: 0.6465\n",
      "Epoch 131/400\n",
      "282/282 - 0s - loss: 0.5736 - accuracy: 0.6526 - val_loss: 0.5749 - val_accuracy: 0.6504\n",
      "Epoch 132/400\n",
      "282/282 - 0s - loss: 0.5717 - accuracy: 0.6533 - val_loss: 0.5757 - val_accuracy: 0.6492\n",
      "Epoch 133/400\n",
      "282/282 - 0s - loss: 0.5737 - accuracy: 0.6526 - val_loss: 0.5744 - val_accuracy: 0.6496\n",
      "Epoch 134/400\n",
      "282/282 - 0s - loss: 0.5720 - accuracy: 0.6525 - val_loss: 0.5747 - val_accuracy: 0.6442\n",
      "Epoch 135/400\n",
      "282/282 - 0s - loss: 0.5729 - accuracy: 0.6517 - val_loss: 0.5747 - val_accuracy: 0.6495\n",
      "Epoch 136/400\n",
      "282/282 - 0s - loss: 0.5729 - accuracy: 0.6538 - val_loss: 0.5746 - val_accuracy: 0.6508\n",
      "Epoch 137/400\n",
      "282/282 - 0s - loss: 0.5722 - accuracy: 0.6522 - val_loss: 0.5743 - val_accuracy: 0.6518\n",
      "Epoch 138/400\n",
      "282/282 - 0s - loss: 0.5723 - accuracy: 0.6526 - val_loss: 0.5739 - val_accuracy: 0.6520\n",
      "Epoch 139/400\n",
      "282/282 - 0s - loss: 0.5731 - accuracy: 0.6536 - val_loss: 0.5754 - val_accuracy: 0.6455\n",
      "Epoch 140/400\n",
      "282/282 - 0s - loss: 0.5721 - accuracy: 0.6530 - val_loss: 0.5739 - val_accuracy: 0.6516\n",
      "Epoch 141/400\n",
      "282/282 - 0s - loss: 0.5730 - accuracy: 0.6532 - val_loss: 0.5754 - val_accuracy: 0.6488\n",
      "Epoch 142/400\n",
      "282/282 - 0s - loss: 0.5721 - accuracy: 0.6512 - val_loss: 0.5766 - val_accuracy: 0.6484\n",
      "Epoch 143/400\n",
      "282/282 - 0s - loss: 0.5722 - accuracy: 0.6532 - val_loss: 0.5801 - val_accuracy: 0.6481\n",
      "Epoch 144/400\n",
      "282/282 - 0s - loss: 0.5718 - accuracy: 0.6534 - val_loss: 0.5751 - val_accuracy: 0.6494\n",
      "Epoch 145/400\n",
      "282/282 - 0s - loss: 0.5719 - accuracy: 0.6536 - val_loss: 0.5727 - val_accuracy: 0.6518\n",
      "Epoch 146/400\n",
      "282/282 - 0s - loss: 0.5723 - accuracy: 0.6532 - val_loss: 0.5761 - val_accuracy: 0.6502\n",
      "Epoch 147/400\n",
      "282/282 - 0s - loss: 0.5716 - accuracy: 0.6543 - val_loss: 0.5745 - val_accuracy: 0.6515\n",
      "Epoch 148/400\n",
      "282/282 - 0s - loss: 0.5709 - accuracy: 0.6529 - val_loss: 0.5757 - val_accuracy: 0.6460\n",
      "Epoch 149/400\n",
      "282/282 - 0s - loss: 0.5713 - accuracy: 0.6534 - val_loss: 0.5757 - val_accuracy: 0.6481\n",
      "Epoch 150/400\n",
      "282/282 - 0s - loss: 0.5729 - accuracy: 0.6530 - val_loss: 0.5737 - val_accuracy: 0.6509\n",
      "Epoch 151/400\n",
      "282/282 - 0s - loss: 0.5718 - accuracy: 0.6535 - val_loss: 0.5760 - val_accuracy: 0.6454\n",
      "Epoch 152/400\n",
      "282/282 - 0s - loss: 0.5718 - accuracy: 0.6515 - val_loss: 0.5736 - val_accuracy: 0.6471\n",
      "Epoch 153/400\n",
      "282/282 - 0s - loss: 0.5715 - accuracy: 0.6546 - val_loss: 0.5734 - val_accuracy: 0.6486\n",
      "Epoch 154/400\n",
      "282/282 - 0s - loss: 0.5721 - accuracy: 0.6531 - val_loss: 0.5748 - val_accuracy: 0.6501\n",
      "Epoch 155/400\n",
      "282/282 - 0s - loss: 0.5717 - accuracy: 0.6521 - val_loss: 0.5755 - val_accuracy: 0.6490\n",
      "Epoch 156/400\n",
      "282/282 - 0s - loss: 0.5721 - accuracy: 0.6522 - val_loss: 0.5730 - val_accuracy: 0.6510\n",
      "Epoch 157/400\n",
      "282/282 - 0s - loss: 0.5716 - accuracy: 0.6529 - val_loss: 0.5730 - val_accuracy: 0.6479\n",
      "Epoch 158/400\n",
      "282/282 - 0s - loss: 0.5716 - accuracy: 0.6529 - val_loss: 0.5776 - val_accuracy: 0.6459\n",
      "Epoch 159/400\n",
      "282/282 - 0s - loss: 0.5717 - accuracy: 0.6527 - val_loss: 0.5728 - val_accuracy: 0.6504\n",
      "Epoch 160/400\n",
      "282/282 - 0s - loss: 0.5710 - accuracy: 0.6520 - val_loss: 0.5748 - val_accuracy: 0.6449\n",
      "Epoch 161/400\n",
      "282/282 - 0s - loss: 0.5716 - accuracy: 0.6535 - val_loss: 0.5742 - val_accuracy: 0.6488\n"
     ]
    },
    {
     "name": "stdout",
     "output_type": "stream",
     "text": [
      "Epoch 162/400\n",
      "282/282 - 0s - loss: 0.5709 - accuracy: 0.6519 - val_loss: 0.5740 - val_accuracy: 0.6502\n",
      "Epoch 163/400\n",
      "282/282 - 0s - loss: 0.5708 - accuracy: 0.6524 - val_loss: 0.5749 - val_accuracy: 0.6515\n",
      "Epoch 164/400\n",
      "282/282 - 0s - loss: 0.5717 - accuracy: 0.6542 - val_loss: 0.5737 - val_accuracy: 0.6491\n",
      "Epoch 165/400\n",
      "282/282 - 0s - loss: 0.5708 - accuracy: 0.6514 - val_loss: 0.5753 - val_accuracy: 0.6472\n",
      "Epoch 166/400\n",
      "282/282 - 0s - loss: 0.5716 - accuracy: 0.6534 - val_loss: 0.5738 - val_accuracy: 0.6498\n",
      "Epoch 167/400\n",
      "282/282 - 0s - loss: 0.5707 - accuracy: 0.6537 - val_loss: 0.5751 - val_accuracy: 0.6454\n",
      "Epoch 168/400\n",
      "282/282 - 0s - loss: 0.5704 - accuracy: 0.6527 - val_loss: 0.5747 - val_accuracy: 0.6479\n",
      "Epoch 169/400\n",
      "282/282 - 0s - loss: 0.5699 - accuracy: 0.6535 - val_loss: 0.5762 - val_accuracy: 0.6480\n",
      "Epoch 170/400\n",
      "282/282 - 0s - loss: 0.5707 - accuracy: 0.6520 - val_loss: 0.5768 - val_accuracy: 0.6476\n",
      "Epoch 171/400\n",
      "282/282 - 0s - loss: 0.5703 - accuracy: 0.6526 - val_loss: 0.5735 - val_accuracy: 0.6504\n",
      "Epoch 172/400\n",
      "282/282 - 0s - loss: 0.5710 - accuracy: 0.6529 - val_loss: 0.5741 - val_accuracy: 0.6498\n",
      "Epoch 173/400\n",
      "282/282 - 0s - loss: 0.5711 - accuracy: 0.6515 - val_loss: 0.5738 - val_accuracy: 0.6481\n",
      "Epoch 174/400\n",
      "282/282 - 0s - loss: 0.5705 - accuracy: 0.6518 - val_loss: 0.5740 - val_accuracy: 0.6478\n",
      "Epoch 175/400\n",
      "282/282 - 0s - loss: 0.5715 - accuracy: 0.6517 - val_loss: 0.5760 - val_accuracy: 0.6484\n",
      "Epoch 176/400\n",
      "282/282 - 0s - loss: 0.5711 - accuracy: 0.6519 - val_loss: 0.5751 - val_accuracy: 0.6499\n",
      "Epoch 177/400\n",
      "282/282 - 0s - loss: 0.5714 - accuracy: 0.6515 - val_loss: 0.5745 - val_accuracy: 0.6491\n",
      "Epoch 178/400\n",
      "282/282 - 0s - loss: 0.5711 - accuracy: 0.6526 - val_loss: 0.5742 - val_accuracy: 0.6491\n",
      "Epoch 179/400\n",
      "282/282 - 0s - loss: 0.5699 - accuracy: 0.6536 - val_loss: 0.5739 - val_accuracy: 0.6488\n",
      "Epoch 180/400\n",
      "282/282 - 0s - loss: 0.5705 - accuracy: 0.6535 - val_loss: 0.5746 - val_accuracy: 0.6488\n",
      "Epoch 181/400\n",
      "282/282 - 0s - loss: 0.5705 - accuracy: 0.6532 - val_loss: 0.5733 - val_accuracy: 0.6489\n",
      "Epoch 182/400\n",
      "282/282 - 0s - loss: 0.5705 - accuracy: 0.6533 - val_loss: 0.5738 - val_accuracy: 0.6472\n",
      "Epoch 183/400\n",
      "282/282 - 0s - loss: 0.5700 - accuracy: 0.6539 - val_loss: 0.5726 - val_accuracy: 0.6489\n",
      "Epoch 184/400\n",
      "282/282 - 0s - loss: 0.5702 - accuracy: 0.6527 - val_loss: 0.5760 - val_accuracy: 0.6482\n",
      "Epoch 185/400\n",
      "282/282 - 0s - loss: 0.5698 - accuracy: 0.6531 - val_loss: 0.5720 - val_accuracy: 0.6502\n",
      "Epoch 186/400\n",
      "282/282 - 0s - loss: 0.5704 - accuracy: 0.6522 - val_loss: 0.5757 - val_accuracy: 0.6510\n",
      "Epoch 187/400\n",
      "282/282 - 0s - loss: 0.5704 - accuracy: 0.6530 - val_loss: 0.5775 - val_accuracy: 0.6451\n",
      "Epoch 188/400\n",
      "282/282 - 0s - loss: 0.5694 - accuracy: 0.6537 - val_loss: 0.5742 - val_accuracy: 0.6492\n",
      "Epoch 189/400\n",
      "282/282 - 0s - loss: 0.5699 - accuracy: 0.6539 - val_loss: 0.5734 - val_accuracy: 0.6499\n",
      "Epoch 190/400\n",
      "282/282 - 0s - loss: 0.5698 - accuracy: 0.6537 - val_loss: 0.5742 - val_accuracy: 0.6504\n",
      "Epoch 191/400\n",
      "282/282 - 0s - loss: 0.5711 - accuracy: 0.6533 - val_loss: 0.5726 - val_accuracy: 0.6501\n",
      "Epoch 192/400\n",
      "282/282 - 0s - loss: 0.5703 - accuracy: 0.6524 - val_loss: 0.5769 - val_accuracy: 0.6472\n",
      "Epoch 193/400\n",
      "282/282 - 0s - loss: 0.5699 - accuracy: 0.6530 - val_loss: 0.5745 - val_accuracy: 0.6486\n",
      "Epoch 194/400\n",
      "282/282 - 0s - loss: 0.5696 - accuracy: 0.6540 - val_loss: 0.5715 - val_accuracy: 0.6502\n",
      "Epoch 195/400\n",
      "282/282 - 0s - loss: 0.5706 - accuracy: 0.6542 - val_loss: 0.5726 - val_accuracy: 0.6468\n",
      "Epoch 196/400\n",
      "282/282 - 0s - loss: 0.5694 - accuracy: 0.6533 - val_loss: 0.5729 - val_accuracy: 0.6509\n",
      "Epoch 197/400\n",
      "282/282 - 0s - loss: 0.5699 - accuracy: 0.6544 - val_loss: 0.5735 - val_accuracy: 0.6488\n",
      "Epoch 198/400\n",
      "282/282 - 0s - loss: 0.5699 - accuracy: 0.6541 - val_loss: 0.5774 - val_accuracy: 0.6459\n",
      "Epoch 199/400\n",
      "282/282 - 0s - loss: 0.5703 - accuracy: 0.6531 - val_loss: 0.5718 - val_accuracy: 0.6521\n",
      "Epoch 200/400\n",
      "282/282 - 0s - loss: 0.5691 - accuracy: 0.6532 - val_loss: 0.5747 - val_accuracy: 0.6496\n",
      "Epoch 201/400\n",
      "282/282 - 0s - loss: 0.5696 - accuracy: 0.6521 - val_loss: 0.5748 - val_accuracy: 0.6481\n",
      "Epoch 202/400\n",
      "282/282 - 0s - loss: 0.5696 - accuracy: 0.6531 - val_loss: 0.5743 - val_accuracy: 0.6482\n",
      "Epoch 203/400\n",
      "282/282 - 0s - loss: 0.5696 - accuracy: 0.6550 - val_loss: 0.5724 - val_accuracy: 0.6504\n",
      "Epoch 204/400\n",
      "282/282 - 0s - loss: 0.5699 - accuracy: 0.6530 - val_loss: 0.5779 - val_accuracy: 0.6432\n",
      "Epoch 205/400\n",
      "282/282 - 0s - loss: 0.5693 - accuracy: 0.6527 - val_loss: 0.5743 - val_accuracy: 0.6481\n",
      "Epoch 206/400\n",
      "282/282 - 0s - loss: 0.5686 - accuracy: 0.6543 - val_loss: 0.5772 - val_accuracy: 0.6471\n",
      "Epoch 207/400\n",
      "282/282 - 0s - loss: 0.5698 - accuracy: 0.6533 - val_loss: 0.5724 - val_accuracy: 0.6474\n",
      "Epoch 208/400\n",
      "282/282 - 0s - loss: 0.5696 - accuracy: 0.6528 - val_loss: 0.5737 - val_accuracy: 0.6494\n",
      "Epoch 209/400\n",
      "282/282 - 0s - loss: 0.5691 - accuracy: 0.6532 - val_loss: 0.5725 - val_accuracy: 0.6485\n",
      "Epoch 210/400\n",
      "282/282 - 0s - loss: 0.5694 - accuracy: 0.6529 - val_loss: 0.5742 - val_accuracy: 0.6478\n",
      "Epoch 211/400\n",
      "282/282 - 0s - loss: 0.5694 - accuracy: 0.6551 - val_loss: 0.5736 - val_accuracy: 0.6484\n",
      "Epoch 212/400\n",
      "282/282 - 0s - loss: 0.5690 - accuracy: 0.6521 - val_loss: 0.5736 - val_accuracy: 0.6474\n",
      "Epoch 213/400\n",
      "282/282 - 0s - loss: 0.5707 - accuracy: 0.6510 - val_loss: 0.5726 - val_accuracy: 0.6509\n",
      "Epoch 214/400\n",
      "282/282 - 0s - loss: 0.5689 - accuracy: 0.6538 - val_loss: 0.5710 - val_accuracy: 0.6498\n",
      "Epoch 215/400\n",
      "282/282 - 0s - loss: 0.5693 - accuracy: 0.6525 - val_loss: 0.5744 - val_accuracy: 0.6482\n",
      "Epoch 216/400\n",
      "282/282 - 0s - loss: 0.5695 - accuracy: 0.6529 - val_loss: 0.5728 - val_accuracy: 0.6508\n",
      "Epoch 217/400\n",
      "282/282 - 0s - loss: 0.5686 - accuracy: 0.6536 - val_loss: 0.5772 - val_accuracy: 0.6485\n",
      "Epoch 218/400\n",
      "282/282 - 0s - loss: 0.5688 - accuracy: 0.6527 - val_loss: 0.5730 - val_accuracy: 0.6490\n",
      "Epoch 219/400\n",
      "282/282 - 0s - loss: 0.5690 - accuracy: 0.6539 - val_loss: 0.5742 - val_accuracy: 0.6488\n",
      "Epoch 220/400\n",
      "282/282 - 0s - loss: 0.5684 - accuracy: 0.6531 - val_loss: 0.5729 - val_accuracy: 0.6471\n",
      "Epoch 221/400\n",
      "282/282 - 0s - loss: 0.5682 - accuracy: 0.6544 - val_loss: 0.5749 - val_accuracy: 0.6499\n",
      "Epoch 222/400\n",
      "282/282 - 0s - loss: 0.5693 - accuracy: 0.6541 - val_loss: 0.5734 - val_accuracy: 0.6481\n",
      "Epoch 223/400\n",
      "282/282 - 0s - loss: 0.5692 - accuracy: 0.6525 - val_loss: 0.5740 - val_accuracy: 0.6482\n",
      "Epoch 224/400\n",
      "282/282 - 0s - loss: 0.5683 - accuracy: 0.6530 - val_loss: 0.5715 - val_accuracy: 0.6502\n",
      "Epoch 225/400\n",
      "282/282 - 0s - loss: 0.5691 - accuracy: 0.6540 - val_loss: 0.5735 - val_accuracy: 0.6519\n",
      "Epoch 226/400\n",
      "282/282 - 0s - loss: 0.5692 - accuracy: 0.6532 - val_loss: 0.5742 - val_accuracy: 0.6476\n",
      "Epoch 227/400\n",
      "282/282 - 0s - loss: 0.5695 - accuracy: 0.6546 - val_loss: 0.5773 - val_accuracy: 0.6416\n",
      "Epoch 228/400\n",
      "282/282 - 0s - loss: 0.5687 - accuracy: 0.6516 - val_loss: 0.5749 - val_accuracy: 0.6479\n",
      "Epoch 229/400\n",
      "282/282 - 0s - loss: 0.5685 - accuracy: 0.6526 - val_loss: 0.5722 - val_accuracy: 0.6489\n",
      "Epoch 230/400\n",
      "282/282 - 0s - loss: 0.5685 - accuracy: 0.6545 - val_loss: 0.5760 - val_accuracy: 0.6444\n",
      "Epoch 231/400\n",
      "282/282 - 0s - loss: 0.5688 - accuracy: 0.6536 - val_loss: 0.5732 - val_accuracy: 0.6476\n",
      "Epoch 232/400\n",
      "282/282 - 0s - loss: 0.5683 - accuracy: 0.6527 - val_loss: 0.5721 - val_accuracy: 0.6501\n",
      "Epoch 233/400\n",
      "282/282 - 0s - loss: 0.5682 - accuracy: 0.6542 - val_loss: 0.5733 - val_accuracy: 0.6524\n",
      "Epoch 234/400\n",
      "282/282 - 0s - loss: 0.5690 - accuracy: 0.6531 - val_loss: 0.5772 - val_accuracy: 0.6486\n",
      "Epoch 235/400\n",
      "282/282 - 0s - loss: 0.5688 - accuracy: 0.6547 - val_loss: 0.5717 - val_accuracy: 0.6469\n",
      "Epoch 236/400\n",
      "282/282 - 0s - loss: 0.5684 - accuracy: 0.6549 - val_loss: 0.5736 - val_accuracy: 0.6455\n",
      "Epoch 237/400\n",
      "282/282 - 0s - loss: 0.5687 - accuracy: 0.6531 - val_loss: 0.5718 - val_accuracy: 0.6489\n",
      "Epoch 238/400\n",
      "282/282 - 0s - loss: 0.5677 - accuracy: 0.6534 - val_loss: 0.5745 - val_accuracy: 0.6475\n",
      "Epoch 239/400\n",
      "282/282 - 0s - loss: 0.5695 - accuracy: 0.6528 - val_loss: 0.5722 - val_accuracy: 0.6504\n",
      "Epoch 240/400\n",
      "282/282 - 0s - loss: 0.5675 - accuracy: 0.6547 - val_loss: 0.5714 - val_accuracy: 0.6501\n",
      "Epoch 241/400\n",
      "282/282 - 0s - loss: 0.5678 - accuracy: 0.6542 - val_loss: 0.5713 - val_accuracy: 0.6450\n"
     ]
    },
    {
     "name": "stdout",
     "output_type": "stream",
     "text": [
      "Epoch 242/400\n",
      "282/282 - 0s - loss: 0.5682 - accuracy: 0.6542 - val_loss: 0.5726 - val_accuracy: 0.6495\n",
      "Epoch 243/400\n",
      "282/282 - 0s - loss: 0.5689 - accuracy: 0.6530 - val_loss: 0.5725 - val_accuracy: 0.6450\n",
      "Epoch 244/400\n",
      "282/282 - 0s - loss: 0.5677 - accuracy: 0.6528 - val_loss: 0.5725 - val_accuracy: 0.6491\n",
      "Epoch 245/400\n",
      "282/282 - 0s - loss: 0.5681 - accuracy: 0.6544 - val_loss: 0.5733 - val_accuracy: 0.6490\n",
      "Epoch 246/400\n",
      "282/282 - 0s - loss: 0.5683 - accuracy: 0.6543 - val_loss: 0.5716 - val_accuracy: 0.6491\n",
      "Epoch 247/400\n",
      "282/282 - 0s - loss: 0.5680 - accuracy: 0.6531 - val_loss: 0.5701 - val_accuracy: 0.6531\n",
      "Epoch 248/400\n",
      "282/282 - 0s - loss: 0.5679 - accuracy: 0.6531 - val_loss: 0.5712 - val_accuracy: 0.6476\n",
      "Epoch 249/400\n",
      "282/282 - 0s - loss: 0.5687 - accuracy: 0.6531 - val_loss: 0.5735 - val_accuracy: 0.6489\n",
      "Epoch 250/400\n",
      "282/282 - 0s - loss: 0.5684 - accuracy: 0.6531 - val_loss: 0.5711 - val_accuracy: 0.6502\n",
      "Epoch 251/400\n",
      "282/282 - 0s - loss: 0.5679 - accuracy: 0.6528 - val_loss: 0.5722 - val_accuracy: 0.6491\n",
      "Epoch 252/400\n",
      "282/282 - 0s - loss: 0.5683 - accuracy: 0.6537 - val_loss: 0.5741 - val_accuracy: 0.6458\n",
      "Epoch 253/400\n",
      "282/282 - 0s - loss: 0.5677 - accuracy: 0.6541 - val_loss: 0.5712 - val_accuracy: 0.6465\n",
      "Epoch 254/400\n",
      "282/282 - 0s - loss: 0.5679 - accuracy: 0.6548 - val_loss: 0.5714 - val_accuracy: 0.6470\n",
      "Epoch 255/400\n",
      "282/282 - 0s - loss: 0.5680 - accuracy: 0.6530 - val_loss: 0.5723 - val_accuracy: 0.6520\n",
      "Epoch 256/400\n",
      "282/282 - 0s - loss: 0.5674 - accuracy: 0.6538 - val_loss: 0.5715 - val_accuracy: 0.6519\n",
      "Epoch 257/400\n",
      "282/282 - 0s - loss: 0.5672 - accuracy: 0.6529 - val_loss: 0.5706 - val_accuracy: 0.6524\n",
      "Epoch 258/400\n",
      "282/282 - 0s - loss: 0.5673 - accuracy: 0.6536 - val_loss: 0.5721 - val_accuracy: 0.6491\n",
      "Epoch 259/400\n",
      "282/282 - 0s - loss: 0.5702 - accuracy: 0.6534 - val_loss: 0.5720 - val_accuracy: 0.6496\n",
      "Epoch 260/400\n",
      "282/282 - 0s - loss: 0.5679 - accuracy: 0.6525 - val_loss: 0.5730 - val_accuracy: 0.6505\n",
      "Epoch 261/400\n",
      "282/282 - 0s - loss: 0.5677 - accuracy: 0.6545 - val_loss: 0.5732 - val_accuracy: 0.6519\n",
      "Epoch 262/400\n",
      "282/282 - 0s - loss: 0.5681 - accuracy: 0.6544 - val_loss: 0.5739 - val_accuracy: 0.6478\n",
      "Epoch 263/400\n",
      "282/282 - 0s - loss: 0.5680 - accuracy: 0.6525 - val_loss: 0.5713 - val_accuracy: 0.6518\n",
      "Epoch 264/400\n",
      "282/282 - 0s - loss: 0.5682 - accuracy: 0.6538 - val_loss: 0.5705 - val_accuracy: 0.6499\n",
      "Epoch 265/400\n",
      "282/282 - 0s - loss: 0.5672 - accuracy: 0.6534 - val_loss: 0.5722 - val_accuracy: 0.6495\n",
      "Epoch 266/400\n",
      "282/282 - 0s - loss: 0.5674 - accuracy: 0.6542 - val_loss: 0.5745 - val_accuracy: 0.6510\n",
      "Epoch 267/400\n",
      "282/282 - 0s - loss: 0.5677 - accuracy: 0.6536 - val_loss: 0.5704 - val_accuracy: 0.6515\n",
      "Epoch 268/400\n",
      "282/282 - 0s - loss: 0.5677 - accuracy: 0.6546 - val_loss: 0.5708 - val_accuracy: 0.6505\n",
      "Epoch 269/400\n",
      "282/282 - 0s - loss: 0.5676 - accuracy: 0.6529 - val_loss: 0.5723 - val_accuracy: 0.6446\n",
      "Epoch 270/400\n",
      "282/282 - 0s - loss: 0.5674 - accuracy: 0.6532 - val_loss: 0.5718 - val_accuracy: 0.6495\n",
      "Epoch 271/400\n",
      "282/282 - 0s - loss: 0.5664 - accuracy: 0.6541 - val_loss: 0.5705 - val_accuracy: 0.6516\n",
      "Epoch 272/400\n",
      "282/282 - 0s - loss: 0.5675 - accuracy: 0.6538 - val_loss: 0.5727 - val_accuracy: 0.6501\n",
      "Epoch 273/400\n",
      "282/282 - 0s - loss: 0.5676 - accuracy: 0.6545 - val_loss: 0.5703 - val_accuracy: 0.6494\n",
      "Epoch 274/400\n",
      "282/282 - 0s - loss: 0.5679 - accuracy: 0.6536 - val_loss: 0.5732 - val_accuracy: 0.6504\n",
      "Epoch 275/400\n",
      "282/282 - 0s - loss: 0.5676 - accuracy: 0.6532 - val_loss: 0.5711 - val_accuracy: 0.6514\n",
      "Epoch 276/400\n",
      "282/282 - 0s - loss: 0.5672 - accuracy: 0.6531 - val_loss: 0.5710 - val_accuracy: 0.6541\n",
      "Epoch 277/400\n",
      "282/282 - 0s - loss: 0.5673 - accuracy: 0.6544 - val_loss: 0.5740 - val_accuracy: 0.6482\n",
      "Epoch 278/400\n",
      "282/282 - 0s - loss: 0.5671 - accuracy: 0.6543 - val_loss: 0.5738 - val_accuracy: 0.6492\n",
      "Epoch 279/400\n",
      "282/282 - 0s - loss: 0.5679 - accuracy: 0.6535 - val_loss: 0.5730 - val_accuracy: 0.6518\n",
      "Epoch 280/400\n",
      "282/282 - 0s - loss: 0.5673 - accuracy: 0.6547 - val_loss: 0.5721 - val_accuracy: 0.6489\n",
      "Epoch 281/400\n",
      "282/282 - 0s - loss: 0.5666 - accuracy: 0.6547 - val_loss: 0.5711 - val_accuracy: 0.6455\n",
      "Epoch 282/400\n",
      "282/282 - 0s - loss: 0.5666 - accuracy: 0.6547 - val_loss: 0.5705 - val_accuracy: 0.6442\n",
      "Epoch 283/400\n",
      "282/282 - 0s - loss: 0.5663 - accuracy: 0.6524 - val_loss: 0.5708 - val_accuracy: 0.6500\n",
      "Epoch 284/400\n",
      "282/282 - 0s - loss: 0.5670 - accuracy: 0.6540 - val_loss: 0.5709 - val_accuracy: 0.6521\n",
      "Epoch 285/400\n",
      "282/282 - 0s - loss: 0.5681 - accuracy: 0.6531 - val_loss: 0.5702 - val_accuracy: 0.6514\n",
      "Epoch 286/400\n",
      "282/282 - 0s - loss: 0.5667 - accuracy: 0.6540 - val_loss: 0.5715 - val_accuracy: 0.6465\n",
      "Epoch 287/400\n",
      "282/282 - 0s - loss: 0.5670 - accuracy: 0.6533 - val_loss: 0.5718 - val_accuracy: 0.6509\n",
      "Epoch 288/400\n",
      "282/282 - 0s - loss: 0.5673 - accuracy: 0.6538 - val_loss: 0.5718 - val_accuracy: 0.6508\n",
      "Epoch 289/400\n",
      "282/282 - 0s - loss: 0.5664 - accuracy: 0.6529 - val_loss: 0.5703 - val_accuracy: 0.6504\n",
      "Epoch 290/400\n",
      "282/282 - 0s - loss: 0.5666 - accuracy: 0.6537 - val_loss: 0.5710 - val_accuracy: 0.6534\n",
      "Epoch 291/400\n",
      "282/282 - 0s - loss: 0.5664 - accuracy: 0.6548 - val_loss: 0.5698 - val_accuracy: 0.6518\n",
      "Epoch 292/400\n",
      "282/282 - 0s - loss: 0.5675 - accuracy: 0.6538 - val_loss: 0.5756 - val_accuracy: 0.6458\n",
      "Epoch 293/400\n",
      "282/282 - 0s - loss: 0.5679 - accuracy: 0.6536 - val_loss: 0.5735 - val_accuracy: 0.6451\n",
      "Epoch 294/400\n",
      "282/282 - 0s - loss: 0.5668 - accuracy: 0.6534 - val_loss: 0.5719 - val_accuracy: 0.6496\n",
      "Epoch 295/400\n",
      "282/282 - 0s - loss: 0.5665 - accuracy: 0.6531 - val_loss: 0.5724 - val_accuracy: 0.6462\n",
      "Epoch 296/400\n",
      "282/282 - 0s - loss: 0.5669 - accuracy: 0.6536 - val_loss: 0.5702 - val_accuracy: 0.6519\n",
      "Epoch 297/400\n",
      "282/282 - 0s - loss: 0.5669 - accuracy: 0.6534 - val_loss: 0.5716 - val_accuracy: 0.6511\n",
      "Epoch 298/400\n",
      "282/282 - 0s - loss: 0.5662 - accuracy: 0.6545 - val_loss: 0.5703 - val_accuracy: 0.6528\n",
      "Epoch 299/400\n",
      "282/282 - 0s - loss: 0.5674 - accuracy: 0.6540 - val_loss: 0.5703 - val_accuracy: 0.6524\n",
      "Epoch 300/400\n",
      "282/282 - 0s - loss: 0.5671 - accuracy: 0.6522 - val_loss: 0.5710 - val_accuracy: 0.6502\n",
      "Epoch 301/400\n",
      "282/282 - 0s - loss: 0.5666 - accuracy: 0.6541 - val_loss: 0.5723 - val_accuracy: 0.6528\n",
      "Epoch 302/400\n",
      "282/282 - 0s - loss: 0.5657 - accuracy: 0.6550 - val_loss: 0.5709 - val_accuracy: 0.6526\n",
      "Epoch 303/400\n",
      "282/282 - 0s - loss: 0.5670 - accuracy: 0.6538 - val_loss: 0.5720 - val_accuracy: 0.6508\n",
      "Epoch 304/400\n",
      "282/282 - 0s - loss: 0.5662 - accuracy: 0.6543 - val_loss: 0.5706 - val_accuracy: 0.6521\n",
      "Epoch 305/400\n",
      "282/282 - 0s - loss: 0.5664 - accuracy: 0.6553 - val_loss: 0.5707 - val_accuracy: 0.6530\n",
      "Epoch 306/400\n",
      "282/282 - 0s - loss: 0.5665 - accuracy: 0.6538 - val_loss: 0.5730 - val_accuracy: 0.6508\n",
      "Epoch 307/400\n",
      "282/282 - 0s - loss: 0.5672 - accuracy: 0.6531 - val_loss: 0.5707 - val_accuracy: 0.6514\n",
      "Epoch 308/400\n",
      "282/282 - 0s - loss: 0.5659 - accuracy: 0.6535 - val_loss: 0.5723 - val_accuracy: 0.6508\n",
      "Epoch 309/400\n",
      "282/282 - 0s - loss: 0.5665 - accuracy: 0.6537 - val_loss: 0.5719 - val_accuracy: 0.6469\n",
      "Epoch 310/400\n",
      "282/282 - 0s - loss: 0.5667 - accuracy: 0.6539 - val_loss: 0.5702 - val_accuracy: 0.6495\n",
      "Epoch 311/400\n",
      "282/282 - 0s - loss: 0.5668 - accuracy: 0.6544 - val_loss: 0.5698 - val_accuracy: 0.6494\n",
      "Epoch 312/400\n",
      "282/282 - 0s - loss: 0.5664 - accuracy: 0.6545 - val_loss: 0.5751 - val_accuracy: 0.6500\n",
      "Epoch 313/400\n",
      "282/282 - 0s - loss: 0.5670 - accuracy: 0.6548 - val_loss: 0.5714 - val_accuracy: 0.6445\n",
      "Epoch 314/400\n",
      "282/282 - 0s - loss: 0.5657 - accuracy: 0.6550 - val_loss: 0.5720 - val_accuracy: 0.6505\n",
      "Epoch 315/400\n",
      "282/282 - 0s - loss: 0.5660 - accuracy: 0.6553 - val_loss: 0.5705 - val_accuracy: 0.6510\n",
      "Epoch 316/400\n",
      "282/282 - 0s - loss: 0.5664 - accuracy: 0.6544 - val_loss: 0.5713 - val_accuracy: 0.6484\n",
      "Epoch 317/400\n",
      "282/282 - 0s - loss: 0.5675 - accuracy: 0.6540 - val_loss: 0.5738 - val_accuracy: 0.6462\n",
      "Epoch 318/400\n",
      "282/282 - 0s - loss: 0.5666 - accuracy: 0.6539 - val_loss: 0.5696 - val_accuracy: 0.6520\n",
      "Epoch 319/400\n",
      "282/282 - 0s - loss: 0.5661 - accuracy: 0.6554 - val_loss: 0.5706 - val_accuracy: 0.6478\n",
      "Epoch 320/400\n",
      "282/282 - 0s - loss: 0.5653 - accuracy: 0.6550 - val_loss: 0.5711 - val_accuracy: 0.6469\n",
      "Epoch 321/400\n",
      "282/282 - 0s - loss: 0.5670 - accuracy: 0.6552 - val_loss: 0.5697 - val_accuracy: 0.6525\n"
     ]
    },
    {
     "name": "stdout",
     "output_type": "stream",
     "text": [
      "Epoch 322/400\n",
      "282/282 - 0s - loss: 0.5662 - accuracy: 0.6541 - val_loss: 0.5713 - val_accuracy: 0.6458\n",
      "Epoch 323/400\n",
      "282/282 - 0s - loss: 0.5659 - accuracy: 0.6556 - val_loss: 0.5723 - val_accuracy: 0.6476\n",
      "Epoch 324/400\n",
      "282/282 - 0s - loss: 0.5670 - accuracy: 0.6536 - val_loss: 0.5714 - val_accuracy: 0.6548\n",
      "Epoch 325/400\n",
      "282/282 - 0s - loss: 0.5655 - accuracy: 0.6549 - val_loss: 0.5704 - val_accuracy: 0.6538\n",
      "Epoch 326/400\n",
      "282/282 - 0s - loss: 0.5656 - accuracy: 0.6540 - val_loss: 0.5697 - val_accuracy: 0.6508\n",
      "Epoch 327/400\n",
      "282/282 - 0s - loss: 0.5660 - accuracy: 0.6551 - val_loss: 0.5748 - val_accuracy: 0.6509\n",
      "Epoch 328/400\n",
      "282/282 - 0s - loss: 0.5664 - accuracy: 0.6544 - val_loss: 0.5740 - val_accuracy: 0.6490\n",
      "Epoch 329/400\n",
      "282/282 - 0s - loss: 0.5659 - accuracy: 0.6550 - val_loss: 0.5715 - val_accuracy: 0.6501\n",
      "Epoch 330/400\n",
      "282/282 - 0s - loss: 0.5660 - accuracy: 0.6549 - val_loss: 0.5711 - val_accuracy: 0.6509\n",
      "Epoch 331/400\n",
      "282/282 - 0s - loss: 0.5663 - accuracy: 0.6536 - val_loss: 0.5719 - val_accuracy: 0.6512\n",
      "Epoch 332/400\n",
      "282/282 - 0s - loss: 0.5666 - accuracy: 0.6541 - val_loss: 0.5721 - val_accuracy: 0.6471\n",
      "Epoch 333/400\n",
      "282/282 - 0s - loss: 0.5672 - accuracy: 0.6538 - val_loss: 0.5753 - val_accuracy: 0.6496\n",
      "Epoch 334/400\n",
      "282/282 - 0s - loss: 0.5664 - accuracy: 0.6552 - val_loss: 0.5709 - val_accuracy: 0.6498\n",
      "Epoch 335/400\n",
      "282/282 - 0s - loss: 0.5657 - accuracy: 0.6537 - val_loss: 0.5726 - val_accuracy: 0.6511\n",
      "Epoch 336/400\n",
      "282/282 - 0s - loss: 0.5662 - accuracy: 0.6551 - val_loss: 0.5739 - val_accuracy: 0.6478\n",
      "Epoch 337/400\n",
      "282/282 - 0s - loss: 0.5662 - accuracy: 0.6541 - val_loss: 0.5728 - val_accuracy: 0.6479\n",
      "Epoch 338/400\n",
      "282/282 - 0s - loss: 0.5663 - accuracy: 0.6537 - val_loss: 0.5720 - val_accuracy: 0.6489\n",
      "Epoch 339/400\n",
      "282/282 - 0s - loss: 0.5660 - accuracy: 0.6555 - val_loss: 0.5695 - val_accuracy: 0.6509\n",
      "Epoch 340/400\n",
      "282/282 - 0s - loss: 0.5658 - accuracy: 0.6543 - val_loss: 0.5712 - val_accuracy: 0.6512\n",
      "Epoch 341/400\n",
      "282/282 - 0s - loss: 0.5662 - accuracy: 0.6542 - val_loss: 0.5715 - val_accuracy: 0.6528\n",
      "Epoch 342/400\n",
      "282/282 - 0s - loss: 0.5659 - accuracy: 0.6540 - val_loss: 0.5710 - val_accuracy: 0.6524\n",
      "Epoch 343/400\n",
      "282/282 - 0s - loss: 0.5660 - accuracy: 0.6547 - val_loss: 0.5717 - val_accuracy: 0.6516\n",
      "Epoch 344/400\n",
      "282/282 - 0s - loss: 0.5659 - accuracy: 0.6543 - val_loss: 0.5706 - val_accuracy: 0.6498\n",
      "Epoch 345/400\n",
      "282/282 - 0s - loss: 0.5659 - accuracy: 0.6534 - val_loss: 0.5693 - val_accuracy: 0.6534\n",
      "Epoch 346/400\n",
      "282/282 - 0s - loss: 0.5653 - accuracy: 0.6557 - val_loss: 0.5706 - val_accuracy: 0.6498\n",
      "Epoch 347/400\n",
      "282/282 - 0s - loss: 0.5667 - accuracy: 0.6548 - val_loss: 0.5711 - val_accuracy: 0.6468\n",
      "Epoch 348/400\n",
      "282/282 - 0s - loss: 0.5652 - accuracy: 0.6558 - val_loss: 0.5692 - val_accuracy: 0.6496\n",
      "Epoch 349/400\n",
      "282/282 - 0s - loss: 0.5658 - accuracy: 0.6560 - val_loss: 0.5721 - val_accuracy: 0.6484\n",
      "Epoch 350/400\n",
      "282/282 - 0s - loss: 0.5660 - accuracy: 0.6566 - val_loss: 0.5712 - val_accuracy: 0.6462\n",
      "Epoch 351/400\n",
      "282/282 - 0s - loss: 0.5659 - accuracy: 0.6546 - val_loss: 0.5694 - val_accuracy: 0.6536\n",
      "Epoch 352/400\n",
      "282/282 - 0s - loss: 0.5660 - accuracy: 0.6553 - val_loss: 0.5695 - val_accuracy: 0.6524\n",
      "Epoch 353/400\n",
      "282/282 - 0s - loss: 0.5658 - accuracy: 0.6536 - val_loss: 0.5702 - val_accuracy: 0.6548\n",
      "Epoch 354/400\n",
      "282/282 - 0s - loss: 0.5657 - accuracy: 0.6532 - val_loss: 0.5738 - val_accuracy: 0.6522\n",
      "Epoch 355/400\n",
      "282/282 - 0s - loss: 0.5658 - accuracy: 0.6545 - val_loss: 0.5712 - val_accuracy: 0.6482\n",
      "Epoch 356/400\n",
      "282/282 - 0s - loss: 0.5654 - accuracy: 0.6535 - val_loss: 0.5702 - val_accuracy: 0.6498\n",
      "Epoch 357/400\n",
      "282/282 - 0s - loss: 0.5660 - accuracy: 0.6546 - val_loss: 0.5702 - val_accuracy: 0.6541\n",
      "Epoch 358/400\n",
      "282/282 - 0s - loss: 0.5651 - accuracy: 0.6550 - val_loss: 0.5727 - val_accuracy: 0.6508\n",
      "Epoch 359/400\n",
      "282/282 - 0s - loss: 0.5657 - accuracy: 0.6555 - val_loss: 0.5722 - val_accuracy: 0.6476\n",
      "Epoch 360/400\n",
      "282/282 - 0s - loss: 0.5653 - accuracy: 0.6560 - val_loss: 0.5695 - val_accuracy: 0.6540\n",
      "Epoch 361/400\n",
      "282/282 - 0s - loss: 0.5665 - accuracy: 0.6541 - val_loss: 0.5724 - val_accuracy: 0.6479\n",
      "Epoch 362/400\n",
      "282/282 - 0s - loss: 0.5656 - accuracy: 0.6543 - val_loss: 0.5725 - val_accuracy: 0.6502\n",
      "Epoch 363/400\n",
      "282/282 - 0s - loss: 0.5657 - accuracy: 0.6528 - val_loss: 0.5714 - val_accuracy: 0.6505\n",
      "Epoch 364/400\n",
      "282/282 - 0s - loss: 0.5656 - accuracy: 0.6543 - val_loss: 0.5690 - val_accuracy: 0.6505\n",
      "Epoch 365/400\n",
      "282/282 - 0s - loss: 0.5663 - accuracy: 0.6558 - val_loss: 0.5697 - val_accuracy: 0.6499\n",
      "Epoch 366/400\n",
      "282/282 - 0s - loss: 0.5652 - accuracy: 0.6529 - val_loss: 0.5721 - val_accuracy: 0.6460\n",
      "Epoch 367/400\n",
      "282/282 - 0s - loss: 0.5668 - accuracy: 0.6533 - val_loss: 0.5721 - val_accuracy: 0.6521\n",
      "Epoch 368/400\n",
      "282/282 - 0s - loss: 0.5663 - accuracy: 0.6531 - val_loss: 0.5713 - val_accuracy: 0.6505\n",
      "Epoch 369/400\n",
      "282/282 - 0s - loss: 0.5662 - accuracy: 0.6537 - val_loss: 0.5689 - val_accuracy: 0.6506\n",
      "Epoch 370/400\n",
      "282/282 - 0s - loss: 0.5648 - accuracy: 0.6552 - val_loss: 0.5724 - val_accuracy: 0.6512\n",
      "Epoch 371/400\n",
      "282/282 - 0s - loss: 0.5655 - accuracy: 0.6537 - val_loss: 0.5718 - val_accuracy: 0.6518\n",
      "Epoch 372/400\n",
      "282/282 - 0s - loss: 0.5657 - accuracy: 0.6549 - val_loss: 0.5718 - val_accuracy: 0.6466\n",
      "Epoch 373/400\n",
      "282/282 - 0s - loss: 0.5660 - accuracy: 0.6550 - val_loss: 0.5717 - val_accuracy: 0.6520\n",
      "Epoch 374/400\n",
      "282/282 - 0s - loss: 0.5655 - accuracy: 0.6543 - val_loss: 0.5715 - val_accuracy: 0.6486\n",
      "Epoch 375/400\n",
      "282/282 - 0s - loss: 0.5650 - accuracy: 0.6547 - val_loss: 0.5695 - val_accuracy: 0.6500\n",
      "Epoch 376/400\n",
      "282/282 - 0s - loss: 0.5654 - accuracy: 0.6557 - val_loss: 0.5697 - val_accuracy: 0.6535\n",
      "Epoch 377/400\n",
      "282/282 - 0s - loss: 0.5656 - accuracy: 0.6563 - val_loss: 0.5733 - val_accuracy: 0.6464\n",
      "Epoch 378/400\n",
      "282/282 - 0s - loss: 0.5654 - accuracy: 0.6539 - val_loss: 0.5707 - val_accuracy: 0.6519\n",
      "Epoch 379/400\n",
      "282/282 - 0s - loss: 0.5647 - accuracy: 0.6555 - val_loss: 0.5712 - val_accuracy: 0.6514\n",
      "Epoch 380/400\n",
      "282/282 - 0s - loss: 0.5664 - accuracy: 0.6547 - val_loss: 0.5714 - val_accuracy: 0.6528\n",
      "Epoch 381/400\n",
      "282/282 - 0s - loss: 0.5650 - accuracy: 0.6548 - val_loss: 0.5692 - val_accuracy: 0.6538\n",
      "Epoch 382/400\n",
      "282/282 - 0s - loss: 0.5652 - accuracy: 0.6560 - val_loss: 0.5717 - val_accuracy: 0.6505\n",
      "Epoch 383/400\n",
      "282/282 - 0s - loss: 0.5659 - accuracy: 0.6533 - val_loss: 0.5695 - val_accuracy: 0.6521\n",
      "Epoch 384/400\n",
      "282/282 - 0s - loss: 0.5655 - accuracy: 0.6545 - val_loss: 0.5708 - val_accuracy: 0.6532\n",
      "Epoch 385/400\n",
      "282/282 - 0s - loss: 0.5657 - accuracy: 0.6549 - val_loss: 0.5720 - val_accuracy: 0.6506\n",
      "Epoch 386/400\n",
      "282/282 - 0s - loss: 0.5655 - accuracy: 0.6544 - val_loss: 0.5715 - val_accuracy: 0.6508\n",
      "Epoch 387/400\n",
      "282/282 - 0s - loss: 0.5652 - accuracy: 0.6557 - val_loss: 0.5706 - val_accuracy: 0.6446\n",
      "Epoch 388/400\n",
      "282/282 - 0s - loss: 0.5650 - accuracy: 0.6536 - val_loss: 0.5705 - val_accuracy: 0.6521\n",
      "Epoch 389/400\n",
      "282/282 - 0s - loss: 0.5649 - accuracy: 0.6548 - val_loss: 0.5733 - val_accuracy: 0.6506\n",
      "Epoch 390/400\n",
      "282/282 - 0s - loss: 0.5646 - accuracy: 0.6544 - val_loss: 0.5705 - val_accuracy: 0.6526\n",
      "Epoch 391/400\n",
      "282/282 - 0s - loss: 0.5646 - accuracy: 0.6537 - val_loss: 0.5711 - val_accuracy: 0.6499\n",
      "Epoch 392/400\n",
      "282/282 - 0s - loss: 0.5651 - accuracy: 0.6533 - val_loss: 0.5693 - val_accuracy: 0.6515\n",
      "Epoch 393/400\n",
      "282/282 - 0s - loss: 0.5654 - accuracy: 0.6547 - val_loss: 0.5707 - val_accuracy: 0.6524\n",
      "Epoch 394/400\n",
      "282/282 - 0s - loss: 0.5655 - accuracy: 0.6541 - val_loss: 0.5729 - val_accuracy: 0.6520\n",
      "Epoch 395/400\n",
      "282/282 - 0s - loss: 0.5662 - accuracy: 0.6540 - val_loss: 0.5720 - val_accuracy: 0.6469\n",
      "Epoch 396/400\n",
      "282/282 - 0s - loss: 0.5657 - accuracy: 0.6544 - val_loss: 0.5706 - val_accuracy: 0.6498\n",
      "Epoch 397/400\n",
      "282/282 - 0s - loss: 0.5651 - accuracy: 0.6541 - val_loss: 0.5711 - val_accuracy: 0.6512\n",
      "Epoch 398/400\n",
      "282/282 - 0s - loss: 0.5649 - accuracy: 0.6539 - val_loss: 0.5711 - val_accuracy: 0.6508\n",
      "Epoch 399/400\n",
      "282/282 - 0s - loss: 0.5644 - accuracy: 0.6548 - val_loss: 0.5701 - val_accuracy: 0.6509\n",
      "Epoch 400/400\n",
      "282/282 - 0s - loss: 0.5653 - accuracy: 0.6545 - val_loss: 0.5709 - val_accuracy: 0.6471\n"
     ]
    },
    {
     "data": {
      "text/plain": [
       "<tensorflow.python.keras.callbacks.History at 0x7f9fe005e490>"
      ]
     },
     "execution_count": 196,
     "metadata": {},
     "output_type": "execute_result"
    }
   ],
   "source": [
    "model.fit(X_train, y_train_cat, epochs=400, validation_split=0.1, batch_size=256, verbose=2)"
   ]
  },
  {
   "cell_type": "code",
   "execution_count": 197,
   "metadata": {
    "ExecuteTime": {
     "end_time": "2020-10-06T17:48:48.754196Z",
     "start_time": "2020-10-06T17:48:48.576798Z"
    }
   },
   "outputs": [],
   "source": [
    "pred_test = model.predict(X_test)\n",
    "y_classes = pred_test.argmax(axis=-1)"
   ]
  },
  {
   "cell_type": "code",
   "execution_count": 198,
   "metadata": {
    "ExecuteTime": {
     "end_time": "2020-10-06T17:48:48.777438Z",
     "start_time": "2020-10-06T17:48:48.755173Z"
    }
   },
   "outputs": [
    {
     "name": "stdout",
     "output_type": "stream",
     "text": [
      "              precision    recall  f1-score   support\n",
      "\n",
      "           0       0.68      0.60      0.63      9938\n",
      "           1       0.64      0.72      0.68     10062\n",
      "\n",
      "    accuracy                           0.66     20000\n",
      "   macro avg       0.66      0.66      0.66     20000\n",
      "weighted avg       0.66      0.66      0.66     20000\n",
      "\n"
     ]
    }
   ],
   "source": [
    "print(classification_report(y_test, y_classes))"
   ]
  },
  {
   "cell_type": "code",
   "execution_count": null,
   "metadata": {},
   "outputs": [],
   "source": []
  }
 ],
 "metadata": {
  "kernelspec": {
   "display_name": "Python 3",
   "language": "python",
   "name": "python3"
  },
  "language_info": {
   "codemirror_mode": {
    "name": "ipython",
    "version": 3
   },
   "file_extension": ".py",
   "mimetype": "text/x-python",
   "name": "python",
   "nbconvert_exporter": "python",
   "pygments_lexer": "ipython3",
   "version": "3.7.9"
  },
  "toc": {
   "base_numbering": 1,
   "nav_menu": {},
   "number_sections": true,
   "sideBar": true,
   "skip_h1_title": false,
   "title_cell": "Table of Contents",
   "title_sidebar": "Contents",
   "toc_cell": false,
   "toc_position": {
    "height": "calc(100% - 180px)",
    "left": "10px",
    "top": "150px",
    "width": "252.813px"
   },
   "toc_section_display": true,
   "toc_window_display": true
  }
 },
 "nbformat": 4,
 "nbformat_minor": 4
}
