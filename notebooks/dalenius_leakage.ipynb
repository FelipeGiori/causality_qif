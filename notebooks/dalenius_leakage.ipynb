{
 "cells": [
  {
   "cell_type": "code",
   "execution_count": 1,
   "id": "609111e9-0d38-4f13-a949-33fccd709055",
   "metadata": {},
   "outputs": [],
   "source": [
    "import qif\n",
    "import numpy as np"
   ]
  },
  {
   "cell_type": "code",
   "execution_count": 14,
   "id": "21789f31-08cc-44fa-85d5-c09097d49e4e",
   "metadata": {},
   "outputs": [
    {
     "name": "stdout",
     "output_type": "stream",
     "text": [
      "[[0.75 0.25]\n",
      " [0.25 0.75]]\n"
     ]
    }
   ],
   "source": [
    "# Define C\n",
    "# C = np.array(([1, 0], [0, 1], [1, 0], [0, 1]))\n",
    "C = np.array(([3/4, 1/4], [1/4, 3/4]))\n",
    "print(C)"
   ]
  },
  {
   "cell_type": "code",
   "execution_count": 15,
   "id": "74086b5a-bdec-46e1-8525-f62b9f8d7d72",
   "metadata": {},
   "outputs": [
    {
     "name": "stdout",
     "output_type": "stream",
     "text": [
      "[[0.4        0.26666667]\n",
      " [0.06666667 0.26666667]]\n"
     ]
    }
   ],
   "source": [
    "# Define J\n",
    "# J = np.array(([1/8, 1/16, 1/4, 1/16], [1/16, 1/4, 1/16, 1/8]))\n",
    "J = np.array(([6/15, 4/15], [1/15, 4/15]))\n",
    "print(J)"
   ]
  },
  {
   "cell_type": "code",
   "execution_count": 17,
   "id": "2944be54-1516-4b38-a9f0-72b70fb8574e",
   "metadata": {},
   "outputs": [
    {
     "name": "stdout",
     "output_type": "stream",
     "text": [
      "[0.66666667 0.33333333]\n",
      "[0.46666667 0.53333333]\n"
     ]
    }
   ],
   "source": [
    "rho = J.sum(axis=1)\n",
    "pi = J.sum(axis=0)\n",
    "print(rho)\n",
    "print(pi)"
   ]
  },
  {
   "cell_type": "code",
   "execution_count": 18,
   "id": "199a4d5e-7e16-4eb8-8161-9fc2dc136ea4",
   "metadata": {},
   "outputs": [
    {
     "data": {
      "text/plain": [
       "1.40625"
      ]
     },
     "execution_count": 18,
     "metadata": {},
     "output_type": "execute_result"
    }
   ],
   "source": [
    "qif.measure.bayes_vuln.mult_leakage(pi, C)"
   ]
  },
  {
   "cell_type": "code",
   "execution_count": 19,
   "id": "31ae1110-0a16-4c84-9541-3436c245511f",
   "metadata": {},
   "outputs": [
    {
     "name": "stdout",
     "output_type": "stream",
     "text": [
      "[[0.6 0.4]\n",
      " [0.2 0.8]]\n"
     ]
    }
   ],
   "source": [
    "B = J/rho.reshape(-1, 1)\n",
    "print(B)"
   ]
  },
  {
   "cell_type": "code",
   "execution_count": 20,
   "id": "cb237cf6-54f8-451d-a51d-c8c83346e877",
   "metadata": {},
   "outputs": [
    {
     "name": "stdout",
     "output_type": "stream",
     "text": [
      "[[0.55 0.45]\n",
      " [0.35 0.65]]\n"
     ]
    }
   ],
   "source": [
    "BC = B.dot(C)\n",
    "print(BC)"
   ]
  },
  {
   "cell_type": "code",
   "execution_count": 21,
   "id": "46c97a9a-dbf5-4316-bd20-3caa9dac023f",
   "metadata": {},
   "outputs": [
    {
     "data": {
      "text/plain": [
       "0.9999999999999999"
      ]
     },
     "execution_count": 21,
     "metadata": {},
     "output_type": "execute_result"
    }
   ],
   "source": [
    "qif.measure.bayes_vuln.mult_leakage(rho, BC)"
   ]
  },
  {
   "cell_type": "code",
   "execution_count": null,
   "id": "e3d6612d-8857-4bf4-990c-73cff362d45b",
   "metadata": {},
   "outputs": [],
   "source": []
  }
 ],
 "metadata": {
  "kernelspec": {
   "display_name": "Python 3 (ipykernel)",
   "language": "python",
   "name": "python3"
  },
  "language_info": {
   "codemirror_mode": {
    "name": "ipython",
    "version": 3
   },
   "file_extension": ".py",
   "mimetype": "text/x-python",
   "name": "python",
   "nbconvert_exporter": "python",
   "pygments_lexer": "ipython3",
   "version": "3.9.6"
  }
 },
 "nbformat": 4,
 "nbformat_minor": 5
}
