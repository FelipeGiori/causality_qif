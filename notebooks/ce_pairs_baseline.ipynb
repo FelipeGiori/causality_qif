{
 "cells": [
  {
   "cell_type": "code",
   "execution_count": 1,
   "metadata": {},
   "outputs": [
    {
     "name": "stderr",
     "output_type": "stream",
     "text": [
      "No GPU automatically detected. Setting SETTINGS.GPU to 0, and SETTINGS.NJOBS to cpu_count.\n"
     ]
    }
   ],
   "source": [
    "import cdt\n",
    "import pandas as pd\n",
    "\n",
    "from tqdm import tqdm\n",
    "\n",
    "import sys\n",
    "sys.path.append(\"..\")\n",
    "from mestrado.datasets import load_ce_pairs\n",
    "\n",
    "cdt.SETTINGS.NJOBS = 6"
   ]
  },
  {
   "cell_type": "code",
   "execution_count": 2,
   "metadata": {},
   "outputs": [],
   "source": [
    "ce_pairs_list = load_ce_pairs(sup=False)"
   ]
  },
  {
   "cell_type": "code",
   "execution_count": 9,
   "metadata": {},
   "outputs": [
    {
     "name": "stderr",
     "output_type": "stream",
     "text": [
      "100%|██████████| 4050/4050 [00:00<00:00, 149034.31it/s]\n"
     ]
    }
   ],
   "source": [
    "data = []\n",
    "\n",
    "for ce_pair in tqdm(ce_pairs_list):\n",
    "    ce_pair_dict = {}\n",
    "    ce_pair_dict['a'] = ce_pair.data['a'].values\n",
    "    ce_pair_dict['b'] = ce_pair.data['b'].values\n",
    "    ce_pair_dict['target'] = ce_pair.target\n",
    "    ce_pair_dict['details'] = ce_pair.details\n",
    "    ce_pair_dict['a_type'] = ce_pair.a_type\n",
    "    ce_pair_dict['b_type'] = ce_pair.b_type\n",
    "    data.append(ce_pair_dict)\n",
    "    \n",
    "df = pd.DataFrame(data)\n",
    "df.to_parquet(\"ce_pairs_final_cdt.parquet\")"
   ]
  },
  {
   "cell_type": "code",
   "execution_count": 10,
   "metadata": {},
   "outputs": [],
   "source": [
    "df_numerical = df.query(\"a_type == 'Numerical' and b_type == 'Numerical'\").copy()"
   ]
  },
  {
   "cell_type": "markdown",
   "metadata": {},
   "source": [
    "## ANM"
   ]
  },
  {
   "cell_type": "code",
   "execution_count": 11,
   "metadata": {},
   "outputs": [],
   "source": [
    "from cdt.causality.pairwise import ANM"
   ]
  },
  {
   "cell_type": "code",
   "execution_count": 12,
   "metadata": {},
   "outputs": [],
   "source": [
    "anm = ANM()"
   ]
  },
  {
   "cell_type": "code",
   "execution_count": 13,
   "metadata": {},
   "outputs": [],
   "source": [
    "df_train = df_numerical[['a', 'b']].copy()"
   ]
  },
  {
   "cell_type": "code",
   "execution_count": 14,
   "metadata": {},
   "outputs": [],
   "source": [
    "y_pred = anm.predict(df_train)"
   ]
  },
  {
   "cell_type": "markdown",
   "metadata": {},
   "source": [
    "## Bivariate Fit"
   ]
  },
  {
   "cell_type": "code",
   "execution_count": 6,
   "metadata": {},
   "outputs": [],
   "source": [
    "from cdt.causality.pairwise import BivariateFit"
   ]
  },
  {
   "cell_type": "code",
   "execution_count": 7,
   "metadata": {},
   "outputs": [],
   "source": [
    "bvf = BivariateFit()"
   ]
  },
  {
   "cell_type": "code",
   "execution_count": 8,
   "metadata": {},
   "outputs": [],
   "source": [
    "df_train = df_numerical[['a', 'b']].copy()\n",
    "\n",
    "y_pred = bvf.predict(df_train)"
   ]
  }
 ],
 "metadata": {
  "interpreter": {
   "hash": "fae1aefc6119ff414718c8e8d464e5227e9c640678ffc36de175ad64afffa2f9"
  },
  "kernelspec": {
   "display_name": "Python 3.9.10 ('ds')",
   "language": "python",
   "name": "python3"
  },
  "language_info": {
   "codemirror_mode": {
    "name": "ipython",
    "version": 3
   },
   "file_extension": ".py",
   "mimetype": "text/x-python",
   "name": "python",
   "nbconvert_exporter": "python",
   "pygments_lexer": "ipython3",
   "version": "3.9.10"
  },
  "orig_nbformat": 4
 },
 "nbformat": 4,
 "nbformat_minor": 2
}
