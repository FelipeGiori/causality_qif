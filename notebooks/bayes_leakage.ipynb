{
 "cells": [
  {
   "cell_type": "code",
   "execution_count": 4,
   "metadata": {
    "ExecuteTime": {
     "end_time": "2021-02-04T20:22:35.187081Z",
     "start_time": "2021-02-04T20:22:34.593465Z"
    }
   },
   "outputs": [
    {
     "name": "stderr",
     "output_type": "stream",
     "text": [
      "/home/felipegiori/Mestrado/research/src/mestrado/qif.py:50: SyntaxWarning: \"is\" with a literal. Did you mean \"==\"?\n",
      "  if vulnerability_type is 'average' or vulnerability_type is 'avg':\n",
      "/home/felipegiori/Mestrado/research/src/mestrado/qif.py:50: SyntaxWarning: \"is\" with a literal. Did you mean \"==\"?\n",
      "  if vulnerability_type is 'average' or vulnerability_type is 'avg':\n",
      "/home/felipegiori/Mestrado/research/src/mestrado/qif.py:55: SyntaxWarning: \"is\" with a literal. Did you mean \"==\"?\n",
      "  elif vulnerability_type is 'maximum' or vulnerability_type is 'max':\n",
      "/home/felipegiori/Mestrado/research/src/mestrado/qif.py:55: SyntaxWarning: \"is\" with a literal. Did you mean \"==\"?\n",
      "  elif vulnerability_type is 'maximum' or vulnerability_type is 'max':\n",
      "/home/felipegiori/Mestrado/research/src/mestrado/qif.py:91: SyntaxWarning: \"is\" with a literal. Did you mean \"==\"?\n",
      "  if leakage_type is 'multiplicative' or leakage_type is 'mult':\n",
      "/home/felipegiori/Mestrado/research/src/mestrado/qif.py:91: SyntaxWarning: \"is\" with a literal. Did you mean \"==\"?\n",
      "  if leakage_type is 'multiplicative' or leakage_type is 'mult':\n",
      "/home/felipegiori/Mestrado/research/src/mestrado/qif.py:93: SyntaxWarning: \"is\" with a literal. Did you mean \"==\"?\n",
      "  elif leakage_type is 'additive' or leakage_type is 'add':\n",
      "/home/felipegiori/Mestrado/research/src/mestrado/qif.py:93: SyntaxWarning: \"is\" with a literal. Did you mean \"==\"?\n",
      "  elif leakage_type is 'additive' or leakage_type is 'add':\n"
     ]
    }
   ],
   "source": [
    "from mestrado import qif\n",
    "from mestrado import datasets\n",
    "import numpy as np\n",
    "import pandas as pd\n",
    "\n",
    "import matplotlib.pyplot as plt\n",
    "import matplotlib.patches as mpatches\n",
    "plt.style.use(\"seaborn-whitegrid\")"
   ]
  },
  {
   "cell_type": "code",
   "execution_count": 5,
   "metadata": {
    "ExecuteTime": {
     "end_time": "2021-02-04T20:22:35.296692Z",
     "start_time": "2021-02-04T20:22:35.187843Z"
    }
   },
   "outputs": [
    {
     "ename": "AttributeError",
     "evalue": "module 'mestrado.datasets' has no attribute 'load_data_adult'",
     "output_type": "error",
     "traceback": [
      "\u001b[0;31m---------------------------------------------------------------------------\u001b[0m",
      "\u001b[0;31mAttributeError\u001b[0m                            Traceback (most recent call last)",
      "\u001b[0;32m/tmp/ipykernel_59421/3517738186.py\u001b[0m in \u001b[0;36m<module>\u001b[0;34m\u001b[0m\n\u001b[0;32m----> 1\u001b[0;31m \u001b[0madult\u001b[0m \u001b[0;34m=\u001b[0m \u001b[0mdatasets\u001b[0m\u001b[0;34m.\u001b[0m\u001b[0mload_data_adult\u001b[0m\u001b[0;34m(\u001b[0m\u001b[0;34m)\u001b[0m\u001b[0;34m\u001b[0m\u001b[0;34m\u001b[0m\u001b[0m\n\u001b[0m\u001b[1;32m      2\u001b[0m \u001b[0mgerman\u001b[0m \u001b[0;34m=\u001b[0m \u001b[0mdatasets\u001b[0m\u001b[0;34m.\u001b[0m\u001b[0mload_data_german\u001b[0m\u001b[0;34m(\u001b[0m\u001b[0;34m)\u001b[0m\u001b[0;34m\u001b[0m\u001b[0;34m\u001b[0m\u001b[0m\n\u001b[1;32m      3\u001b[0m \u001b[0mbreast_w\u001b[0m \u001b[0;34m=\u001b[0m \u001b[0mdatasets\u001b[0m\u001b[0;34m.\u001b[0m\u001b[0mload_data_breastw\u001b[0m\u001b[0;34m(\u001b[0m\u001b[0;34m)\u001b[0m\u001b[0;34m\u001b[0m\u001b[0;34m\u001b[0m\u001b[0m\n\u001b[1;32m      4\u001b[0m \u001b[0mbreast_tumor\u001b[0m \u001b[0;34m=\u001b[0m \u001b[0mdatasets\u001b[0m\u001b[0;34m.\u001b[0m\u001b[0mload_data_breast_tumor\u001b[0m\u001b[0;34m(\u001b[0m\u001b[0;34m)\u001b[0m\u001b[0;34m\u001b[0m\u001b[0;34m\u001b[0m\u001b[0m\n\u001b[1;32m      5\u001b[0m \u001b[0mcholesterol\u001b[0m \u001b[0;34m=\u001b[0m \u001b[0mdatasets\u001b[0m\u001b[0;34m.\u001b[0m\u001b[0mload_data_cholesterol\u001b[0m\u001b[0;34m(\u001b[0m\u001b[0;34m)\u001b[0m\u001b[0;34m\u001b[0m\u001b[0;34m\u001b[0m\u001b[0m\n",
      "\u001b[0;31mAttributeError\u001b[0m: module 'mestrado.datasets' has no attribute 'load_data_adult'"
     ]
    }
   ],
   "source": [
    "adult = datasets.load_data_adult()\n",
    "german = datasets.load_data_german()\n",
    "breast_w = datasets.load_data_breastw()\n",
    "breast_tumor = datasets.load_data_breast_tumor()\n",
    "cholesterol = datasets.load_data_cholesterol()\n",
    "balance_scale = datasets.load_data_balance_scale()\n",
    "sensory = datasets.load_data_sensory()\n",
    "cleveland = datasets.load_data_heart_disease()"
   ]
  },
  {
   "cell_type": "code",
   "execution_count": 3,
   "metadata": {
    "ExecuteTime": {
     "end_time": "2021-02-04T20:24:11.237318Z",
     "start_time": "2021-02-04T20:24:11.232976Z"
    },
    "code_folding": [
     1,
     8,
     17,
     23,
     29
    ]
   },
   "outputs": [],
   "source": [
    "# Functions\n",
    "def joint_distribution(df, x, y):\n",
    "    joint_dist = df.groupby([x, y]).size().unstack()\n",
    "    joint_dist.columns = joint_dist.columns.get_level_values(0)\n",
    "    joint_dist = joint_dist.div(joint_dist.sum().sum())\n",
    "    return joint_dist.fillna(0)\n",
    "\n",
    "\n",
    "def avg_mult_bayes_leakage(joint_dist):\n",
    "    Y = joint_dist.columns\n",
    "    posterior_vulnerability = 0\n",
    "    prior_vulnerability = joint_dist.sum(axis=1).max()\n",
    "    for y in Y:\n",
    "        posterior_vulnerability = posterior_vulnerability + joint_dist[y].max()\n",
    "    return posterior_vulnerability/prior_vulnerability\n",
    "\n",
    "\n",
    "def max_mult_bayes_leakage(joint_dist):\n",
    "    posterior_vulnerability = joint_dist.div(joint_dist.sum(axis=0), axis=1).values.max()\n",
    "    prior_vulnerability = joint_dist.sum(axis=1).max()\n",
    "    return posterior_vulnerability/prior_vulnerability\n",
    "\n",
    "\n",
    "def mult_bayes_leakage(joint_dist):\n",
    "    prior_vulnerability = joint_dist.sum(axis=1).max()\n",
    "    posterior_vulnerability = joint_dist.div(joint_dist.sum(axis=0), axis=1)/prior_vulnerability\n",
    "    return posterior_vulnerability.max(axis=0)\n",
    "\n",
    "\n",
    "def compute_flows(df, x, y='target', verbose=False):\n",
    "    joint_dist = joint_distribution(df, x, y)\n",
    "    avg_dir_flow = np.round(avg_mult_bayes_leakage(joint_dist), 2)\n",
    "    avg_rev_flow = np.round(avg_mult_bayes_leakage(joint_dist.T), 2)\n",
    "    max_dir_flow = np.round(max_mult_bayes_leakage(joint_dist), 2)\n",
    "    max_rev_flow = np.round(max_mult_bayes_leakage(joint_dist.T), 2)\n",
    "    \n",
    "    if(verbose):\n",
    "        print(\"Avg Direct Flow: \", np.round(avg_dir_flow, 2))\n",
    "        print(\"Avg Reverse Flow: \", np.round(avg_rev_flow, 2))\n",
    "        print(\"Max Direct Flow: \", np.round(max_dir_flow, 2))\n",
    "        print(\"Max Reverse Flow: \", np.round(max_rev_flow, 2))\n",
    "    \n",
    "    return avg_dir_flow, avg_rev_flow, max_dir_flow, max_rev_flow"
   ]
  },
  {
   "cell_type": "code",
   "execution_count": 8,
   "metadata": {
    "ExecuteTime": {
     "end_time": "2021-02-04T20:24:11.451913Z",
     "start_time": "2021-02-04T20:24:11.448824Z"
    }
   },
   "outputs": [],
   "source": [
    "data = []\n",
    "data.append([breast_w, 'Anticausal', \"Cell_Shape_Uniformity\", \"target\", \"breast_w\"])\n",
    "data.append([breast_w, 'Anticausal', \"Cell_Size_Uniformity\", \"target\", \"breast_w\"])\n",
    "data.append([breast_w, 'Anticausal', \"Single_Epi_Cell_Size\", \"target\", \"breast_w\"])\n",
    "data.append([breast_w, 'Anticausal', \"Clump_Thickness\", \"target\", \"breast_w\"])\n",
    "data.append([balance_scale, 'Causal', \"right_weight\", \"target\", \"balance_scale\"])\n",
    "data.append([balance_scale, 'Causal', \"right_distance\", \"target\", \"balance_scale\"])\n",
    "data.append([balance_scale, 'Causal', \"left_weight\", \"target\", \"balance_scale\"])\n",
    "data.append([balance_scale, 'Causal', \"left_distance\", \"target\", \"balance_scale\"])\n",
    "data.append([breast_tumor, 'Anticausal', 'inv_nodes', 'tumor_size', \"breast_tumor\"])\n",
    "data.append([breast_tumor, 'Anticausal', 'deg_malig', 'tumor_size', \"breast_tumor\"])\n",
    "data.append([cholesterol, 'Anticausal', 'fbs', 'chol', \"cholesterol\"])\n",
    "data.append([sensory, \"Causal\", \"trellis\", \"score\", \"sensory\"])\n",
    "data.append([cleveland, \"Anticausal\", \"fbs\", \"target\", \"cleveland\"])\n",
    "data.append([cleveland, \"Anticausal\", \"cp\", \"target\", \"cleveland\"])"
   ]
  },
  {
   "cell_type": "code",
   "execution_count": 16,
   "metadata": {
    "ExecuteTime": {
     "end_time": "2021-02-04T20:26:32.521119Z",
     "start_time": "2021-02-04T20:26:32.394035Z"
    }
   },
   "outputs": [],
   "source": [
    "from scipy.stats import spearmanr\n",
    "\n",
    "flows = []\n",
    "ind_flows = []\n",
    "for df, category, x, y, name in data:\n",
    "    bayes_leakage = qif.BayesLeakage(df)\n",
    "    avg_dir_flow, avg_rev_flow = bayes_leakage.compute_flows(x=x, y=y)\n",
    "    max_dir_flow, max_rev_flow = bayes_leakage.compute_flows(x=x, y=y, vulnerability_type='max')\n",
    "    corr = spearmanr(df[x], df[y])[0]\n",
    "    flows.append([name, category, avg_dir_flow, avg_rev_flow, max_dir_flow, max_rev_flow, corr])\n",
    "    \n",
    "    \n",
    "    joint_dist = joint_distribution(df=df, x=x, y=y)\n",
    "    ind_max_dir_flow = mult_bayes_leakage(joint_dist)\n",
    "    ind_max_rev_flow = mult_bayes_leakage(joint_dist.T)\n",
    "    \n",
    "    for l_dir in ind_max_dir_flow:\n",
    "        ind_flows.append([category, 'direct', l_dir])\n",
    "        \n",
    "    for l_rev in ind_max_rev_flow:\n",
    "        ind_flows.append([category, 'reverse', l_rev])"
   ]
  },
  {
   "cell_type": "code",
   "execution_count": 17,
   "metadata": {
    "ExecuteTime": {
     "end_time": "2021-02-04T20:26:34.419382Z",
     "start_time": "2021-02-04T20:26:34.416691Z"
    }
   },
   "outputs": [],
   "source": [
    "cols = ['name', 'category', 'avg_dir_flow', 'avg_rev_flow', 'max_dir_flow', 'max_rev_flow', 'correlation']\n",
    "df_flows = pd.DataFrame(flows, columns=cols)\n",
    "\n",
    "cols = ['category', 'flow', 'leakage']\n",
    "df_ind_flows = pd.DataFrame(ind_flows, columns=cols)"
   ]
  },
  {
   "cell_type": "code",
   "execution_count": 27,
   "metadata": {
    "ExecuteTime": {
     "end_time": "2021-02-04T21:33:41.986910Z",
     "start_time": "2021-02-04T21:33:41.916120Z"
    }
   },
   "outputs": [
    {
     "data": {
      "image/png": "[encoded data removed]",
      "text/plain": [
       "<Figure size 864x504 with 1 Axes>"
      ]
     },
     "metadata": {},
     "output_type": "display_data"
    }
   ],
   "source": [
    "plt.figure(figsize=(12, 7))\n",
    "plt.scatter(df_flows['correlation'], df_flows['avg_dir_flow']-df_flows['avg_rev_flow'])\n",
    "plt.xlabel(\"Correlation\", fontsize=14)\n",
    "plt.ylabel(\"Direct Flow - Reverse Flow\", fontsize=14)\n",
    "plt.xticks(fontsize=12)\n",
    "plt.yticks(fontsize=12)\n",
    "plt.xlim(xmin=-1, xmax=1)\n",
    "plt.ylim([-0.5, 0.5])\n",
    "plt.show()"
   ]
  },
  {
   "cell_type": "code",
   "execution_count": 18,
   "metadata": {
    "ExecuteTime": {
     "end_time": "2021-02-04T20:26:34.848120Z",
     "start_time": "2021-02-04T20:26:34.841952Z"
    }
   },
   "outputs": [
    {
     "data": {
      "text/html": [
       "<div>\n",
       "<style scoped>\n",
       "    .dataframe tbody tr th:only-of-type {\n",
       "        vertical-align: middle;\n",
       "    }\n",
       "\n",
       "    .dataframe tbody tr th {\n",
       "        vertical-align: top;\n",
       "    }\n",
       "\n",
       "    .dataframe thead th {\n",
       "        text-align: right;\n",
       "    }\n",
       "</style>\n",
       "<table border=\"1\" class=\"dataframe\">\n",
       "  <thead>\n",
       "    <tr style=\"text-align: right;\">\n",
       "      <th></th>\n",
       "      <th>name</th>\n",
       "      <th>category</th>\n",
       "      <th>avg_dir_flow</th>\n",
       "      <th>avg_rev_flow</th>\n",
       "      <th>max_dir_flow</th>\n",
       "      <th>max_rev_flow</th>\n",
       "      <th>correlation</th>\n",
       "    </tr>\n",
       "  </thead>\n",
       "  <tbody>\n",
       "    <tr>\n",
       "      <th>0</th>\n",
       "      <td>breast_w</td>\n",
       "      <td>Anticausal</td>\n",
       "      <td>1.158640</td>\n",
       "      <td>1.408297</td>\n",
       "      <td>1.517554</td>\n",
       "      <td>1.526201</td>\n",
       "      <td>0.836394</td>\n",
       "    </tr>\n",
       "    <tr>\n",
       "      <th>1</th>\n",
       "      <td>breast_w</td>\n",
       "      <td>Anticausal</td>\n",
       "      <td>1.164062</td>\n",
       "      <td>1.414847</td>\n",
       "      <td>1.510303</td>\n",
       "      <td>1.526201</td>\n",
       "      <td>0.855487</td>\n",
       "    </tr>\n",
       "    <tr>\n",
       "      <th>2</th>\n",
       "      <td>breast_w</td>\n",
       "      <td>Anticausal</td>\n",
       "      <td>1.051813</td>\n",
       "      <td>1.366812</td>\n",
       "      <td>1.435261</td>\n",
       "      <td>1.526201</td>\n",
       "      <td>0.762731</td>\n",
       "    </tr>\n",
       "    <tr>\n",
       "      <th>3</th>\n",
       "      <td>breast_w</td>\n",
       "      <td>Anticausal</td>\n",
       "      <td>1.455172</td>\n",
       "      <td>1.314410</td>\n",
       "      <td>1.494624</td>\n",
       "      <td>1.526201</td>\n",
       "      <td>0.682452</td>\n",
       "    </tr>\n",
       "    <tr>\n",
       "      <th>4</th>\n",
       "      <td>balance_scale</td>\n",
       "      <td>Causal</td>\n",
       "      <td>1.576000</td>\n",
       "      <td>1.378472</td>\n",
       "      <td>1.701389</td>\n",
       "      <td>1.701389</td>\n",
       "      <td>0.358054</td>\n",
       "    </tr>\n",
       "    <tr>\n",
       "      <th>5</th>\n",
       "      <td>balance_scale</td>\n",
       "      <td>Causal</td>\n",
       "      <td>1.576000</td>\n",
       "      <td>1.378472</td>\n",
       "      <td>1.701389</td>\n",
       "      <td>1.701389</td>\n",
       "      <td>0.358054</td>\n",
       "    </tr>\n",
       "    <tr>\n",
       "      <th>6</th>\n",
       "      <td>balance_scale</td>\n",
       "      <td>Causal</td>\n",
       "      <td>1.576000</td>\n",
       "      <td>1.378472</td>\n",
       "      <td>1.701389</td>\n",
       "      <td>1.701389</td>\n",
       "      <td>-0.344940</td>\n",
       "    </tr>\n",
       "    <tr>\n",
       "      <th>7</th>\n",
       "      <td>balance_scale</td>\n",
       "      <td>Causal</td>\n",
       "      <td>1.576000</td>\n",
       "      <td>1.378472</td>\n",
       "      <td>1.701389</td>\n",
       "      <td>1.701389</td>\n",
       "      <td>-0.344940</td>\n",
       "    </tr>\n",
       "    <tr>\n",
       "      <th>8</th>\n",
       "      <td>breast_tumor</td>\n",
       "      <td>Anticausal</td>\n",
       "      <td>1.000000</td>\n",
       "      <td>1.116667</td>\n",
       "      <td>1.342723</td>\n",
       "      <td>4.766667</td>\n",
       "      <td>0.183643</td>\n",
       "    </tr>\n",
       "    <tr>\n",
       "      <th>9</th>\n",
       "      <td>breast_tumor</td>\n",
       "      <td>Anticausal</td>\n",
       "      <td>1.076923</td>\n",
       "      <td>1.116667</td>\n",
       "      <td>1.650000</td>\n",
       "      <td>1.458039</td>\n",
       "      <td>0.201513</td>\n",
       "    </tr>\n",
       "    <tr>\n",
       "      <th>10</th>\n",
       "      <td>cholesterol</td>\n",
       "      <td>Anticausal</td>\n",
       "      <td>1.034884</td>\n",
       "      <td>1.166667</td>\n",
       "      <td>1.174419</td>\n",
       "      <td>2.244444</td>\n",
       "      <td>0.014219</td>\n",
       "    </tr>\n",
       "    <tr>\n",
       "      <th>11</th>\n",
       "      <td>sensory</td>\n",
       "      <td>Causal</td>\n",
       "      <td>1.361111</td>\n",
       "      <td>1.121429</td>\n",
       "      <td>4.000000</td>\n",
       "      <td>1.171429</td>\n",
       "      <td>0.087689</td>\n",
       "    </tr>\n",
       "    <tr>\n",
       "      <th>12</th>\n",
       "      <td>cleveland</td>\n",
       "      <td>Anticausal</td>\n",
       "      <td>1.000000</td>\n",
       "      <td>1.000000</td>\n",
       "      <td>1.089006</td>\n",
       "      <td>1.009714</td>\n",
       "      <td>0.051643</td>\n",
       "    </tr>\n",
       "    <tr>\n",
       "      <th>13</th>\n",
       "      <td>cleveland</td>\n",
       "      <td>Anticausal</td>\n",
       "      <td>1.201389</td>\n",
       "      <td>1.000000</td>\n",
       "      <td>1.780449</td>\n",
       "      <td>1.515000</td>\n",
       "      <td>0.486933</td>\n",
       "    </tr>\n",
       "  </tbody>\n",
       "</table>\n",
       "</div>"
      ],
      "text/plain": [
       "             name    category  avg_dir_flow  avg_rev_flow  max_dir_flow  \\\n",
       "0        breast_w  Anticausal      1.158640      1.408297      1.517554   \n",
       "1        breast_w  Anticausal      1.164062      1.414847      1.510303   \n",
       "2        breast_w  Anticausal      1.051813      1.366812      1.435261   \n",
       "3        breast_w  Anticausal      1.455172      1.314410      1.494624   \n",
       "4   balance_scale      Causal      1.576000      1.378472      1.701389   \n",
       "5   balance_scale      Causal      1.576000      1.378472      1.701389   \n",
       "6   balance_scale      Causal      1.576000      1.378472      1.701389   \n",
       "7   balance_scale      Causal      1.576000      1.378472      1.701389   \n",
       "8    breast_tumor  Anticausal      1.000000      1.116667      1.342723   \n",
       "9    breast_tumor  Anticausal      1.076923      1.116667      1.650000   \n",
       "10    cholesterol  Anticausal      1.034884      1.166667      1.174419   \n",
       "11        sensory      Causal      1.361111      1.121429      4.000000   \n",
       "12      cleveland  Anticausal      1.000000      1.000000      1.089006   \n",
       "13      cleveland  Anticausal      1.201389      1.000000      1.780449   \n",
       "\n",
       "    max_rev_flow  correlation  \n",
       "0       1.526201     0.836394  \n",
       "1       1.526201     0.855487  \n",
       "2       1.526201     0.762731  \n",
       "3       1.526201     0.682452  \n",
       "4       1.701389     0.358054  \n",
       "5       1.701389     0.358054  \n",
       "6       1.701389    -0.344940  \n",
       "7       1.701389    -0.344940  \n",
       "8       4.766667     0.183643  \n",
       "9       1.458039     0.201513  \n",
       "10      2.244444     0.014219  \n",
       "11      1.171429     0.087689  \n",
       "12      1.009714     0.051643  \n",
       "13      1.515000     0.486933  "
      ]
     },
     "execution_count": 18,
     "metadata": {},
     "output_type": "execute_result"
    }
   ],
   "source": [
    "df_flows"
   ]
  },
  {
   "cell_type": "code",
   "execution_count": 8,
   "metadata": {
    "ExecuteTime": {
     "end_time": "2020-08-25T17:46:03.257339Z",
     "start_time": "2020-08-25T17:46:03.254814Z"
    }
   },
   "outputs": [],
   "source": [
    "average_flows = df_flows[['name', 'category', 'avg_dir_flow', 'avg_rev_flow']].copy()"
   ]
  },
  {
   "cell_type": "code",
   "execution_count": 9,
   "metadata": {
    "ExecuteTime": {
     "end_time": "2020-08-25T17:46:05.272317Z",
     "start_time": "2020-08-25T17:46:05.267901Z"
    }
   },
   "outputs": [],
   "source": [
    "category_color = {\n",
    "    \"Causal\":'Orange',\n",
    "    \"Anticausal\":'Blue'\n",
    "}\n",
    "\n",
    "dataframes = average_flows['name'].unique().tolist()\n",
    "dataframes_symbols = ['o', 'X', 'D', 'v', '^', '<']\n",
    "dataframe_category = dict(average_flows[['name', 'category']].drop_duplicates().values)\n",
    "\n",
    "blue_patch = mpatches.Patch(color='Blue', label='Anticausal')\n",
    "orange_patch = mpatches.Patch(color='Orange', label='Causal')"
   ]
  },
  {
   "cell_type": "code",
   "execution_count": 10,
   "metadata": {
    "ExecuteTime": {
     "end_time": "2020-08-25T17:46:14.973977Z",
     "start_time": "2020-08-25T17:46:14.857662Z"
    }
   },
   "outputs": [
    {
     "data": {
      "text/plain": [
       "<function matplotlib.pyplot.show(*args, **kw)>"
      ]
     },
     "execution_count": 10,
     "metadata": {},
     "output_type": "execute_result"
    },
    {
     "data": {
      "image/png": "[encoded data removed]",
      "text/plain": [
       "<Figure size 648x648 with 1 Axes>"
      ]
     },
     "metadata": {},
     "output_type": "display_data"
    }
   ],
   "source": [
    "plt.figure(figsize=(9, 9))\n",
    "for dataframe, marker in zip(dataframes, dataframes_symbols):\n",
    "    df = average_flows.query(\"name == '{}'\".format(dataframe))\n",
    "    plt.plot(df['avg_rev_flow'].values,\n",
    "             df['avg_dir_flow'].values,\n",
    "             marker,\n",
    "             color=category_color[dataframe_category[dataframe]],\n",
    "             alpha=0.4)\n",
    "    \n",
    "plt.plot([0, 2], [0, 2], color='black', linewidth=0.5, linestyle='dashed')\n",
    "plt.title(\"Average Mult Bayes Leakage\", fontsize=16)\n",
    "plt.xlabel(\"Reverse flow L(Y|X)\", fontsize=14)\n",
    "plt.ylabel(\"Direct flow L(X|Y)\", fontsize=14)\n",
    "plt.xticks(fontsize=14)\n",
    "plt.yticks(fontsize=14)\n",
    "plt.xlim([0.98, 1.62])\n",
    "plt.ylim([0.98, 1.62])\n",
    "plt.legend(handles=[blue_patch, orange_patch], fontsize=14)\n",
    "plt.show\n",
    "#plt.savefig(\"avg_mult_bayes_leakage.png\", dpi=120)"
   ]
  },
  {
   "cell_type": "code",
   "execution_count": 11,
   "metadata": {
    "ExecuteTime": {
     "end_time": "2020-08-25T17:46:25.273945Z",
     "start_time": "2020-08-25T17:46:25.267540Z"
    }
   },
   "outputs": [],
   "source": [
    "average_flows = df_flows[['name', 'category', 'max_dir_flow', 'max_rev_flow']].copy()\n",
    "\n",
    "category_color = {\n",
    "    \"Causal\":'Orange',\n",
    "    \"Anticausal\":'Blue'\n",
    "}\n",
    "\n",
    "dataframes = average_flows['name'].unique().tolist()\n",
    "dataframes_symbols = ['o', 'X', 'D', 'v', '^', '<']\n",
    "dataframe_category = dict(average_flows[['name', 'category']].drop_duplicates().values)"
   ]
  },
  {
   "cell_type": "code",
   "execution_count": 12,
   "metadata": {
    "ExecuteTime": {
     "end_time": "2020-08-25T17:46:31.226467Z",
     "start_time": "2020-08-25T17:46:31.035550Z"
    }
   },
   "outputs": [
    {
     "data": {
      "image/png": "[encoded data removed]",
      "text/plain": [
       "<Figure size 648x648 with 1 Axes>"
      ]
     },
     "metadata": {},
     "output_type": "display_data"
    }
   ],
   "source": [
    "plt.figure(figsize=(9, 9))\n",
    "for dataframe, marker in zip(dataframes, dataframes_symbols):\n",
    "    df = average_flows.query(\"name == '{}'\".format(dataframe))\n",
    "    plt.plot(df['max_rev_flow'].values,\n",
    "             df['max_dir_flow'].values,\n",
    "             marker,\n",
    "             color=category_color[dataframe_category[dataframe]],\n",
    "             alpha=0.4)\n",
    "    \n",
    "plt.plot([0, 5], [0, 5], color='black', linewidth=0.5, linestyle='dashed')\n",
    "plt.title(\"Max Mult Bayes Leakage\", fontsize=16)\n",
    "plt.xlabel(\"Reverse flow L(Y|X)\", fontsize=14)\n",
    "plt.ylabel(\"Direct flow L(X|Y)\", fontsize=14)\n",
    "plt.xticks(fontsize=14)\n",
    "plt.yticks(fontsize=14)   \n",
    "plt.xlim([0.98, 5])\n",
    "plt.ylim([0.98, 5])\n",
    "plt.legend(handles=[blue_patch, orange_patch], fontsize=14)\n",
    "plt.show\n",
    "plt.savefig(\"max_mult_bayes_leakage.png\", dpi=120)"
   ]
  },
  {
   "cell_type": "code",
   "execution_count": 13,
   "metadata": {
    "ExecuteTime": {
     "end_time": "2020-08-23T20:56:01.944735Z",
     "start_time": "2020-08-23T20:56:01.940263Z"
    }
   },
   "outputs": [
    {
     "data": {
      "text/html": [
       "<div>\n",
       "<style scoped>\n",
       "    .dataframe tbody tr th:only-of-type {\n",
       "        vertical-align: middle;\n",
       "    }\n",
       "\n",
       "    .dataframe tbody tr th {\n",
       "        vertical-align: top;\n",
       "    }\n",
       "\n",
       "    .dataframe thead th {\n",
       "        text-align: right;\n",
       "    }\n",
       "</style>\n",
       "<table border=\"1\" class=\"dataframe\">\n",
       "  <thead>\n",
       "    <tr style=\"text-align: right;\">\n",
       "      <th></th>\n",
       "      <th>category</th>\n",
       "      <th>flow</th>\n",
       "      <th>leakage</th>\n",
       "    </tr>\n",
       "  </thead>\n",
       "  <tbody>\n",
       "    <tr>\n",
       "      <th>0</th>\n",
       "      <td>Anticausal</td>\n",
       "      <td>direct</td>\n",
       "      <td>1.517554</td>\n",
       "    </tr>\n",
       "    <tr>\n",
       "      <th>1</th>\n",
       "      <td>Anticausal</td>\n",
       "      <td>direct</td>\n",
       "      <td>0.476555</td>\n",
       "    </tr>\n",
       "    <tr>\n",
       "      <th>2</th>\n",
       "      <td>Anticausal</td>\n",
       "      <td>reverse</td>\n",
       "      <td>1.517554</td>\n",
       "    </tr>\n",
       "    <tr>\n",
       "      <th>3</th>\n",
       "      <td>Anticausal</td>\n",
       "      <td>reverse</td>\n",
       "      <td>1.345126</td>\n",
       "    </tr>\n",
       "    <tr>\n",
       "      <th>4</th>\n",
       "      <td>Anticausal</td>\n",
       "      <td>reverse</td>\n",
       "      <td>0.899368</td>\n",
       "    </tr>\n",
       "  </tbody>\n",
       "</table>\n",
       "</div>"
      ],
      "text/plain": [
       "     category     flow   leakage\n",
       "0  Anticausal   direct  1.517554\n",
       "1  Anticausal   direct  0.476555\n",
       "2  Anticausal  reverse  1.517554\n",
       "3  Anticausal  reverse  1.345126\n",
       "4  Anticausal  reverse  0.899368"
      ]
     },
     "execution_count": 13,
     "metadata": {},
     "output_type": "execute_result"
    }
   ],
   "source": [
    "df_ind_flows.head()"
   ]
  },
  {
   "cell_type": "code",
   "execution_count": 14,
   "metadata": {
    "ExecuteTime": {
     "end_time": "2020-08-23T20:56:01.955396Z",
     "start_time": "2020-08-23T20:56:01.945399Z"
    }
   },
   "outputs": [],
   "source": [
    "causal_dir = df_ind_flows.query(\"category == 'Causal' and flow == 'direct'\")['leakage'].values\n",
    "causal_rev = df_ind_flows.query(\"category == 'Causal' and flow == 'reverse'\")['leakage'].values\n",
    "anticausal_dir = df_ind_flows.query(\"category == 'Anticausal' and flow == 'direct'\")['leakage'].values\n",
    "anticausal_rev = df_ind_flows.query(\"category == 'Anticausal' and flow == 'reverse'\")['leakage'].values\n",
    "data = [causal_dir, causal_rev, anticausal_dir, anticausal_rev]"
   ]
  },
  {
   "cell_type": "code",
   "execution_count": 15,
   "metadata": {
    "ExecuteTime": {
     "end_time": "2020-08-23T20:56:02.084741Z",
     "start_time": "2020-08-23T20:56:01.956081Z"
    }
   },
   "outputs": [
    {
     "data": {
      "image/png": "[encoded data removed]",
      "text/plain": [
       "<Figure size 864x432 with 1 Axes>"
      ]
     },
     "metadata": {},
     "output_type": "display_data"
    }
   ],
   "source": [
    "plt.figure(figsize=(12, 6))\n",
    "plt.boxplot(data)\n",
    "plt.ylabel(\"Mult. Bayes Leakage\", fontsize=14)\n",
    "plt.yticks(fontsize=14)\n",
    "plt.xticks([1, 2, 3, 4], [\"Causal Direct\", \"Causal Reverse\", \"Anticausal Direct\", \"Anticausal Reverse\"], fontsize=14)\n",
    "#plt.show()\n",
    "plt.savefig(\"mult_bayes_leakage.png\", dpi=120)"
   ]
  },
  {
   "cell_type": "markdown",
   "metadata": {},
   "source": [
    "## Test case"
   ]
  },
  {
   "cell_type": "code",
   "execution_count": 16,
   "metadata": {
    "ExecuteTime": {
     "end_time": "2020-08-23T20:56:02.089202Z",
     "start_time": "2020-08-23T20:56:02.085519Z"
    }
   },
   "outputs": [],
   "source": [
    "data = [[0, 2/15, 13/15], [8/15, 6/15, 1/15]]\n",
    "df1 = pd.DataFrame(data, index=['x1', 'x2'], columns=['y1', 'y2', 'y3'])\n",
    "\n",
    "data = [[0, 5/15, 10/15], [10/15, 5/15, 0]]\n",
    "df2 = pd.DataFrame(data, index=['x1', 'x2'], columns=['y1', 'y2', 'y3'])"
   ]
  },
  {
   "cell_type": "code",
   "execution_count": 17,
   "metadata": {
    "ExecuteTime": {
     "end_time": "2020-08-23T20:56:02.094049Z",
     "start_time": "2020-08-23T20:56:02.089841Z"
    }
   },
   "outputs": [
    {
     "name": "stdout",
     "output_type": "stream",
     "text": [
      "1.8\n",
      "1.5\n"
     ]
    }
   ],
   "source": [
    "print(np.round(avg_mult_bayes_leakage(df1), 2))\n",
    "print(np.round(avg_mult_bayes_leakage(df1.T), 2))"
   ]
  },
  {
   "cell_type": "code",
   "execution_count": 18,
   "metadata": {
    "ExecuteTime": {
     "end_time": "2020-08-23T20:56:02.098660Z",
     "start_time": "2020-08-23T20:56:02.094715Z"
    }
   },
   "outputs": [
    {
     "name": "stdout",
     "output_type": "stream",
     "text": [
      "1.67\n",
      "2.0\n"
     ]
    }
   ],
   "source": [
    "print(np.round(avg_mult_bayes_leakage(df2), 2))\n",
    "print(np.round(avg_mult_bayes_leakage(df2.T), 2))"
   ]
  },
  {
   "cell_type": "code",
   "execution_count": 3,
   "metadata": {
    "ExecuteTime": {
     "end_time": "2020-09-24T19:36:30.629199Z",
     "start_time": "2020-09-24T19:36:30.626908Z"
    }
   },
   "outputs": [],
   "source": [
    "data = [[1/10, 1/10, 1/5], [1/5, 2/5, 0]]\n",
    "df1 = pd.DataFrame(data, index=['x1', 'x2'], columns=['y1', 'y2', 'y3'])"
   ]
  },
  {
   "cell_type": "code",
   "execution_count": 9,
   "metadata": {
    "ExecuteTime": {
     "end_time": "2020-09-24T19:37:06.889877Z",
     "start_time": "2020-09-24T19:37:06.886725Z"
    }
   },
   "outputs": [
    {
     "name": "stdout",
     "output_type": "stream",
     "text": [
      "1.33\n",
      "1.2\n"
     ]
    }
   ],
   "source": [
    "print(np.round(avg_mult_bayes_leakage(df1), 2))\n",
    "print(np.round(avg_mult_bayes_leakage(df1.T), 2))"
   ]
  },
  {
   "cell_type": "code",
   "execution_count": null,
   "metadata": {},
   "outputs": [],
   "source": []
  }
 ],
 "metadata": {
  "kernelspec": {
   "display_name": "Python 3 (ipykernel)",
   "language": "python",
   "name": "python3"
  },
  "language_info": {
   "codemirror_mode": {
    "name": "ipython",
    "version": 3
   },
   "file_extension": ".py",
   "mimetype": "text/x-python",
   "name": "python",
   "nbconvert_exporter": "python",
   "pygments_lexer": "ipython3",
   "version": "3.9.6"
  },
  "toc": {
   "base_numbering": 1,
   "nav_menu": {},
   "number_sections": true,
   "sideBar": true,
   "skip_h1_title": false,
   "title_cell": "Table of Contents",
   "title_sidebar": "Contents",
   "toc_cell": false,
   "toc_position": {},
   "toc_section_display": true,
   "toc_window_display": false
  }
 },
 "nbformat": 4,
 "nbformat_minor": 4
}
