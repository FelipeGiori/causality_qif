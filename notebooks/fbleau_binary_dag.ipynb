{
 "cells": [
  {
   "cell_type": "code",
   "execution_count": 32,
   "id": "1235e1cd",
   "metadata": {
    "ExecuteTime": {
     "end_time": "2021-05-27T16:45:24.250017Z",
     "start_time": "2021-05-27T16:45:24.247954Z"
    }
   },
   "outputs": [],
   "source": [
    "import qif\n",
    "import fbleau\n",
    "import numpy as np\n",
    "import pandas as pd\n",
    "\n",
    "from scipy.stats import entropy\n",
    "from sklearn.model_selection import train_test_split\n",
    "from causalgraphicalmodels import StructuralCausalModel\n",
    "\n",
    "import matplotlib\n",
    "import seaborn as sns\n",
    "from matplotlib import pyplot as plt\n",
    "matplotlib.rcParams.update({'font.size': 16})"
   ]
  },
  {
   "cell_type": "code",
   "execution_count": 55,
   "id": "44412027",
   "metadata": {
    "ExecuteTime": {
     "end_time": "2021-05-27T16:53:48.563083Z",
     "start_time": "2021-05-27T16:53:48.560893Z"
    }
   },
   "outputs": [
    {
     "data": {
      "text/html": [
       "<style>.container { width:50% !important; }</style>"
      ],
      "text/plain": [
       "<IPython.core.display.HTML object>"
      ]
     },
     "metadata": {},
     "output_type": "display_data"
    }
   ],
   "source": [
    "display(HTML(\"<style>.container { width:50% !important; }</style>\"))"
   ]
  },
  {
   "cell_type": "code",
   "execution_count": 2,
   "id": "68de419a",
   "metadata": {
    "ExecuteTime": {
     "end_time": "2021-05-27T14:45:25.597479Z",
     "start_time": "2021-05-27T14:45:25.592498Z"
    },
    "code_folding": [
     0
    ]
   },
   "outputs": [],
   "source": [
    "# Support functions\n",
    "def bernoulli(p, size=None):\n",
    "    \"\"\"p = P(x=1)\"\"\"\n",
    "    return np.random.binomial(n=1, p=p, size=size)\n",
    "\n",
    "\n",
    "def _z_channel(x, flip):\n",
    "    if x == 0:\n",
    "        return 0\n",
    "    else:\n",
    "        return bernoulli(1-flip)\n",
    "    \n",
    "\n",
    "def _direct_channel(x):\n",
    "    return x\n",
    "\n",
    "\n",
    "def _symmetric_channel(x, flip):\n",
    "    if x == 0:\n",
    "        return bernoulli(flip)\n",
    "    else:\n",
    "        return bernoulli(1 - flip)\n",
    "    \n",
    "    \n",
    "def _xor_channel(x1, x2):\n",
    "    if x1 == x2:\n",
    "        return bernoulli(0)\n",
    "    else:\n",
    "        return bernoulli(1)\n",
    "    \n",
    "\n",
    "def _pxor_channel(x1, x2, flip):\n",
    "    if x1 == x2:\n",
    "        return bernoulli(flip)\n",
    "    else:\n",
    "        return bernoulli(1 - flip)\n",
    "    \n",
    "\n",
    "def _and_channel(x1, x2):\n",
    "    if x1 == x2 == 1:\n",
    "        return bernoulli(1)\n",
    "    else:\n",
    "        return bernoulli(0)\n",
    "    \n",
    "\n",
    "def _pand_channel(x1, x2, flip):\n",
    "    if x1 == x2 == 1:\n",
    "        return bernoulli(1 - flip)\n",
    "    else:\n",
    "        return bernoulli(flip)\n",
    "    \n",
    "\n",
    "def _or_channel(x1, x2):\n",
    "    if x1 == x2 == 0:\n",
    "        return bernoulli(0)\n",
    "    else:\n",
    "        return bernoulli(1)\n",
    "    \n",
    "\n",
    "def _por_channel(x1, x2, flip):\n",
    "    if x1 == x2 == 0:\n",
    "        return bernoulli(flip)\n",
    "    else:\n",
    "        return bernoulli(1 - flip)\n",
    "\n",
    "\n",
    "def node_function(x, p=0.9):\n",
    "    if x == 0:\n",
    "        return x\n",
    "    else:\n",
    "        return np.random.binomial(n=1, p=p)\n",
    "    \n",
    "    \n",
    "def joint_distribution(df, x, y):\n",
    "    joint_dist = df.groupby([x, y]).size().unstack()\n",
    "    joint_dist.columns = joint_dist.columns.get_level_values(0)\n",
    "    joint_dist = joint_dist.div(joint_dist.sum().sum())\n",
    "    return joint_dist.fillna(0)"
   ]
  },
  {
   "cell_type": "code",
   "execution_count": 3,
   "id": "0a857cdf",
   "metadata": {
    "ExecuteTime": {
     "end_time": "2021-05-27T14:45:25.603842Z",
     "start_time": "2021-05-27T14:45:25.598254Z"
    },
    "code_folding": [
     0
    ]
   },
   "outputs": [],
   "source": [
    "# Graph function\n",
    "def one_variable_channel(x, flip=0.5, name='z'):\n",
    "    if name == 'z':\n",
    "        return _z_channel(x, flip)\n",
    "    elif name == 'direct':\n",
    "        return _direct_channel(x)\n",
    "    elif name == 'symmetric':\n",
    "        return _symmetric_channel(x, flip)\n",
    "    else:\n",
    "        raise NameError('Function not valid')\n",
    "    \n",
    "    \n",
    "def two_variables_channel(x1, x2, flip=0.5, name='xor'):\n",
    "    if name == 'xor':\n",
    "        return _xor_channel(x1, x2)\n",
    "    elif name == 'pxor':\n",
    "        return _pxor_channel(x1, x2, flip)\n",
    "    elif name == 'and':\n",
    "        return _and_channel(x1, x2)\n",
    "    elif name == 'pand':\n",
    "        return _pand_channel(x1, x2, flip)\n",
    "    elif name == 'or':\n",
    "        return _or_channel(x1, x2)\n",
    "    elif name == 'por':\n",
    "        return _por_channel(x1, x2, flip)\n",
    "    else:\n",
    "        raise NameError('Function not valid')"
   ]
  },
  {
   "cell_type": "code",
   "execution_count": 4,
   "id": "41bba8b3",
   "metadata": {
    "ExecuteTime": {
     "end_time": "2021-05-27T14:45:25.608658Z",
     "start_time": "2021-05-27T14:45:25.604473Z"
    },
    "code_folding": [
     0
    ]
   },
   "outputs": [],
   "source": [
    "# Entropy functions\n",
    "def guessing_entropy(l):\n",
    "    \"\"\" Return the Shannon entropy of random variable with probability vector l\"\"\"\n",
    "    tmp = l.sort_values(ascending=False)\n",
    "    return sum([p*i for (i,p) in enumerate(l)]) + 1\n",
    "\n",
    "\n",
    "def shannon_entropy(l):\n",
    "    return entropy(l, base=2)\n",
    "\n",
    "\n",
    "def joint_shannon_entropy(joint):\n",
    "    return shannon_entropy(joint.values.flatten())\n",
    "\n",
    "\n",
    "def conditional_shannon_entropy(joint, axis=1):\n",
    "    X = joint.sum(axis=axis)\n",
    "    Y_given_X = joint.div(X, axis=1)\n",
    "    ent = 0\n",
    "    for x in X.index:\n",
    "        if axis == 1:\n",
    "            tmp = Y_given_X.loc[x]\n",
    "        else:\n",
    "            tmp = Y_given_X[x]\n",
    "        ent += X.loc[x] * entropy(tmp, base=2)   \n",
    "    return ent\n",
    "\n",
    "\n",
    "def mutual_information(joint, axis=0):\n",
    "    Y = joint.sum(axis=axis)\n",
    "    return shannon_entropy(Y) - conditional_shannon_entropy(joint, axis=1-axis)"
   ]
  },
  {
   "cell_type": "code",
   "execution_count": 5,
   "id": "d03de4d3",
   "metadata": {
    "ExecuteTime": {
     "end_time": "2021-05-27T14:45:25.702555Z",
     "start_time": "2021-05-27T14:45:25.698979Z"
    },
    "code_folding": [
     0
    ]
   },
   "outputs": [],
   "source": [
    "# Fbleau setup\n",
    "def fbleau_train_test_split(df, x, y, reverse=False):\n",
    "    if reverse:\n",
    "        Y = df[y]\n",
    "        X = df[x]\n",
    "    else:\n",
    "        Y = df[x]\n",
    "        X = df[y]\n",
    "        \n",
    "    X_train, X_test, y_train, y_test = train_test_split(X.values, Y.values, test_size=0.5)\n",
    "    X_train = X_train.reshape(-1, 1).astype(np.float64)\n",
    "    X_test = X_test.reshape(-1, 1).astype(np.float64)\n",
    "    y_train = y_train.astype(np.uint64)\n",
    "    y_test = y_test.astype(np.uint64)\n",
    "    \n",
    "    return X_train, X_test, y_train, y_test\n",
    "\n",
    "\n",
    "def fbleau_bayes_risk(df, x, y, estimate='nn'):\n",
    "    # direct\n",
    "    X_train, X_test, y_train, y_test = fbleau_train_test_split(df, x, y)\n",
    "    result = fbleau.run_fbleau(X_train, y_train, X_test,\n",
    "              y_test, estimate=estimate, log_errors=False,\n",
    "              log_individual_errors=False, delta=None, qstop=None,\n",
    "              absolute=False, scale=False)\n",
    "    direct_bayes_risk = result['min-estimate']\n",
    "    \n",
    "    # reverse\n",
    "    X_train, X_test, y_train, y_test = fbleau_train_test_split(df, x, y, reverse=True)\n",
    "    result = fbleau.run_fbleau(X_train, y_train, X_test,\n",
    "              y_test, estimate=estimate, log_errors=False,\n",
    "              log_individual_errors=False, delta=None, qstop=None,\n",
    "              absolute=False, scale=False)\n",
    "    reverse_bayes_risk = result['min-estimate']\n",
    "    \n",
    "    return direct_bayes_risk, reverse_bayes_risk"
   ]
  },
  {
   "cell_type": "code",
   "execution_count": 6,
   "id": "c7250601",
   "metadata": {
    "ExecuteTime": {
     "end_time": "2021-05-27T14:45:26.166449Z",
     "start_time": "2021-05-27T14:45:26.163060Z"
    },
    "code_folding": [
     0
    ]
   },
   "outputs": [],
   "source": [
    "# Compute attributes\n",
    "def test_suite(df):\n",
    "    data = {}\n",
    "    joint = joint_distribution(df, x='X', y='Y')\n",
    "    \n",
    "    # Classical entropy measures\n",
    "    data['shannon_entropy_X'] = shannon_entropy(joint.sum(axis=1))\n",
    "    data['shannon_entropy_Y'] = shannon_entropy(joint.sum(axis=0))\n",
    "    data['joint_shannon_entropy'] = joint_shannon_entropy(joint)\n",
    "    data['conditional_shannon_entropy_X|Y'] = conditional_shannon_entropy(joint, axis=0)\n",
    "    data['conditional_shannon_entropy_Y|X'] = conditional_shannon_entropy(joint, axis=1)\n",
    "    data['mutual_information'] = mutual_information(joint, axis=0)\n",
    "    data['guessing_entropy_X'] = guessing_entropy(joint.sum(axis=1))\n",
    "    data['guessing_entropy_Y'] = guessing_entropy(joint.sum(axis=0))\n",
    "    \n",
    "    # Bayes Vulnerability\n",
    "    bayes = qif.BayesLeakage(df)\n",
    "    data['mult_avg_dir_flow'], data['mult_avg_rev_flow'] = bayes.compute_flows(x='X', y='Y')\n",
    "    data['mult_max_dir_flow'], data['mult_max_rev_flow'] = bayes.compute_flows(x='X', y='Y', vulnerability_type='max')\n",
    "    data['addt_avg_dir_flow'], data['addt_avg_rev_flow'] = bayes.compute_flows(x='X', y='Y', leakage_type='additive')\n",
    "    data['addt_max_dir_flow'], data['addt_max_rev_flow'] = bayes.compute_flows(x='X', y='Y', leakage_type='additive', vulnerability_type='max')\n",
    "    \n",
    "    # Bayes Risk\n",
    "    data['direct_bayes_risk'], data['reverse_bayes_risk'] = fbleau_bayes_risk(df, x='X', y='Y')\n",
    "    return data"
   ]
  },
  {
   "cell_type": "code",
   "execution_count": 8,
   "id": "0437c400",
   "metadata": {
    "ExecuteTime": {
     "end_time": "2021-05-27T14:46:01.473188Z",
     "start_time": "2021-05-27T14:46:01.471219Z"
    }
   },
   "outputs": [],
   "source": [
    "# Setup\n",
    "one_var_list = ['z', 'direct', 'symmetric']\n",
    "two_var_list = ['xor', 'pxor', 'and', 'pand', 'or', 'por']\n",
    "dist = [0, 0.25, 0.5, 0.75, 1]\n",
    "n_runs = 30\n",
    "\n",
    "# Aliases\n",
    "choice = np.random.choice"
   ]
  },
  {
   "cell_type": "code",
   "execution_count": 7,
   "id": "4a4fe8e5",
   "metadata": {
    "ExecuteTime": {
     "end_time": "2021-05-27T14:45:27.053268Z",
     "start_time": "2021-05-27T14:45:27.033666Z"
    }
   },
   "outputs": [
    {
     "data": {
      "image/svg+xml": [
       "<?xml version=\"1.0\" encoding=\"UTF-8\" standalone=\"no\"?>\n",
       "<!DOCTYPE svg PUBLIC \"-//W3C//DTD SVG 1.1//EN\"\n",
       " \"http://www.w3.org/Graphics/SVG/1.1/DTD/svg11.dtd\">\n",
       "<!-- Generated by graphviz version 2.43.0 (0)\n",
       " -->\n",
       "<!-- Title: %3 Pages: 1 -->\n",
       "<svg width=\"62pt\" height=\"116pt\"\n",
       " viewBox=\"0.00 0.00 62.00 116.00\" xmlns=\"http://www.w3.org/2000/svg\" xmlns:xlink=\"http://www.w3.org/1999/xlink\">\n",
       "<g id=\"graph0\" class=\"graph\" transform=\"scale(1 1) rotate(0) translate(4 112)\">\n",
       "<title>%3</title>\n",
       "<polygon fill=\"white\" stroke=\"transparent\" points=\"-4,4 -4,-112 58,-112 58,4 -4,4\"/>\n",
       "<!-- X -->\n",
       "<g id=\"node1\" class=\"node\">\n",
       "<title>X</title>\n",
       "<ellipse fill=\"none\" stroke=\"black\" cx=\"27\" cy=\"-90\" rx=\"27\" ry=\"18\"/>\n",
       "<text text-anchor=\"middle\" x=\"27\" y=\"-86.3\" font-family=\"Times,serif\" font-size=\"14.00\">X</text>\n",
       "</g>\n",
       "<!-- Y -->\n",
       "<g id=\"node2\" class=\"node\">\n",
       "<title>Y</title>\n",
       "<ellipse fill=\"none\" stroke=\"black\" cx=\"27\" cy=\"-18\" rx=\"27\" ry=\"18\"/>\n",
       "<text text-anchor=\"middle\" x=\"27\" y=\"-14.3\" font-family=\"Times,serif\" font-size=\"14.00\">Y</text>\n",
       "</g>\n",
       "<!-- X&#45;&gt;Y -->\n",
       "<g id=\"edge1\" class=\"edge\">\n",
       "<title>X&#45;&gt;Y</title>\n",
       "<path fill=\"none\" stroke=\"black\" d=\"M27,-71.7C27,-63.98 27,-54.71 27,-46.11\"/>\n",
       "<polygon fill=\"black\" stroke=\"black\" points=\"30.5,-46.1 27,-36.1 23.5,-46.1 30.5,-46.1\"/>\n",
       "</g>\n",
       "</g>\n",
       "</svg>\n"
      ],
      "text/plain": [
       "<graphviz.dot.Digraph at 0x7fd1df007f10>"
      ]
     },
     "execution_count": 7,
     "metadata": {},
     "output_type": "execute_result"
    }
   ],
   "source": [
    "basic_causal = StructuralCausalModel({\n",
    "    \"X\": lambda    n_samples: np.random.binomial(n=1, p=p, size=n_samples),\n",
    "    \"Y\": lambda X, n_samples: np.array(list(map(one_variable_channel, X, np.array([p_flip] * n_samples), np.array([func] * n_samples)))),\n",
    "})\n",
    "\n",
    "basic_causal.cgm.draw()"
   ]
  },
  {
   "cell_type": "code",
   "execution_count": 12,
   "id": "9a01fb54",
   "metadata": {
    "ExecuteTime": {
     "end_time": "2021-05-27T14:59:29.825786Z",
     "start_time": "2021-05-27T14:50:55.914941Z"
    }
   },
   "outputs": [],
   "source": [
    "basic_causal_flows = []\n",
    "for p in dist:\n",
    "    for p_flip in dist:\n",
    "        for func in one_var_list:\n",
    "            for _ in range(n_runs):\n",
    "                df = basic_causal.sample(2000)\n",
    "                basic_causal_dict = test_suite(df)\n",
    "                basic_causal_dict['p'] = p\n",
    "                basic_causal_dict['p_flip'] = p_flip\n",
    "                basic_causal_dict['func'] = func\n",
    "                basic_causal_dict['name'] = 'basic_causal'\n",
    "                basic_causal_flows.append(basic_causal_dict)"
   ]
  },
  {
   "cell_type": "code",
   "execution_count": 13,
   "id": "0dc76a40",
   "metadata": {
    "ExecuteTime": {
     "end_time": "2021-05-27T14:59:29.833457Z",
     "start_time": "2021-05-27T14:59:29.826586Z"
    }
   },
   "outputs": [],
   "source": [
    "basic_causal_df = pd.DataFrame(basic_causal_flows)"
   ]
  },
  {
   "cell_type": "code",
   "execution_count": 17,
   "id": "27e85e4c",
   "metadata": {
    "ExecuteTime": {
     "end_time": "2021-05-27T16:17:28.401207Z",
     "start_time": "2021-05-27T16:17:28.384883Z"
    }
   },
   "outputs": [
    {
     "data": {
      "image/svg+xml": [
       "<?xml version=\"1.0\" encoding=\"UTF-8\" standalone=\"no\"?>\n",
       "<!DOCTYPE svg PUBLIC \"-//W3C//DTD SVG 1.1//EN\"\n",
       " \"http://www.w3.org/Graphics/SVG/1.1/DTD/svg11.dtd\">\n",
       "<!-- Generated by graphviz version 2.43.0 (0)\n",
       " -->\n",
       "<!-- Title: %3 Pages: 1 -->\n",
       "<svg width=\"62pt\" height=\"116pt\"\n",
       " viewBox=\"0.00 0.00 62.00 116.00\" xmlns=\"http://www.w3.org/2000/svg\" xmlns:xlink=\"http://www.w3.org/1999/xlink\">\n",
       "<g id=\"graph0\" class=\"graph\" transform=\"scale(1 1) rotate(0) translate(4 112)\">\n",
       "<title>%3</title>\n",
       "<polygon fill=\"white\" stroke=\"transparent\" points=\"-4,4 -4,-112 58,-112 58,4 -4,4\"/>\n",
       "<!-- X -->\n",
       "<g id=\"node1\" class=\"node\">\n",
       "<title>X</title>\n",
       "<ellipse fill=\"none\" stroke=\"black\" cx=\"27\" cy=\"-18\" rx=\"27\" ry=\"18\"/>\n",
       "<text text-anchor=\"middle\" x=\"27\" y=\"-14.3\" font-family=\"Times,serif\" font-size=\"14.00\">X</text>\n",
       "</g>\n",
       "<!-- Y -->\n",
       "<g id=\"node2\" class=\"node\">\n",
       "<title>Y</title>\n",
       "<ellipse fill=\"none\" stroke=\"black\" cx=\"27\" cy=\"-90\" rx=\"27\" ry=\"18\"/>\n",
       "<text text-anchor=\"middle\" x=\"27\" y=\"-86.3\" font-family=\"Times,serif\" font-size=\"14.00\">Y</text>\n",
       "</g>\n",
       "<!-- Y&#45;&gt;X -->\n",
       "<g id=\"edge1\" class=\"edge\">\n",
       "<title>Y&#45;&gt;X</title>\n",
       "<path fill=\"none\" stroke=\"black\" d=\"M27,-71.7C27,-63.98 27,-54.71 27,-46.11\"/>\n",
       "<polygon fill=\"black\" stroke=\"black\" points=\"30.5,-46.1 27,-36.1 23.5,-46.1 30.5,-46.1\"/>\n",
       "</g>\n",
       "</g>\n",
       "</svg>\n"
      ],
      "text/plain": [
       "<graphviz.dot.Digraph at 0x7fd3746820d0>"
      ]
     },
     "execution_count": 17,
     "metadata": {},
     "output_type": "execute_result"
    }
   ],
   "source": [
    "basic_anticausal = StructuralCausalModel({\n",
    "    \"Y\": lambda    n_samples: np.random.binomial(n=1, p=p, size=n_samples),\n",
    "    \"X\": lambda Y, n_samples: np.array(list(map(one_variable_channel, Y, np.array([p_flip] * n_samples), np.array([func] * n_samples)))),\n",
    "})\n",
    "\n",
    "basic_anticausal.cgm.draw()"
   ]
  },
  {
   "cell_type": "code",
   "execution_count": 18,
   "id": "baefa01e",
   "metadata": {
    "ExecuteTime": {
     "end_time": "2021-05-27T16:26:04.818571Z",
     "start_time": "2021-05-27T16:17:29.565238Z"
    }
   },
   "outputs": [],
   "source": [
    "basic_anticausal_flows = []\n",
    "for p in dist:\n",
    "    for p_flip in dist:\n",
    "        for func in one_var_list:\n",
    "            for _ in range(n_runs):\n",
    "                df = basic_anticausal.sample(2000)\n",
    "                basic_anticausal_dict = test_suite(df)\n",
    "                basic_anticausal_dict['p'] = p\n",
    "                basic_anticausal_dict['p_flip'] = p_flip\n",
    "                basic_anticausal_dict['func'] = func\n",
    "                basic_anticausal_dict['name'] = 'basic_anticausal'\n",
    "                basic_anticausal_flows.append(basic_anticausal_dict)"
   ]
  },
  {
   "cell_type": "code",
   "execution_count": 20,
   "id": "36521d8e",
   "metadata": {
    "ExecuteTime": {
     "end_time": "2021-05-27T16:26:50.077573Z",
     "start_time": "2021-05-27T16:26:50.069800Z"
    }
   },
   "outputs": [],
   "source": [
    "basic_anticausal_df = pd.DataFrame(basic_anticausal_flows)"
   ]
  },
  {
   "cell_type": "code",
   "execution_count": 21,
   "id": "2c2c2a05",
   "metadata": {
    "ExecuteTime": {
     "end_time": "2021-05-27T16:26:57.862337Z",
     "start_time": "2021-05-27T16:26:57.859827Z"
    }
   },
   "outputs": [],
   "source": [
    "df = pd.concat([basic_causal_df, basic_anticausal_df])"
   ]
  },
  {
   "cell_type": "code",
   "execution_count": 74,
   "id": "e498585d",
   "metadata": {
    "ExecuteTime": {
     "end_time": "2021-05-27T17:40:57.420541Z",
     "start_time": "2021-05-27T17:40:57.416812Z"
    }
   },
   "outputs": [],
   "source": [
    "df2 = df.query(\"p_flip <= 0.5 and func == 'z'\")"
   ]
  },
  {
   "cell_type": "code",
   "execution_count": 75,
   "id": "a22af536",
   "metadata": {
    "ExecuteTime": {
     "end_time": "2021-05-27T17:40:57.735076Z",
     "start_time": "2021-05-27T17:40:57.607885Z"
    }
   },
   "outputs": [
    {
     "data": {
      "image/png": "[encoded data removed]",
      "text/plain": [
       "<Figure size 1080x1080 with 1 Axes>"
      ]
     },
     "metadata": {
      "needs_background": "light"
     },
     "output_type": "display_data"
    }
   ],
   "source": [
    "plt.figure(figsize=(15, 15))\n",
    "\n",
    "sns.scatterplot(data=df2, x='direct_bayes_risk', y='reverse_bayes_risk', hue='name', alpha=2/3)\n",
    "plt.plot([-.05, 0.6], [-.05, 0.6], color='black', linewidth=0.5, linestyle='dashed')\n",
    "plt.ylim([-.05, 0.6])\n",
    "plt.xlim([-.05, 0.6])\n",
    "\n",
    "plt.show()"
   ]
  },
  {
   "cell_type": "code",
   "execution_count": 62,
   "id": "87181af8",
   "metadata": {
    "ExecuteTime": {
     "end_time": "2021-05-27T17:10:04.539687Z",
     "start_time": "2021-05-27T17:10:04.537079Z"
    }
   },
   "outputs": [
    {
     "data": {
      "text/plain": [
       "array(['z', 'direct', 'symmetric'], dtype=object)"
      ]
     },
     "execution_count": 62,
     "metadata": {},
     "output_type": "execute_result"
    }
   ],
   "source": [
    "df['func'].unique()"
   ]
  },
  {
   "cell_type": "code",
   "execution_count": null,
   "id": "13d5ee10",
   "metadata": {},
   "outputs": [],
   "source": []
  }
 ],
 "metadata": {
  "kernelspec": {
   "display_name": "Python 3",
   "language": "python",
   "name": "python3"
  },
  "language_info": {
   "codemirror_mode": {
    "name": "ipython",
    "version": 3
   },
   "file_extension": ".py",
   "mimetype": "text/x-python",
   "name": "python",
   "nbconvert_exporter": "python",
   "pygments_lexer": "ipython3",
   "version": "3.7.10"
  },
  "toc": {
   "base_numbering": 1,
   "nav_menu": {},
   "number_sections": true,
   "sideBar": true,
   "skip_h1_title": false,
   "title_cell": "Table of Contents",
   "title_sidebar": "Contents",
   "toc_cell": false,
   "toc_position": {},
   "toc_section_display": true,
   "toc_window_display": false
  }
 },
 "nbformat": 4,
 "nbformat_minor": 5
}
