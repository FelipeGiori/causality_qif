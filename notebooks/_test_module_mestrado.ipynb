{
 "cells": [
  {
   "cell_type": "code",
   "execution_count": 1,
   "id": "62061704-9875-4300-8f58-893a14d99305",
   "metadata": {},
   "outputs": [],
   "source": [
    "import pandas as pd\n",
    "from mestrado import datasets"
   ]
  },
  {
   "cell_type": "code",
   "execution_count": 2,
   "id": "9acb9165-b7ca-4ab1-85e4-d57c05a3c5f0",
   "metadata": {},
   "outputs": [],
   "source": [
    "funcs = [datasets.load_adult(), datasets.load_balance_scale(), datasets.load_breast_tumor(),\n",
    "         datasets.load_cholesterol(), datasets.load_compas(), datasets.load_german(), datasets.load_heart_disease(),\n",
    "         datasets.load_hepatitis(), datasets.load_sensory(), datasets.load_breastw()]"
   ]
  },
  {
   "cell_type": "code",
   "execution_count": 3,
   "id": "70b5e80f-f6d7-4261-9f59-71cd8ad7896f",
   "metadata": {},
   "outputs": [],
   "source": [
    "for load_func in funcs:\n",
    "    if type(load_func) == pd.DataFrame:\n",
    "        pass\n",
    "    else:\n",
    "        print(type(load_func))"
   ]
  },
  {
   "cell_type": "code",
   "execution_count": 4,
   "id": "d625441f-2202-4858-97f0-1bd1a2698364",
   "metadata": {},
   "outputs": [
    {
     "name": "stdout",
     "output_type": "stream",
     "text": [
      "/home/felipegiori/Mestrado/research/src/mestrado/data/\n"
     ]
    }
   ],
   "source": [
    "DATA_PATH = datasets.DATA_PATH\n",
    "print(DATA_PATH)"
   ]
  },
  {
   "cell_type": "code",
   "execution_count": 8,
   "id": "8ca3a224-4f93-43cb-b4af-37dfdcd9c228",
   "metadata": {},
   "outputs": [
    {
     "name": "stdout",
     "output_type": "stream",
     "text": [
      "CPU times: user 6.93 s, sys: 137 ms, total: 7.07 s\n",
      "Wall time: 7.07 s\n"
     ]
    }
   ],
   "source": [
    "%%time\n",
    "ce_pairs_list = load_ce_pairs()"
   ]
  },
  {
   "cell_type": "code",
   "execution_count": 15,
   "id": "3e1b1e65-fc46-40dd-aca2-a2e3a542c695",
   "metadata": {},
   "outputs": [],
   "source": [
    "tmp = load_ce_pairs(a_type=['binary'], b_type=['Binary'])"
   ]
  },
  {
   "cell_type": "code",
   "execution_count": 4,
   "id": "f002bb44-91fb-401d-9c58-2f447a3ebb02",
   "metadata": {},
   "outputs": [
    {
     "name": "stdout",
     "output_type": "stream",
     "text": [
      "CPU times: user 90.8 ms, sys: 0 ns, total: 90.8 ms\n",
      "Wall time: 90.4 ms\n"
     ]
    }
   ],
   "source": [
    "%%time\n",
    "cat_ce_pairs_list = datasets.load_ce_pairs_sup(a_type=['Categorical'], b_type=['Categorical'])"
   ]
  },
  {
   "cell_type": "code",
   "execution_count": 6,
   "id": "e197f80c-d2b5-462f-9572-e6178c0071f4",
   "metadata": {},
   "outputs": [
    {
     "name": "stdout",
     "output_type": "stream",
     "text": [
      "CPU times: user 1 µs, sys: 1 µs, total: 2 µs\n",
      "Wall time: 4.05 µs\n"
     ]
    },
    {
     "data": {
      "text/html": [
       "<div>\n",
       "<style scoped>\n",
       "    .dataframe tbody tr th:only-of-type {\n",
       "        vertical-align: middle;\n",
       "    }\n",
       "\n",
       "    .dataframe tbody tr th {\n",
       "        vertical-align: top;\n",
       "    }\n",
       "\n",
       "    .dataframe thead th {\n",
       "        text-align: right;\n",
       "    }\n",
       "</style>\n",
       "<table border=\"1\" class=\"dataframe\">\n",
       "  <thead>\n",
       "    <tr style=\"text-align: right;\">\n",
       "      <th></th>\n",
       "      <th>a</th>\n",
       "      <th>b</th>\n",
       "    </tr>\n",
       "  </thead>\n",
       "  <tbody>\n",
       "    <tr>\n",
       "      <th>0</th>\n",
       "      <td>2</td>\n",
       "      <td>6</td>\n",
       "    </tr>\n",
       "    <tr>\n",
       "      <th>1</th>\n",
       "      <td>3</td>\n",
       "      <td>6</td>\n",
       "    </tr>\n",
       "    <tr>\n",
       "      <th>2</th>\n",
       "      <td>3</td>\n",
       "      <td>6</td>\n",
       "    </tr>\n",
       "    <tr>\n",
       "      <th>3</th>\n",
       "      <td>2</td>\n",
       "      <td>6</td>\n",
       "    </tr>\n",
       "    <tr>\n",
       "      <th>4</th>\n",
       "      <td>2</td>\n",
       "      <td>7</td>\n",
       "    </tr>\n",
       "    <tr>\n",
       "      <th>...</th>\n",
       "      <td>...</td>\n",
       "      <td>...</td>\n",
       "    </tr>\n",
       "    <tr>\n",
       "      <th>1212</th>\n",
       "      <td>3</td>\n",
       "      <td>6</td>\n",
       "    </tr>\n",
       "    <tr>\n",
       "      <th>1213</th>\n",
       "      <td>3</td>\n",
       "      <td>1</td>\n",
       "    </tr>\n",
       "    <tr>\n",
       "      <th>1214</th>\n",
       "      <td>2</td>\n",
       "      <td>5</td>\n",
       "    </tr>\n",
       "    <tr>\n",
       "      <th>1215</th>\n",
       "      <td>2</td>\n",
       "      <td>1</td>\n",
       "    </tr>\n",
       "    <tr>\n",
       "      <th>1216</th>\n",
       "      <td>2</td>\n",
       "      <td>6</td>\n",
       "    </tr>\n",
       "  </tbody>\n",
       "</table>\n",
       "<p>1217 rows × 2 columns</p>\n",
       "</div>"
      ],
      "text/plain": [
       "      a  b\n",
       "0     2  6\n",
       "1     3  6\n",
       "2     3  6\n",
       "3     2  6\n",
       "4     2  7\n",
       "...  .. ..\n",
       "1212  3  6\n",
       "1213  3  1\n",
       "1214  2  5\n",
       "1215  2  1\n",
       "1216  2  6\n",
       "\n",
       "[1217 rows x 2 columns]"
      ]
     },
     "execution_count": 6,
     "metadata": {},
     "output_type": "execute_result"
    }
   ],
   "source": [
    "%%time\n",
    "cat_ce_pairs_list[1].data"
   ]
  },
  {
   "cell_type": "code",
   "execution_count": null,
   "id": "dbe74d37-c9ba-483d-929d-ca3c661087bd",
   "metadata": {},
   "outputs": [],
   "source": []
  }
 ],
 "metadata": {
  "kernelspec": {
   "display_name": "Python 3",
   "language": "python",
   "name": "python3"
  },
  "language_info": {
   "codemirror_mode": {
    "name": "ipython",
    "version": 3
   },
   "file_extension": ".py",
   "mimetype": "text/x-python",
   "name": "python",
   "nbconvert_exporter": "python",
   "pygments_lexer": "ipython3",
   "version": "3.7.10"
  }
 },
 "nbformat": 4,
 "nbformat_minor": 5
}
