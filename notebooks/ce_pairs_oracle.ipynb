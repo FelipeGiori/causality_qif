{
 "cells": [
  {
   "cell_type": "code",
   "execution_count": 7,
   "metadata": {},
   "outputs": [],
   "source": [
    "import pandas as pd\n",
    "\n",
    "import sys\n",
    "sys.path.append(\"..\")\n",
    "from mestrado.modelling import features"
   ]
  },
  {
   "cell_type": "code",
   "execution_count": 8,
   "metadata": {},
   "outputs": [],
   "source": [
    "df = pd.read_parquet(\"computed_flows_kbins.parquet\")\n",
    "df = features.compute_hand_crafted_features(df)"
   ]
  },
  {
   "cell_type": "code",
   "execution_count": 9,
   "metadata": {},
   "outputs": [],
   "source": [
    "df_causal = df[df['target'] == 1].copy()\n",
    "df_anticausal = df[df['target'] == -1].copy()"
   ]
  },
  {
   "cell_type": "code",
   "execution_count": 20,
   "metadata": {},
   "outputs": [
    {
     "name": "stdout",
     "output_type": "stream",
     "text": [
      "0.8353145839373731\n"
     ]
    }
   ],
   "source": [
    "n_total_causal = df_causal['name'].nunique()\n",
    "n_correct_causal = df_causal.query(\"direct_bayes_vuln_mult_leakage < reverse_bayes_vuln_mult_leakage\")['name'].nunique()\n",
    "print(n_correct_causal/n_total_causal)"
   ]
  },
  {
   "cell_type": "code",
   "execution_count": 21,
   "metadata": {},
   "outputs": [
    {
     "name": "stdout",
     "output_type": "stream",
     "text": [
      "0.8391111111111111\n"
     ]
    }
   ],
   "source": [
    "n_total_anticausal = df_anticausal['name'].nunique()\n",
    "n_correct_anticausal = df_anticausal.query(\"reverse_bayes_vuln_mult_leakage < direct_bayes_vuln_mult_leakage\")['name'].nunique()\n",
    "print(n_correct_anticausal/n_total_anticausal)"
   ]
  },
  {
   "cell_type": "code",
   "execution_count": 14,
   "metadata": {},
   "outputs": [
    {
     "name": "stdout",
     "output_type": "stream",
     "text": [
      "0.7886343867787765\n"
     ]
    }
   ],
   "source": []
  },
  {
   "cell_type": "code",
   "execution_count": null,
   "metadata": {},
   "outputs": [],
   "source": []
  }
 ],
 "metadata": {
  "interpreter": {
   "hash": "fae1aefc6119ff414718c8e8d464e5227e9c640678ffc36de175ad64afffa2f9"
  },
  "kernelspec": {
   "display_name": "Python 3.9.9 64-bit ('ds': conda)",
   "language": "python",
   "name": "python3"
  },
  "language_info": {
   "codemirror_mode": {
    "name": "ipython",
    "version": 3
   },
   "file_extension": ".py",
   "mimetype": "text/x-python",
   "name": "python",
   "nbconvert_exporter": "python",
   "pygments_lexer": "ipython3",
   "version": "3.9.10"
  },
  "orig_nbformat": 4
 },
 "nbformat": 4,
 "nbformat_minor": 2
}
