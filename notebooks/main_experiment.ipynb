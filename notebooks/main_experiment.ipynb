{
 "cells": [
  {
   "cell_type": "code",
   "execution_count": 1,
   "metadata": {
    "ExecuteTime": {
     "end_time": "2020-10-06T01:58:14.896831Z",
     "start_time": "2020-10-06T01:58:14.398901Z"
    }
   },
   "outputs": [],
   "source": [
    "import qif\n",
    "import numpy as np\n",
    "import pandas as pd\n",
    "\n",
    "from causalgraphicalmodels import StructuralCausalModel, CausalGraphicalModel\n",
    "from tqdm.notebook import tqdm\n",
    "from scipy.stats import entropy\n",
    "from multiprocessing import Pool\n",
    "\n",
    "import matplotlib.pyplot as plt\n",
    "plt.style.use(\"seaborn-whitegrid\")"
   ]
  },
  {
   "cell_type": "markdown",
   "metadata": {},
   "source": [
    "## Channels"
   ]
  },
  {
   "cell_type": "code",
   "execution_count": 2,
   "metadata": {
    "ExecuteTime": {
     "end_time": "2020-10-06T01:58:14.903312Z",
     "start_time": "2020-10-06T01:58:14.897651Z"
    },
    "code_folding": []
   },
   "outputs": [],
   "source": [
    "# Support functions\n",
    "def bernoulli(p, size=None):\n",
    "    \"\"\"p = P(x=1)\"\"\"\n",
    "    return np.random.binomial(n=1, p=p, size=size)\n",
    "\n",
    "\n",
    "def _z_channel(x, flip):\n",
    "    if x == 0:\n",
    "        return 0\n",
    "    else:\n",
    "        return bernoulli(1-flip)\n",
    "    \n",
    "\n",
    "def _direct_channel(x):\n",
    "    return x\n",
    "\n",
    "\n",
    "def _symmetric_channel(x, flip):\n",
    "    if x == 0:\n",
    "        return bernoulli(flip)\n",
    "    else:\n",
    "        return bernoulli(1 - flip)\n",
    "    \n",
    "    \n",
    "def _xor_channel(x1, x2):\n",
    "    if x1 == x2:\n",
    "        return bernoulli(0)\n",
    "    else:\n",
    "        return bernoulli(1)\n",
    "    \n",
    "\n",
    "def _pxor_channel(x1, x2, flip):\n",
    "    if x1 == x2:\n",
    "        return bernoulli(flip)\n",
    "    else:\n",
    "        return bernoulli(1 - flip)\n",
    "    \n",
    "\n",
    "def _and_channel(x1, x2):\n",
    "    if x1 == x2 == 1:\n",
    "        return bernoulli(1)\n",
    "    else:\n",
    "        return bernoulli(0)\n",
    "    \n",
    "\n",
    "def _pand_channel(x1, x2, flip):\n",
    "    if x1 == x2 == 1:\n",
    "        return bernoulli(1 - flip)\n",
    "    else:\n",
    "        return bernoulli(flip)\n",
    "    \n",
    "\n",
    "def _or_channel(x1, x2):\n",
    "    if x1 == x2 == 0:\n",
    "        return bernoulli(0)\n",
    "    else:\n",
    "        return bernoulli(1)\n",
    "    \n",
    "\n",
    "def _por_channel(x1, x2, flip):\n",
    "    if x1 == x2 == 0:\n",
    "        return bernoulli(flip)\n",
    "    else:\n",
    "        return bernoulli(1 - flip)\n",
    "    \n",
    "    \n",
    "def joint_distribution(df, x, y):\n",
    "    joint_dist = df.groupby([x, y]).size().unstack()\n",
    "    joint_dist.columns = joint_dist.columns.get_level_values(0)\n",
    "    joint_dist = joint_dist.div(joint_dist.sum().sum())\n",
    "    return joint_dist.fillna(0)"
   ]
  },
  {
   "cell_type": "code",
   "execution_count": 3,
   "metadata": {
    "ExecuteTime": {
     "end_time": "2020-10-06T01:58:15.261228Z",
     "start_time": "2020-10-06T01:58:15.258066Z"
    },
    "code_folding": [
     1,
     12
    ]
   },
   "outputs": [],
   "source": [
    "# Graph function\n",
    "def one_variable_channel(x, flip=0.5, name='z'):\n",
    "    if name == 'z':\n",
    "        return _z_channel(x, flip)\n",
    "    elif name == 'direct':\n",
    "        return _direct_channel(x)\n",
    "    elif name == 'symmetric':\n",
    "        return _symmetric_channel(x, flip)\n",
    "    else:\n",
    "        raise NameError('Function not valid')\n",
    "    \n",
    "    \n",
    "def two_variables_channel(x1, x2, flip=0.5, name='xor'):\n",
    "    if name == 'xor':\n",
    "        return _xor_channel(x1, x2)\n",
    "    elif name == 'pxor':\n",
    "        return _pxor_channel(x1, x2, flip)\n",
    "    elif name == 'and':\n",
    "        return _and_channel(x1, x2)\n",
    "    elif name == 'pand':\n",
    "        return _pand_channel(x1, x2, flip)\n",
    "    elif name == 'or':\n",
    "        return _or_channel(x1, x2)\n",
    "    elif name == 'por':\n",
    "        return _por_channel(x1, x2, flip)\n",
    "    else:\n",
    "        raise NameError('Function not valid')"
   ]
  },
  {
   "cell_type": "code",
   "execution_count": 4,
   "metadata": {
    "ExecuteTime": {
     "end_time": "2020-10-06T01:58:15.619524Z",
     "start_time": "2020-10-06T01:58:15.615899Z"
    },
    "code_folding": []
   },
   "outputs": [],
   "source": [
    "# Entropy functions\n",
    "def guessing_entropy(l):\n",
    "    \"\"\" Return the Shannon entropy of random variable with probability vector l\"\"\"\n",
    "    tmp = l.sort_values(ascending=False)\n",
    "    return sum([p*i for (i,p) in enumerate(l)]) + 1\n",
    "\n",
    "\n",
    "def shannon_entropy(l):\n",
    "    return entropy(l, base=2)\n",
    "\n",
    "\n",
    "def joint_shannon_entropy(joint):\n",
    "    return shannon_entropy(joint.values.flatten())\n",
    "\n",
    "\n",
    "def conditional_shannon_entropy(joint, axis=1):\n",
    "    X = joint.sum(axis=axis)\n",
    "    Y_given_X = joint.div(X, axis=1)\n",
    "    ent = 0\n",
    "    for x in X.index:\n",
    "        if axis == 1:\n",
    "            tmp = Y_given_X.loc[x]\n",
    "        else:\n",
    "            tmp = Y_given_X[x]\n",
    "        ent += X.loc[x] * entropy(tmp, base=2)   \n",
    "    return ent\n",
    "\n",
    "\n",
    "def mutual_information(joint, axis=0):\n",
    "    Y = joint.sum(axis=axis)\n",
    "    return shannon_entropy(Y) - conditional_shannon_entropy(joint, axis=1-axis)"
   ]
  },
  {
   "cell_type": "code",
   "execution_count": 5,
   "metadata": {
    "ExecuteTime": {
     "end_time": "2020-10-06T01:58:16.086892Z",
     "start_time": "2020-10-06T01:58:16.083134Z"
    },
    "code_folding": [
     0
    ]
   },
   "outputs": [],
   "source": [
    "# Compute attributes\n",
    "def test_suite(df):\n",
    "    data = {}\n",
    "    joint = joint_distribution(df, x='X', y='Y')\n",
    "    data['shannon_entropy_X'] = shannon_entropy(joint.sum(axis=1))\n",
    "    data['shannon_entropy_Y'] = shannon_entropy(joint.sum(axis=0))\n",
    "    data['joint_shannon_entropy'] = joint_shannon_entropy(joint)\n",
    "    data['conditional_shannon_entropy_X|Y'] = conditional_shannon_entropy(joint, axis=0)\n",
    "    data['conditional_shannon_entropy_Y|X'] = conditional_shannon_entropy(joint, axis=1)\n",
    "    data['mutual_information'] = mutual_information(joint, axis=0)\n",
    "    data['guessing_entropy_X'] = guessing_entropy(joint.sum(axis=1))\n",
    "    data['guessing_entropy_Y'] = guessing_entropy(joint.sum(axis=0))\n",
    "    \n",
    "    bayes = qif.BayesLeakage(df)\n",
    "    data['mult_avg_dir_flow'], data['mult_avg_rev_flow'] = bayes.compute_flows(x='X', y='Y')\n",
    "    data['mult_max_dir_flow'], data['mult_max_rev_flow'] = bayes.compute_flows(x='X', y='Y', vulnerability_type='max')\n",
    "    data['addt_avg_dir_flow'], data['addt_avg_rev_flow'] = bayes.compute_flows(x='X', y='Y', leakage_type='additive')\n",
    "    data['addt_max_dir_flow'], data['addt_max_rev_flow'] = bayes.compute_flows(x='X', y='Y', leakage_type='additive', vulnerability_type='max')\n",
    "    return data"
   ]
  },
  {
   "cell_type": "code",
   "execution_count": 6,
   "metadata": {
    "ExecuteTime": {
     "end_time": "2020-10-06T01:58:16.379810Z",
     "start_time": "2020-10-06T01:58:16.376025Z"
    },
    "code_folding": [
     1,
     16
    ]
   },
   "outputs": [],
   "source": [
    "# Validation functions\n",
    "def plot_flows(df):\n",
    "    plt.figure(figsize=(10, 10))\n",
    "\n",
    "    groups = df.groupby(\"label\")\n",
    "    for name, group in groups:\n",
    "        plt.plot(group['reverse_flow'], group['direct_flow'], marker=\"o\", linestyle=\"\", label=name, alpha=0.5)\n",
    "    plt.plot([0.95, 3], [0.95, 3], color='black', linewidth=0.5, linestyle='dashed')\n",
    "    plt.xlabel(\"Reverse Flow\", fontsize=14)\n",
    "    plt.ylabel(\"Direct Flow\", fontsize=14)\n",
    "    plt.xlim([0.95, 2])\n",
    "    plt.ylim([0.95, 2])\n",
    "    plt.legend(fontsize=14)\n",
    "    plt.show()\n",
    "\n",
    "\n",
    "def run_experiment(graph, n_samples=10000, n_runs=1000):\n",
    "    flows = []\n",
    "    for i in range(n_runs):\n",
    "        data = graph.sample(n_samples)\n",
    "        bayes_leakage = qif.BayesLeakage(data)\n",
    "        avg_dir_flow, avg_rev_flow = bayes_leakage.compute_flows(x='X', y='Y')\n",
    "        flows.append([avg_dir_flow, avg_rev_flow])\n",
    "        \n",
    "    return flows"
   ]
  },
  {
   "cell_type": "code",
   "execution_count": 7,
   "metadata": {
    "ExecuteTime": {
     "end_time": "2020-10-06T01:58:16.617799Z",
     "start_time": "2020-10-06T01:58:16.615898Z"
    }
   },
   "outputs": [],
   "source": [
    "# Setup\n",
    "one_var_list = ['z', 'direct', 'symmetric']\n",
    "two_var_list = ['xor', 'pxor', 'and', 'pand', 'or', 'por']\n",
    "p = [0, 0.25, 0.5, 0.75, 1]\n",
    "\n",
    "# Aliases\n",
    "choice = np.random.choice"
   ]
  },
  {
   "cell_type": "markdown",
   "metadata": {},
   "source": [
    "## SCMs"
   ]
  },
  {
   "cell_type": "markdown",
   "metadata": {},
   "source": [
    "### Basic"
   ]
  },
  {
   "cell_type": "code",
   "execution_count": 8,
   "metadata": {
    "ExecuteTime": {
     "end_time": "2020-10-06T01:58:19.975297Z",
     "start_time": "2020-10-06T01:58:19.958440Z"
    }
   },
   "outputs": [
    {
     "data": {
      "image/svg+xml": [
       "<?xml version=\"1.0\" encoding=\"UTF-8\" standalone=\"no\"?>\n",
       "<!DOCTYPE svg PUBLIC \"-//W3C//DTD SVG 1.1//EN\"\n",
       " \"http://www.w3.org/Graphics/SVG/1.1/DTD/svg11.dtd\">\n",
       "<!-- Generated by graphviz version 2.40.1 (20161225.0304)\n",
       " -->\n",
       "<!-- Title: %3 Pages: 1 -->\n",
       "<svg width=\"62pt\" height=\"116pt\"\n",
       " viewBox=\"0.00 0.00 62.00 116.00\" xmlns=\"http://www.w3.org/2000/svg\" xmlns:xlink=\"http://www.w3.org/1999/xlink\">\n",
       "<g id=\"graph0\" class=\"graph\" transform=\"scale(1 1) rotate(0) translate(4 112)\">\n",
       "<title>%3</title>\n",
       "<polygon fill=\"#ffffff\" stroke=\"transparent\" points=\"-4,4 -4,-112 58,-112 58,4 -4,4\"/>\n",
       "<!-- X -->\n",
       "<g id=\"node1\" class=\"node\">\n",
       "<title>X</title>\n",
       "<ellipse fill=\"none\" stroke=\"#000000\" cx=\"27\" cy=\"-90\" rx=\"27\" ry=\"18\"/>\n",
       "<text text-anchor=\"middle\" x=\"27\" y=\"-86.3\" font-family=\"Times,serif\" font-size=\"14.00\" fill=\"#000000\">X</text>\n",
       "</g>\n",
       "<!-- Y -->\n",
       "<g id=\"node2\" class=\"node\">\n",
       "<title>Y</title>\n",
       "<ellipse fill=\"none\" stroke=\"#000000\" cx=\"27\" cy=\"-18\" rx=\"27\" ry=\"18\"/>\n",
       "<text text-anchor=\"middle\" x=\"27\" y=\"-14.3\" font-family=\"Times,serif\" font-size=\"14.00\" fill=\"#000000\">Y</text>\n",
       "</g>\n",
       "<!-- X&#45;&gt;Y -->\n",
       "<g id=\"edge1\" class=\"edge\">\n",
       "<title>X&#45;&gt;Y</title>\n",
       "<path fill=\"none\" stroke=\"#000000\" d=\"M27,-71.8314C27,-64.131 27,-54.9743 27,-46.4166\"/>\n",
       "<polygon fill=\"#000000\" stroke=\"#000000\" points=\"30.5001,-46.4132 27,-36.4133 23.5001,-46.4133 30.5001,-46.4132\"/>\n",
       "</g>\n",
       "</g>\n",
       "</svg>\n"
      ],
      "text/plain": [
       "<graphviz.dot.Digraph at 0x7f1ff1d3fe90>"
      ]
     },
     "execution_count": 8,
     "metadata": {},
     "output_type": "execute_result"
    }
   ],
   "source": [
    "basic_causal = StructuralCausalModel({\n",
    "    \"X\": lambda    n_samples: np.random.binomial(n=1, p=choice(p), size=n_samples),\n",
    "    \"Y\": lambda X, n_samples: np.array(list(map(one_variable_channel, X, np.array([choice(p)] * n_samples), np.array([choice(one_var_list)] * n_samples)))),\n",
    "})\n",
    "\n",
    "basic_causal.cgm.draw()"
   ]
  },
  {
   "cell_type": "code",
   "execution_count": 9,
   "metadata": {
    "ExecuteTime": {
     "end_time": "2020-10-06T01:58:20.222843Z",
     "start_time": "2020-10-06T01:58:20.206986Z"
    }
   },
   "outputs": [
    {
     "data": {
      "image/svg+xml": [
       "<?xml version=\"1.0\" encoding=\"UTF-8\" standalone=\"no\"?>\n",
       "<!DOCTYPE svg PUBLIC \"-//W3C//DTD SVG 1.1//EN\"\n",
       " \"http://www.w3.org/Graphics/SVG/1.1/DTD/svg11.dtd\">\n",
       "<!-- Generated by graphviz version 2.40.1 (20161225.0304)\n",
       " -->\n",
       "<!-- Title: %3 Pages: 1 -->\n",
       "<svg width=\"62pt\" height=\"116pt\"\n",
       " viewBox=\"0.00 0.00 62.00 116.00\" xmlns=\"http://www.w3.org/2000/svg\" xmlns:xlink=\"http://www.w3.org/1999/xlink\">\n",
       "<g id=\"graph0\" class=\"graph\" transform=\"scale(1 1) rotate(0) translate(4 112)\">\n",
       "<title>%3</title>\n",
       "<polygon fill=\"#ffffff\" stroke=\"transparent\" points=\"-4,4 -4,-112 58,-112 58,4 -4,4\"/>\n",
       "<!-- X -->\n",
       "<g id=\"node1\" class=\"node\">\n",
       "<title>X</title>\n",
       "<ellipse fill=\"none\" stroke=\"#000000\" cx=\"27\" cy=\"-18\" rx=\"27\" ry=\"18\"/>\n",
       "<text text-anchor=\"middle\" x=\"27\" y=\"-14.3\" font-family=\"Times,serif\" font-size=\"14.00\" fill=\"#000000\">X</text>\n",
       "</g>\n",
       "<!-- Y -->\n",
       "<g id=\"node2\" class=\"node\">\n",
       "<title>Y</title>\n",
       "<ellipse fill=\"none\" stroke=\"#000000\" cx=\"27\" cy=\"-90\" rx=\"27\" ry=\"18\"/>\n",
       "<text text-anchor=\"middle\" x=\"27\" y=\"-86.3\" font-family=\"Times,serif\" font-size=\"14.00\" fill=\"#000000\">Y</text>\n",
       "</g>\n",
       "<!-- Y&#45;&gt;X -->\n",
       "<g id=\"edge1\" class=\"edge\">\n",
       "<title>Y&#45;&gt;X</title>\n",
       "<path fill=\"none\" stroke=\"#000000\" d=\"M27,-71.8314C27,-64.131 27,-54.9743 27,-46.4166\"/>\n",
       "<polygon fill=\"#000000\" stroke=\"#000000\" points=\"30.5001,-46.4132 27,-36.4133 23.5001,-46.4133 30.5001,-46.4132\"/>\n",
       "</g>\n",
       "</g>\n",
       "</svg>\n"
      ],
      "text/plain": [
       "<graphviz.dot.Digraph at 0x7f1ff1d3f250>"
      ]
     },
     "execution_count": 9,
     "metadata": {},
     "output_type": "execute_result"
    }
   ],
   "source": [
    "basic_anticausal = StructuralCausalModel({\n",
    "    \"Y\": lambda    n_samples: np.random.binomial(n=1, p=choice(p), size=n_samples),\n",
    "    \"X\": lambda Y, n_samples: np.array(list(map(one_variable_channel, Y, np.array([choice(p)] * n_samples), np.array([choice(one_var_list)] * n_samples)))),\n",
    "})\n",
    "\n",
    "basic_anticausal.cgm.draw()"
   ]
  },
  {
   "cell_type": "markdown",
   "metadata": {},
   "source": [
    "### Chain"
   ]
  },
  {
   "cell_type": "code",
   "execution_count": 10,
   "metadata": {
    "ExecuteTime": {
     "end_time": "2020-10-06T01:58:20.724983Z",
     "start_time": "2020-10-06T01:58:20.708423Z"
    }
   },
   "outputs": [
    {
     "data": {
      "image/svg+xml": [
       "<?xml version=\"1.0\" encoding=\"UTF-8\" standalone=\"no\"?>\n",
       "<!DOCTYPE svg PUBLIC \"-//W3C//DTD SVG 1.1//EN\"\n",
       " \"http://www.w3.org/Graphics/SVG/1.1/DTD/svg11.dtd\">\n",
       "<!-- Generated by graphviz version 2.40.1 (20161225.0304)\n",
       " -->\n",
       "<!-- Title: %3 Pages: 1 -->\n",
       "<svg width=\"62pt\" height=\"188pt\"\n",
       " viewBox=\"0.00 0.00 62.00 188.00\" xmlns=\"http://www.w3.org/2000/svg\" xmlns:xlink=\"http://www.w3.org/1999/xlink\">\n",
       "<g id=\"graph0\" class=\"graph\" transform=\"scale(1 1) rotate(0) translate(4 184)\">\n",
       "<title>%3</title>\n",
       "<polygon fill=\"#ffffff\" stroke=\"transparent\" points=\"-4,4 -4,-184 58,-184 58,4 -4,4\"/>\n",
       "<!-- X -->\n",
       "<g id=\"node1\" class=\"node\">\n",
       "<title>X</title>\n",
       "<ellipse fill=\"none\" stroke=\"#000000\" cx=\"27\" cy=\"-162\" rx=\"27\" ry=\"18\"/>\n",
       "<text text-anchor=\"middle\" x=\"27\" y=\"-158.3\" font-family=\"Times,serif\" font-size=\"14.00\" fill=\"#000000\">X</text>\n",
       "</g>\n",
       "<!-- Z -->\n",
       "<g id=\"node3\" class=\"node\">\n",
       "<title>Z</title>\n",
       "<ellipse fill=\"none\" stroke=\"#000000\" cx=\"27\" cy=\"-90\" rx=\"27\" ry=\"18\"/>\n",
       "<text text-anchor=\"middle\" x=\"27\" y=\"-86.3\" font-family=\"Times,serif\" font-size=\"14.00\" fill=\"#000000\">Z</text>\n",
       "</g>\n",
       "<!-- X&#45;&gt;Z -->\n",
       "<g id=\"edge1\" class=\"edge\">\n",
       "<title>X&#45;&gt;Z</title>\n",
       "<path fill=\"none\" stroke=\"#000000\" d=\"M27,-143.8314C27,-136.131 27,-126.9743 27,-118.4166\"/>\n",
       "<polygon fill=\"#000000\" stroke=\"#000000\" points=\"30.5001,-118.4132 27,-108.4133 23.5001,-118.4133 30.5001,-118.4132\"/>\n",
       "</g>\n",
       "<!-- Y -->\n",
       "<g id=\"node2\" class=\"node\">\n",
       "<title>Y</title>\n",
       "<ellipse fill=\"none\" stroke=\"#000000\" cx=\"27\" cy=\"-18\" rx=\"27\" ry=\"18\"/>\n",
       "<text text-anchor=\"middle\" x=\"27\" y=\"-14.3\" font-family=\"Times,serif\" font-size=\"14.00\" fill=\"#000000\">Y</text>\n",
       "</g>\n",
       "<!-- Z&#45;&gt;Y -->\n",
       "<g id=\"edge2\" class=\"edge\">\n",
       "<title>Z&#45;&gt;Y</title>\n",
       "<path fill=\"none\" stroke=\"#000000\" d=\"M27,-71.8314C27,-64.131 27,-54.9743 27,-46.4166\"/>\n",
       "<polygon fill=\"#000000\" stroke=\"#000000\" points=\"30.5001,-46.4132 27,-36.4133 23.5001,-46.4133 30.5001,-46.4132\"/>\n",
       "</g>\n",
       "</g>\n",
       "</svg>\n"
      ],
      "text/plain": [
       "<graphviz.dot.Digraph at 0x7f1ff1d5ce50>"
      ]
     },
     "execution_count": 10,
     "metadata": {},
     "output_type": "execute_result"
    }
   ],
   "source": [
    "chain_causal = StructuralCausalModel({\n",
    "    \"X\": lambda    n_samples: np.random.binomial(n=1, p=choice(p), size=n_samples),\n",
    "    \"Z\": lambda X, n_samples: np.array(list(map(one_variable_channel, X, np.array([choice(p)] * n_samples), np.array([choice(one_var_list)] * n_samples)))),\n",
    "    \"Y\": lambda Z, n_samples: np.array(list(map(one_variable_channel, Z, np.array([choice(p)] * n_samples), np.array([choice(one_var_list)] * n_samples)))),\n",
    "})\n",
    "\n",
    "chain_causal.cgm.draw()"
   ]
  },
  {
   "cell_type": "code",
   "execution_count": 11,
   "metadata": {
    "ExecuteTime": {
     "end_time": "2020-10-06T01:58:20.914397Z",
     "start_time": "2020-10-06T01:58:20.898016Z"
    }
   },
   "outputs": [
    {
     "data": {
      "image/svg+xml": [
       "<?xml version=\"1.0\" encoding=\"UTF-8\" standalone=\"no\"?>\n",
       "<!DOCTYPE svg PUBLIC \"-//W3C//DTD SVG 1.1//EN\"\n",
       " \"http://www.w3.org/Graphics/SVG/1.1/DTD/svg11.dtd\">\n",
       "<!-- Generated by graphviz version 2.40.1 (20161225.0304)\n",
       " -->\n",
       "<!-- Title: %3 Pages: 1 -->\n",
       "<svg width=\"62pt\" height=\"188pt\"\n",
       " viewBox=\"0.00 0.00 62.00 188.00\" xmlns=\"http://www.w3.org/2000/svg\" xmlns:xlink=\"http://www.w3.org/1999/xlink\">\n",
       "<g id=\"graph0\" class=\"graph\" transform=\"scale(1 1) rotate(0) translate(4 184)\">\n",
       "<title>%3</title>\n",
       "<polygon fill=\"#ffffff\" stroke=\"transparent\" points=\"-4,4 -4,-184 58,-184 58,4 -4,4\"/>\n",
       "<!-- X -->\n",
       "<g id=\"node1\" class=\"node\">\n",
       "<title>X</title>\n",
       "<ellipse fill=\"none\" stroke=\"#000000\" cx=\"27\" cy=\"-18\" rx=\"27\" ry=\"18\"/>\n",
       "<text text-anchor=\"middle\" x=\"27\" y=\"-14.3\" font-family=\"Times,serif\" font-size=\"14.00\" fill=\"#000000\">X</text>\n",
       "</g>\n",
       "<!-- Y -->\n",
       "<g id=\"node2\" class=\"node\">\n",
       "<title>Y</title>\n",
       "<ellipse fill=\"none\" stroke=\"#000000\" cx=\"27\" cy=\"-162\" rx=\"27\" ry=\"18\"/>\n",
       "<text text-anchor=\"middle\" x=\"27\" y=\"-158.3\" font-family=\"Times,serif\" font-size=\"14.00\" fill=\"#000000\">Y</text>\n",
       "</g>\n",
       "<!-- Z -->\n",
       "<g id=\"node3\" class=\"node\">\n",
       "<title>Z</title>\n",
       "<ellipse fill=\"none\" stroke=\"#000000\" cx=\"27\" cy=\"-90\" rx=\"27\" ry=\"18\"/>\n",
       "<text text-anchor=\"middle\" x=\"27\" y=\"-86.3\" font-family=\"Times,serif\" font-size=\"14.00\" fill=\"#000000\">Z</text>\n",
       "</g>\n",
       "<!-- Y&#45;&gt;Z -->\n",
       "<g id=\"edge1\" class=\"edge\">\n",
       "<title>Y&#45;&gt;Z</title>\n",
       "<path fill=\"none\" stroke=\"#000000\" d=\"M27,-143.8314C27,-136.131 27,-126.9743 27,-118.4166\"/>\n",
       "<polygon fill=\"#000000\" stroke=\"#000000\" points=\"30.5001,-118.4132 27,-108.4133 23.5001,-118.4133 30.5001,-118.4132\"/>\n",
       "</g>\n",
       "<!-- Z&#45;&gt;X -->\n",
       "<g id=\"edge2\" class=\"edge\">\n",
       "<title>Z&#45;&gt;X</title>\n",
       "<path fill=\"none\" stroke=\"#000000\" d=\"M27,-71.8314C27,-64.131 27,-54.9743 27,-46.4166\"/>\n",
       "<polygon fill=\"#000000\" stroke=\"#000000\" points=\"30.5001,-46.4132 27,-36.4133 23.5001,-46.4133 30.5001,-46.4132\"/>\n",
       "</g>\n",
       "</g>\n",
       "</svg>\n"
      ],
      "text/plain": [
       "<graphviz.dot.Digraph at 0x7f1ff1d4e910>"
      ]
     },
     "execution_count": 11,
     "metadata": {},
     "output_type": "execute_result"
    }
   ],
   "source": [
    "chain_anticausal = StructuralCausalModel({\n",
    "    \"Y\": lambda    n_samples: np.random.binomial(n=1, p=choice(p), size=n_samples),\n",
    "    \"Z\": lambda Y, n_samples: np.array(list(map(one_variable_channel, Y, np.array([choice(p)] * n_samples), np.array([choice(one_var_list)] * n_samples)))),\n",
    "    \"X\": lambda Z, n_samples: np.array(list(map(one_variable_channel, Z, np.array([choice(p)] * n_samples), np.array([choice(one_var_list)] * n_samples)))),\n",
    "})\n",
    "\n",
    "chain_anticausal.cgm.draw()"
   ]
  },
  {
   "cell_type": "markdown",
   "metadata": {},
   "source": [
    "### Cofounder"
   ]
  },
  {
   "cell_type": "code",
   "execution_count": 12,
   "metadata": {
    "ExecuteTime": {
     "end_time": "2020-10-06T01:58:21.333515Z",
     "start_time": "2020-10-06T01:58:21.316836Z"
    }
   },
   "outputs": [
    {
     "data": {
      "image/svg+xml": [
       "<?xml version=\"1.0\" encoding=\"UTF-8\" standalone=\"no\"?>\n",
       "<!DOCTYPE svg PUBLIC \"-//W3C//DTD SVG 1.1//EN\"\n",
       " \"http://www.w3.org/Graphics/SVG/1.1/DTD/svg11.dtd\">\n",
       "<!-- Generated by graphviz version 2.40.1 (20161225.0304)\n",
       " -->\n",
       "<!-- Title: %3 Pages: 1 -->\n",
       "<svg width=\"89pt\" height=\"188pt\"\n",
       " viewBox=\"0.00 0.00 89.00 188.00\" xmlns=\"http://www.w3.org/2000/svg\" xmlns:xlink=\"http://www.w3.org/1999/xlink\">\n",
       "<g id=\"graph0\" class=\"graph\" transform=\"scale(1 1) rotate(0) translate(4 184)\">\n",
       "<title>%3</title>\n",
       "<polygon fill=\"#ffffff\" stroke=\"transparent\" points=\"-4,4 -4,-184 85,-184 85,4 -4,4\"/>\n",
       "<!-- X -->\n",
       "<g id=\"node1\" class=\"node\">\n",
       "<title>X</title>\n",
       "<ellipse fill=\"none\" stroke=\"#000000\" cx=\"27\" cy=\"-90\" rx=\"27\" ry=\"18\"/>\n",
       "<text text-anchor=\"middle\" x=\"27\" y=\"-86.3\" font-family=\"Times,serif\" font-size=\"14.00\" fill=\"#000000\">X</text>\n",
       "</g>\n",
       "<!-- Y -->\n",
       "<g id=\"node2\" class=\"node\">\n",
       "<title>Y</title>\n",
       "<ellipse fill=\"none\" stroke=\"#000000\" cx=\"54\" cy=\"-18\" rx=\"27\" ry=\"18\"/>\n",
       "<text text-anchor=\"middle\" x=\"54\" y=\"-14.3\" font-family=\"Times,serif\" font-size=\"14.00\" fill=\"#000000\">Y</text>\n",
       "</g>\n",
       "<!-- X&#45;&gt;Y -->\n",
       "<g id=\"edge3\" class=\"edge\">\n",
       "<title>X&#45;&gt;Y</title>\n",
       "<path fill=\"none\" stroke=\"#000000\" d=\"M33.6742,-72.2022C36.7476,-64.0064 40.4616,-54.1024 43.8695,-45.0145\"/>\n",
       "<polygon fill=\"#000000\" stroke=\"#000000\" points=\"47.1685,-46.1853 47.4026,-35.593 40.6142,-43.7274 47.1685,-46.1853\"/>\n",
       "</g>\n",
       "<!-- Z -->\n",
       "<g id=\"node3\" class=\"node\">\n",
       "<title>Z</title>\n",
       "<ellipse fill=\"none\" stroke=\"#000000\" cx=\"54\" cy=\"-162\" rx=\"27\" ry=\"18\"/>\n",
       "<text text-anchor=\"middle\" x=\"54\" y=\"-158.3\" font-family=\"Times,serif\" font-size=\"14.00\" fill=\"#000000\">Z</text>\n",
       "</g>\n",
       "<!-- Z&#45;&gt;X -->\n",
       "<g id=\"edge1\" class=\"edge\">\n",
       "<title>Z&#45;&gt;X</title>\n",
       "<path fill=\"none\" stroke=\"#000000\" d=\"M47.3258,-144.2022C44.2524,-136.0064 40.5384,-126.1024 37.1305,-117.0145\"/>\n",
       "<polygon fill=\"#000000\" stroke=\"#000000\" points=\"40.3858,-115.7274 33.5974,-107.593 33.8315,-118.1853 40.3858,-115.7274\"/>\n",
       "</g>\n",
       "<!-- Z&#45;&gt;Y -->\n",
       "<g id=\"edge2\" class=\"edge\">\n",
       "<title>Z&#45;&gt;Y</title>\n",
       "<path fill=\"none\" stroke=\"#000000\" d=\"M57.7474,-144.0931C59.7466,-133.6241 61.9966,-120.1241 63,-108 64.3197,-92.0545 64.3197,-87.9455 63,-72 62.2945,-63.4753 60.9727,-54.2703 59.5551,-45.917\"/>\n",
       "<polygon fill=\"#000000\" stroke=\"#000000\" points=\"62.9689,-45.1258 57.7474,-35.9069 56.0803,-46.3698 62.9689,-45.1258\"/>\n",
       "</g>\n",
       "</g>\n",
       "</svg>\n"
      ],
      "text/plain": [
       "<graphviz.dot.Digraph at 0x7f2094402450>"
      ]
     },
     "execution_count": 12,
     "metadata": {},
     "output_type": "execute_result"
    }
   ],
   "source": [
    "cofounder_causal = StructuralCausalModel({\n",
    "    \"Z\": lambda    n_samples: np.random.binomial(n=1, p=choice(p), size=n_samples),\n",
    "    \"X\": lambda Z, n_samples: np.array(list(map(one_variable_channel, Z, np.array([choice(p)] * n_samples), np.array([choice(one_var_list)] * n_samples)))),\n",
    "    \"Y\": lambda X, Z, n_samples: np.array(list(map(two_variables_channel, X, Z, np.array([choice(p)] * n_samples), np.array([choice(two_var_list)] * n_samples)))),\n",
    "})\n",
    "\n",
    "cofounder_causal.cgm.draw()"
   ]
  },
  {
   "cell_type": "code",
   "execution_count": 13,
   "metadata": {
    "ExecuteTime": {
     "end_time": "2020-10-06T01:58:21.511515Z",
     "start_time": "2020-10-06T01:58:21.494837Z"
    }
   },
   "outputs": [
    {
     "data": {
      "image/svg+xml": [
       "<?xml version=\"1.0\" encoding=\"UTF-8\" standalone=\"no\"?>\n",
       "<!DOCTYPE svg PUBLIC \"-//W3C//DTD SVG 1.1//EN\"\n",
       " \"http://www.w3.org/Graphics/SVG/1.1/DTD/svg11.dtd\">\n",
       "<!-- Generated by graphviz version 2.40.1 (20161225.0304)\n",
       " -->\n",
       "<!-- Title: %3 Pages: 1 -->\n",
       "<svg width=\"90pt\" height=\"188pt\"\n",
       " viewBox=\"0.00 0.00 90.00 188.00\" xmlns=\"http://www.w3.org/2000/svg\" xmlns:xlink=\"http://www.w3.org/1999/xlink\">\n",
       "<g id=\"graph0\" class=\"graph\" transform=\"scale(1 1) rotate(0) translate(4 184)\">\n",
       "<title>%3</title>\n",
       "<polygon fill=\"#ffffff\" stroke=\"transparent\" points=\"-4,4 -4,-184 86,-184 86,4 -4,4\"/>\n",
       "<!-- X -->\n",
       "<g id=\"node1\" class=\"node\">\n",
       "<title>X</title>\n",
       "<ellipse fill=\"none\" stroke=\"#000000\" cx=\"27\" cy=\"-18\" rx=\"27\" ry=\"18\"/>\n",
       "<text text-anchor=\"middle\" x=\"27\" y=\"-14.3\" font-family=\"Times,serif\" font-size=\"14.00\" fill=\"#000000\">X</text>\n",
       "</g>\n",
       "<!-- Y -->\n",
       "<g id=\"node2\" class=\"node\">\n",
       "<title>Y</title>\n",
       "<ellipse fill=\"none\" stroke=\"#000000\" cx=\"55\" cy=\"-90\" rx=\"27\" ry=\"18\"/>\n",
       "<text text-anchor=\"middle\" x=\"55\" y=\"-86.3\" font-family=\"Times,serif\" font-size=\"14.00\" fill=\"#000000\">Y</text>\n",
       "</g>\n",
       "<!-- Y&#45;&gt;X -->\n",
       "<g id=\"edge3\" class=\"edge\">\n",
       "<title>Y&#45;&gt;X</title>\n",
       "<path fill=\"none\" stroke=\"#000000\" d=\"M48.222,-72.5708C45.0128,-64.3187 41.1065,-54.2738 37.5242,-45.0623\"/>\n",
       "<polygon fill=\"#000000\" stroke=\"#000000\" points=\"40.6992,-43.5697 33.8126,-35.5182 34.1752,-46.1069 40.6992,-43.5697\"/>\n",
       "</g>\n",
       "<!-- Z -->\n",
       "<g id=\"node3\" class=\"node\">\n",
       "<title>Z</title>\n",
       "<ellipse fill=\"none\" stroke=\"#000000\" cx=\"27\" cy=\"-162\" rx=\"27\" ry=\"18\"/>\n",
       "<text text-anchor=\"middle\" x=\"27\" y=\"-158.3\" font-family=\"Times,serif\" font-size=\"14.00\" fill=\"#000000\">Z</text>\n",
       "</g>\n",
       "<!-- Z&#45;&gt;X -->\n",
       "<g id=\"edge2\" class=\"edge\">\n",
       "<title>Z&#45;&gt;X</title>\n",
       "<path fill=\"none\" stroke=\"#000000\" d=\"M23.6685,-144.0736C21.8913,-133.5982 19.8913,-120.0982 19,-108 17.8244,-92.0432 17.8244,-87.9568 19,-72 19.6267,-63.4935 20.8015,-54.2939 22.0616,-45.9399\"/>\n",
       "<polygon fill=\"#000000\" stroke=\"#000000\" points=\"25.5398,-46.3546 23.6685,-35.9264 18.6282,-45.2455 25.5398,-46.3546\"/>\n",
       "</g>\n",
       "<!-- Z&#45;&gt;Y -->\n",
       "<g id=\"edge1\" class=\"edge\">\n",
       "<title>Z&#45;&gt;Y</title>\n",
       "<path fill=\"none\" stroke=\"#000000\" d=\"M33.778,-144.5708C36.9872,-136.3187 40.8935,-126.2738 44.4758,-117.0623\"/>\n",
       "<polygon fill=\"#000000\" stroke=\"#000000\" points=\"47.8248,-118.1069 48.1874,-107.5182 41.3008,-115.5697 47.8248,-118.1069\"/>\n",
       "</g>\n",
       "</g>\n",
       "</svg>\n"
      ],
      "text/plain": [
       "<graphviz.dot.Digraph at 0x7f209433d6d0>"
      ]
     },
     "execution_count": 13,
     "metadata": {},
     "output_type": "execute_result"
    }
   ],
   "source": [
    "cofounder_anticausal = StructuralCausalModel({\n",
    "    \"Z\": lambda    n_samples: np.random.binomial(n=1, p=choice(p), size=n_samples),\n",
    "    \"Y\": lambda Z, n_samples: np.array(list(map(one_variable_channel, Z, np.array([choice(p)] * n_samples), np.array([choice(one_var_list)] * n_samples)))),\n",
    "    \"X\": lambda Y, Z, n_samples: np.array(list(map(two_variables_channel, Y, Z, np.array([choice(p)] * n_samples), np.array([choice(two_var_list)] * n_samples)))),\n",
    "})\n",
    "\n",
    "cofounder_anticausal.cgm.draw()"
   ]
  },
  {
   "cell_type": "code",
   "execution_count": 14,
   "metadata": {
    "ExecuteTime": {
     "end_time": "2020-10-06T01:58:21.700401Z",
     "start_time": "2020-10-06T01:58:21.683783Z"
    }
   },
   "outputs": [
    {
     "data": {
      "image/svg+xml": [
       "<?xml version=\"1.0\" encoding=\"UTF-8\" standalone=\"no\"?>\n",
       "<!DOCTYPE svg PUBLIC \"-//W3C//DTD SVG 1.1//EN\"\n",
       " \"http://www.w3.org/Graphics/SVG/1.1/DTD/svg11.dtd\">\n",
       "<!-- Generated by graphviz version 2.40.1 (20161225.0304)\n",
       " -->\n",
       "<!-- Title: %3 Pages: 1 -->\n",
       "<svg width=\"90pt\" height=\"188pt\"\n",
       " viewBox=\"0.00 0.00 90.00 188.00\" xmlns=\"http://www.w3.org/2000/svg\" xmlns:xlink=\"http://www.w3.org/1999/xlink\">\n",
       "<g id=\"graph0\" class=\"graph\" transform=\"scale(1 1) rotate(0) translate(4 184)\">\n",
       "<title>%3</title>\n",
       "<polygon fill=\"#ffffff\" stroke=\"transparent\" points=\"-4,4 -4,-184 86,-184 86,4 -4,4\"/>\n",
       "<!-- X -->\n",
       "<g id=\"node1\" class=\"node\">\n",
       "<title>X</title>\n",
       "<ellipse fill=\"none\" stroke=\"#000000\" cx=\"27\" cy=\"-162\" rx=\"27\" ry=\"18\"/>\n",
       "<text text-anchor=\"middle\" x=\"27\" y=\"-158.3\" font-family=\"Times,serif\" font-size=\"14.00\" fill=\"#000000\">X</text>\n",
       "</g>\n",
       "<!-- Y -->\n",
       "<g id=\"node2\" class=\"node\">\n",
       "<title>Y</title>\n",
       "<ellipse fill=\"none\" stroke=\"#000000\" cx=\"27\" cy=\"-18\" rx=\"27\" ry=\"18\"/>\n",
       "<text text-anchor=\"middle\" x=\"27\" y=\"-14.3\" font-family=\"Times,serif\" font-size=\"14.00\" fill=\"#000000\">Y</text>\n",
       "</g>\n",
       "<!-- X&#45;&gt;Y -->\n",
       "<g id=\"edge2\" class=\"edge\">\n",
       "<title>X&#45;&gt;Y</title>\n",
       "<path fill=\"none\" stroke=\"#000000\" d=\"M23.6685,-144.0736C21.8913,-133.5982 19.8913,-120.0982 19,-108 17.8244,-92.0432 17.8244,-87.9568 19,-72 19.6267,-63.4935 20.8015,-54.2939 22.0616,-45.9399\"/>\n",
       "<polygon fill=\"#000000\" stroke=\"#000000\" points=\"25.5398,-46.3546 23.6685,-35.9264 18.6282,-45.2455 25.5398,-46.3546\"/>\n",
       "</g>\n",
       "<!-- Z -->\n",
       "<g id=\"node3\" class=\"node\">\n",
       "<title>Z</title>\n",
       "<ellipse fill=\"none\" stroke=\"#000000\" cx=\"55\" cy=\"-90\" rx=\"27\" ry=\"18\"/>\n",
       "<text text-anchor=\"middle\" x=\"55\" y=\"-86.3\" font-family=\"Times,serif\" font-size=\"14.00\" fill=\"#000000\">Z</text>\n",
       "</g>\n",
       "<!-- X&#45;&gt;Z -->\n",
       "<g id=\"edge1\" class=\"edge\">\n",
       "<title>X&#45;&gt;Z</title>\n",
       "<path fill=\"none\" stroke=\"#000000\" d=\"M33.778,-144.5708C36.9872,-136.3187 40.8935,-126.2738 44.4758,-117.0623\"/>\n",
       "<polygon fill=\"#000000\" stroke=\"#000000\" points=\"47.8248,-118.1069 48.1874,-107.5182 41.3008,-115.5697 47.8248,-118.1069\"/>\n",
       "</g>\n",
       "<!-- Z&#45;&gt;Y -->\n",
       "<g id=\"edge3\" class=\"edge\">\n",
       "<title>Z&#45;&gt;Y</title>\n",
       "<path fill=\"none\" stroke=\"#000000\" d=\"M48.222,-72.5708C45.0128,-64.3187 41.1065,-54.2738 37.5242,-45.0623\"/>\n",
       "<polygon fill=\"#000000\" stroke=\"#000000\" points=\"40.6992,-43.5697 33.8126,-35.5182 34.1752,-46.1069 40.6992,-43.5697\"/>\n",
       "</g>\n",
       "</g>\n",
       "</svg>\n"
      ],
      "text/plain": [
       "<graphviz.dot.Digraph at 0x7f1ff1cf32d0>"
      ]
     },
     "execution_count": 14,
     "metadata": {},
     "output_type": "execute_result"
    }
   ],
   "source": [
    "cofounder_causal2 = StructuralCausalModel({\n",
    "    \"X\": lambda    n_samples: np.random.binomial(n=1, p=choice(p), size=n_samples),\n",
    "    \"Z\": lambda X, n_samples: np.array(list(map(one_variable_channel, X, np.array([choice(p)] * n_samples), np.array([choice(one_var_list)] * n_samples)))),\n",
    "    \"Y\": lambda X, Z, n_samples: np.array(list(map(two_variables_channel, X, Z, np.array([choice(p)] * n_samples), np.array([choice(two_var_list)] * n_samples)))),\n",
    "})\n",
    "\n",
    "cofounder_causal2.cgm.draw()"
   ]
  },
  {
   "cell_type": "code",
   "execution_count": 15,
   "metadata": {
    "ExecuteTime": {
     "end_time": "2020-10-06T01:58:21.876572Z",
     "start_time": "2020-10-06T01:58:21.859779Z"
    }
   },
   "outputs": [
    {
     "data": {
      "image/svg+xml": [
       "<?xml version=\"1.0\" encoding=\"UTF-8\" standalone=\"no\"?>\n",
       "<!DOCTYPE svg PUBLIC \"-//W3C//DTD SVG 1.1//EN\"\n",
       " \"http://www.w3.org/Graphics/SVG/1.1/DTD/svg11.dtd\">\n",
       "<!-- Generated by graphviz version 2.40.1 (20161225.0304)\n",
       " -->\n",
       "<!-- Title: %3 Pages: 1 -->\n",
       "<svg width=\"90pt\" height=\"188pt\"\n",
       " viewBox=\"0.00 0.00 90.00 188.00\" xmlns=\"http://www.w3.org/2000/svg\" xmlns:xlink=\"http://www.w3.org/1999/xlink\">\n",
       "<g id=\"graph0\" class=\"graph\" transform=\"scale(1 1) rotate(0) translate(4 184)\">\n",
       "<title>%3</title>\n",
       "<polygon fill=\"#ffffff\" stroke=\"transparent\" points=\"-4,4 -4,-184 86,-184 86,4 -4,4\"/>\n",
       "<!-- X -->\n",
       "<g id=\"node1\" class=\"node\">\n",
       "<title>X</title>\n",
       "<ellipse fill=\"none\" stroke=\"#000000\" cx=\"27\" cy=\"-18\" rx=\"27\" ry=\"18\"/>\n",
       "<text text-anchor=\"middle\" x=\"27\" y=\"-14.3\" font-family=\"Times,serif\" font-size=\"14.00\" fill=\"#000000\">X</text>\n",
       "</g>\n",
       "<!-- Y -->\n",
       "<g id=\"node2\" class=\"node\">\n",
       "<title>Y</title>\n",
       "<ellipse fill=\"none\" stroke=\"#000000\" cx=\"27\" cy=\"-162\" rx=\"27\" ry=\"18\"/>\n",
       "<text text-anchor=\"middle\" x=\"27\" y=\"-158.3\" font-family=\"Times,serif\" font-size=\"14.00\" fill=\"#000000\">Y</text>\n",
       "</g>\n",
       "<!-- Y&#45;&gt;X -->\n",
       "<g id=\"edge2\" class=\"edge\">\n",
       "<title>Y&#45;&gt;X</title>\n",
       "<path fill=\"none\" stroke=\"#000000\" d=\"M23.6685,-144.0736C21.8913,-133.5982 19.8913,-120.0982 19,-108 17.8244,-92.0432 17.8244,-87.9568 19,-72 19.6267,-63.4935 20.8015,-54.2939 22.0616,-45.9399\"/>\n",
       "<polygon fill=\"#000000\" stroke=\"#000000\" points=\"25.5398,-46.3546 23.6685,-35.9264 18.6282,-45.2455 25.5398,-46.3546\"/>\n",
       "</g>\n",
       "<!-- Z -->\n",
       "<g id=\"node3\" class=\"node\">\n",
       "<title>Z</title>\n",
       "<ellipse fill=\"none\" stroke=\"#000000\" cx=\"55\" cy=\"-90\" rx=\"27\" ry=\"18\"/>\n",
       "<text text-anchor=\"middle\" x=\"55\" y=\"-86.3\" font-family=\"Times,serif\" font-size=\"14.00\" fill=\"#000000\">Z</text>\n",
       "</g>\n",
       "<!-- Y&#45;&gt;Z -->\n",
       "<g id=\"edge1\" class=\"edge\">\n",
       "<title>Y&#45;&gt;Z</title>\n",
       "<path fill=\"none\" stroke=\"#000000\" d=\"M33.778,-144.5708C36.9872,-136.3187 40.8935,-126.2738 44.4758,-117.0623\"/>\n",
       "<polygon fill=\"#000000\" stroke=\"#000000\" points=\"47.8248,-118.1069 48.1874,-107.5182 41.3008,-115.5697 47.8248,-118.1069\"/>\n",
       "</g>\n",
       "<!-- Z&#45;&gt;X -->\n",
       "<g id=\"edge3\" class=\"edge\">\n",
       "<title>Z&#45;&gt;X</title>\n",
       "<path fill=\"none\" stroke=\"#000000\" d=\"M48.222,-72.5708C45.0128,-64.3187 41.1065,-54.2738 37.5242,-45.0623\"/>\n",
       "<polygon fill=\"#000000\" stroke=\"#000000\" points=\"40.6992,-43.5697 33.8126,-35.5182 34.1752,-46.1069 40.6992,-43.5697\"/>\n",
       "</g>\n",
       "</g>\n",
       "</svg>\n"
      ],
      "text/plain": [
       "<graphviz.dot.Digraph at 0x7f1ff1cf3d90>"
      ]
     },
     "execution_count": 15,
     "metadata": {},
     "output_type": "execute_result"
    }
   ],
   "source": [
    "cofounder_anticausal2 = StructuralCausalModel({\n",
    "    \"Y\": lambda    n_samples: np.random.binomial(n=1, p=choice(p), size=n_samples),\n",
    "    \"Z\": lambda Y, n_samples: np.array(list(map(one_variable_channel, Y, np.array([choice(p)] * n_samples), np.array([choice(one_var_list)] * n_samples)))),\n",
    "    \"X\": lambda Y, Z, n_samples: np.array(list(map(two_variables_channel, Y, Z, np.array([choice(p)] * n_samples), np.array([choice(two_var_list)] * n_samples)))),\n",
    "})\n",
    "\n",
    "cofounder_anticausal2.cgm.draw()"
   ]
  },
  {
   "cell_type": "markdown",
   "metadata": {},
   "source": [
    "### Collider"
   ]
  },
  {
   "cell_type": "code",
   "execution_count": 16,
   "metadata": {
    "ExecuteTime": {
     "end_time": "2020-10-06T01:58:22.273966Z",
     "start_time": "2020-10-06T01:58:22.257534Z"
    }
   },
   "outputs": [
    {
     "data": {
      "image/svg+xml": [
       "<?xml version=\"1.0\" encoding=\"UTF-8\" standalone=\"no\"?>\n",
       "<!DOCTYPE svg PUBLIC \"-//W3C//DTD SVG 1.1//EN\"\n",
       " \"http://www.w3.org/Graphics/SVG/1.1/DTD/svg11.dtd\">\n",
       "<!-- Generated by graphviz version 2.40.1 (20161225.0304)\n",
       " -->\n",
       "<!-- Title: %3 Pages: 1 -->\n",
       "<svg width=\"134pt\" height=\"116pt\"\n",
       " viewBox=\"0.00 0.00 134.00 116.00\" xmlns=\"http://www.w3.org/2000/svg\" xmlns:xlink=\"http://www.w3.org/1999/xlink\">\n",
       "<g id=\"graph0\" class=\"graph\" transform=\"scale(1 1) rotate(0) translate(4 112)\">\n",
       "<title>%3</title>\n",
       "<polygon fill=\"#ffffff\" stroke=\"transparent\" points=\"-4,4 -4,-112 130,-112 130,4 -4,4\"/>\n",
       "<!-- X -->\n",
       "<g id=\"node1\" class=\"node\">\n",
       "<title>X</title>\n",
       "<ellipse fill=\"none\" stroke=\"#000000\" cx=\"27\" cy=\"-90\" rx=\"27\" ry=\"18\"/>\n",
       "<text text-anchor=\"middle\" x=\"27\" y=\"-86.3\" font-family=\"Times,serif\" font-size=\"14.00\" fill=\"#000000\">X</text>\n",
       "</g>\n",
       "<!-- Y -->\n",
       "<g id=\"node2\" class=\"node\">\n",
       "<title>Y</title>\n",
       "<ellipse fill=\"none\" stroke=\"#000000\" cx=\"63\" cy=\"-18\" rx=\"27\" ry=\"18\"/>\n",
       "<text text-anchor=\"middle\" x=\"63\" y=\"-14.3\" font-family=\"Times,serif\" font-size=\"14.00\" fill=\"#000000\">Y</text>\n",
       "</g>\n",
       "<!-- X&#45;&gt;Y -->\n",
       "<g id=\"edge1\" class=\"edge\">\n",
       "<title>X&#45;&gt;Y</title>\n",
       "<path fill=\"none\" stroke=\"#000000\" d=\"M35.7146,-72.5708C39.9597,-64.0807 45.1536,-53.6929 49.8663,-44.2674\"/>\n",
       "<polygon fill=\"#000000\" stroke=\"#000000\" points=\"53.024,-45.7782 54.3657,-35.2687 46.763,-42.6477 53.024,-45.7782\"/>\n",
       "</g>\n",
       "<!-- Z -->\n",
       "<g id=\"node3\" class=\"node\">\n",
       "<title>Z</title>\n",
       "<ellipse fill=\"none\" stroke=\"#000000\" cx=\"99\" cy=\"-90\" rx=\"27\" ry=\"18\"/>\n",
       "<text text-anchor=\"middle\" x=\"99\" y=\"-86.3\" font-family=\"Times,serif\" font-size=\"14.00\" fill=\"#000000\">Z</text>\n",
       "</g>\n",
       "<!-- Z&#45;&gt;Y -->\n",
       "<g id=\"edge2\" class=\"edge\">\n",
       "<title>Z&#45;&gt;Y</title>\n",
       "<path fill=\"none\" stroke=\"#000000\" d=\"M90.2854,-72.5708C86.0403,-64.0807 80.8464,-53.6929 76.1337,-44.2674\"/>\n",
       "<polygon fill=\"#000000\" stroke=\"#000000\" points=\"79.237,-42.6477 71.6343,-35.2687 72.976,-45.7782 79.237,-42.6477\"/>\n",
       "</g>\n",
       "</g>\n",
       "</svg>\n"
      ],
      "text/plain": [
       "<graphviz.dot.Digraph at 0x7f1ff1d3ffd0>"
      ]
     },
     "execution_count": 16,
     "metadata": {},
     "output_type": "execute_result"
    }
   ],
   "source": [
    "collider_causal = StructuralCausalModel({\n",
    "    \"X\": lambda    n_samples: np.random.binomial(n=1, p=choice(p), size=n_samples),\n",
    "    \"Z\": lambda    n_samples: np.random.binomial(n=1, p=choice(p), size=n_samples),\n",
    "    \"Y\": lambda X, Z, n_samples: np.array(list(map(two_variables_channel, X, Z, np.array([choice(p)] * n_samples), np.array([choice(two_var_list)] * n_samples)))),\n",
    "})\n",
    "\n",
    "collider_causal.cgm.draw()"
   ]
  },
  {
   "cell_type": "code",
   "execution_count": 17,
   "metadata": {
    "ExecuteTime": {
     "end_time": "2020-10-06T01:58:22.586008Z",
     "start_time": "2020-10-06T01:58:22.567950Z"
    }
   },
   "outputs": [
    {
     "data": {
      "image/svg+xml": [
       "<?xml version=\"1.0\" encoding=\"UTF-8\" standalone=\"no\"?>\n",
       "<!DOCTYPE svg PUBLIC \"-//W3C//DTD SVG 1.1//EN\"\n",
       " \"http://www.w3.org/Graphics/SVG/1.1/DTD/svg11.dtd\">\n",
       "<!-- Generated by graphviz version 2.40.1 (20161225.0304)\n",
       " -->\n",
       "<!-- Title: %3 Pages: 1 -->\n",
       "<svg width=\"134pt\" height=\"116pt\"\n",
       " viewBox=\"0.00 0.00 134.00 116.00\" xmlns=\"http://www.w3.org/2000/svg\" xmlns:xlink=\"http://www.w3.org/1999/xlink\">\n",
       "<g id=\"graph0\" class=\"graph\" transform=\"scale(1 1) rotate(0) translate(4 112)\">\n",
       "<title>%3</title>\n",
       "<polygon fill=\"#ffffff\" stroke=\"transparent\" points=\"-4,4 -4,-112 130,-112 130,4 -4,4\"/>\n",
       "<!-- X -->\n",
       "<g id=\"node1\" class=\"node\">\n",
       "<title>X</title>\n",
       "<ellipse fill=\"none\" stroke=\"#000000\" cx=\"63\" cy=\"-18\" rx=\"27\" ry=\"18\"/>\n",
       "<text text-anchor=\"middle\" x=\"63\" y=\"-14.3\" font-family=\"Times,serif\" font-size=\"14.00\" fill=\"#000000\">X</text>\n",
       "</g>\n",
       "<!-- Y -->\n",
       "<g id=\"node2\" class=\"node\">\n",
       "<title>Y</title>\n",
       "<ellipse fill=\"none\" stroke=\"#000000\" cx=\"27\" cy=\"-90\" rx=\"27\" ry=\"18\"/>\n",
       "<text text-anchor=\"middle\" x=\"27\" y=\"-86.3\" font-family=\"Times,serif\" font-size=\"14.00\" fill=\"#000000\">Y</text>\n",
       "</g>\n",
       "<!-- Y&#45;&gt;X -->\n",
       "<g id=\"edge1\" class=\"edge\">\n",
       "<title>Y&#45;&gt;X</title>\n",
       "<path fill=\"none\" stroke=\"#000000\" d=\"M35.7146,-72.5708C39.9597,-64.0807 45.1536,-53.6929 49.8663,-44.2674\"/>\n",
       "<polygon fill=\"#000000\" stroke=\"#000000\" points=\"53.024,-45.7782 54.3657,-35.2687 46.763,-42.6477 53.024,-45.7782\"/>\n",
       "</g>\n",
       "<!-- Z -->\n",
       "<g id=\"node3\" class=\"node\">\n",
       "<title>Z</title>\n",
       "<ellipse fill=\"none\" stroke=\"#000000\" cx=\"99\" cy=\"-90\" rx=\"27\" ry=\"18\"/>\n",
       "<text text-anchor=\"middle\" x=\"99\" y=\"-86.3\" font-family=\"Times,serif\" font-size=\"14.00\" fill=\"#000000\">Z</text>\n",
       "</g>\n",
       "<!-- Z&#45;&gt;X -->\n",
       "<g id=\"edge2\" class=\"edge\">\n",
       "<title>Z&#45;&gt;X</title>\n",
       "<path fill=\"none\" stroke=\"#000000\" d=\"M90.2854,-72.5708C86.0403,-64.0807 80.8464,-53.6929 76.1337,-44.2674\"/>\n",
       "<polygon fill=\"#000000\" stroke=\"#000000\" points=\"79.237,-42.6477 71.6343,-35.2687 72.976,-45.7782 79.237,-42.6477\"/>\n",
       "</g>\n",
       "</g>\n",
       "</svg>\n"
      ],
      "text/plain": [
       "<graphviz.dot.Digraph at 0x7f1ff1d4f650>"
      ]
     },
     "execution_count": 17,
     "metadata": {},
     "output_type": "execute_result"
    }
   ],
   "source": [
    "collider_anticausal = StructuralCausalModel({\n",
    "    \"Y\": lambda    n_samples: np.random.binomial(n=1, p=choice(p), size=n_samples),\n",
    "    \"Z\": lambda    n_samples: np.random.binomial(n=1, p=choice(p), size=n_samples),\n",
    "    \"X\": lambda Y, Z, n_samples: np.array(list(map(two_variables_channel, Y, Z, np.array([choice(p)] * n_samples), np.array([choice(two_var_list)] * n_samples)))),\n",
    "})\n",
    "\n",
    "collider_anticausal.cgm.draw()"
   ]
  },
  {
   "cell_type": "markdown",
   "metadata": {
    "ExecuteTime": {
     "end_time": "2020-10-06T01:24:48.785779Z",
     "start_time": "2020-10-06T01:24:48.784026Z"
    }
   },
   "source": [
    "### Frontdoor"
   ]
  },
  {
   "cell_type": "code",
   "execution_count": 18,
   "metadata": {
    "ExecuteTime": {
     "end_time": "2020-10-06T01:58:23.285144Z",
     "start_time": "2020-10-06T01:58:23.266878Z"
    }
   },
   "outputs": [
    {
     "data": {
      "image/svg+xml": [
       "<?xml version=\"1.0\" encoding=\"UTF-8\" standalone=\"no\"?>\n",
       "<!DOCTYPE svg PUBLIC \"-//W3C//DTD SVG 1.1//EN\"\n",
       " \"http://www.w3.org/Graphics/SVG/1.1/DTD/svg11.dtd\">\n",
       "<!-- Generated by graphviz version 2.40.1 (20161225.0304)\n",
       " -->\n",
       "<!-- Title: %3 Pages: 1 -->\n",
       "<svg width=\"89pt\" height=\"260pt\"\n",
       " viewBox=\"0.00 0.00 89.00 260.00\" xmlns=\"http://www.w3.org/2000/svg\" xmlns:xlink=\"http://www.w3.org/1999/xlink\">\n",
       "<g id=\"graph0\" class=\"graph\" transform=\"scale(1 1) rotate(0) translate(4 256)\">\n",
       "<title>%3</title>\n",
       "<polygon fill=\"#ffffff\" stroke=\"transparent\" points=\"-4,4 -4,-256 85,-256 85,4 -4,4\"/>\n",
       "<!-- X -->\n",
       "<g id=\"node1\" class=\"node\">\n",
       "<title>X</title>\n",
       "<ellipse fill=\"none\" stroke=\"#000000\" cx=\"27\" cy=\"-162\" rx=\"27\" ry=\"18\"/>\n",
       "<text text-anchor=\"middle\" x=\"27\" y=\"-158.3\" font-family=\"Times,serif\" font-size=\"14.00\" fill=\"#000000\">X</text>\n",
       "</g>\n",
       "<!-- Z -->\n",
       "<g id=\"node3\" class=\"node\">\n",
       "<title>Z</title>\n",
       "<ellipse fill=\"none\" stroke=\"#000000\" cx=\"27\" cy=\"-90\" rx=\"27\" ry=\"18\"/>\n",
       "<text text-anchor=\"middle\" x=\"27\" y=\"-86.3\" font-family=\"Times,serif\" font-size=\"14.00\" fill=\"#000000\">Z</text>\n",
       "</g>\n",
       "<!-- X&#45;&gt;Z -->\n",
       "<g id=\"edge3\" class=\"edge\">\n",
       "<title>X&#45;&gt;Z</title>\n",
       "<path fill=\"none\" stroke=\"#000000\" d=\"M27,-143.8314C27,-136.131 27,-126.9743 27,-118.4166\"/>\n",
       "<polygon fill=\"#000000\" stroke=\"#000000\" points=\"30.5001,-118.4132 27,-108.4133 23.5001,-118.4133 30.5001,-118.4132\"/>\n",
       "</g>\n",
       "<!-- Y -->\n",
       "<g id=\"node2\" class=\"node\">\n",
       "<title>Y</title>\n",
       "<ellipse fill=\"none\" stroke=\"#000000\" cx=\"54\" cy=\"-18\" rx=\"27\" ry=\"18\"/>\n",
       "<text text-anchor=\"middle\" x=\"54\" y=\"-14.3\" font-family=\"Times,serif\" font-size=\"14.00\" fill=\"#000000\">Y</text>\n",
       "</g>\n",
       "<!-- Z&#45;&gt;Y -->\n",
       "<g id=\"edge4\" class=\"edge\">\n",
       "<title>Z&#45;&gt;Y</title>\n",
       "<path fill=\"none\" stroke=\"#000000\" d=\"M33.6742,-72.2022C36.7476,-64.0064 40.4616,-54.1024 43.8695,-45.0145\"/>\n",
       "<polygon fill=\"#000000\" stroke=\"#000000\" points=\"47.1685,-46.1853 47.4026,-35.593 40.6142,-43.7274 47.1685,-46.1853\"/>\n",
       "</g>\n",
       "<!-- U -->\n",
       "<g id=\"node4\" class=\"node\">\n",
       "<title>U</title>\n",
       "<ellipse fill=\"none\" stroke=\"#000000\" cx=\"54\" cy=\"-234\" rx=\"27\" ry=\"18\"/>\n",
       "<text text-anchor=\"middle\" x=\"54\" y=\"-230.3\" font-family=\"Times,serif\" font-size=\"14.00\" fill=\"#000000\">U</text>\n",
       "</g>\n",
       "<!-- U&#45;&gt;X -->\n",
       "<g id=\"edge1\" class=\"edge\">\n",
       "<title>U&#45;&gt;X</title>\n",
       "<path fill=\"none\" stroke=\"#000000\" d=\"M47.3258,-216.2022C44.2524,-208.0064 40.5384,-198.1024 37.1305,-189.0145\"/>\n",
       "<polygon fill=\"#000000\" stroke=\"#000000\" points=\"40.3858,-187.7274 33.5974,-179.593 33.8315,-190.1853 40.3858,-187.7274\"/>\n",
       "</g>\n",
       "<!-- U&#45;&gt;Y -->\n",
       "<g id=\"edge2\" class=\"edge\">\n",
       "<title>U&#45;&gt;Y</title>\n",
       "<path fill=\"none\" stroke=\"#000000\" d=\"M57.7474,-216.0931C59.7466,-205.6241 61.9966,-192.1241 63,-180 66.9591,-132.1636 66.9591,-119.8364 63,-72 62.2945,-63.4753 60.9727,-54.2703 59.5551,-45.917\"/>\n",
       "<polygon fill=\"#000000\" stroke=\"#000000\" points=\"62.9689,-45.1258 57.7474,-35.9069 56.0803,-46.3698 62.9689,-45.1258\"/>\n",
       "</g>\n",
       "</g>\n",
       "</svg>\n"
      ],
      "text/plain": [
       "<graphviz.dot.Digraph at 0x7f1ff1cf9e10>"
      ]
     },
     "execution_count": 18,
     "metadata": {},
     "output_type": "execute_result"
    }
   ],
   "source": [
    "frontdoor_causal = StructuralCausalModel({\n",
    "    \"U\": lambda    n_samples: np.random.binomial(n=1, p=choice(p), size=n_samples),\n",
    "    \"X\": lambda U, n_samples: np.array(list(map(one_variable_channel, U, np.array([choice(p)] * n_samples), np.array([choice(one_var_list)] * n_samples)))),\n",
    "    \"Z\": lambda X, n_samples: np.array(list(map(one_variable_channel, X, np.array([choice(p)] * n_samples), np.array([choice(one_var_list)] * n_samples)))),\n",
    "    \"Y\": lambda U, Z, n_samples: np.array(list(map(two_variables_channel, U, Z, np.array([choice(p)] * n_samples), np.array([choice(two_var_list)] * n_samples)))),\n",
    "})\n",
    "\n",
    "frontdoor_causal.cgm.draw()"
   ]
  },
  {
   "cell_type": "code",
   "execution_count": 19,
   "metadata": {
    "ExecuteTime": {
     "end_time": "2020-10-06T01:58:23.673335Z",
     "start_time": "2020-10-06T01:58:23.655889Z"
    }
   },
   "outputs": [
    {
     "data": {
      "image/svg+xml": [
       "<?xml version=\"1.0\" encoding=\"UTF-8\" standalone=\"no\"?>\n",
       "<!DOCTYPE svg PUBLIC \"-//W3C//DTD SVG 1.1//EN\"\n",
       " \"http://www.w3.org/Graphics/SVG/1.1/DTD/svg11.dtd\">\n",
       "<!-- Generated by graphviz version 2.40.1 (20161225.0304)\n",
       " -->\n",
       "<!-- Title: %3 Pages: 1 -->\n",
       "<svg width=\"90pt\" height=\"260pt\"\n",
       " viewBox=\"0.00 0.00 90.00 260.00\" xmlns=\"http://www.w3.org/2000/svg\" xmlns:xlink=\"http://www.w3.org/1999/xlink\">\n",
       "<g id=\"graph0\" class=\"graph\" transform=\"scale(1 1) rotate(0) translate(4 256)\">\n",
       "<title>%3</title>\n",
       "<polygon fill=\"#ffffff\" stroke=\"transparent\" points=\"-4,4 -4,-256 86,-256 86,4 -4,4\"/>\n",
       "<!-- X -->\n",
       "<g id=\"node1\" class=\"node\">\n",
       "<title>X</title>\n",
       "<ellipse fill=\"none\" stroke=\"#000000\" cx=\"27\" cy=\"-18\" rx=\"27\" ry=\"18\"/>\n",
       "<text text-anchor=\"middle\" x=\"27\" y=\"-14.3\" font-family=\"Times,serif\" font-size=\"14.00\" fill=\"#000000\">X</text>\n",
       "</g>\n",
       "<!-- Y -->\n",
       "<g id=\"node2\" class=\"node\">\n",
       "<title>Y</title>\n",
       "<ellipse fill=\"none\" stroke=\"#000000\" cx=\"55\" cy=\"-162\" rx=\"27\" ry=\"18\"/>\n",
       "<text text-anchor=\"middle\" x=\"55\" y=\"-158.3\" font-family=\"Times,serif\" font-size=\"14.00\" fill=\"#000000\">Y</text>\n",
       "</g>\n",
       "<!-- Z -->\n",
       "<g id=\"node3\" class=\"node\">\n",
       "<title>Z</title>\n",
       "<ellipse fill=\"none\" stroke=\"#000000\" cx=\"55\" cy=\"-90\" rx=\"27\" ry=\"18\"/>\n",
       "<text text-anchor=\"middle\" x=\"55\" y=\"-86.3\" font-family=\"Times,serif\" font-size=\"14.00\" fill=\"#000000\">Z</text>\n",
       "</g>\n",
       "<!-- Y&#45;&gt;Z -->\n",
       "<g id=\"edge3\" class=\"edge\">\n",
       "<title>Y&#45;&gt;Z</title>\n",
       "<path fill=\"none\" stroke=\"#000000\" d=\"M55,-143.8314C55,-136.131 55,-126.9743 55,-118.4166\"/>\n",
       "<polygon fill=\"#000000\" stroke=\"#000000\" points=\"58.5001,-118.4132 55,-108.4133 51.5001,-118.4133 58.5001,-118.4132\"/>\n",
       "</g>\n",
       "<!-- Z&#45;&gt;X -->\n",
       "<g id=\"edge4\" class=\"edge\">\n",
       "<title>Z&#45;&gt;X</title>\n",
       "<path fill=\"none\" stroke=\"#000000\" d=\"M48.222,-72.5708C45.0128,-64.3187 41.1065,-54.2738 37.5242,-45.0623\"/>\n",
       "<polygon fill=\"#000000\" stroke=\"#000000\" points=\"40.6992,-43.5697 33.8126,-35.5182 34.1752,-46.1069 40.6992,-43.5697\"/>\n",
       "</g>\n",
       "<!-- U -->\n",
       "<g id=\"node4\" class=\"node\">\n",
       "<title>U</title>\n",
       "<ellipse fill=\"none\" stroke=\"#000000\" cx=\"27\" cy=\"-234\" rx=\"27\" ry=\"18\"/>\n",
       "<text text-anchor=\"middle\" x=\"27\" y=\"-230.3\" font-family=\"Times,serif\" font-size=\"14.00\" fill=\"#000000\">U</text>\n",
       "</g>\n",
       "<!-- U&#45;&gt;X -->\n",
       "<g id=\"edge2\" class=\"edge\">\n",
       "<title>U&#45;&gt;X</title>\n",
       "<path fill=\"none\" stroke=\"#000000\" d=\"M23.6685,-216.0736C21.8913,-205.5982 19.8913,-192.0982 19,-180 15.4733,-132.1297 15.4733,-119.8703 19,-72 19.6267,-63.4935 20.8015,-54.2939 22.0616,-45.9399\"/>\n",
       "<polygon fill=\"#000000\" stroke=\"#000000\" points=\"25.5398,-46.3546 23.6685,-35.9264 18.6282,-45.2455 25.5398,-46.3546\"/>\n",
       "</g>\n",
       "<!-- U&#45;&gt;Y -->\n",
       "<g id=\"edge1\" class=\"edge\">\n",
       "<title>U&#45;&gt;Y</title>\n",
       "<path fill=\"none\" stroke=\"#000000\" d=\"M33.778,-216.5708C36.9872,-208.3187 40.8935,-198.2738 44.4758,-189.0623\"/>\n",
       "<polygon fill=\"#000000\" stroke=\"#000000\" points=\"47.8248,-190.1069 48.1874,-179.5182 41.3008,-187.5697 47.8248,-190.1069\"/>\n",
       "</g>\n",
       "</g>\n",
       "</svg>\n"
      ],
      "text/plain": [
       "<graphviz.dot.Digraph at 0x7f1ff1d5c290>"
      ]
     },
     "execution_count": 19,
     "metadata": {},
     "output_type": "execute_result"
    }
   ],
   "source": [
    "frontdoor_anticausal = StructuralCausalModel({\n",
    "    \"U\": lambda    n_samples: np.random.binomial(n=1, p=choice(p), size=n_samples),\n",
    "    \"Y\": lambda U, n_samples: np.array(list(map(one_variable_channel, U, np.array([choice(p)] * n_samples), np.array([choice(one_var_list)] * n_samples)))),\n",
    "    \"Z\": lambda Y, n_samples: np.array(list(map(one_variable_channel, Y, np.array([choice(p)] * n_samples), np.array([choice(one_var_list)] * n_samples)))),\n",
    "    \"X\": lambda U, Z, n_samples: np.array(list(map(two_variables_channel, U, Z, np.array([choice(p)] * n_samples), np.array([choice(two_var_list)] * n_samples)))),\n",
    "})\n",
    "\n",
    "frontdoor_anticausal.cgm.draw()"
   ]
  },
  {
   "cell_type": "markdown",
   "metadata": {},
   "source": [
    "## Experiment"
   ]
  },
  {
   "cell_type": "code",
   "execution_count": 20,
   "metadata": {
    "ExecuteTime": {
     "end_time": "2020-10-06T01:58:24.724100Z",
     "start_time": "2020-10-06T01:58:24.720940Z"
    }
   },
   "outputs": [],
   "source": [
    "scms = {\n",
    "    'basic_causal':basic_causal,\n",
    "    'basic_anticausal':basic_anticausal,\n",
    "    'chain_causal':chain_causal,\n",
    "    'chain_anticausal':chain_anticausal,\n",
    "    'cofounder_causal':cofounder_causal,\n",
    "    'cofounder_causal2':cofounder_causal2,\n",
    "    'cofounder_anticausal':cofounder_anticausal,\n",
    "    'cofounder_anticausal2':cofounder_anticausal2,\n",
    "    'collider_causal':collider_causal,\n",
    "    'collider_anticausal':collider_anticausal,\n",
    "    'frontdoor_causal':frontdoor_causal,\n",
    "    'frontdoor_anticausal':frontdoor_anticausal\n",
    "}\n",
    "\n",
    "def sample_base(scm_name, n=1000):\n",
    "    scms = {\n",
    "        'basic_causal':basic_causal,\n",
    "        'basic_anticausal':basic_anticausal,\n",
    "        'chain_causal':chain_causal,\n",
    "        'chain_anticausal':chain_anticausal,\n",
    "        'cofounder_causal':cofounder_causal,\n",
    "        'cofounder_causal2':cofounder_causal2,\n",
    "        'cofounder_anticausal':cofounder_anticausal,\n",
    "        'cofounder_anticausal2':cofounder_anticausal2,\n",
    "        'collider_causal':collider_causal,\n",
    "        'collider_anticausal':collider_anticausal,\n",
    "        'frontdoor_causal':frontdoor_causal,\n",
    "        'frontdoor_anticausal':frontdoor_anticausal\n",
    "    }\n",
    "    \n",
    "    df = scms[scm_name].sample(n)\n",
    "    return df\n",
    "\n",
    "\n",
    "def run_test(scm_name):\n",
    "    df = sample_base(scm_name)\n",
    "    flows = test_suite(df)\n",
    "    flows['scm'] = scm_name\n",
    "    return flows"
   ]
  },
  {
   "cell_type": "code",
   "execution_count": 21,
   "metadata": {
    "ExecuteTime": {
     "end_time": "2020-10-06T02:01:21.612416Z",
     "start_time": "2020-10-06T01:58:25.240960Z"
    }
   },
   "outputs": [],
   "source": [
    "n_runs = 100000\n",
    "idx = choice(list(scms.keys()), size=n_runs)\n",
    "\n",
    "parallelized_test = Pool()\n",
    "data = parallelized_test.map(run_test, idx)"
   ]
  },
  {
   "cell_type": "code",
   "execution_count": 22,
   "metadata": {
    "ExecuteTime": {
     "end_time": "2020-10-06T02:01:21.922219Z",
     "start_time": "2020-10-06T02:01:21.613568Z"
    }
   },
   "outputs": [],
   "source": [
    "df = pd.DataFrame(data)"
   ]
  },
  {
   "cell_type": "code",
   "execution_count": 24,
   "metadata": {
    "ExecuteTime": {
     "end_time": "2020-10-06T02:01:53.886873Z",
     "start_time": "2020-10-06T02:01:52.609111Z"
    }
   },
   "outputs": [],
   "source": [
    "df.to_csv(\"sample_flows_100k.csv\", index=False)"
   ]
  },
  {
   "cell_type": "markdown",
   "metadata": {},
   "source": [
    "### Debug"
   ]
  },
  {
   "cell_type": "code",
   "execution_count": 62,
   "metadata": {
    "ExecuteTime": {
     "end_time": "2020-10-01T20:22:37.179944Z",
     "start_time": "2020-10-01T20:22:24.632827Z"
    }
   },
   "outputs": [],
   "source": [
    "flows_causal = run_experiment(basic_causal, n_samples=1000, n_runs=1000)\n",
    "df_causal = pd.DataFrame(flows_causal, columns=['direct_flow', 'reverse_flow'])\n",
    "df_causal['label'] = 'Causal'\n",
    "\n",
    "flows_anticausal = run_experiment(basic_anticausal, n_samples=1000, n_runs=1000)\n",
    "df_anticausal = pd.DataFrame(flows_anticausal, columns=['direct_flow', 'reverse_flow'])\n",
    "df_anticausal['label'] = 'Anti-Causal'"
   ]
  },
  {
   "cell_type": "code",
   "execution_count": 63,
   "metadata": {
    "ExecuteTime": {
     "end_time": "2020-10-01T20:22:37.275360Z",
     "start_time": "2020-10-01T20:22:37.180800Z"
    }
   },
   "outputs": [
    {
     "data": {
      "image/png": "[encoded data removed]",
      "text/plain": [
       "<Figure size 720x720 with 1 Axes>"
      ]
     },
     "metadata": {},
     "output_type": "display_data"
    }
   ],
   "source": [
    "df = pd.concat([df_causal, df_anticausal])\n",
    "plot_flows(df)"
   ]
  },
  {
   "cell_type": "code",
   "execution_count": 64,
   "metadata": {
    "ExecuteTime": {
     "end_time": "2020-10-01T20:22:37.290476Z",
     "start_time": "2020-10-01T20:22:37.276170Z"
    }
   },
   "outputs": [
    {
     "name": "stdout",
     "output_type": "stream",
     "text": [
      "Causal\n",
      "Direct > Reverse: 0.0\n",
      "Direct = Reverse: 1.0\n",
      "Direct < Reverse: 0.0\n",
      "____________________________________\n",
      "Anti-Causal\n",
      "Direct > Reverse: 0.0\n",
      "Direct = Reverse: 1.0\n",
      "Direct < Reverse: 0.0\n"
     ]
    }
   ],
   "source": [
    "print(\"Causal\")\n",
    "print(\"Direct > Reverse:\", df.query(\"direct_flow > reverse_flow and label == 'Causal'\").shape[0]/df.shape[0]*2)\n",
    "print(\"Direct = Reverse:\", df.query(\"direct_flow == reverse_flow and label == 'Causal'\").shape[0]/df.shape[0]*2)\n",
    "print(\"Direct < Reverse:\", df.query(\"direct_flow < reverse_flow and label == 'Causal'\").shape[0]/df.shape[0]*2)\n",
    "print(\"____________________________________\")\n",
    "print(\"Anti-Causal\")\n",
    "print(\"Direct > Reverse:\", df.query(\"direct_flow > reverse_flow and label == 'Anti-Causal'\").shape[0]/df.shape[0]*2)\n",
    "print(\"Direct = Reverse:\", df.query(\"direct_flow == reverse_flow and label == 'Anti-Causal'\").shape[0]/df.shape[0]*2)\n",
    "print(\"Direct < Reverse:\", df.query(\"direct_flow < reverse_flow and label == 'Anti-Causal'\").shape[0]/df.shape[0]*2)"
   ]
  }
 ],
 "metadata": {
  "kernelspec": {
   "display_name": "Python 3",
   "language": "python",
   "name": "python3"
  },
  "language_info": {
   "codemirror_mode": {
    "name": "ipython",
    "version": 3
   },
   "file_extension": ".py",
   "mimetype": "text/x-python",
   "name": "python",
   "nbconvert_exporter": "python",
   "pygments_lexer": "ipython3",
   "version": "3.7.10"
  },
  "toc": {
   "base_numbering": 1,
   "nav_menu": {},
   "number_sections": true,
   "sideBar": true,
   "skip_h1_title": false,
   "title_cell": "Table of Contents",
   "title_sidebar": "Contents",
   "toc_cell": false,
   "toc_position": {
    "height": "calc(100% - 180px)",
    "left": "10px",
    "top": "150px",
    "width": "183.807px"
   },
   "toc_section_display": true,
   "toc_window_display": true
  }
 },
 "nbformat": 4,
 "nbformat_minor": 4
}
