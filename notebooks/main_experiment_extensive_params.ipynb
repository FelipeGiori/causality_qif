{
 "cells": [
  {
   "cell_type": "code",
   "execution_count": 1,
   "metadata": {
    "ExecuteTime": {
     "end_time": "2021-01-08T22:26:52.655368Z",
     "start_time": "2021-01-08T22:26:52.029458Z"
    }
   },
   "outputs": [],
   "source": [
    "import qif\n",
    "import numpy as np\n",
    "import pandas as pd\n",
    "\n",
    "from causalgraphicalmodels import StructuralCausalModel, CausalGraphicalModel\n",
    "from tqdm.notebook import tqdm\n",
    "from scipy.stats import entropy\n",
    "from multiprocessing import Pool\n",
    "\n",
    "import matplotlib.pyplot as plt\n",
    "plt.style.use(\"seaborn-whitegrid\")"
   ]
  },
  {
   "cell_type": "markdown",
   "metadata": {},
   "source": [
    "## Channels"
   ]
  },
  {
   "cell_type": "code",
   "execution_count": 2,
   "metadata": {
    "ExecuteTime": {
     "end_time": "2021-01-08T22:26:52.660530Z",
     "start_time": "2021-01-08T22:26:52.656072Z"
    },
    "code_folding": [
     0
    ]
   },
   "outputs": [],
   "source": [
    "# Support functions\n",
    "def bernoulli(p, size=None):\n",
    "    \"\"\"p = P(x=1)\"\"\"\n",
    "    return np.random.binomial(n=1, p=p, size=size)\n",
    "\n",
    "\n",
    "def _z_channel(x, flip):\n",
    "    if x == 0:\n",
    "        return 0\n",
    "    else:\n",
    "        return bernoulli(1-flip)\n",
    "    \n",
    "\n",
    "def _direct_channel(x):\n",
    "    return x\n",
    "\n",
    "\n",
    "def _symmetric_channel(x, flip):\n",
    "    if x == 0:\n",
    "        return bernoulli(flip)\n",
    "    else:\n",
    "        return bernoulli(1 - flip)\n",
    "    \n",
    "    \n",
    "def _xor_channel(x1, x2):\n",
    "    if x1 == x2:\n",
    "        return bernoulli(0)\n",
    "    else:\n",
    "        return bernoulli(1)\n",
    "    \n",
    "\n",
    "def _pxor_channel(x1, x2, flip):\n",
    "    if x1 == x2:\n",
    "        return bernoulli(flip)\n",
    "    else:\n",
    "        return bernoulli(1 - flip)\n",
    "    \n",
    "\n",
    "def _and_channel(x1, x2):\n",
    "    if x1 == x2 == 1:\n",
    "        return bernoulli(1)\n",
    "    else:\n",
    "        return bernoulli(0)\n",
    "    \n",
    "\n",
    "def _pand_channel(x1, x2, flip):\n",
    "    if x1 == x2 == 1:\n",
    "        return bernoulli(1 - flip)\n",
    "    else:\n",
    "        return bernoulli(flip)\n",
    "    \n",
    "\n",
    "def _or_channel(x1, x2):\n",
    "    if x1 == x2 == 0:\n",
    "        return bernoulli(0)\n",
    "    else:\n",
    "        return bernoulli(1)\n",
    "    \n",
    "\n",
    "def _por_channel(x1, x2, flip):\n",
    "    if x1 == x2 == 0:\n",
    "        return bernoulli(flip)\n",
    "    else:\n",
    "        return bernoulli(1 - flip)\n",
    "    \n",
    "    \n",
    "def joint_distribution(df, x, y):\n",
    "    joint_dist = df.groupby([x, y]).size().unstack()\n",
    "    joint_dist.columns = joint_dist.columns.get_level_values(0)\n",
    "    joint_dist = joint_dist.div(joint_dist.sum().sum())\n",
    "    return joint_dist.fillna(0)"
   ]
  },
  {
   "cell_type": "code",
   "execution_count": 3,
   "metadata": {
    "ExecuteTime": {
     "end_time": "2021-01-08T22:26:52.739062Z",
     "start_time": "2021-01-08T22:26:52.736302Z"
    },
    "code_folding": [
     1,
     12
    ]
   },
   "outputs": [],
   "source": [
    "# Graph function\n",
    "def one_variable_channel(x, flip=0.5, name='z'):\n",
    "    if name == 'z':\n",
    "        return _z_channel(x, flip)\n",
    "    elif name == 'direct':\n",
    "        return _direct_channel(x)\n",
    "    elif name == 'symmetric':\n",
    "        return _symmetric_channel(x, flip)\n",
    "    else:\n",
    "        raise NameError('Function not valid')\n",
    "    \n",
    "    \n",
    "def two_variables_channel(x1, x2, flip=0.5, name='xor'):\n",
    "    if name == 'xor':\n",
    "        return _xor_channel(x1, x2)\n",
    "    elif name == 'pxor':\n",
    "        return _pxor_channel(x1, x2, flip)\n",
    "    elif name == 'and':\n",
    "        return _and_channel(x1, x2)\n",
    "    elif name == 'pand':\n",
    "        return _pand_channel(x1, x2, flip)\n",
    "    elif name == 'or':\n",
    "        return _or_channel(x1, x2)\n",
    "    elif name == 'por':\n",
    "        return _por_channel(x1, x2, flip)\n",
    "    else:\n",
    "        raise NameError('Function not valid')"
   ]
  },
  {
   "cell_type": "code",
   "execution_count": 4,
   "metadata": {
    "ExecuteTime": {
     "end_time": "2021-01-08T22:26:52.944732Z",
     "start_time": "2021-01-08T22:26:52.941641Z"
    },
    "code_folding": [
     0
    ]
   },
   "outputs": [],
   "source": [
    "# Entropy functions\n",
    "def guessing_entropy(l):\n",
    "    \"\"\" Return the Shannon entropy of random variable with probability vector l\"\"\"\n",
    "    tmp = l.sort_values(ascending=False)\n",
    "    return sum([p*i for (i,p) in enumerate(l)]) + 1\n",
    "\n",
    "\n",
    "def shannon_entropy(l):\n",
    "    return entropy(l, base=2)\n",
    "\n",
    "\n",
    "def joint_shannon_entropy(joint):\n",
    "    return shannon_entropy(joint.values.flatten())\n",
    "\n",
    "\n",
    "def conditional_shannon_entropy(joint, axis=1):\n",
    "    X = joint.sum(axis=axis)\n",
    "    Y_given_X = joint.div(X, axis=1)\n",
    "    ent = 0\n",
    "    for x in X.index:\n",
    "        if axis == 1:\n",
    "            tmp = Y_given_X.loc[x]\n",
    "        else:\n",
    "            tmp = Y_given_X[x]\n",
    "        ent += X.loc[x] * entropy(tmp, base=2)   \n",
    "    return ent\n",
    "\n",
    "\n",
    "def mutual_information(joint, axis=0):\n",
    "    Y = joint.sum(axis=axis)\n",
    "    return shannon_entropy(Y) - conditional_shannon_entropy(joint, axis=1-axis)"
   ]
  },
  {
   "cell_type": "code",
   "execution_count": 5,
   "metadata": {
    "ExecuteTime": {
     "end_time": "2021-01-08T22:26:53.141592Z",
     "start_time": "2021-01-08T22:26:53.138216Z"
    },
    "code_folding": [
     1
    ]
   },
   "outputs": [],
   "source": [
    "# Compute attributes\n",
    "def test_suite(df):\n",
    "    data = {}\n",
    "    joint = joint_distribution(df, x='X', y='Y')\n",
    "    data['shannon_entropy_X'] = shannon_entropy(joint.sum(axis=1))\n",
    "    data['shannon_entropy_Y'] = shannon_entropy(joint.sum(axis=0))\n",
    "    data['joint_shannon_entropy'] = joint_shannon_entropy(joint)\n",
    "    data['conditional_shannon_entropy_X|Y'] = conditional_shannon_entropy(joint, axis=0)\n",
    "    data['conditional_shannon_entropy_Y|X'] = conditional_shannon_entropy(joint, axis=1)\n",
    "    data['mutual_information'] = mutual_information(joint, axis=0)\n",
    "    data['guessing_entropy_X'] = guessing_entropy(joint.sum(axis=1))\n",
    "    data['guessing_entropy_Y'] = guessing_entropy(joint.sum(axis=0))\n",
    "    \n",
    "    bayes = qif.BayesLeakage(df)\n",
    "    data['mult_avg_dir_flow'], data['mult_avg_rev_flow'] = bayes.compute_flows(x='X', y='Y')\n",
    "    data['mult_max_dir_flow'], data['mult_max_rev_flow'] = bayes.compute_flows(x='X', y='Y', vulnerability_type='max')\n",
    "    data['addt_avg_dir_flow'], data['addt_avg_rev_flow'] = bayes.compute_flows(x='X', y='Y', leakage_type='additive')\n",
    "    data['addt_max_dir_flow'], data['addt_max_rev_flow'] = bayes.compute_flows(x='X', y='Y', leakage_type='additive', vulnerability_type='max')\n",
    "    return data"
   ]
  },
  {
   "cell_type": "code",
   "execution_count": 6,
   "metadata": {
    "ExecuteTime": {
     "end_time": "2021-01-08T22:26:53.358809Z",
     "start_time": "2021-01-08T22:26:53.357038Z"
    }
   },
   "outputs": [],
   "source": [
    "# Setup\n",
    "one_var_list = ['z', 'direct', 'symmetric']\n",
    "two_var_list = ['xor', 'pxor', 'and', 'pand', 'or', 'por']\n",
    "dist = [0, 0.25, 0.5, 0.75, 1]\n",
    "n_runs = 30\n",
    "\n",
    "# Aliases\n",
    "choice = np.random.choice"
   ]
  },
  {
   "cell_type": "markdown",
   "metadata": {},
   "source": [
    "## SCMs"
   ]
  },
  {
   "cell_type": "markdown",
   "metadata": {
    "heading_collapsed": true
   },
   "source": [
    "### Basic causal"
   ]
  },
  {
   "cell_type": "code",
   "execution_count": 7,
   "metadata": {
    "ExecuteTime": {
     "end_time": "2021-01-08T22:26:54.160894Z",
     "start_time": "2021-01-08T22:26:54.134187Z"
    },
    "hidden": true
   },
   "outputs": [
    {
     "data": {
      "image/svg+xml": [
       "<?xml version=\"1.0\" encoding=\"UTF-8\" standalone=\"no\"?>\n",
       "<!DOCTYPE svg PUBLIC \"-//W3C//DTD SVG 1.1//EN\"\n",
       " \"http://www.w3.org/Graphics/SVG/1.1/DTD/svg11.dtd\">\n",
       "<!-- Generated by graphviz version 2.40.1 (20161225.0304)\n",
       " -->\n",
       "<!-- Title: %3 Pages: 1 -->\n",
       "<svg width=\"62pt\" height=\"116pt\"\n",
       " viewBox=\"0.00 0.00 62.00 116.00\" xmlns=\"http://www.w3.org/2000/svg\" xmlns:xlink=\"http://www.w3.org/1999/xlink\">\n",
       "<g id=\"graph0\" class=\"graph\" transform=\"scale(1 1) rotate(0) translate(4 112)\">\n",
       "<title>%3</title>\n",
       "<polygon fill=\"#ffffff\" stroke=\"transparent\" points=\"-4,4 -4,-112 58,-112 58,4 -4,4\"/>\n",
       "<!-- Y -->\n",
       "<g id=\"node1\" class=\"node\">\n",
       "<title>Y</title>\n",
       "<ellipse fill=\"none\" stroke=\"#000000\" cx=\"27\" cy=\"-18\" rx=\"27\" ry=\"18\"/>\n",
       "<text text-anchor=\"middle\" x=\"27\" y=\"-14.3\" font-family=\"Times,serif\" font-size=\"14.00\" fill=\"#000000\">Y</text>\n",
       "</g>\n",
       "<!-- X -->\n",
       "<g id=\"node2\" class=\"node\">\n",
       "<title>X</title>\n",
       "<ellipse fill=\"none\" stroke=\"#000000\" cx=\"27\" cy=\"-90\" rx=\"27\" ry=\"18\"/>\n",
       "<text text-anchor=\"middle\" x=\"27\" y=\"-86.3\" font-family=\"Times,serif\" font-size=\"14.00\" fill=\"#000000\">X</text>\n",
       "</g>\n",
       "<!-- X&#45;&gt;Y -->\n",
       "<g id=\"edge1\" class=\"edge\">\n",
       "<title>X&#45;&gt;Y</title>\n",
       "<path fill=\"none\" stroke=\"#000000\" d=\"M27,-71.8314C27,-64.131 27,-54.9743 27,-46.4166\"/>\n",
       "<polygon fill=\"#000000\" stroke=\"#000000\" points=\"30.5001,-46.4132 27,-36.4133 23.5001,-46.4133 30.5001,-46.4132\"/>\n",
       "</g>\n",
       "</g>\n",
       "</svg>\n"
      ],
      "text/plain": [
       "<graphviz.dot.Digraph at 0x7fd5b6a393d0>"
      ]
     },
     "execution_count": 7,
     "metadata": {},
     "output_type": "execute_result"
    }
   ],
   "source": [
    "basic_causal = StructuralCausalModel({\n",
    "    \"X\": lambda    n_samples: np.random.binomial(n=1, p=p, size=n_samples),\n",
    "    \"Y\": lambda X, n_samples: np.array(list(map(one_variable_channel, X, np.array([p_flip] * n_samples), np.array([func] * n_samples)))),\n",
    "})\n",
    "\n",
    "basic_causal.cgm.draw()"
   ]
  },
  {
   "cell_type": "code",
   "execution_count": null,
   "metadata": {
    "ExecuteTime": {
     "end_time": "2021-01-08T22:27:02.282344Z",
     "start_time": "2021-01-08T22:26:55.704277Z"
    },
    "hidden": true
   },
   "outputs": [],
   "source": [
    "basic_causal_flows = []\n",
    "for p in dist:\n",
    "    for p_flip in dist:\n",
    "        for func in one_var_list:\n",
    "            for _ in range(n_runs):\n",
    "                df = basic_causal.sample(10000)\n",
    "                basic_causal_dict = test_suite(df)\n",
    "                basic_causal_dict['p'] = p\n",
    "                basic_causal_dict['p_flip'] = p_flip\n",
    "                basic_causal_dict['func'] = func\n",
    "                basic_causal_dict['name'] = 'basic_causal'\n",
    "                basic_causal_flows.append(basic_causal_dict)"
   ]
  },
  {
   "cell_type": "code",
   "execution_count": 9,
   "metadata": {
    "ExecuteTime": {
     "end_time": "2020-11-07T21:29:48.105649Z",
     "start_time": "2020-11-07T21:29:48.097829Z"
    },
    "hidden": true
   },
   "outputs": [],
   "source": [
    "basic_causal_df = pd.DataFrame(basic_causal_flows)"
   ]
  },
  {
   "cell_type": "markdown",
   "metadata": {},
   "source": [
    "### Basic anticausal"
   ]
  },
  {
   "cell_type": "code",
   "execution_count": 10,
   "metadata": {
    "ExecuteTime": {
     "end_time": "2020-11-07T21:29:48.125646Z",
     "start_time": "2020-11-07T21:29:48.106262Z"
    }
   },
   "outputs": [
    {
     "data": {
      "image/svg+xml": [
       "<?xml version=\"1.0\" encoding=\"UTF-8\" standalone=\"no\"?>\n",
       "<!DOCTYPE svg PUBLIC \"-//W3C//DTD SVG 1.1//EN\"\n",
       " \"http://www.w3.org/Graphics/SVG/1.1/DTD/svg11.dtd\">\n",
       "<!-- Generated by graphviz version 2.40.1 (20161225.0304)\n",
       " -->\n",
       "<!-- Title: %3 Pages: 1 -->\n",
       "<svg width=\"62pt\" height=\"116pt\"\n",
       " viewBox=\"0.00 0.00 62.00 116.00\" xmlns=\"http://www.w3.org/2000/svg\" xmlns:xlink=\"http://www.w3.org/1999/xlink\">\n",
       "<g id=\"graph0\" class=\"graph\" transform=\"scale(1 1) rotate(0) translate(4 112)\">\n",
       "<title>%3</title>\n",
       "<polygon fill=\"#ffffff\" stroke=\"transparent\" points=\"-4,4 -4,-112 58,-112 58,4 -4,4\"/>\n",
       "<!-- X -->\n",
       "<g id=\"node1\" class=\"node\">\n",
       "<title>X</title>\n",
       "<ellipse fill=\"none\" stroke=\"#000000\" cx=\"27\" cy=\"-18\" rx=\"27\" ry=\"18\"/>\n",
       "<text text-anchor=\"middle\" x=\"27\" y=\"-14.3\" font-family=\"Times,serif\" font-size=\"14.00\" fill=\"#000000\">X</text>\n",
       "</g>\n",
       "<!-- Y -->\n",
       "<g id=\"node2\" class=\"node\">\n",
       "<title>Y</title>\n",
       "<ellipse fill=\"none\" stroke=\"#000000\" cx=\"27\" cy=\"-90\" rx=\"27\" ry=\"18\"/>\n",
       "<text text-anchor=\"middle\" x=\"27\" y=\"-86.3\" font-family=\"Times,serif\" font-size=\"14.00\" fill=\"#000000\">Y</text>\n",
       "</g>\n",
       "<!-- Y&#45;&gt;X -->\n",
       "<g id=\"edge1\" class=\"edge\">\n",
       "<title>Y&#45;&gt;X</title>\n",
       "<path fill=\"none\" stroke=\"#000000\" d=\"M27,-71.8314C27,-64.131 27,-54.9743 27,-46.4166\"/>\n",
       "<polygon fill=\"#000000\" stroke=\"#000000\" points=\"30.5001,-46.4132 27,-36.4133 23.5001,-46.4133 30.5001,-46.4132\"/>\n",
       "</g>\n",
       "</g>\n",
       "</svg>\n"
      ],
      "text/plain": [
       "<graphviz.dot.Digraph at 0x7f7c28a84610>"
      ]
     },
     "execution_count": 10,
     "metadata": {},
     "output_type": "execute_result"
    }
   ],
   "source": [
    "basic_anticausal = StructuralCausalModel({\n",
    "    \"Y\": lambda    n_samples: np.random.binomial(n=1, p=p, size=n_samples),\n",
    "    \"X\": lambda Y, n_samples: np.array(list(map(one_variable_channel, Y, np.array([p_flip] * n_samples), np.array([func] * n_samples)))),\n",
    "})\n",
    "\n",
    "basic_anticausal.cgm.draw()"
   ]
  },
  {
   "cell_type": "code",
   "execution_count": 11,
   "metadata": {
    "ExecuteTime": {
     "end_time": "2020-11-07T21:31:04.066476Z",
     "start_time": "2020-11-07T21:29:48.126475Z"
    }
   },
   "outputs": [],
   "source": [
    "basic_anticausal_flows = []\n",
    "for p in dist:\n",
    "    for p_flip in dist:\n",
    "        for func in one_var_list:\n",
    "            for _ in range(n_runs):\n",
    "                df = basic_anticausal.sample(10000)\n",
    "                basic_anticausal_dict = test_suite(df)\n",
    "                basic_anticausal_dict['p'] = p\n",
    "                basic_anticausal_dict['p_flip'] = p_flip\n",
    "                basic_anticausal_dict['func'] = func\n",
    "                basic_anticausal_dict['name'] = 'basic_anticausal'\n",
    "                basic_anticausal_flows.append(basic_anticausal_dict)"
   ]
  },
  {
   "cell_type": "code",
   "execution_count": 12,
   "metadata": {
    "ExecuteTime": {
     "end_time": "2020-11-07T21:31:04.074823Z",
     "start_time": "2020-11-07T21:31:04.067202Z"
    }
   },
   "outputs": [],
   "source": [
    "basic_anticausal_df = pd.DataFrame(basic_anticausal_flows)"
   ]
  },
  {
   "cell_type": "code",
   "execution_count": 13,
   "metadata": {
    "ExecuteTime": {
     "end_time": "2020-11-07T21:31:04.080825Z",
     "start_time": "2020-11-07T21:31:04.075475Z"
    }
   },
   "outputs": [],
   "source": [
    "df = pd.concat([basic_causal_df, basic_anticausal_df])"
   ]
  },
  {
   "cell_type": "code",
   "execution_count": 14,
   "metadata": {
    "ExecuteTime": {
     "end_time": "2020-11-07T21:31:04.104913Z",
     "start_time": "2020-11-07T21:31:04.081454Z"
    }
   },
   "outputs": [],
   "source": [
    "df.to_parquet(\"data/df_mqecc.parquet\", engine=\"pyarrow\")"
   ]
  },
  {
   "cell_type": "markdown",
   "metadata": {},
   "source": [
    "### Read saved data"
   ]
  },
  {
   "cell_type": "code",
   "execution_count": 9,
   "metadata": {
    "ExecuteTime": {
     "end_time": "2021-01-08T22:27:17.707051Z",
     "start_time": "2021-01-08T22:27:17.594437Z"
    }
   },
   "outputs": [],
   "source": [
    "df = pd.read_parquet(\"data/df_mqecc.parquet\", engine='pyarrow')"
   ]
  },
  {
   "cell_type": "code",
   "execution_count": 10,
   "metadata": {
    "ExecuteTime": {
     "end_time": "2021-01-08T22:27:24.712339Z",
     "start_time": "2021-01-08T22:27:24.710540Z"
    }
   },
   "outputs": [],
   "source": [
    "data = df.copy()"
   ]
  },
  {
   "cell_type": "code",
   "execution_count": 11,
   "metadata": {
    "ExecuteTime": {
     "end_time": "2021-01-08T22:27:25.041575Z",
     "start_time": "2021-01-08T22:27:25.038597Z"
    }
   },
   "outputs": [],
   "source": [
    "cols_to_drop = [x for x in df.columns if 'entropy' in x]\n",
    "df.drop(columns=cols_to_drop, inplace=True)\n",
    "df.drop(columns=['mutual_information'], inplace=True)"
   ]
  },
  {
   "cell_type": "markdown",
   "metadata": {
    "heading_collapsed": true
   },
   "source": [
    "## Fatorial 2k"
   ]
  },
  {
   "cell_type": "code",
   "execution_count": 17,
   "metadata": {
    "ExecuteTime": {
     "end_time": "2020-11-07T21:31:04.115265Z",
     "start_time": "2020-11-07T21:31:04.112604Z"
    },
    "hidden": true
   },
   "outputs": [],
   "source": [
    "fat_2k = df.copy()"
   ]
  },
  {
   "cell_type": "code",
   "execution_count": 18,
   "metadata": {
    "ExecuteTime": {
     "end_time": "2020-11-07T21:31:04.125909Z",
     "start_time": "2020-11-07T21:31:04.116014Z"
    },
    "hidden": true
   },
   "outputs": [],
   "source": [
    "fat_2k.query(\"p == 0.25 or p == 0.75\", inplace=True)\n",
    "fat_2k.query(\"p_flip == 0 or p_flip == 0.5\", inplace=True)\n",
    "fat_2k.query(\"func == 'z' or func == 'symmetric'\", inplace=True)"
   ]
  },
  {
   "cell_type": "code",
   "execution_count": 19,
   "metadata": {
    "ExecuteTime": {
     "end_time": "2020-11-07T21:31:04.135196Z",
     "start_time": "2020-11-07T21:31:04.126702Z"
    },
    "hidden": true
   },
   "outputs": [],
   "source": [
    "fat_2k['i'] = 1\n",
    "fat_2k['a'] = fat_2k['p'].replace({0.25:-1, 0.75:1})\n",
    "fat_2k['b'] = fat_2k['p_flip'].replace({0:-1, 0.5:1})\n",
    "fat_2k['c'] = fat_2k['func'].replace({'z':1, 'symmetric':-1})\n",
    "fat_2k['ab'] = fat_2k['a'] * fat_2k['b']\n",
    "fat_2k['ac'] = fat_2k['a'] * fat_2k['c']\n",
    "fat_2k['bc'] = fat_2k['b'] * fat_2k['c']\n",
    "fat_2k['abc'] = fat_2k['a'] * fat_2k['b'] * fat_2k['c']\n",
    "\n",
    "fat_2k['mult_avg_flow'] = fat_2k['mult_max_dir_flow'] - fat_2k['mult_avg_rev_flow']\n",
    "fat_2k['mult_max_flow'] = fat_2k['mult_max_dir_flow'] - fat_2k['mult_max_rev_flow']\n",
    "fat_2k['addt_avg_flow'] = fat_2k['addt_avg_dir_flow'] - fat_2k['addt_avg_rev_flow']\n",
    "fat_2k['addt_max_flow'] = fat_2k['addt_max_dir_flow'] - fat_2k['addt_max_rev_flow']"
   ]
  },
  {
   "cell_type": "code",
   "execution_count": 20,
   "metadata": {
    "ExecuteTime": {
     "end_time": "2020-11-07T21:31:04.140133Z",
     "start_time": "2020-11-07T21:31:04.135960Z"
    },
    "hidden": true
   },
   "outputs": [],
   "source": [
    "fat_2k = fat_2k.iloc[:, 8:]"
   ]
  },
  {
   "cell_type": "code",
   "execution_count": 21,
   "metadata": {
    "ExecuteTime": {
     "end_time": "2020-11-07T21:31:04.143869Z",
     "start_time": "2020-11-07T21:31:04.142277Z"
    },
    "hidden": true
   },
   "outputs": [],
   "source": [
    "factors = ['i', 'a', 'b', 'c', 'ab', 'ac', 'bc', 'abc']\n",
    "metric = 'mult_avg_flow'"
   ]
  },
  {
   "cell_type": "code",
   "execution_count": 22,
   "metadata": {
    "ExecuteTime": {
     "end_time": "2020-11-07T21:31:04.148204Z",
     "start_time": "2020-11-07T21:31:04.144894Z"
    },
    "hidden": true
   },
   "outputs": [],
   "source": [
    "tmp = fat_2k[factors + [metric]].copy()\n",
    "tmp.reset_index(drop=True, inplace=True)"
   ]
  },
  {
   "cell_type": "code",
   "execution_count": 23,
   "metadata": {
    "ExecuteTime": {
     "end_time": "2020-11-07T21:31:04.153703Z",
     "start_time": "2020-11-07T21:31:04.148913Z"
    },
    "hidden": true
   },
   "outputs": [],
   "source": [
    "effects = tmp[factors].values.T.dot(tmp[metric].values)/16\n",
    "sst_v = 8 * (effects[1:]**2)\n",
    "sst = sst_v/np.sum(sst_v)\n",
    "\n",
    "tmp.loc[len(tmp)] = np.append(effects, [np.nan])"
   ]
  },
  {
   "cell_type": "code",
   "execution_count": 24,
   "metadata": {
    "ExecuteTime": {
     "end_time": "2020-11-07T21:31:04.157991Z",
     "start_time": "2020-11-07T21:31:04.154393Z"
    },
    "hidden": true
   },
   "outputs": [],
   "source": [
    "tmp.dropna(inplace=True)"
   ]
  },
  {
   "cell_type": "code",
   "execution_count": 25,
   "metadata": {
    "ExecuteTime": {
     "end_time": "2020-11-07T21:31:04.169143Z",
     "start_time": "2020-11-07T21:31:04.158701Z"
    },
    "hidden": true
   },
   "outputs": [
    {
     "data": {
      "text/html": [
       "<div>\n",
       "<style scoped>\n",
       "    .dataframe tbody tr th:only-of-type {\n",
       "        vertical-align: middle;\n",
       "    }\n",
       "\n",
       "    .dataframe tbody tr th {\n",
       "        vertical-align: top;\n",
       "    }\n",
       "\n",
       "    .dataframe thead th {\n",
       "        text-align: right;\n",
       "    }\n",
       "</style>\n",
       "<table border=\"1\" class=\"dataframe\">\n",
       "  <thead>\n",
       "    <tr style=\"text-align: right;\">\n",
       "      <th></th>\n",
       "      <th>i</th>\n",
       "      <th>a</th>\n",
       "      <th>b</th>\n",
       "      <th>c</th>\n",
       "      <th>ab</th>\n",
       "      <th>ac</th>\n",
       "      <th>bc</th>\n",
       "      <th>abc</th>\n",
       "      <th>mult_avg_flow</th>\n",
       "    </tr>\n",
       "  </thead>\n",
       "  <tbody>\n",
       "    <tr>\n",
       "      <th>0</th>\n",
       "      <td>1.0</td>\n",
       "      <td>-1.0</td>\n",
       "      <td>-1.0</td>\n",
       "      <td>1.0</td>\n",
       "      <td>1.0</td>\n",
       "      <td>-1.0</td>\n",
       "      <td>-1.0</td>\n",
       "      <td>1.0</td>\n",
       "      <td>0.000000</td>\n",
       "    </tr>\n",
       "    <tr>\n",
       "      <th>1</th>\n",
       "      <td>1.0</td>\n",
       "      <td>-1.0</td>\n",
       "      <td>-1.0</td>\n",
       "      <td>1.0</td>\n",
       "      <td>1.0</td>\n",
       "      <td>-1.0</td>\n",
       "      <td>-1.0</td>\n",
       "      <td>1.0</td>\n",
       "      <td>0.000000</td>\n",
       "    </tr>\n",
       "    <tr>\n",
       "      <th>2</th>\n",
       "      <td>1.0</td>\n",
       "      <td>-1.0</td>\n",
       "      <td>-1.0</td>\n",
       "      <td>1.0</td>\n",
       "      <td>1.0</td>\n",
       "      <td>-1.0</td>\n",
       "      <td>-1.0</td>\n",
       "      <td>1.0</td>\n",
       "      <td>0.000000</td>\n",
       "    </tr>\n",
       "    <tr>\n",
       "      <th>3</th>\n",
       "      <td>1.0</td>\n",
       "      <td>-1.0</td>\n",
       "      <td>-1.0</td>\n",
       "      <td>1.0</td>\n",
       "      <td>1.0</td>\n",
       "      <td>-1.0</td>\n",
       "      <td>-1.0</td>\n",
       "      <td>1.0</td>\n",
       "      <td>0.000000</td>\n",
       "    </tr>\n",
       "    <tr>\n",
       "      <th>4</th>\n",
       "      <td>1.0</td>\n",
       "      <td>-1.0</td>\n",
       "      <td>-1.0</td>\n",
       "      <td>1.0</td>\n",
       "      <td>1.0</td>\n",
       "      <td>-1.0</td>\n",
       "      <td>-1.0</td>\n",
       "      <td>1.0</td>\n",
       "      <td>0.000000</td>\n",
       "    </tr>\n",
       "    <tr>\n",
       "      <th>...</th>\n",
       "      <td>...</td>\n",
       "      <td>...</td>\n",
       "      <td>...</td>\n",
       "      <td>...</td>\n",
       "      <td>...</td>\n",
       "      <td>...</td>\n",
       "      <td>...</td>\n",
       "      <td>...</td>\n",
       "      <td>...</td>\n",
       "    </tr>\n",
       "    <tr>\n",
       "      <th>475</th>\n",
       "      <td>1.0</td>\n",
       "      <td>1.0</td>\n",
       "      <td>1.0</td>\n",
       "      <td>-1.0</td>\n",
       "      <td>1.0</td>\n",
       "      <td>-1.0</td>\n",
       "      <td>-1.0</td>\n",
       "      <td>-1.0</td>\n",
       "      <td>0.025675</td>\n",
       "    </tr>\n",
       "    <tr>\n",
       "      <th>476</th>\n",
       "      <td>1.0</td>\n",
       "      <td>1.0</td>\n",
       "      <td>1.0</td>\n",
       "      <td>-1.0</td>\n",
       "      <td>1.0</td>\n",
       "      <td>-1.0</td>\n",
       "      <td>-1.0</td>\n",
       "      <td>-1.0</td>\n",
       "      <td>0.029211</td>\n",
       "    </tr>\n",
       "    <tr>\n",
       "      <th>477</th>\n",
       "      <td>1.0</td>\n",
       "      <td>1.0</td>\n",
       "      <td>1.0</td>\n",
       "      <td>-1.0</td>\n",
       "      <td>1.0</td>\n",
       "      <td>-1.0</td>\n",
       "      <td>-1.0</td>\n",
       "      <td>-1.0</td>\n",
       "      <td>0.017490</td>\n",
       "    </tr>\n",
       "    <tr>\n",
       "      <th>478</th>\n",
       "      <td>1.0</td>\n",
       "      <td>1.0</td>\n",
       "      <td>1.0</td>\n",
       "      <td>-1.0</td>\n",
       "      <td>1.0</td>\n",
       "      <td>-1.0</td>\n",
       "      <td>-1.0</td>\n",
       "      <td>-1.0</td>\n",
       "      <td>0.006332</td>\n",
       "    </tr>\n",
       "    <tr>\n",
       "      <th>479</th>\n",
       "      <td>1.0</td>\n",
       "      <td>1.0</td>\n",
       "      <td>1.0</td>\n",
       "      <td>-1.0</td>\n",
       "      <td>1.0</td>\n",
       "      <td>-1.0</td>\n",
       "      <td>-1.0</td>\n",
       "      <td>-1.0</td>\n",
       "      <td>0.001377</td>\n",
       "    </tr>\n",
       "  </tbody>\n",
       "</table>\n",
       "<p>480 rows × 9 columns</p>\n",
       "</div>"
      ],
      "text/plain": [
       "       i    a    b    c   ab   ac   bc  abc  mult_avg_flow\n",
       "0    1.0 -1.0 -1.0  1.0  1.0 -1.0 -1.0  1.0       0.000000\n",
       "1    1.0 -1.0 -1.0  1.0  1.0 -1.0 -1.0  1.0       0.000000\n",
       "2    1.0 -1.0 -1.0  1.0  1.0 -1.0 -1.0  1.0       0.000000\n",
       "3    1.0 -1.0 -1.0  1.0  1.0 -1.0 -1.0  1.0       0.000000\n",
       "4    1.0 -1.0 -1.0  1.0  1.0 -1.0 -1.0  1.0       0.000000\n",
       "..   ...  ...  ...  ...  ...  ...  ...  ...            ...\n",
       "475  1.0  1.0  1.0 -1.0  1.0 -1.0 -1.0 -1.0       0.025675\n",
       "476  1.0  1.0  1.0 -1.0  1.0 -1.0 -1.0 -1.0       0.029211\n",
       "477  1.0  1.0  1.0 -1.0  1.0 -1.0 -1.0 -1.0       0.017490\n",
       "478  1.0  1.0  1.0 -1.0  1.0 -1.0 -1.0 -1.0       0.006332\n",
       "479  1.0  1.0  1.0 -1.0  1.0 -1.0 -1.0 -1.0       0.001377\n",
       "\n",
       "[480 rows x 9 columns]"
      ]
     },
     "execution_count": 25,
     "metadata": {},
     "output_type": "execute_result"
    }
   ],
   "source": [
    "tmp"
   ]
  },
  {
   "cell_type": "code",
   "execution_count": 26,
   "metadata": {
    "ExecuteTime": {
     "end_time": "2020-11-07T21:31:04.211318Z",
     "start_time": "2020-11-07T21:31:04.169889Z"
    },
    "hidden": true
   },
   "outputs": [],
   "source": [
    "import statsmodels.formula.api as smf"
   ]
  },
  {
   "cell_type": "code",
   "execution_count": 27,
   "metadata": {
    "ExecuteTime": {
     "end_time": "2020-11-07T21:31:04.221551Z",
     "start_time": "2020-11-07T21:31:04.212095Z"
    },
    "hidden": true
   },
   "outputs": [],
   "source": [
    "mod = smf.ols(formula='mult_avg_flow ~ a + b + c + ab + ac + bc + abc', data=tmp)"
   ]
  },
  {
   "cell_type": "code",
   "execution_count": 28,
   "metadata": {
    "ExecuteTime": {
     "end_time": "2020-11-07T21:31:04.234648Z",
     "start_time": "2020-11-07T21:31:04.222227Z"
    },
    "hidden": true
   },
   "outputs": [
    {
     "name": "stdout",
     "output_type": "stream",
     "text": [
      "                            OLS Regression Results                            \n",
      "==============================================================================\n",
      "Dep. Variable:          mult_avg_flow   R-squared:                       0.791\n",
      "Model:                            OLS   Adj. R-squared:                  0.788\n",
      "Method:                 Least Squares   F-statistic:                     255.2\n",
      "Date:                Sat, 07 Nov 2020   Prob (F-statistic):          5.07e-156\n",
      "Time:                        18:31:04   Log-Likelihood:                 536.01\n",
      "No. Observations:                 480   AIC:                            -1056.\n",
      "Df Residuals:                     472   BIC:                            -1023.\n",
      "Df Model:                           7                                         \n",
      "Covariance Type:            nonrobust                                         \n",
      "==============================================================================\n",
      "                 coef    std err          t      P>|t|      [0.025      0.975]\n",
      "------------------------------------------------------------------------------\n",
      "Intercept      0.0789      0.004     21.637      0.000       0.072       0.086\n",
      "a              0.0391      0.004     10.712      0.000       0.032       0.046\n",
      "b              0.0789      0.004     21.637      0.000       0.072       0.086\n",
      "c              0.0758      0.004     20.786      0.000       0.069       0.083\n",
      "ab             0.0391      0.004     10.712      0.000       0.032       0.046\n",
      "ac             0.0387      0.004     10.605      0.000       0.032       0.046\n",
      "bc             0.0758      0.004     20.786      0.000       0.069       0.083\n",
      "abc            0.0387      0.004     10.605      0.000       0.032       0.046\n",
      "==============================================================================\n",
      "Omnibus:                       15.441   Durbin-Watson:                   0.079\n",
      "Prob(Omnibus):                  0.000   Jarque-Bera (JB):               33.776\n",
      "Skew:                           0.007   Prob(JB):                     4.63e-08\n",
      "Kurtosis:                       4.299   Cond. No.                         1.00\n",
      "==============================================================================\n",
      "\n",
      "Notes:\n",
      "[1] Standard Errors assume that the covariance matrix of the errors is correctly specified.\n"
     ]
    }
   ],
   "source": [
    "res = mod.fit()\n",
    "print(res.summary())"
   ]
  },
  {
   "cell_type": "code",
   "execution_count": 29,
   "metadata": {
    "ExecuteTime": {
     "end_time": "2020-11-07T21:31:04.273267Z",
     "start_time": "2020-11-07T21:31:04.235305Z"
    },
    "hidden": true
   },
   "outputs": [
    {
     "data": {
      "text/plain": [
       "array([0.06422176, 0.26202893, 0.2418178 , 0.06422176, 0.06294597,\n",
       "       0.2418178 , 0.06294597])"
      ]
     },
     "execution_count": 29,
     "metadata": {},
     "output_type": "execute_result"
    }
   ],
   "source": [
    "sst"
   ]
  },
  {
   "cell_type": "code",
   "execution_count": 30,
   "metadata": {
    "ExecuteTime": {
     "end_time": "2020-11-07T21:31:04.283535Z",
     "start_time": "2020-11-07T21:31:04.273931Z"
    },
    "hidden": true
   },
   "outputs": [
    {
     "data": {
      "text/html": [
       "<div>\n",
       "<style scoped>\n",
       "    .dataframe tbody tr th:only-of-type {\n",
       "        vertical-align: middle;\n",
       "    }\n",
       "\n",
       "    .dataframe tbody tr th {\n",
       "        vertical-align: top;\n",
       "    }\n",
       "\n",
       "    .dataframe thead th {\n",
       "        text-align: right;\n",
       "    }\n",
       "</style>\n",
       "<table border=\"1\" class=\"dataframe\">\n",
       "  <thead>\n",
       "    <tr style=\"text-align: right;\">\n",
       "      <th></th>\n",
       "      <th>i</th>\n",
       "      <th>a</th>\n",
       "      <th>b</th>\n",
       "      <th>c</th>\n",
       "      <th>ab</th>\n",
       "      <th>ac</th>\n",
       "      <th>bc</th>\n",
       "      <th>abc</th>\n",
       "      <th>mult_avg_flow</th>\n",
       "    </tr>\n",
       "  </thead>\n",
       "  <tbody>\n",
       "    <tr>\n",
       "      <th>0</th>\n",
       "      <td>1.0</td>\n",
       "      <td>-1.0</td>\n",
       "      <td>-1.0</td>\n",
       "      <td>1.0</td>\n",
       "      <td>1.0</td>\n",
       "      <td>-1.0</td>\n",
       "      <td>-1.0</td>\n",
       "      <td>1.0</td>\n",
       "      <td>0.000000</td>\n",
       "    </tr>\n",
       "    <tr>\n",
       "      <th>1</th>\n",
       "      <td>1.0</td>\n",
       "      <td>-1.0</td>\n",
       "      <td>-1.0</td>\n",
       "      <td>1.0</td>\n",
       "      <td>1.0</td>\n",
       "      <td>-1.0</td>\n",
       "      <td>-1.0</td>\n",
       "      <td>1.0</td>\n",
       "      <td>0.000000</td>\n",
       "    </tr>\n",
       "    <tr>\n",
       "      <th>2</th>\n",
       "      <td>1.0</td>\n",
       "      <td>-1.0</td>\n",
       "      <td>-1.0</td>\n",
       "      <td>1.0</td>\n",
       "      <td>1.0</td>\n",
       "      <td>-1.0</td>\n",
       "      <td>-1.0</td>\n",
       "      <td>1.0</td>\n",
       "      <td>0.000000</td>\n",
       "    </tr>\n",
       "    <tr>\n",
       "      <th>3</th>\n",
       "      <td>1.0</td>\n",
       "      <td>-1.0</td>\n",
       "      <td>-1.0</td>\n",
       "      <td>1.0</td>\n",
       "      <td>1.0</td>\n",
       "      <td>-1.0</td>\n",
       "      <td>-1.0</td>\n",
       "      <td>1.0</td>\n",
       "      <td>0.000000</td>\n",
       "    </tr>\n",
       "    <tr>\n",
       "      <th>4</th>\n",
       "      <td>1.0</td>\n",
       "      <td>-1.0</td>\n",
       "      <td>-1.0</td>\n",
       "      <td>1.0</td>\n",
       "      <td>1.0</td>\n",
       "      <td>-1.0</td>\n",
       "      <td>-1.0</td>\n",
       "      <td>1.0</td>\n",
       "      <td>0.000000</td>\n",
       "    </tr>\n",
       "    <tr>\n",
       "      <th>...</th>\n",
       "      <td>...</td>\n",
       "      <td>...</td>\n",
       "      <td>...</td>\n",
       "      <td>...</td>\n",
       "      <td>...</td>\n",
       "      <td>...</td>\n",
       "      <td>...</td>\n",
       "      <td>...</td>\n",
       "      <td>...</td>\n",
       "    </tr>\n",
       "    <tr>\n",
       "      <th>475</th>\n",
       "      <td>1.0</td>\n",
       "      <td>1.0</td>\n",
       "      <td>1.0</td>\n",
       "      <td>-1.0</td>\n",
       "      <td>1.0</td>\n",
       "      <td>-1.0</td>\n",
       "      <td>-1.0</td>\n",
       "      <td>-1.0</td>\n",
       "      <td>0.025675</td>\n",
       "    </tr>\n",
       "    <tr>\n",
       "      <th>476</th>\n",
       "      <td>1.0</td>\n",
       "      <td>1.0</td>\n",
       "      <td>1.0</td>\n",
       "      <td>-1.0</td>\n",
       "      <td>1.0</td>\n",
       "      <td>-1.0</td>\n",
       "      <td>-1.0</td>\n",
       "      <td>-1.0</td>\n",
       "      <td>0.029211</td>\n",
       "    </tr>\n",
       "    <tr>\n",
       "      <th>477</th>\n",
       "      <td>1.0</td>\n",
       "      <td>1.0</td>\n",
       "      <td>1.0</td>\n",
       "      <td>-1.0</td>\n",
       "      <td>1.0</td>\n",
       "      <td>-1.0</td>\n",
       "      <td>-1.0</td>\n",
       "      <td>-1.0</td>\n",
       "      <td>0.017490</td>\n",
       "    </tr>\n",
       "    <tr>\n",
       "      <th>478</th>\n",
       "      <td>1.0</td>\n",
       "      <td>1.0</td>\n",
       "      <td>1.0</td>\n",
       "      <td>-1.0</td>\n",
       "      <td>1.0</td>\n",
       "      <td>-1.0</td>\n",
       "      <td>-1.0</td>\n",
       "      <td>-1.0</td>\n",
       "      <td>0.006332</td>\n",
       "    </tr>\n",
       "    <tr>\n",
       "      <th>479</th>\n",
       "      <td>1.0</td>\n",
       "      <td>1.0</td>\n",
       "      <td>1.0</td>\n",
       "      <td>-1.0</td>\n",
       "      <td>1.0</td>\n",
       "      <td>-1.0</td>\n",
       "      <td>-1.0</td>\n",
       "      <td>-1.0</td>\n",
       "      <td>0.001377</td>\n",
       "    </tr>\n",
       "  </tbody>\n",
       "</table>\n",
       "<p>480 rows × 9 columns</p>\n",
       "</div>"
      ],
      "text/plain": [
       "       i    a    b    c   ab   ac   bc  abc  mult_avg_flow\n",
       "0    1.0 -1.0 -1.0  1.0  1.0 -1.0 -1.0  1.0       0.000000\n",
       "1    1.0 -1.0 -1.0  1.0  1.0 -1.0 -1.0  1.0       0.000000\n",
       "2    1.0 -1.0 -1.0  1.0  1.0 -1.0 -1.0  1.0       0.000000\n",
       "3    1.0 -1.0 -1.0  1.0  1.0 -1.0 -1.0  1.0       0.000000\n",
       "4    1.0 -1.0 -1.0  1.0  1.0 -1.0 -1.0  1.0       0.000000\n",
       "..   ...  ...  ...  ...  ...  ...  ...  ...            ...\n",
       "475  1.0  1.0  1.0 -1.0  1.0 -1.0 -1.0 -1.0       0.025675\n",
       "476  1.0  1.0  1.0 -1.0  1.0 -1.0 -1.0 -1.0       0.029211\n",
       "477  1.0  1.0  1.0 -1.0  1.0 -1.0 -1.0 -1.0       0.017490\n",
       "478  1.0  1.0  1.0 -1.0  1.0 -1.0 -1.0 -1.0       0.006332\n",
       "479  1.0  1.0  1.0 -1.0  1.0 -1.0 -1.0 -1.0       0.001377\n",
       "\n",
       "[480 rows x 9 columns]"
      ]
     },
     "execution_count": 30,
     "metadata": {},
     "output_type": "execute_result"
    }
   ],
   "source": [
    "tmp"
   ]
  },
  {
   "cell_type": "markdown",
   "metadata": {},
   "source": [
    "## ANOVA"
   ]
  },
  {
   "cell_type": "code",
   "execution_count": 13,
   "metadata": {
    "ExecuteTime": {
     "end_time": "2021-01-08T22:27:41.901474Z",
     "start_time": "2021-01-08T22:27:41.661630Z"
    }
   },
   "outputs": [],
   "source": [
    "import statsmodels.api as sm\n",
    "from statsmodels.formula.api import ols"
   ]
  },
  {
   "cell_type": "code",
   "execution_count": 14,
   "metadata": {
    "ExecuteTime": {
     "end_time": "2021-01-08T22:27:42.428051Z",
     "start_time": "2021-01-08T22:27:42.426530Z"
    }
   },
   "outputs": [],
   "source": [
    "def discrete_flow(f):\n",
    "    if f > 0:\n",
    "        return \"positive\"\n",
    "    elif f < 0:\n",
    "        return \"negative\"\n",
    "    else:\n",
    "        return \"zero\""
   ]
  },
  {
   "cell_type": "code",
   "execution_count": 15,
   "metadata": {
    "ExecuteTime": {
     "end_time": "2021-01-08T22:27:52.807840Z",
     "start_time": "2021-01-08T22:27:52.797528Z"
    }
   },
   "outputs": [],
   "source": [
    "df.query(\"p_flip != 1 and p_flip != 0.75\", inplace=True)\n",
    "df['p'] = df['p'].replace({0:'zero', 0.25:'low', 0.5:'medium', 0.75:'high', 1:'one'})\n",
    "df['p_flip'] = df['p_flip'].replace({0:'low', 0.25:'medium', 0.5:'high'})\n",
    "df['y_true'] = df['name'].replace({'basic_causal':1, 'basic_anticausal':0})\n",
    "df['mult_avg_flow'] = df['mult_max_dir_flow'] - df['mult_avg_rev_flow']\n",
    "df['mult_max_flow'] = df['mult_max_dir_flow'] - df['mult_max_rev_flow']\n",
    "df['addt_avg_flow'] = df['addt_avg_dir_flow'] - df['addt_avg_rev_flow']\n",
    "df['addt_max_flow'] = df['addt_max_dir_flow'] - df['addt_max_rev_flow']\n",
    "df['y_pred'] = (df['mult_avg_flow'] > 0) * 1\n",
    "df['flow'] = df['mult_avg_flow'].apply(discrete_flow)\n",
    "df.reset_index(drop=True, inplace=True)"
   ]
  },
  {
   "cell_type": "code",
   "execution_count": 16,
   "metadata": {
    "ExecuteTime": {
     "end_time": "2021-01-08T22:27:54.219466Z",
     "start_time": "2021-01-08T22:27:54.173993Z"
    }
   },
   "outputs": [],
   "source": [
    "lm = ols('y_true ~ (C(p)*C(func)*C(p_flip))+C(flow)', data=df).fit()"
   ]
  },
  {
   "cell_type": "code",
   "execution_count": 39,
   "metadata": {
    "ExecuteTime": {
     "end_time": "2021-01-09T01:44:40.156223Z",
     "start_time": "2021-01-09T01:44:40.150443Z"
    }
   },
   "outputs": [],
   "source": [
    "table = sm.stats.anova_lm(lm, typ=1)"
   ]
  },
  {
   "cell_type": "code",
   "execution_count": 38,
   "metadata": {
    "ExecuteTime": {
     "end_time": "2021-01-09T01:44:32.092316Z",
     "start_time": "2021-01-09T01:44:32.087306Z"
    }
   },
   "outputs": [
    {
     "data": {
      "text/html": [
       "<div>\n",
       "<style scoped>\n",
       "    .dataframe tbody tr th:only-of-type {\n",
       "        vertical-align: middle;\n",
       "    }\n",
       "\n",
       "    .dataframe tbody tr th {\n",
       "        vertical-align: top;\n",
       "    }\n",
       "\n",
       "    .dataframe thead th {\n",
       "        text-align: right;\n",
       "    }\n",
       "</style>\n",
       "<table border=\"1\" class=\"dataframe\">\n",
       "  <thead>\n",
       "    <tr style=\"text-align: right;\">\n",
       "      <th></th>\n",
       "      <th>sum_sq</th>\n",
       "      <th>df</th>\n",
       "      <th>F</th>\n",
       "      <th>PR(&gt;F)</th>\n",
       "    </tr>\n",
       "  </thead>\n",
       "  <tbody>\n",
       "    <tr>\n",
       "      <th>C(p)</th>\n",
       "      <td>0.1086</td>\n",
       "      <td>4.0</td>\n",
       "      <td>0.1073</td>\n",
       "      <td>0.9800</td>\n",
       "    </tr>\n",
       "    <tr>\n",
       "      <th>C(func)</th>\n",
       "      <td>1.7369</td>\n",
       "      <td>2.0</td>\n",
       "      <td>3.4308</td>\n",
       "      <td>0.0325</td>\n",
       "    </tr>\n",
       "    <tr>\n",
       "      <th>C(p_flip)</th>\n",
       "      <td>0.0561</td>\n",
       "      <td>2.0</td>\n",
       "      <td>0.1109</td>\n",
       "      <td>0.8950</td>\n",
       "    </tr>\n",
       "    <tr>\n",
       "      <th>C(flow)</th>\n",
       "      <td>3.2462</td>\n",
       "      <td>2.0</td>\n",
       "      <td>6.4121</td>\n",
       "      <td>0.0017</td>\n",
       "    </tr>\n",
       "    <tr>\n",
       "      <th>C(p):C(func)</th>\n",
       "      <td>0.3940</td>\n",
       "      <td>8.0</td>\n",
       "      <td>0.1946</td>\n",
       "      <td>0.9917</td>\n",
       "    </tr>\n",
       "    <tr>\n",
       "      <th>C(p):C(p_flip)</th>\n",
       "      <td>0.1316</td>\n",
       "      <td>8.0</td>\n",
       "      <td>0.0650</td>\n",
       "      <td>0.9998</td>\n",
       "    </tr>\n",
       "    <tr>\n",
       "      <th>C(func):C(p_flip)</th>\n",
       "      <td>0.1323</td>\n",
       "      <td>4.0</td>\n",
       "      <td>0.1307</td>\n",
       "      <td>0.9712</td>\n",
       "    </tr>\n",
       "    <tr>\n",
       "      <th>C(p):C(func):C(p_flip)</th>\n",
       "      <td>0.2258</td>\n",
       "      <td>16.0</td>\n",
       "      <td>0.0557</td>\n",
       "      <td>1.0000</td>\n",
       "    </tr>\n",
       "    <tr>\n",
       "      <th>Residual</th>\n",
       "      <td>671.7961</td>\n",
       "      <td>2654.0</td>\n",
       "      <td>NaN</td>\n",
       "      <td>NaN</td>\n",
       "    </tr>\n",
       "  </tbody>\n",
       "</table>\n",
       "</div>"
      ],
      "text/plain": [
       "                          sum_sq      df       F  PR(>F)\n",
       "C(p)                      0.1086     4.0  0.1073  0.9800\n",
       "C(func)                   1.7369     2.0  3.4308  0.0325\n",
       "C(p_flip)                 0.0561     2.0  0.1109  0.8950\n",
       "C(flow)                   3.2462     2.0  6.4121  0.0017\n",
       "C(p):C(func)              0.3940     8.0  0.1946  0.9917\n",
       "C(p):C(p_flip)            0.1316     8.0  0.0650  0.9998\n",
       "C(func):C(p_flip)         0.1323     4.0  0.1307  0.9712\n",
       "C(p):C(func):C(p_flip)    0.2258    16.0  0.0557  1.0000\n",
       "Residual                671.7961  2654.0     NaN     NaN"
      ]
     },
     "metadata": {},
     "output_type": "display_data"
    }
   ],
   "source": [
    "display(table.round(4))"
   ]
  },
  {
   "cell_type": "markdown",
   "metadata": {},
   "source": [
    "## Classificador"
   ]
  },
  {
   "cell_type": "markdown",
   "metadata": {
    "ExecuteTime": {
     "end_time": "2020-11-24T16:53:27.908243Z",
     "start_time": "2020-11-24T16:53:27.906880Z"
    }
   },
   "source": [
    "### Train test spit"
   ]
  },
  {
   "cell_type": "code",
   "execution_count": 85,
   "metadata": {
    "ExecuteTime": {
     "end_time": "2020-11-24T17:15:18.938566Z",
     "start_time": "2020-11-24T17:15:18.936082Z"
    },
    "code_folding": [
     0
    ]
   },
   "outputs": [],
   "source": [
    "def classification_report_function(clf, xtest, ytest):\n",
    "    y_pred = clf.predict(xtest.drop(columns=['func', 'stratify']))\n",
    "    tmp = xtest.copy()\n",
    "    tmp['y_true'] = y_test\n",
    "    tmp['y_pred'] = y_pred\n",
    "    funcs = ['z', 'symmetric', 'direct']\n",
    "    for func in funcs:\n",
    "        print(\"----------------------- {} --------------------------\".format(func))\n",
    "        test = tmp.query(\"func == '{}'\".format(func))\n",
    "        print(classification_report(test['y_true'], test['y_pred'], zero_division=0))"
   ]
  },
  {
   "cell_type": "code",
   "execution_count": 86,
   "metadata": {
    "ExecuteTime": {
     "end_time": "2020-11-24T17:15:19.152153Z",
     "start_time": "2020-11-24T17:15:19.150604Z"
    }
   },
   "outputs": [],
   "source": [
    "from sklearn.model_selection import train_test_split, GridSearchCV\n",
    "from sklearn.metrics import classification_report"
   ]
  },
  {
   "cell_type": "code",
   "execution_count": 87,
   "metadata": {
    "ExecuteTime": {
     "end_time": "2020-11-24T17:15:19.688105Z",
     "start_time": "2020-11-24T17:15:19.686587Z"
    }
   },
   "outputs": [],
   "source": [
    "columns = ['y_true', 'mult_avg_flow', 'mult_max_flow', 'addt_avg_flow', 'addt_max_flow', 'func']\n",
    "# columns = ['y_true', 'mult_avg_dir_flow', 'mult_avg_rev_flow', 'mult_max_dir_flow', 'mult_max_rev_flow',\n",
    "#            'addt_avg_dir_flow', 'addt_avg_rev_flow', 'addt_max_dir_flow', 'addt_max_rev_flow', 'func']"
   ]
  },
  {
   "cell_type": "code",
   "execution_count": 88,
   "metadata": {
    "ExecuteTime": {
     "end_time": "2020-11-24T17:15:28.023608Z",
     "start_time": "2020-11-24T17:15:28.018396Z"
    }
   },
   "outputs": [],
   "source": [
    "X = df[columns].copy()\n",
    "X['stratify'] = X['func'] + X['y_true'].astype(str)\n",
    "#X = pd.get_dummies(X, prefix=['p', 'p_flip', 'func'])"
   ]
  },
  {
   "cell_type": "code",
   "execution_count": 89,
   "metadata": {
    "ExecuteTime": {
     "end_time": "2020-11-24T17:15:28.474867Z",
     "start_time": "2020-11-24T17:15:28.472051Z"
    }
   },
   "outputs": [],
   "source": [
    "Y = X['y_true'].copy()\n",
    "X = X.drop(columns=['y_true']).copy()"
   ]
  },
  {
   "cell_type": "code",
   "execution_count": 90,
   "metadata": {
    "ExecuteTime": {
     "end_time": "2020-11-24T17:15:29.852425Z",
     "start_time": "2020-11-24T17:15:29.846216Z"
    }
   },
   "outputs": [
    {
     "name": "stderr",
     "output_type": "stream",
     "text": [
      "/home/felipegiori/anaconda3/lib/python3.7/site-packages/pandas/core/frame.py:4174: SettingWithCopyWarning: \n",
      "A value is trying to be set on a copy of a slice from a DataFrame\n",
      "\n",
      "See the caveats in the documentation: https://pandas.pydata.org/pandas-docs/stable/user_guide/indexing.html#returning-a-view-versus-a-copy\n",
      "  errors=errors,\n"
     ]
    }
   ],
   "source": [
    "# Split the dataset in two equal parts\n",
    "X_train, X_test, y_train, y_test = train_test_split(X, Y, stratify=X['stratify'], test_size=0.2, random_state=42)\n",
    "X_test_func = X_test.copy()\n",
    "X_train.drop(columns=['stratify', 'func'], inplace=True)\n",
    "X_test.drop(columns=['stratify', 'func'], inplace=True)"
   ]
  },
  {
   "cell_type": "markdown",
   "metadata": {
    "heading_collapsed": true
   },
   "source": [
    "### SVM"
   ]
  },
  {
   "cell_type": "code",
   "execution_count": 22,
   "metadata": {
    "ExecuteTime": {
     "end_time": "2020-11-24T16:38:58.824460Z",
     "start_time": "2020-11-24T16:38:58.813746Z"
    },
    "hidden": true
   },
   "outputs": [],
   "source": [
    "from sklearn.svm import SVC"
   ]
  },
  {
   "cell_type": "code",
   "execution_count": 23,
   "metadata": {
    "ExecuteTime": {
     "end_time": "2020-11-24T16:39:00.332019Z",
     "start_time": "2020-11-24T16:39:00.330054Z"
    },
    "hidden": true
   },
   "outputs": [],
   "source": [
    "# Set the parameters by cross-validation\n",
    "grid_svm = [\n",
    "    {\n",
    "        'kernel': ['rbf'],\n",
    "        'gamma': [1e-3, 1e-4],\n",
    "        'C': [1, 10, 100, 1000]\n",
    "    },\n",
    "    {\n",
    "        'kernel': ['linear'],\n",
    "        'C': [1, 10, 100, 1000]\n",
    "    }\n",
    "]"
   ]
  },
  {
   "cell_type": "code",
   "execution_count": 24,
   "metadata": {
    "ExecuteTime": {
     "end_time": "2020-11-24T16:39:04.848041Z",
     "start_time": "2020-11-24T16:39:03.646121Z"
    },
    "hidden": true
   },
   "outputs": [
    {
     "data": {
      "text/plain": [
       "GridSearchCV(cv=5, estimator=SVC(), n_jobs=8,\n",
       "             param_grid=[{'C': [1, 10, 100, 1000], 'gamma': [0.001, 0.0001],\n",
       "                          'kernel': ['rbf']},\n",
       "                         {'C': [1, 10, 100, 1000], 'kernel': ['linear']}],\n",
       "             scoring='f1')"
      ]
     },
     "execution_count": 24,
     "metadata": {},
     "output_type": "execute_result"
    }
   ],
   "source": [
    "scores = ['precision', 'recall']\n",
    "svm = GridSearchCV(SVC(), grid_svm, n_jobs=8, scoring='f1', cv=5)\n",
    "svm.fit(X_train, y_train)"
   ]
  },
  {
   "cell_type": "code",
   "execution_count": 25,
   "metadata": {
    "ExecuteTime": {
     "end_time": "2020-11-24T16:39:04.886743Z",
     "start_time": "2020-11-24T16:39:04.864354Z"
    },
    "hidden": true
   },
   "outputs": [
    {
     "name": "stdout",
     "output_type": "stream",
     "text": [
      "              precision    recall  f1-score   support\n",
      "\n",
      "           0       0.76      0.16      0.27       270\n",
      "           1       0.53      0.95      0.68       270\n",
      "\n",
      "    accuracy                           0.56       540\n",
      "   macro avg       0.64      0.56      0.47       540\n",
      "weighted avg       0.64      0.56      0.47       540\n",
      "\n"
     ]
    }
   ],
   "source": [
    "y_true, y_pred = y_test, svm.predict(X_test)\n",
    "print(classification_report(y_true, y_pred))"
   ]
  },
  {
   "cell_type": "markdown",
   "metadata": {},
   "source": [
    "### XGBoost"
   ]
  },
  {
   "cell_type": "code",
   "execution_count": 94,
   "metadata": {
    "ExecuteTime": {
     "end_time": "2020-11-24T17:16:27.432860Z",
     "start_time": "2020-11-24T17:16:27.431440Z"
    }
   },
   "outputs": [],
   "source": [
    "import xgboost"
   ]
  },
  {
   "cell_type": "code",
   "execution_count": 95,
   "metadata": {
    "ExecuteTime": {
     "end_time": "2020-11-24T17:16:51.023993Z",
     "start_time": "2020-11-24T17:16:27.599721Z"
    }
   },
   "outputs": [
    {
     "data": {
      "text/plain": [
       "GridSearchCV(cv=5,\n",
       "             estimator=XGBClassifier(base_score=None, booster=None,\n",
       "                                     colsample_bylevel=None,\n",
       "                                     colsample_bynode=None,\n",
       "                                     colsample_bytree=None, gamma=None,\n",
       "                                     gpu_id=None, importance_type='gain',\n",
       "                                     interaction_constraints=None,\n",
       "                                     learning_rate=None, max_delta_step=None,\n",
       "                                     max_depth=None, min_child_weight=None,\n",
       "                                     missing=nan, monotone_constraints=None,\n",
       "                                     n_estimators=100, n_jobs=None,\n",
       "                                     num_parallel_tree=None, random_state=None,\n",
       "                                     reg_alpha=None, reg_lambda=None,\n",
       "                                     scale_pos_weight=None, subsample=None,\n",
       "                                     tree_method=None, validate_parameters=None,\n",
       "                                     verbosity=None),\n",
       "             n_jobs=8,\n",
       "             param_grid={'colsample_bytree': [0.3, 0.4, 0.5],\n",
       "                         'eta': [0.05, 0.1, 0.15, 0.2],\n",
       "                         'gamma': [0.0, 0.1, 0.2, 0.3],\n",
       "                         'max_depth': [3, 4, 5, 6, 8, 10],\n",
       "                         'min_child_weight': [1, 3, 5]},\n",
       "             scoring='f1')"
      ]
     },
     "execution_count": 95,
     "metadata": {},
     "output_type": "execute_result"
    }
   ],
   "source": [
    "grid_xgb = {\n",
    "     \"eta\": [0.05, 0.10, 0.15, 0.20],\n",
    "     \"max_depth\": [3, 4, 5, 6, 8, 10],\n",
    "     \"min_child_weight\": [1, 3, 5],\n",
    "     \"gamma\": [0.0, 0.1, 0.2, 0.3],\n",
    "     \"colsample_bytree\": [0.3, 0.4, 0.5]\n",
    "}\n",
    "\n",
    "xgb = GridSearchCV(xgboost.XGBClassifier(), grid_xgb, n_jobs=8, scoring=\"f1\", cv=5)\n",
    "xgb.fit(X_train, y_train)"
   ]
  },
  {
   "cell_type": "code",
   "execution_count": 96,
   "metadata": {
    "ExecuteTime": {
     "end_time": "2020-11-24T17:16:51.028124Z",
     "start_time": "2020-11-24T17:16:51.025025Z"
    }
   },
   "outputs": [],
   "source": [
    "y_pred = xgb.predict(X_test)"
   ]
  },
  {
   "cell_type": "code",
   "execution_count": 97,
   "metadata": {
    "ExecuteTime": {
     "end_time": "2020-11-24T17:16:51.035229Z",
     "start_time": "2020-11-24T17:16:51.029142Z"
    }
   },
   "outputs": [
    {
     "name": "stdout",
     "output_type": "stream",
     "text": [
      "              precision    recall  f1-score   support\n",
      "\n",
      "           0       0.56      0.98      0.71       270\n",
      "           1       0.92      0.24      0.38       270\n",
      "\n",
      "    accuracy                           0.61       540\n",
      "   macro avg       0.74      0.61      0.55       540\n",
      "weighted avg       0.74      0.61      0.55       540\n",
      "\n"
     ]
    }
   ],
   "source": [
    "print(classification_report(y_test, y_pred))"
   ]
  },
  {
   "cell_type": "code",
   "execution_count": 98,
   "metadata": {
    "ExecuteTime": {
     "end_time": "2020-11-24T17:16:51.125307Z",
     "start_time": "2020-11-24T17:16:51.036079Z"
    }
   },
   "outputs": [
    {
     "data": {
      "text/plain": [
       "<AxesSubplot:title={'center':'Feature importance'}, xlabel='F score', ylabel='Features'>"
      ]
     },
     "execution_count": 98,
     "metadata": {},
     "output_type": "execute_result"
    },
    {
     "data": {
      "image/png": "[encoded data removed]",
      "text/plain": [
       "<Figure size 432x288 with 1 Axes>"
      ]
     },
     "metadata": {},
     "output_type": "display_data"
    }
   ],
   "source": [
    "xgboost.plot_importance(xgb.best_estimator_)"
   ]
  },
  {
   "cell_type": "code",
   "execution_count": 99,
   "metadata": {
    "ExecuteTime": {
     "end_time": "2020-11-24T17:16:51.165029Z",
     "start_time": "2020-11-24T17:16:51.126125Z"
    }
   },
   "outputs": [
    {
     "name": "stdout",
     "output_type": "stream",
     "text": [
      "----------------------- z --------------------------\n",
      "              precision    recall  f1-score   support\n",
      "\n",
      "           0       0.63      1.00      0.78        90\n",
      "           1       1.00      0.42      0.59        90\n",
      "\n",
      "    accuracy                           0.71       180\n",
      "   macro avg       0.82      0.71      0.68       180\n",
      "weighted avg       0.82      0.71      0.68       180\n",
      "\n",
      "----------------------- symmetric --------------------------\n",
      "              precision    recall  f1-score   support\n",
      "\n",
      "           0       0.57      0.93      0.71        90\n",
      "           1       0.82      0.30      0.44        90\n",
      "\n",
      "    accuracy                           0.62       180\n",
      "   macro avg       0.69      0.62      0.57       180\n",
      "weighted avg       0.69      0.62      0.57       180\n",
      "\n",
      "----------------------- direct --------------------------\n",
      "              precision    recall  f1-score   support\n",
      "\n",
      "           0       0.50      1.00      0.67        90\n",
      "           1       0.00      0.00      0.00        90\n",
      "\n",
      "    accuracy                           0.50       180\n",
      "   macro avg       0.25      0.50      0.33       180\n",
      "weighted avg       0.25      0.50      0.33       180\n",
      "\n"
     ]
    }
   ],
   "source": [
    "classification_report_function(xgb, X_test_func, y_test)"
   ]
  },
  {
   "cell_type": "markdown",
   "metadata": {
    "heading_collapsed": true
   },
   "source": [
    "### Random Forest"
   ]
  },
  {
   "cell_type": "code",
   "execution_count": 33,
   "metadata": {
    "ExecuteTime": {
     "end_time": "2020-11-24T16:39:36.547423Z",
     "start_time": "2020-11-24T16:39:36.527962Z"
    },
    "hidden": true
   },
   "outputs": [],
   "source": [
    "from sklearn.ensemble import RandomForestClassifier"
   ]
  },
  {
   "cell_type": "code",
   "execution_count": 34,
   "metadata": {
    "ExecuteTime": {
     "end_time": "2020-11-24T16:39:36.551156Z",
     "start_time": "2020-11-24T16:39:36.548952Z"
    },
    "hidden": true
   },
   "outputs": [],
   "source": [
    "grid_rf = {\n",
    "    'bootstrap': [True, False],\n",
    "    'max_depth': [10, 20, 30, 40],\n",
    "    'max_features': ['auto', 'sqrt'],\n",
    "    'min_samples_leaf': [1, 2],\n",
    "    'min_samples_split': [2, 5],\n",
    "    'n_estimators': [200, 400, 600, 1000]\n",
    "}"
   ]
  },
  {
   "cell_type": "code",
   "execution_count": 35,
   "metadata": {
    "ExecuteTime": {
     "end_time": "2020-11-24T16:41:29.426632Z",
     "start_time": "2020-11-24T16:39:36.552232Z"
    },
    "hidden": true
   },
   "outputs": [
    {
     "data": {
      "text/plain": [
       "GridSearchCV(cv=5, estimator=RandomForestClassifier(), n_jobs=8,\n",
       "             param_grid={'bootstrap': [True, False],\n",
       "                         'max_depth': [10, 20, 30, 40],\n",
       "                         'max_features': ['auto', 'sqrt'],\n",
       "                         'min_samples_leaf': [1, 2],\n",
       "                         'min_samples_split': [2, 5],\n",
       "                         'n_estimators': [200, 400, 600, 1000]},\n",
       "             scoring='f1')"
      ]
     },
     "execution_count": 35,
     "metadata": {},
     "output_type": "execute_result"
    }
   ],
   "source": [
    "rf = GridSearchCV(RandomForestClassifier(), grid_rf, n_jobs=8, scoring=\"f1\", cv=5)\n",
    "rf.fit(X_train, y_train)"
   ]
  },
  {
   "cell_type": "code",
   "execution_count": 36,
   "metadata": {
    "ExecuteTime": {
     "end_time": "2020-11-24T16:41:29.514841Z",
     "start_time": "2020-11-24T16:41:29.427470Z"
    },
    "hidden": true
   },
   "outputs": [],
   "source": [
    "y_pred = rf.predict(X_test)"
   ]
  },
  {
   "cell_type": "code",
   "execution_count": 37,
   "metadata": {
    "ExecuteTime": {
     "end_time": "2020-11-24T16:41:29.519590Z",
     "start_time": "2020-11-24T16:41:29.515584Z"
    },
    "hidden": true
   },
   "outputs": [
    {
     "name": "stdout",
     "output_type": "stream",
     "text": [
      "              precision    recall  f1-score   support\n",
      "\n",
      "           0       0.56      0.97      0.71       270\n",
      "           1       0.88      0.24      0.38       270\n",
      "\n",
      "    accuracy                           0.60       540\n",
      "   macro avg       0.72      0.60      0.54       540\n",
      "weighted avg       0.72      0.60      0.54       540\n",
      "\n"
     ]
    }
   ],
   "source": [
    "print(classification_report(y_test, y_pred))"
   ]
  },
  {
   "cell_type": "code",
   "execution_count": 38,
   "metadata": {
    "ExecuteTime": {
     "end_time": "2020-11-24T16:41:29.619292Z",
     "start_time": "2020-11-24T16:41:29.520329Z"
    },
    "hidden": true
   },
   "outputs": [
    {
     "name": "stdout",
     "output_type": "stream",
     "text": [
      "----------------------- z --------------------------\n",
      "              precision    recall  f1-score   support\n",
      "\n",
      "           0       0.63      1.00      0.78        90\n",
      "           1       1.00      0.42      0.59        90\n",
      "\n",
      "    accuracy                           0.71       180\n",
      "   macro avg       0.82      0.71      0.68       180\n",
      "weighted avg       0.82      0.71      0.68       180\n",
      "\n",
      "----------------------- symmetric --------------------------\n",
      "              precision    recall  f1-score   support\n",
      "\n",
      "           0       0.56      0.90      0.69        90\n",
      "           1       0.75      0.30      0.43        90\n",
      "\n",
      "    accuracy                           0.60       180\n",
      "   macro avg       0.66      0.60      0.56       180\n",
      "weighted avg       0.66      0.60      0.56       180\n",
      "\n",
      "----------------------- direct --------------------------\n",
      "              precision    recall  f1-score   support\n",
      "\n",
      "           0       0.50      1.00      0.67        90\n",
      "           1       0.00      0.00      0.00        90\n",
      "\n",
      "    accuracy                           0.50       180\n",
      "   macro avg       0.25      0.50      0.33       180\n",
      "weighted avg       0.25      0.50      0.33       180\n",
      "\n"
     ]
    }
   ],
   "source": [
    "classification_report_function(rf, X_test_func, y_test)"
   ]
  },
  {
   "cell_type": "markdown",
   "metadata": {},
   "source": [
    "### Logistic Regression"
   ]
  },
  {
   "cell_type": "code",
   "execution_count": 61,
   "metadata": {
    "ExecuteTime": {
     "end_time": "2020-11-24T16:51:58.681224Z",
     "start_time": "2020-11-24T16:51:58.679129Z"
    }
   },
   "outputs": [],
   "source": [
    "from sklearn.linear_model import LogisticRegression"
   ]
  },
  {
   "cell_type": "markdown",
   "metadata": {},
   "source": [
    "#### sklearn"
   ]
  },
  {
   "cell_type": "code",
   "execution_count": 71,
   "metadata": {
    "ExecuteTime": {
     "end_time": "2020-11-24T16:56:04.037886Z",
     "start_time": "2020-11-24T16:56:03.254941Z"
    }
   },
   "outputs": [
    {
     "name": "stderr",
     "output_type": "stream",
     "text": [
      "/home/felipegiori/anaconda3/lib/python3.7/site-packages/sklearn/model_selection/_validation.py:552: FitFailedWarning: Estimator fit failed. The score on this train-test partition for these parameters will be set to nan. Details: \n",
      "Traceback (most recent call last):\n",
      "  File \"/home/felipegiori/anaconda3/lib/python3.7/site-packages/sklearn/model_selection/_validation.py\", line 531, in _fit_and_score\n",
      "    estimator.fit(X_train, y_train, **fit_params)\n",
      "  File \"/home/felipegiori/anaconda3/lib/python3.7/site-packages/sklearn/linear_model/_logistic.py\", line 1304, in fit\n",
      "    solver = _check_solver(self.solver, self.penalty, self.dual)\n",
      "  File \"/home/felipegiori/anaconda3/lib/python3.7/site-packages/sklearn/linear_model/_logistic.py\", line 443, in _check_solver\n",
      "    \"got %s penalty.\" % (solver, penalty))\n",
      "ValueError: Solver lbfgs supports only 'l2' or 'none' penalties, got l1 penalty.\n",
      "\n",
      "  FitFailedWarning)\n",
      "/home/felipegiori/anaconda3/lib/python3.7/site-packages/sklearn/model_selection/_validation.py:552: FitFailedWarning: Estimator fit failed. The score on this train-test partition for these parameters will be set to nan. Details: \n",
      "Traceback (most recent call last):\n",
      "  File \"/home/felipegiori/anaconda3/lib/python3.7/site-packages/sklearn/model_selection/_validation.py\", line 531, in _fit_and_score\n",
      "    estimator.fit(X_train, y_train, **fit_params)\n",
      "  File \"/home/felipegiori/anaconda3/lib/python3.7/site-packages/sklearn/linear_model/_logistic.py\", line 1304, in fit\n",
      "    solver = _check_solver(self.solver, self.penalty, self.dual)\n",
      "  File \"/home/felipegiori/anaconda3/lib/python3.7/site-packages/sklearn/linear_model/_logistic.py\", line 443, in _check_solver\n",
      "    \"got %s penalty.\" % (solver, penalty))\n",
      "ValueError: Solver lbfgs supports only 'l2' or 'none' penalties, got l1 penalty.\n",
      "\n",
      "  FitFailedWarning)\n",
      "/home/felipegiori/anaconda3/lib/python3.7/site-packages/sklearn/model_selection/_validation.py:552: FitFailedWarning: Estimator fit failed. The score on this train-test partition for these parameters will be set to nan. Details: \n",
      "Traceback (most recent call last):\n",
      "  File \"/home/felipegiori/anaconda3/lib/python3.7/site-packages/sklearn/model_selection/_validation.py\", line 531, in _fit_and_score\n",
      "    estimator.fit(X_train, y_train, **fit_params)\n",
      "  File \"/home/felipegiori/anaconda3/lib/python3.7/site-packages/sklearn/linear_model/_logistic.py\", line 1304, in fit\n",
      "    solver = _check_solver(self.solver, self.penalty, self.dual)\n",
      "  File \"/home/felipegiori/anaconda3/lib/python3.7/site-packages/sklearn/linear_model/_logistic.py\", line 443, in _check_solver\n",
      "    \"got %s penalty.\" % (solver, penalty))\n",
      "ValueError: Solver lbfgs supports only 'l2' or 'none' penalties, got l1 penalty.\n",
      "\n",
      "  FitFailedWarning)\n",
      "/home/felipegiori/anaconda3/lib/python3.7/site-packages/sklearn/model_selection/_validation.py:552: FitFailedWarning: Estimator fit failed. The score on this train-test partition for these parameters will be set to nan. Details: \n",
      "Traceback (most recent call last):\n",
      "  File \"/home/felipegiori/anaconda3/lib/python3.7/site-packages/sklearn/model_selection/_validation.py\", line 531, in _fit_and_score\n",
      "    estimator.fit(X_train, y_train, **fit_params)\n",
      "  File \"/home/felipegiori/anaconda3/lib/python3.7/site-packages/sklearn/linear_model/_logistic.py\", line 1304, in fit\n",
      "    solver = _check_solver(self.solver, self.penalty, self.dual)\n",
      "  File \"/home/felipegiori/anaconda3/lib/python3.7/site-packages/sklearn/linear_model/_logistic.py\", line 443, in _check_solver\n",
      "    \"got %s penalty.\" % (solver, penalty))\n",
      "ValueError: Solver lbfgs supports only 'l2' or 'none' penalties, got l1 penalty.\n",
      "\n",
      "  FitFailedWarning)\n",
      "/home/felipegiori/anaconda3/lib/python3.7/site-packages/sklearn/model_selection/_validation.py:552: FitFailedWarning: Estimator fit failed. The score on this train-test partition for these parameters will be set to nan. Details: \n",
      "Traceback (most recent call last):\n",
      "  File \"/home/felipegiori/anaconda3/lib/python3.7/site-packages/sklearn/model_selection/_validation.py\", line 531, in _fit_and_score\n",
      "    estimator.fit(X_train, y_train, **fit_params)\n",
      "  File \"/home/felipegiori/anaconda3/lib/python3.7/site-packages/sklearn/linear_model/_logistic.py\", line 1304, in fit\n",
      "    solver = _check_solver(self.solver, self.penalty, self.dual)\n",
      "  File \"/home/felipegiori/anaconda3/lib/python3.7/site-packages/sklearn/linear_model/_logistic.py\", line 443, in _check_solver\n",
      "    \"got %s penalty.\" % (solver, penalty))\n",
      "ValueError: Solver lbfgs supports only 'l2' or 'none' penalties, got l1 penalty.\n",
      "\n",
      "  FitFailedWarning)\n",
      "/home/felipegiori/anaconda3/lib/python3.7/site-packages/sklearn/model_selection/_validation.py:552: FitFailedWarning: Estimator fit failed. The score on this train-test partition for these parameters will be set to nan. Details: \n",
      "Traceback (most recent call last):\n",
      "  File \"/home/felipegiori/anaconda3/lib/python3.7/site-packages/sklearn/model_selection/_validation.py\", line 531, in _fit_and_score\n",
      "    estimator.fit(X_train, y_train, **fit_params)\n",
      "  File \"/home/felipegiori/anaconda3/lib/python3.7/site-packages/sklearn/linear_model/_logistic.py\", line 1304, in fit\n",
      "    solver = _check_solver(self.solver, self.penalty, self.dual)\n",
      "  File \"/home/felipegiori/anaconda3/lib/python3.7/site-packages/sklearn/linear_model/_logistic.py\", line 443, in _check_solver\n",
      "    \"got %s penalty.\" % (solver, penalty))\n",
      "ValueError: Solver lbfgs supports only 'l2' or 'none' penalties, got l1 penalty.\n",
      "\n",
      "  FitFailedWarning)\n",
      "/home/felipegiori/anaconda3/lib/python3.7/site-packages/sklearn/model_selection/_validation.py:552: FitFailedWarning: Estimator fit failed. The score on this train-test partition for these parameters will be set to nan. Details: \n",
      "Traceback (most recent call last):\n",
      "  File \"/home/felipegiori/anaconda3/lib/python3.7/site-packages/sklearn/model_selection/_validation.py\", line 531, in _fit_and_score\n",
      "    estimator.fit(X_train, y_train, **fit_params)\n",
      "  File \"/home/felipegiori/anaconda3/lib/python3.7/site-packages/sklearn/linear_model/_logistic.py\", line 1304, in fit\n",
      "    solver = _check_solver(self.solver, self.penalty, self.dual)\n",
      "  File \"/home/felipegiori/anaconda3/lib/python3.7/site-packages/sklearn/linear_model/_logistic.py\", line 443, in _check_solver\n",
      "    \"got %s penalty.\" % (solver, penalty))\n",
      "ValueError: Solver lbfgs supports only 'l2' or 'none' penalties, got l1 penalty.\n",
      "\n",
      "  FitFailedWarning)\n"
     ]
    },
    {
     "data": {
      "text/plain": [
       "GridSearchCV(cv=5, estimator=LogisticRegression(),\n",
       "             param_grid={'C': array([1.e-03, 1.e-02, 1.e-01, 1.e+00, 1.e+01, 1.e+02, 1.e+03]),\n",
       "                         'max_iter': [1000], 'penalty': ['l1', 'l2']},\n",
       "             scoring='f1')"
      ]
     },
     "execution_count": 71,
     "metadata": {},
     "output_type": "execute_result"
    }
   ],
   "source": [
    "grid_lr = {\"C\":np.logspace(-3,3,7), \"penalty\":[\"l1\",\"l2\"], \"max_iter\":[1000]}\n",
    "log_reg = GridSearchCV(LogisticRegression(), grid_lr, cv=5, scoring=\"f1\")\n",
    "log_reg.fit(X_train, y_train)"
   ]
  },
  {
   "cell_type": "code",
   "execution_count": 72,
   "metadata": {
    "ExecuteTime": {
     "end_time": "2020-11-24T16:56:11.735041Z",
     "start_time": "2020-11-24T16:56:11.732449Z"
    }
   },
   "outputs": [],
   "source": [
    "y_pred = log_reg.predict(X_test)"
   ]
  },
  {
   "cell_type": "code",
   "execution_count": 73,
   "metadata": {
    "ExecuteTime": {
     "end_time": "2020-11-24T16:56:12.135712Z",
     "start_time": "2020-11-24T16:56:12.131012Z"
    }
   },
   "outputs": [
    {
     "name": "stdout",
     "output_type": "stream",
     "text": [
      "              precision    recall  f1-score   support\n",
      "\n",
      "           0       0.56      0.53      0.54       270\n",
      "           1       0.55      0.58      0.56       270\n",
      "\n",
      "    accuracy                           0.55       540\n",
      "   macro avg       0.55      0.55      0.55       540\n",
      "weighted avg       0.55      0.55      0.55       540\n",
      "\n"
     ]
    }
   ],
   "source": [
    "print(classification_report(y_test, y_pred))"
   ]
  },
  {
   "cell_type": "code",
   "execution_count": 75,
   "metadata": {
    "ExecuteTime": {
     "end_time": "2020-11-24T17:11:08.073795Z",
     "start_time": "2020-11-24T17:11:08.058433Z"
    }
   },
   "outputs": [
    {
     "name": "stdout",
     "output_type": "stream",
     "text": [
      "----------------------- z --------------------------\n",
      "              precision    recall  f1-score   support\n",
      "\n",
      "           0       0.62      0.47      0.53        90\n",
      "           1       0.57      0.71      0.63        90\n",
      "\n",
      "    accuracy                           0.59       180\n",
      "   macro avg       0.59      0.59      0.58       180\n",
      "weighted avg       0.59      0.59      0.58       180\n",
      "\n",
      "----------------------- symmetric --------------------------\n",
      "              precision    recall  f1-score   support\n",
      "\n",
      "           0       0.61      0.49      0.54        90\n",
      "           1       0.57      0.69      0.63        90\n",
      "\n",
      "    accuracy                           0.59       180\n",
      "   macro avg       0.59      0.59      0.58       180\n",
      "weighted avg       0.59      0.59      0.58       180\n",
      "\n",
      "----------------------- direct --------------------------\n",
      "              precision    recall  f1-score   support\n",
      "\n",
      "           0       0.49      0.63      0.55        90\n",
      "           1       0.48      0.33      0.39        90\n",
      "\n",
      "    accuracy                           0.48       180\n",
      "   macro avg       0.48      0.48      0.47       180\n",
      "weighted avg       0.48      0.48      0.47       180\n",
      "\n"
     ]
    }
   ],
   "source": [
    "classification_report_function(log_reg, X_test_func, y_test)"
   ]
  },
  {
   "cell_type": "markdown",
   "metadata": {},
   "source": [
    "#### statsmodels"
   ]
  },
  {
   "cell_type": "code",
   "execution_count": 78,
   "metadata": {
    "ExecuteTime": {
     "end_time": "2020-11-24T17:13:03.030293Z",
     "start_time": "2020-11-24T17:13:03.028739Z"
    }
   },
   "outputs": [],
   "source": [
    "import statsmodels.api as sm\n",
    "from sklearn.preprocessing import StandardScaler"
   ]
  },
  {
   "cell_type": "code",
   "execution_count": 92,
   "metadata": {
    "ExecuteTime": {
     "end_time": "2020-11-24T17:15:58.113499Z",
     "start_time": "2020-11-24T17:15:58.107747Z"
    }
   },
   "outputs": [
    {
     "name": "stdout",
     "output_type": "stream",
     "text": [
      "Optimization terminated successfully.\n",
      "         Current function value: 0.682886\n",
      "         Iterations 5\n"
     ]
    }
   ],
   "source": [
    "#Z_train = StandardScaler().fit_transform(X_train)\n",
    "sm_log_reg = sm.Logit(y_train, sm.add_constant(X_train)).fit()"
   ]
  },
  {
   "cell_type": "code",
   "execution_count": 93,
   "metadata": {
    "ExecuteTime": {
     "end_time": "2020-11-24T17:15:59.418675Z",
     "start_time": "2020-11-24T17:15:59.406767Z"
    }
   },
   "outputs": [
    {
     "data": {
      "text/html": [
       "<table class=\"simpletable\">\n",
       "<caption>Logit Regression Results</caption>\n",
       "<tr>\n",
       "  <th>Dep. Variable:</th>        <td>y_true</td>      <th>  No. Observations:  </th>  <td>  2160</td>  \n",
       "</tr>\n",
       "<tr>\n",
       "  <th>Model:</th>                 <td>Logit</td>      <th>  Df Residuals:      </th>  <td>  2155</td>  \n",
       "</tr>\n",
       "<tr>\n",
       "  <th>Method:</th>                 <td>MLE</td>       <th>  Df Model:          </th>  <td>     4</td>  \n",
       "</tr>\n",
       "<tr>\n",
       "  <th>Date:</th>            <td>Tue, 24 Nov 2020</td> <th>  Pseudo R-squ.:     </th>  <td>0.01480</td> \n",
       "</tr>\n",
       "<tr>\n",
       "  <th>Time:</th>                <td>14:15:59</td>     <th>  Log-Likelihood:    </th> <td> -1475.0</td> \n",
       "</tr>\n",
       "<tr>\n",
       "  <th>converged:</th>             <td>True</td>       <th>  LL-Null:           </th> <td> -1497.2</td> \n",
       "</tr>\n",
       "<tr>\n",
       "  <th>Covariance Type:</th>     <td>nonrobust</td>    <th>  LLR p-value:       </th> <td>5.482e-09</td>\n",
       "</tr>\n",
       "</table>\n",
       "<table class=\"simpletable\">\n",
       "<tr>\n",
       "        <td></td>           <th>coef</th>     <th>std err</th>      <th>z</th>      <th>P>|z|</th>  <th>[0.025</th>    <th>0.975]</th>  \n",
       "</tr>\n",
       "<tr>\n",
       "  <th>const</th>         <td>   -0.0069</td> <td>    0.046</td> <td>   -0.149</td> <td> 0.882</td> <td>   -0.098</td> <td>    0.084</td>\n",
       "</tr>\n",
       "<tr>\n",
       "  <th>mult_avg_flow</th> <td>    0.2433</td> <td>    0.439</td> <td>    0.554</td> <td> 0.580</td> <td>   -0.617</td> <td>    1.104</td>\n",
       "</tr>\n",
       "<tr>\n",
       "  <th>mult_max_flow</th> <td>   -2.5932</td> <td>    1.901</td> <td>   -1.364</td> <td> 0.173</td> <td>   -6.320</td> <td>    1.133</td>\n",
       "</tr>\n",
       "<tr>\n",
       "  <th>addt_avg_flow</th> <td>   -3.9866</td> <td>    1.606</td> <td>   -2.482</td> <td> 0.013</td> <td>   -7.135</td> <td>   -0.838</td>\n",
       "</tr>\n",
       "<tr>\n",
       "  <th>addt_max_flow</th> <td>   13.4414</td> <td>    4.159</td> <td>    3.232</td> <td> 0.001</td> <td>    5.290</td> <td>   21.593</td>\n",
       "</tr>\n",
       "</table>"
      ],
      "text/plain": [
       "<class 'statsmodels.iolib.summary.Summary'>\n",
       "\"\"\"\n",
       "                           Logit Regression Results                           \n",
       "==============================================================================\n",
       "Dep. Variable:                 y_true   No. Observations:                 2160\n",
       "Model:                          Logit   Df Residuals:                     2155\n",
       "Method:                           MLE   Df Model:                            4\n",
       "Date:                Tue, 24 Nov 2020   Pseudo R-squ.:                 0.01480\n",
       "Time:                        14:15:59   Log-Likelihood:                -1475.0\n",
       "converged:                       True   LL-Null:                       -1497.2\n",
       "Covariance Type:            nonrobust   LLR p-value:                 5.482e-09\n",
       "=================================================================================\n",
       "                    coef    std err          z      P>|z|      [0.025      0.975]\n",
       "---------------------------------------------------------------------------------\n",
       "const            -0.0069      0.046     -0.149      0.882      -0.098       0.084\n",
       "mult_avg_flow     0.2433      0.439      0.554      0.580      -0.617       1.104\n",
       "mult_max_flow    -2.5932      1.901     -1.364      0.173      -6.320       1.133\n",
       "addt_avg_flow    -3.9866      1.606     -2.482      0.013      -7.135      -0.838\n",
       "addt_max_flow    13.4414      4.159      3.232      0.001       5.290      21.593\n",
       "=================================================================================\n",
       "\"\"\""
      ]
     },
     "execution_count": 93,
     "metadata": {},
     "output_type": "execute_result"
    }
   ],
   "source": [
    "sm_log_reg.summary()"
   ]
  },
  {
   "cell_type": "markdown",
   "metadata": {},
   "source": [
    "## ANOVA ~ Misclassification"
   ]
  },
  {
   "cell_type": "code",
   "execution_count": 52,
   "metadata": {
    "ExecuteTime": {
     "end_time": "2020-11-07T21:33:34.570184Z",
     "start_time": "2020-11-07T21:33:34.473254Z"
    }
   },
   "outputs": [],
   "source": [
    "X = df[columns].copy()\n",
    "X = pd.get_dummies(X, prefix=['p', 'p_flip', 'func'])\n",
    "Y = X['y_true'].copy()\n",
    "X = X.drop(columns=['y_true']).copy()\n",
    "\n",
    "y_pred = clf.predict(X)"
   ]
  },
  {
   "cell_type": "code",
   "execution_count": 53,
   "metadata": {
    "ExecuteTime": {
     "end_time": "2020-11-07T21:33:34.573098Z",
     "start_time": "2020-11-07T21:33:34.571013Z"
    }
   },
   "outputs": [],
   "source": [
    "X['y_true'] = Y\n",
    "X['y_pred'] = y_pred"
   ]
  },
  {
   "cell_type": "code",
   "execution_count": 54,
   "metadata": {
    "ExecuteTime": {
     "end_time": "2020-11-07T21:33:34.579157Z",
     "start_time": "2020-11-07T21:33:34.573710Z"
    }
   },
   "outputs": [],
   "source": [
    "X['val'] = (X['y_true'] == X['y_pred'])*1"
   ]
  },
  {
   "cell_type": "code",
   "execution_count": 55,
   "metadata": {
    "ExecuteTime": {
     "end_time": "2020-11-07T21:33:34.584800Z",
     "start_time": "2020-11-07T21:33:34.579841Z"
    }
   },
   "outputs": [],
   "source": [
    "Xs = df[columns].copy()\n",
    "Xs['val'] = X['val']\n",
    "Xs['y_pred'] = X['y_pred']\n",
    "Xs['flow'] = Xs['mult_avg_flow'].apply(discrete_flow)"
   ]
  },
  {
   "cell_type": "code",
   "execution_count": 56,
   "metadata": {
    "ExecuteTime": {
     "end_time": "2020-11-07T21:33:34.639844Z",
     "start_time": "2020-11-07T21:33:34.585519Z"
    }
   },
   "outputs": [],
   "source": [
    "lm = ols('val ~ (C(p)*C(p_flip)*C(func))+C(flow)', data=Xs).fit()"
   ]
  },
  {
   "cell_type": "code",
   "execution_count": 57,
   "metadata": {
    "ExecuteTime": {
     "end_time": "2020-11-07T21:33:34.686041Z",
     "start_time": "2020-11-07T21:33:34.640858Z"
    }
   },
   "outputs": [],
   "source": [
    "lm = ols('y_pred ~ C(p)+C(p_flip)+C(func)+C(flow)+(C(p)*C(func))', data=Xs).fit()"
   ]
  },
  {
   "cell_type": "code",
   "execution_count": 58,
   "metadata": {
    "ExecuteTime": {
     "end_time": "2020-11-07T21:33:34.707221Z",
     "start_time": "2020-11-07T21:33:34.687060Z"
    },
    "scrolled": false
   },
   "outputs": [
    {
     "data": {
      "text/html": [
       "<table class=\"simpletable\">\n",
       "<caption>OLS Regression Results</caption>\n",
       "<tr>\n",
       "  <th>Dep. Variable:</th>         <td>y_pred</td>      <th>  R-squared:         </th> <td>   0.422</td> \n",
       "</tr>\n",
       "<tr>\n",
       "  <th>Model:</th>                   <td>OLS</td>       <th>  Adj. R-squared:    </th> <td>   0.418</td> \n",
       "</tr>\n",
       "<tr>\n",
       "  <th>Method:</th>             <td>Least Squares</td>  <th>  F-statistic:       </th> <td>   108.6</td> \n",
       "</tr>\n",
       "<tr>\n",
       "  <th>Date:</th>             <td>Sat, 07 Nov 2020</td> <th>  Prob (F-statistic):</th> <td>5.25e-302</td>\n",
       "</tr>\n",
       "<tr>\n",
       "  <th>Time:</th>                 <td>18:33:34</td>     <th>  Log-Likelihood:    </th> <td> -1219.3</td> \n",
       "</tr>\n",
       "<tr>\n",
       "  <th>No. Observations:</th>      <td>  2700</td>      <th>  AIC:               </th> <td>   2477.</td> \n",
       "</tr>\n",
       "<tr>\n",
       "  <th>Df Residuals:</th>          <td>  2681</td>      <th>  BIC:               </th> <td>   2589.</td> \n",
       "</tr>\n",
       "<tr>\n",
       "  <th>Df Model:</th>              <td>    18</td>      <th>                     </th>     <td> </td>    \n",
       "</tr>\n",
       "<tr>\n",
       "  <th>Covariance Type:</th>      <td>nonrobust</td>    <th>                     </th>     <td> </td>    \n",
       "</tr>\n",
       "</table>\n",
       "<table class=\"simpletable\">\n",
       "<tr>\n",
       "                   <td></td>                      <th>coef</th>     <th>std err</th>      <th>t</th>      <th>P>|t|</th>  <th>[0.025</th>    <th>0.975]</th>  \n",
       "</tr>\n",
       "<tr>\n",
       "  <th>Intercept</th>                           <td>    0.3346</td> <td>    0.048</td> <td>    7.006</td> <td> 0.000</td> <td>    0.241</td> <td>    0.428</td>\n",
       "</tr>\n",
       "<tr>\n",
       "  <th>C(p)[T.low]</th>                         <td> 4.996e-15</td> <td>    0.040</td> <td> 1.24e-13</td> <td> 1.000</td> <td>   -0.079</td> <td>    0.079</td>\n",
       "</tr>\n",
       "<tr>\n",
       "  <th>C(p)[T.medium]</th>                      <td>   -0.3333</td> <td>    0.040</td> <td>   -8.290</td> <td> 0.000</td> <td>   -0.412</td> <td>   -0.254</td>\n",
       "</tr>\n",
       "<tr>\n",
       "  <th>C(p)[T.one]</th>                         <td>    0.3333</td> <td>    0.040</td> <td>    8.290</td> <td> 0.000</td> <td>    0.254</td> <td>    0.412</td>\n",
       "</tr>\n",
       "<tr>\n",
       "  <th>C(p)[T.zero]</th>                        <td>    0.3333</td> <td>    0.040</td> <td>    8.290</td> <td> 0.000</td> <td>    0.254</td> <td>    0.412</td>\n",
       "</tr>\n",
       "<tr>\n",
       "  <th>C(p_flip)[T.low]</th>                    <td>   -0.4445</td> <td>    0.022</td> <td>  -20.169</td> <td> 0.000</td> <td>   -0.488</td> <td>   -0.401</td>\n",
       "</tr>\n",
       "<tr>\n",
       "  <th>C(p_flip)[T.medium]</th>                 <td>   -0.0002</td> <td>    0.018</td> <td>   -0.011</td> <td> 0.992</td> <td>   -0.036</td> <td>    0.035</td>\n",
       "</tr>\n",
       "<tr>\n",
       "  <th>C(func)[T.symmetric]</th>                <td>   -0.1595</td> <td>    0.045</td> <td>   -3.508</td> <td> 0.000</td> <td>   -0.249</td> <td>   -0.070</td>\n",
       "</tr>\n",
       "<tr>\n",
       "  <th>C(func)[T.z]</th>                        <td>   -0.1440</td> <td>    0.045</td> <td>   -3.168</td> <td> 0.002</td> <td>   -0.233</td> <td>   -0.055</td>\n",
       "</tr>\n",
       "<tr>\n",
       "  <th>C(flow)[T.positive]</th>                 <td>    0.2618</td> <td>    0.033</td> <td>    7.899</td> <td> 0.000</td> <td>    0.197</td> <td>    0.327</td>\n",
       "</tr>\n",
       "<tr>\n",
       "  <th>C(flow)[T.zero]</th>                     <td>    0.4803</td> <td>    0.040</td> <td>   12.113</td> <td> 0.000</td> <td>    0.403</td> <td>    0.558</td>\n",
       "</tr>\n",
       "<tr>\n",
       "  <th>C(p)[T.low]:C(func)[T.symmetric]</th>    <td>    0.0024</td> <td>    0.057</td> <td>    0.042</td> <td> 0.967</td> <td>   -0.109</td> <td>    0.114</td>\n",
       "</tr>\n",
       "<tr>\n",
       "  <th>C(p)[T.medium]:C(func)[T.symmetric]</th> <td>    0.2654</td> <td>    0.057</td> <td>    4.657</td> <td> 0.000</td> <td>    0.154</td> <td>    0.377</td>\n",
       "</tr>\n",
       "<tr>\n",
       "  <th>C(p)[T.one]:C(func)[T.symmetric]</th>    <td>   -0.5072</td> <td>    0.061</td> <td>   -8.356</td> <td> 0.000</td> <td>   -0.626</td> <td>   -0.388</td>\n",
       "</tr>\n",
       "<tr>\n",
       "  <th>C(p)[T.zero]:C(func)[T.symmetric]</th>   <td>   -0.8405</td> <td>    0.061</td> <td>  -13.848</td> <td> 0.000</td> <td>   -0.960</td> <td>   -0.721</td>\n",
       "</tr>\n",
       "<tr>\n",
       "  <th>C(p)[T.low]:C(func)[T.z]</th>            <td>    0.3770</td> <td>    0.057</td> <td>    6.599</td> <td> 0.000</td> <td>    0.265</td> <td>    0.489</td>\n",
       "</tr>\n",
       "<tr>\n",
       "  <th>C(p)[T.medium]:C(func)[T.z]</th>         <td>    0.7103</td> <td>    0.057</td> <td>   12.433</td> <td> 0.000</td> <td>    0.598</td> <td>    0.822</td>\n",
       "</tr>\n",
       "<tr>\n",
       "  <th>C(p)[T.one]:C(func)[T.z]</th>            <td>   -0.5226</td> <td>    0.061</td> <td>   -8.612</td> <td> 0.000</td> <td>   -0.642</td> <td>   -0.404</td>\n",
       "</tr>\n",
       "<tr>\n",
       "  <th>C(p)[T.zero]:C(func)[T.z]</th>           <td>   -0.5226</td> <td>    0.061</td> <td>   -8.612</td> <td> 0.000</td> <td>   -0.642</td> <td>   -0.404</td>\n",
       "</tr>\n",
       "</table>\n",
       "<table class=\"simpletable\">\n",
       "<tr>\n",
       "  <th>Omnibus:</th>       <td>591.703</td> <th>  Durbin-Watson:     </th> <td>   0.185</td>\n",
       "</tr>\n",
       "<tr>\n",
       "  <th>Prob(Omnibus):</th> <td> 0.000</td>  <th>  Jarque-Bera (JB):  </th> <td> 151.575</td>\n",
       "</tr>\n",
       "<tr>\n",
       "  <th>Skew:</th>          <td> 0.309</td>  <th>  Prob(JB):          </th> <td>1.22e-33</td>\n",
       "</tr>\n",
       "<tr>\n",
       "  <th>Kurtosis:</th>      <td> 2.018</td>  <th>  Cond. No.          </th> <td>    28.7</td>\n",
       "</tr>\n",
       "</table><br/><br/>Notes:<br/>[1] Standard Errors assume that the covariance matrix of the errors is correctly specified."
      ],
      "text/plain": [
       "<class 'statsmodels.iolib.summary.Summary'>\n",
       "\"\"\"\n",
       "                            OLS Regression Results                            \n",
       "==============================================================================\n",
       "Dep. Variable:                 y_pred   R-squared:                       0.422\n",
       "Model:                            OLS   Adj. R-squared:                  0.418\n",
       "Method:                 Least Squares   F-statistic:                     108.6\n",
       "Date:                Sat, 07 Nov 2020   Prob (F-statistic):          5.25e-302\n",
       "Time:                        18:33:34   Log-Likelihood:                -1219.3\n",
       "No. Observations:                2700   AIC:                             2477.\n",
       "Df Residuals:                    2681   BIC:                             2589.\n",
       "Df Model:                          18                                         \n",
       "Covariance Type:            nonrobust                                         \n",
       "=======================================================================================================\n",
       "                                          coef    std err          t      P>|t|      [0.025      0.975]\n",
       "-------------------------------------------------------------------------------------------------------\n",
       "Intercept                               0.3346      0.048      7.006      0.000       0.241       0.428\n",
       "C(p)[T.low]                          4.996e-15      0.040   1.24e-13      1.000      -0.079       0.079\n",
       "C(p)[T.medium]                         -0.3333      0.040     -8.290      0.000      -0.412      -0.254\n",
       "C(p)[T.one]                             0.3333      0.040      8.290      0.000       0.254       0.412\n",
       "C(p)[T.zero]                            0.3333      0.040      8.290      0.000       0.254       0.412\n",
       "C(p_flip)[T.low]                       -0.4445      0.022    -20.169      0.000      -0.488      -0.401\n",
       "C(p_flip)[T.medium]                    -0.0002      0.018     -0.011      0.992      -0.036       0.035\n",
       "C(func)[T.symmetric]                   -0.1595      0.045     -3.508      0.000      -0.249      -0.070\n",
       "C(func)[T.z]                           -0.1440      0.045     -3.168      0.002      -0.233      -0.055\n",
       "C(flow)[T.positive]                     0.2618      0.033      7.899      0.000       0.197       0.327\n",
       "C(flow)[T.zero]                         0.4803      0.040     12.113      0.000       0.403       0.558\n",
       "C(p)[T.low]:C(func)[T.symmetric]        0.0024      0.057      0.042      0.967      -0.109       0.114\n",
       "C(p)[T.medium]:C(func)[T.symmetric]     0.2654      0.057      4.657      0.000       0.154       0.377\n",
       "C(p)[T.one]:C(func)[T.symmetric]       -0.5072      0.061     -8.356      0.000      -0.626      -0.388\n",
       "C(p)[T.zero]:C(func)[T.symmetric]      -0.8405      0.061    -13.848      0.000      -0.960      -0.721\n",
       "C(p)[T.low]:C(func)[T.z]                0.3770      0.057      6.599      0.000       0.265       0.489\n",
       "C(p)[T.medium]:C(func)[T.z]             0.7103      0.057     12.433      0.000       0.598       0.822\n",
       "C(p)[T.one]:C(func)[T.z]               -0.5226      0.061     -8.612      0.000      -0.642      -0.404\n",
       "C(p)[T.zero]:C(func)[T.z]              -0.5226      0.061     -8.612      0.000      -0.642      -0.404\n",
       "==============================================================================\n",
       "Omnibus:                      591.703   Durbin-Watson:                   0.185\n",
       "Prob(Omnibus):                  0.000   Jarque-Bera (JB):              151.575\n",
       "Skew:                           0.309   Prob(JB):                     1.22e-33\n",
       "Kurtosis:                       2.018   Cond. No.                         28.7\n",
       "==============================================================================\n",
       "\n",
       "Notes:\n",
       "[1] Standard Errors assume that the covariance matrix of the errors is correctly specified.\n",
       "\"\"\""
      ]
     },
     "execution_count": 58,
     "metadata": {},
     "output_type": "execute_result"
    }
   ],
   "source": [
    "lm.summary()"
   ]
  },
  {
   "cell_type": "code",
   "execution_count": 59,
   "metadata": {
    "ExecuteTime": {
     "end_time": "2020-11-07T21:33:34.716002Z",
     "start_time": "2020-11-07T21:33:34.708185Z"
    }
   },
   "outputs": [],
   "source": [
    "table = sm.stats.anova_lm(lm, typ=2)"
   ]
  },
  {
   "cell_type": "code",
   "execution_count": 60,
   "metadata": {
    "ExecuteTime": {
     "end_time": "2020-11-07T21:33:34.729813Z",
     "start_time": "2020-11-07T21:33:34.716914Z"
    }
   },
   "outputs": [
    {
     "data": {
      "text/html": [
       "<div>\n",
       "<style scoped>\n",
       "    .dataframe tbody tr th:only-of-type {\n",
       "        vertical-align: middle;\n",
       "    }\n",
       "\n",
       "    .dataframe tbody tr th {\n",
       "        vertical-align: top;\n",
       "    }\n",
       "\n",
       "    .dataframe thead th {\n",
       "        text-align: right;\n",
       "    }\n",
       "</style>\n",
       "<table border=\"1\" class=\"dataframe\">\n",
       "  <thead>\n",
       "    <tr style=\"text-align: right;\">\n",
       "      <th></th>\n",
       "      <th>sum_sq</th>\n",
       "      <th>df</th>\n",
       "      <th>F</th>\n",
       "      <th>PR(&gt;F)</th>\n",
       "    </tr>\n",
       "  </thead>\n",
       "  <tbody>\n",
       "    <tr>\n",
       "      <th>C(p)</th>\n",
       "      <td>10.907439</td>\n",
       "      <td>4.0</td>\n",
       "      <td>18.741695</td>\n",
       "      <td>3.297788e-15</td>\n",
       "    </tr>\n",
       "    <tr>\n",
       "      <th>C(p_flip)</th>\n",
       "      <td>71.111127</td>\n",
       "      <td>2.0</td>\n",
       "      <td>244.373241</td>\n",
       "      <td>3.224769e-98</td>\n",
       "    </tr>\n",
       "    <tr>\n",
       "      <th>C(func)</th>\n",
       "      <td>91.827649</td>\n",
       "      <td>2.0</td>\n",
       "      <td>315.565525</td>\n",
       "      <td>8.467576e-124</td>\n",
       "    </tr>\n",
       "    <tr>\n",
       "      <th>C(flow)</th>\n",
       "      <td>21.445244</td>\n",
       "      <td>2.0</td>\n",
       "      <td>73.696537</td>\n",
       "      <td>6.963443e-32</td>\n",
       "    </tr>\n",
       "    <tr>\n",
       "      <th>C(p):C(func)</th>\n",
       "      <td>100.203509</td>\n",
       "      <td>8.0</td>\n",
       "      <td>86.087288</td>\n",
       "      <td>2.734068e-127</td>\n",
       "    </tr>\n",
       "    <tr>\n",
       "      <th>Residual</th>\n",
       "      <td>390.077348</td>\n",
       "      <td>2681.0</td>\n",
       "      <td>NaN</td>\n",
       "      <td>NaN</td>\n",
       "    </tr>\n",
       "  </tbody>\n",
       "</table>\n",
       "</div>"
      ],
      "text/plain": [
       "                  sum_sq      df           F         PR(>F)\n",
       "C(p)           10.907439     4.0   18.741695   3.297788e-15\n",
       "C(p_flip)      71.111127     2.0  244.373241   3.224769e-98\n",
       "C(func)        91.827649     2.0  315.565525  8.467576e-124\n",
       "C(flow)        21.445244     2.0   73.696537   6.963443e-32\n",
       "C(p):C(func)  100.203509     8.0   86.087288  2.734068e-127\n",
       "Residual      390.077348  2681.0         NaN            NaN"
      ]
     },
     "metadata": {},
     "output_type": "display_data"
    }
   ],
   "source": [
    "display(table)"
   ]
  },
  {
   "cell_type": "code",
   "execution_count": 62,
   "metadata": {
    "ExecuteTime": {
     "end_time": "2020-11-07T21:33:34.820153Z",
     "start_time": "2020-11-07T21:33:34.767781Z"
    }
   },
   "outputs": [],
   "source": [
    "X_test_tmp = X_test.copy()\n",
    "y_pred = clf.predict(X_test)\n",
    "X_test_tmp['y_true'] = y_test\n",
    "X_test_tmp['y_pred'] = y_pred"
   ]
  },
  {
   "cell_type": "code",
   "execution_count": 63,
   "metadata": {
    "ExecuteTime": {
     "end_time": "2020-11-07T21:33:34.834449Z",
     "start_time": "2020-11-07T21:33:34.820846Z"
    }
   },
   "outputs": [
    {
     "name": "stdout",
     "output_type": "stream",
     "text": [
      "----------------------- z --------------------------\n",
      "              precision    recall  f1-score   support\n",
      "\n",
      "           0       0.63      0.73      0.68        81\n",
      "           1       0.72      0.62      0.67        90\n",
      "\n",
      "    accuracy                           0.67       171\n",
      "   macro avg       0.68      0.68      0.67       171\n",
      "weighted avg       0.68      0.67      0.67       171\n",
      "\n",
      "----------------------- symmetric --------------------------\n",
      "              precision    recall  f1-score   support\n",
      "\n",
      "           0       0.47      0.85      0.61        73\n",
      "           1       0.68      0.25      0.37        92\n",
      "\n",
      "    accuracy                           0.52       165\n",
      "   macro avg       0.57      0.55      0.49       165\n",
      "weighted avg       0.59      0.52      0.47       165\n",
      "\n",
      "----------------------- direct --------------------------\n",
      "              precision    recall  f1-score   support\n",
      "\n",
      "           0       0.34      0.17      0.22       115\n",
      "           1       0.35      0.58      0.44        89\n",
      "\n",
      "    accuracy                           0.35       204\n",
      "   macro avg       0.35      0.37      0.33       204\n",
      "weighted avg       0.34      0.35      0.32       204\n",
      "\n"
     ]
    }
   ],
   "source": [
    "funcs = ['z', 'symmetric', 'direct']\n",
    "for func in funcs:\n",
    "    print(\"----------------------- {} --------------------------\".format(func))\n",
    "    test = X_test_tmp.query(\"func_{} == 1\".format(func))\n",
    "    print(classification_report(test['y_true'], test['y_pred']))"
   ]
  },
  {
   "cell_type": "code",
   "execution_count": null,
   "metadata": {},
   "outputs": [],
   "source": []
  }
 ],
 "metadata": {
  "kernelspec": {
   "display_name": "Python 3",
   "language": "python",
   "name": "python3"
  },
  "language_info": {
   "codemirror_mode": {
    "name": "ipython",
    "version": 3
   },
   "file_extension": ".py",
   "mimetype": "text/x-python",
   "name": "python",
   "nbconvert_exporter": "python",
   "pygments_lexer": "ipython3",
   "version": "3.7.10"
  },
  "toc": {
   "base_numbering": 1,
   "nav_menu": {},
   "number_sections": true,
   "sideBar": true,
   "skip_h1_title": false,
   "title_cell": "Table of Contents",
   "title_sidebar": "Contents",
   "toc_cell": false,
   "toc_position": {
    "height": "calc(100% - 180px)",
    "left": "10px",
    "top": "150px",
    "width": "275.04px"
   },
   "toc_section_display": true,
   "toc_window_display": true
  }
 },
 "nbformat": 4,
 "nbformat_minor": 4
}
